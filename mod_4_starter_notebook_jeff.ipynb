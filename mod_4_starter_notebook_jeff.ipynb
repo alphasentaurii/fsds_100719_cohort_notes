{
 "cells": [
  {
   "cell_type": "markdown",
   "metadata": {},
   "source": [
    "# Mod 4 Project - Starter Notebook\n",
    "\n",
    "This notebook has been provided to you so that you can make use of the following starter code to help with the trickier parts of preprocessing the Zillow dataset. \n",
    "\n",
    "The notebook contains a rough outline the general order you'll likely want to take in this project. You'll notice that most of the areas are left blank. This is so that it's more obvious exactly when you should make use of the starter code provided for preprocessing. \n",
    "\n",
    "**_NOTE:_** The number of empty cells are not meant to infer how much or how little code should be involved in any given step--we've just provided a few for your convenience. Add, delete, and change things around in this notebook as needed!\n",
    "\n",
    "# Some Notes Before Starting\n",
    "\n",
    "This project will be one of the more challenging projects you complete in this program. This is because working with Time Series data is a bit different than working with regular datasets. In order to make this a bit less frustrating and help you understand what you need to do (and when you need to do it), we'll quickly review the dataset formats that you'll encounter in this project. \n",
    "\n",
    "## Wide Format vs Long Format\n",
    "\n",
    "If you take a look at the format of the data in `zillow_data.csv`, you'll notice that the actual Time Series values are stored as separate columns. Here's a sample: \n",
    "\n",
    "<img src='~/../images/df_head.png'>\n",
    "\n",
    "You'll notice that the first seven columns look like any other dataset you're used to working with. However, column 8 refers to the median housing sales values for April 1996, column 9 for May 1996, and so on. This This is called **_Wide Format_**, and it makes the dataframe intuitive and easy to read. However, there are problems with this format when it comes to actually learning from the data, because the data only makes sense if you know the name of the column that the data can be found it. Since column names are metadata, our algorithms will miss out on what dates each value is for. This means that before we pass this data to our ARIMA model, we'll need to reshape our dataset to **_Long Format_**. Reshaped into long format, the dataframe above would now look like:\n",
    "\n",
    "<img src='~/../images/melted1.png'>\n",
    "\n",
    "There are now many more rows in this dataset--one for each unique time and zipcode combination in the data! Once our dataset is in this format, we'll be able to train an ARIMA model on it. The method used to convert from Wide to Long is `pd.melt()`, and it is common to refer to our dataset as 'melted' after the transition to denote that it is in long format. \n",
    "\n",
    "# Helper Functions Provided\n",
    "\n",
    "Melting a dataset can be tricky if you've never done it before, so you'll see that we have provided a sample function, `melt_data()`, to help you with this step below. Also provided is:\n",
    "\n",
    "* `get_datetimes()`, a function to deal with converting the column values for datetimes as a pandas series of datetime objects\n",
    "* Some good parameters for matplotlib to help make your visualizations more readable. \n",
    "\n",
    "Good luck!\n",
    "\n",
    "\n",
    "# Load the Data/Filtering for Chosen Zipcodes"
   ]
  },
  {
   "cell_type": "code",
   "execution_count": 40,
   "metadata": {
    "ExecuteTime": {
     "end_time": "2020-01-07T18:02:00.818659Z",
     "start_time": "2020-01-07T18:02:00.816004Z"
    }
   },
   "outputs": [],
   "source": [
    "import pandas as pd\n",
    "import matplotlib.pyplot as plt\n",
    "import numpy as np"
   ]
  },
  {
   "cell_type": "code",
   "execution_count": 42,
   "metadata": {
    "ExecuteTime": {
     "end_time": "2020-01-07T18:02:12.906326Z",
     "start_time": "2020-01-07T18:02:09.027700Z"
    }
   },
   "outputs": [],
   "source": [
    "df = pd.read_csv('https://raw.githubusercontent.com/learn-co-students/dsc-mod-4-project-online-ds-ft-100719/master/zillow_data.csv')#'zillow_data.csv')\n",
    "#'zillow_data.csv')"
   ]
  },
  {
   "cell_type": "code",
   "execution_count": null,
   "metadata": {
    "ExecuteTime": {
     "end_time": "2020-01-07T17:18:51.158056Z",
     "start_time": "2020-01-07T17:18:51.132226Z"
    }
   },
   "outputs": [],
   "source": [
    "df.head()"
   ]
  },
  {
   "cell_type": "code",
   "execution_count": null,
   "metadata": {
    "ExecuteTime": {
     "end_time": "2020-01-07T17:18:51.163480Z",
     "start_time": "2020-01-07T17:18:51.159723Z"
    }
   },
   "outputs": [],
   "source": [
    "# grab single zip code\n",
    "df_kc = df[df['RegionName'] == 64154]"
   ]
  },
  {
   "cell_type": "code",
   "execution_count": null,
   "metadata": {
    "ExecuteTime": {
     "end_time": "2020-01-07T17:18:51.183011Z",
     "start_time": "2020-01-07T17:18:51.164933Z"
    }
   },
   "outputs": [],
   "source": [
    "df_kc.head()"
   ]
  },
  {
   "cell_type": "markdown",
   "metadata": {},
   "source": [
    "# Reshape from Wide to Long Format"
   ]
  },
  {
   "cell_type": "code",
   "execution_count": null,
   "metadata": {
    "ExecuteTime": {
     "end_time": "2020-01-07T17:18:51.188218Z",
     "start_time": "2020-01-07T17:18:51.184421Z"
    }
   },
   "outputs": [],
   "source": [
    "def melt_data(df):\n",
    "    melted = pd.melt(df, id_vars=['RegionID','RegionName', 'City', 'State', 'Metro',\n",
    "                                  'CountyName', 'SizeRank'], var_name='time')\n",
    "    melted['time'] = pd.to_datetime(melted['time'], infer_datetime_format=True)\n",
    "    melted = melted.dropna(subset=['value'])\n",
    "    return melted.groupby('time').aggregate({'value':'mean'})"
   ]
  },
  {
   "cell_type": "code",
   "execution_count": null,
   "metadata": {
    "ExecuteTime": {
     "end_time": "2020-01-07T17:18:51.210044Z",
     "start_time": "2020-01-07T17:18:51.189932Z"
    }
   },
   "outputs": [],
   "source": [
    "df_kc_melt = melt_data(df_kc)"
   ]
  },
  {
   "cell_type": "code",
   "execution_count": null,
   "metadata": {
    "ExecuteTime": {
     "end_time": "2020-01-07T17:18:51.218833Z",
     "start_time": "2020-01-07T17:18:51.211563Z"
    }
   },
   "outputs": [],
   "source": [
    "df_kc_melt.head()"
   ]
  },
  {
   "cell_type": "markdown",
   "metadata": {},
   "source": [
    "# ARIMA Modeling"
   ]
  },
  {
   "cell_type": "markdown",
   "metadata": {},
   "source": [
    "Code from https://machinelearningmastery.com/grid-search-arima-hyperparameters-with-python/"
   ]
  },
  {
   "cell_type": "code",
   "execution_count": null,
   "metadata": {
    "ExecuteTime": {
     "end_time": "2020-01-07T17:18:51.232343Z",
     "start_time": "2020-01-07T17:18:51.222521Z"
    }
   },
   "outputs": [],
   "source": [
    "def timed(fn):\n",
    "    \"\"\"From online-ds-ft-100718 bonus study group: pythond deep dive\"\"\"\n",
    "    from time import perf_counter\n",
    "    from functools import wraps\n",
    "    \n",
    "    def get_now(return_dt = True, return_str=True, show=False):\n",
    "        import datetime as dt\n",
    "        import tzlocal as tz\n",
    "        now=dt.datetime.now(tz=tz.get_localzone())\n",
    "        str_time =now.strftime('%m/%d/%Y - %I:%M:%S %p')\n",
    "        if show:\n",
    "            print(str_time)\n",
    "\n",
    "        output=[]\n",
    "        if return_dt:\n",
    "            output.append(now)\n",
    "\n",
    "        if return_str:\n",
    "            output.append(str_time)\n",
    "        return output[:]\n",
    "    \n",
    "    \n",
    "    @wraps(fn)\n",
    "    def inner(*args,**kwargs):\n",
    "        \n",
    "        start_str = get_now(return_dt=False,return_str=True,show=False)\n",
    "        print(f'[i] STARTING GRID SEARCH @ {start_str}:')\n",
    "\n",
    "        start = perf_counter()\n",
    "        \n",
    "        result = fn(*args, **kwargs)\n",
    "        \n",
    "        end = perf_counter()\n",
    "        elapsed = end-start\n",
    "        \n",
    "        arg_str = [str(a) for a in args]\n",
    "        kwarg_str = [f\"{k}={v}\" for  k,v in kwargs.items()]\n",
    "        \n",
    "        all_args = arg_str + kwarg_str\n",
    "        args_str_out = ','.join(all_args)\n",
    "        \n",
    "        end_str = get_now(return_dt=False, return_str=True)\n",
    "#         print(f\"[i] GRID SEARCH FINISHED AT {end_str}\")        \n",
    "        print(f\"{fn.__name__}({args_str_out}) took {elapsed:.6f}\")\n",
    "        return result\n",
    "    return inner\n"
   ]
  },
  {
   "cell_type": "code",
   "execution_count": null,
   "metadata": {
    "ExecuteTime": {
     "end_time": "2020-01-07T17:18:51.468379Z",
     "start_time": "2020-01-07T17:18:51.234178Z"
    }
   },
   "outputs": [],
   "source": [
    "df_kc_melt.plot()"
   ]
  },
  {
   "cell_type": "code",
   "execution_count": null,
   "metadata": {
    "ExecuteTime": {
     "end_time": "2020-01-07T17:18:51.472678Z",
     "start_time": "2020-01-07T17:18:51.469992Z"
    }
   },
   "outputs": [],
   "source": [
    "ts = df_kc_melt"
   ]
  },
  {
   "cell_type": "code",
   "execution_count": null,
   "metadata": {
    "ExecuteTime": {
     "end_time": "2020-01-07T17:18:52.886726Z",
     "start_time": "2020-01-07T17:18:51.474100Z"
    }
   },
   "outputs": [],
   "source": [
    "from statsmodels.tsa.seasonal import seasonal_decompose\n",
    "decomp = seasonal_decompose(ts)\n",
    "fig = decomp.plot();\n",
    "fig.set_size_inches(12,8)"
   ]
  },
  {
   "cell_type": "code",
   "execution_count": null,
   "metadata": {
    "ExecuteTime": {
     "end_time": "2020-01-07T17:18:53.065436Z",
     "start_time": "2020-01-07T17:18:52.888194Z"
    }
   },
   "outputs": [],
   "source": [
    "import warnings\n",
    "from statsmodels.tsa.arima_model import ARIMA\n",
    "from sklearn.metrics import mean_squared_error\n",
    "\n",
    "# evaluate an ARIMA model for a given order (p,d,q)\n",
    "def evaluate_arima_model(X, arima_order):\n",
    "    # prepare training dataset\n",
    "    train_size = int(len(X) * 0.66)\n",
    "    train, test = X[0:train_size], X[train_size:]\n",
    "    history = [x for x in train]\n",
    "    # make predictions\n",
    "    predictions = list()\n",
    "#     import pdb\n",
    "#     pdb.set_trace()\n",
    "    for t in range(len(test)):\n",
    "        model = ARIMA(history, order=arima_order)\n",
    "        model_fit = model.fit(disp=0)\n",
    "        yhat = model_fit.forecast()[0]\n",
    "        predictions.append(yhat)\n",
    "        history.append(test[t])\n",
    "    # calculate out of sample error\n",
    "    error = mean_squared_error(test, predictions)\n",
    "    return error"
   ]
  },
  {
   "cell_type": "code",
   "execution_count": null,
   "metadata": {
    "ExecuteTime": {
     "end_time": "2020-01-07T17:18:53.072869Z",
     "start_time": "2020-01-07T17:18:53.067538Z"
    }
   },
   "outputs": [],
   "source": [
    "# evaluate combinations of p, d and q values for an ARIMA model\n",
    "@timed\n",
    "def evaluate_models(dataset, p_values, d_values, q_values):\n",
    "    dataset = dataset.astype('float32')\n",
    "    best_score, best_cfg = float(\"inf\"), None\n",
    "    for p in p_values:\n",
    "        for d in d_values:\n",
    "            for q in q_values:\n",
    "                order = (p,d,q)\n",
    "                try:\n",
    "                    mse = evaluate_arima_model(dataset, order)\n",
    "                    if mse < best_score:\n",
    "                        best_score, best_cfg = mse, order\n",
    "                    print('ARIMA%s MSE=%.3f' % (order,mse))\n",
    "                except:\n",
    "                    continue\n",
    "    print('Best ARIMA%s MSE=%.3f' % (best_cfg, best_score))"
   ]
  },
  {
   "cell_type": "code",
   "execution_count": 15,
   "metadata": {
    "ExecuteTime": {
     "end_time": "2020-01-07T17:23:21.406830Z",
     "start_time": "2020-01-07T17:18:54.911387Z"
    }
   },
   "outputs": [
    {
     "name": "stdout",
     "output_type": "stream",
     "text": [
      "[i] STARTING GRID SEARCH @ ['01/07/2020 - 12:18:54 PM']:\n",
      "ARIMA(0, 1, 0) MSE=2455815.101\n",
      "ARIMA(0, 1, 1) MSE=808446.950\n",
      "ARIMA(1, 1, 0) MSE=905910.803\n",
      "ARIMA(1, 1, 2) MSE=461003.943\n",
      "ARIMA(3, 1, 0) MSE=555607.463\n",
      "ARIMA(3, 1, 1) MSE=486312.669\n",
      "ARIMA(8, 1, 0) MSE=524305.631\n",
      "ARIMA(8, 1, 1) MSE=533486.667\n",
      "Best ARIMA(1, 1, 2) MSE=461003.943\n",
      "evaluate_models([[152600.]\n",
      " [152600.]\n",
      " [152700.]\n",
      " [152600.]\n",
      " [152500.]\n",
      " [152400.]\n",
      " [152300.]\n",
      " [152100.]\n",
      " [152000.]\n",
      " [151800.]\n",
      " [151700.]\n",
      " [151400.]\n",
      " [151100.]\n",
      " [150800.]\n",
      " [150600.]\n",
      " [150400.]\n",
      " [150300.]\n",
      " [150300.]\n",
      " [150400.]\n",
      " [150700.]\n",
      " [151200.]\n",
      " [151900.]\n",
      " [152600.]\n",
      " [153400.]\n",
      " [154400.]\n",
      " [155500.]\n",
      " [156800.]\n",
      " [158100.]\n",
      " [159400.]\n",
      " [160800.]\n",
      " [162200.]\n",
      " [163600.]\n",
      " [165100.]\n",
      " [166600.]\n",
      " [167900.]\n",
      " [169000.]\n",
      " [170100.]\n",
      " [171100.]\n",
      " [172000.]\n",
      " [172800.]\n",
      " [173600.]\n",
      " [174300.]\n",
      " [175000.]\n",
      " [175700.]\n",
      " [176500.]\n",
      " [177400.]\n",
      " [178200.]\n",
      " [178900.]\n",
      " [179600.]\n",
      " [180400.]\n",
      " [181200.]\n",
      " [181900.]\n",
      " [182700.]\n",
      " [183500.]\n",
      " [184300.]\n",
      " [185200.]\n",
      " [186100.]\n",
      " [187000.]\n",
      " [188000.]\n",
      " [188800.]\n",
      " [189700.]\n",
      " [190500.]\n",
      " [191300.]\n",
      " [192100.]\n",
      " [192800.]\n",
      " [193500.]\n",
      " [194200.]\n",
      " [195000.]\n",
      " [195800.]\n",
      " [196600.]\n",
      " [197400.]\n",
      " [198200.]\n",
      " [198900.]\n",
      " [199600.]\n",
      " [200300.]\n",
      " [201100.]\n",
      " [201700.]\n",
      " [202300.]\n",
      " [203000.]\n",
      " [203900.]\n",
      " [204800.]\n",
      " [205500.]\n",
      " [206000.]\n",
      " [206300.]\n",
      " [206500.]\n",
      " [206700.]\n",
      " [207000.]\n",
      " [207600.]\n",
      " [208400.]\n",
      " [209200.]\n",
      " [210100.]\n",
      " [211000.]\n",
      " [212000.]\n",
      " [213000.]\n",
      " [214000.]\n",
      " [215100.]\n",
      " [216100.]\n",
      " [217300.]\n",
      " [218600.]\n",
      " [219900.]\n",
      " [221100.]\n",
      " [222400.]\n",
      " [223600.]\n",
      " [224900.]\n",
      " [226300.]\n",
      " [227700.]\n",
      " [228800.]\n",
      " [229800.]\n",
      " [230700.]\n",
      " [231500.]\n",
      " [232300.]\n",
      " [233200.]\n",
      " [233900.]\n",
      " [234200.]\n",
      " [233900.]\n",
      " [232800.]\n",
      " [231100.]\n",
      " [229800.]\n",
      " [229500.]\n",
      " [230200.]\n",
      " [231500.]\n",
      " [232700.]\n",
      " [233400.]\n",
      " [233700.]\n",
      " [233700.]\n",
      " [233800.]\n",
      " [234000.]\n",
      " [234300.]\n",
      " [234700.]\n",
      " [235000.]\n",
      " [235000.]\n",
      " [234900.]\n",
      " [234600.]\n",
      " [234100.]\n",
      " [233300.]\n",
      " [232700.]\n",
      " [232400.]\n",
      " [232300.]\n",
      " [232300.]\n",
      " [232600.]\n",
      " [232900.]\n",
      " [233100.]\n",
      " [232900.]\n",
      " [232200.]\n",
      " [231300.]\n",
      " [230000.]\n",
      " [228600.]\n",
      " [227700.]\n",
      " [227200.]\n",
      " [226600.]\n",
      " [226000.]\n",
      " [225600.]\n",
      " [225300.]\n",
      " [224900.]\n",
      " [224400.]\n",
      " [223900.]\n",
      " [223500.]\n",
      " [222900.]\n",
      " [222100.]\n",
      " [221300.]\n",
      " [220700.]\n",
      " [220300.]\n",
      " [219900.]\n",
      " [219800.]\n",
      " [219900.]\n",
      " [219900.]\n",
      " [219900.]\n",
      " [219200.]\n",
      " [218100.]\n",
      " [217700.]\n",
      " [218200.]\n",
      " [218400.]\n",
      " [218100.]\n",
      " [217800.]\n",
      " [217300.]\n",
      " [216600.]\n",
      " [215100.]\n",
      " [213100.]\n",
      " [211500.]\n",
      " [210600.]\n",
      " [209800.]\n",
      " [209400.]\n",
      " [209400.]\n",
      " [209600.]\n",
      " [209900.]\n",
      " [210000.]\n",
      " [210000.]\n",
      " [210100.]\n",
      " [210200.]\n",
      " [209500.]\n",
      " [208200.]\n",
      " [207400.]\n",
      " [207000.]\n",
      " [206800.]\n",
      " [206700.]\n",
      " [206700.]\n",
      " [206800.]\n",
      " [207100.]\n",
      " [207500.]\n",
      " [207700.]\n",
      " [207600.]\n",
      " [207300.]\n",
      " [207000.]\n",
      " [207200.]\n",
      " [207500.]\n",
      " [207300.]\n",
      " [207200.]\n",
      " [208100.]\n",
      " [209100.]\n",
      " [209500.]\n",
      " [210200.]\n",
      " [210700.]\n",
      " [212300.]\n",
      " [216600.]\n",
      " [221600.]\n",
      " [224500.]\n",
      " [225700.]\n",
      " [227200.]\n",
      " [227200.]\n",
      " [223600.]\n",
      " [219300.]\n",
      " [217200.]\n",
      " [216100.]\n",
      " [216000.]\n",
      " [216500.]\n",
      " [216200.]\n",
      " [214900.]\n",
      " [214000.]\n",
      " [214800.]\n",
      " [216800.]\n",
      " [219500.]\n",
      " [222900.]\n",
      " [225600.]\n",
      " [227200.]\n",
      " [228800.]\n",
      " [230200.]\n",
      " [230800.]\n",
      " [231600.]\n",
      " [233100.]\n",
      " [236200.]\n",
      " [240200.]\n",
      " [242900.]\n",
      " [244100.]\n",
      " [246600.]\n",
      " [250300.]\n",
      " [252900.]\n",
      " [253300.]\n",
      " [252000.]\n",
      " [250400.]\n",
      " [250200.]\n",
      " [251900.]\n",
      " [253400.]\n",
      " [253600.]\n",
      " [252500.]\n",
      " [251900.]\n",
      " [251400.]\n",
      " [251000.]\n",
      " [251300.]\n",
      " [252000.]\n",
      " [252700.]\n",
      " [253800.]\n",
      " [255300.]\n",
      " [255400.]\n",
      " [254400.]\n",
      " [253300.]],[0, 1, 3, 8],[1],range(0, 3)) took 266.480907\n"
     ]
    }
   ],
   "source": [
    "# evaluate parameters\n",
    "p_values = [0, 1, 3, 8]\n",
    "d_values = [1]\n",
    "q_values = range(0, 3)\n",
    "warnings.filterwarnings(\"ignore\")\n",
    "evaluate_models(df_kc_melt.values, p_values, d_values, q_values)"
   ]
  },
  {
   "cell_type": "markdown",
   "metadata": {},
   "source": [
    "# Step 6: Interpreting Results"
   ]
  },
  {
   "cell_type": "code",
   "execution_count": 17,
   "metadata": {
    "ExecuteTime": {
     "end_time": "2020-01-07T17:25:24.468265Z",
     "start_time": "2020-01-07T17:25:24.275451Z"
    }
   },
   "outputs": [
    {
     "data": {
      "text/html": [
       "<table class=\"simpletable\">\n",
       "<caption>ARIMA Model Results</caption>\n",
       "<tr>\n",
       "  <th>Dep. Variable:</th>      <td>D.value</td>     <th>  No. Observations:  </th>    <td>264</td>   \n",
       "</tr>\n",
       "<tr>\n",
       "  <th>Model:</th>          <td>ARIMA(1, 1, 2)</td>  <th>  Log Likelihood     </th> <td>-1963.765</td>\n",
       "</tr>\n",
       "<tr>\n",
       "  <th>Method:</th>             <td>css-mle</td>     <th>  S.D. of innovations</th>  <td>408.781</td> \n",
       "</tr>\n",
       "<tr>\n",
       "  <th>Date:</th>          <td>Tue, 07 Jan 2020</td> <th>  AIC                </th> <td>3937.529</td> \n",
       "</tr>\n",
       "<tr>\n",
       "  <th>Time:</th>              <td>12:25:24</td>     <th>  BIC                </th> <td>3955.409</td> \n",
       "</tr>\n",
       "<tr>\n",
       "  <th>Sample:</th>           <td>05-01-1996</td>    <th>  HQIC               </th> <td>3944.714</td> \n",
       "</tr>\n",
       "<tr>\n",
       "  <th></th>                 <td>- 04-01-2018</td>   <th>                     </th>     <td> </td>    \n",
       "</tr>\n",
       "</table>\n",
       "<table class=\"simpletable\">\n",
       "<tr>\n",
       "        <td></td>           <th>coef</th>     <th>std err</th>      <th>z</th>      <th>P>|z|</th>  <th>[0.025</th>    <th>0.975]</th>  \n",
       "</tr>\n",
       "<tr>\n",
       "  <th>const</th>         <td>  366.9638</td> <td>  137.722</td> <td>    2.665</td> <td> 0.008</td> <td>   97.033</td> <td>  636.895</td>\n",
       "</tr>\n",
       "<tr>\n",
       "  <th>ar.L1.D.value</th> <td>    0.4727</td> <td>    0.069</td> <td>    6.840</td> <td> 0.000</td> <td>    0.337</td> <td>    0.608</td>\n",
       "</tr>\n",
       "<tr>\n",
       "  <th>ma.L1.D.value</th> <td>    1.3096</td> <td>    0.066</td> <td>   19.751</td> <td> 0.000</td> <td>    1.180</td> <td>    1.440</td>\n",
       "</tr>\n",
       "<tr>\n",
       "  <th>ma.L2.D.value</th> <td>    0.5957</td> <td>    0.070</td> <td>    8.511</td> <td> 0.000</td> <td>    0.458</td> <td>    0.733</td>\n",
       "</tr>\n",
       "</table>\n",
       "<table class=\"simpletable\">\n",
       "<caption>Roots</caption>\n",
       "<tr>\n",
       "    <td></td>   <th>            Real</th>  <th>         Imaginary</th> <th>         Modulus</th>  <th>        Frequency</th>\n",
       "</tr>\n",
       "<tr>\n",
       "  <th>AR.1</th> <td>           2.1155</td> <td>          +0.0000j</td> <td>           2.1155</td> <td>           0.0000</td>\n",
       "</tr>\n",
       "<tr>\n",
       "  <th>MA.1</th> <td>          -1.0993</td> <td>          -0.6859j</td> <td>           1.2957</td> <td>          -0.4112</td>\n",
       "</tr>\n",
       "<tr>\n",
       "  <th>MA.2</th> <td>          -1.0993</td> <td>          +0.6859j</td> <td>           1.2957</td> <td>           0.4112</td>\n",
       "</tr>\n",
       "</table>"
      ],
      "text/plain": [
       "<class 'statsmodels.iolib.summary.Summary'>\n",
       "\"\"\"\n",
       "                             ARIMA Model Results                              \n",
       "==============================================================================\n",
       "Dep. Variable:                D.value   No. Observations:                  264\n",
       "Model:                 ARIMA(1, 1, 2)   Log Likelihood               -1963.765\n",
       "Method:                       css-mle   S.D. of innovations            408.781\n",
       "Date:                Tue, 07 Jan 2020   AIC                           3937.529\n",
       "Time:                        12:25:24   BIC                           3955.409\n",
       "Sample:                    05-01-1996   HQIC                          3944.714\n",
       "                         - 04-01-2018                                         \n",
       "=================================================================================\n",
       "                    coef    std err          z      P>|z|      [0.025      0.975]\n",
       "---------------------------------------------------------------------------------\n",
       "const           366.9638    137.722      2.665      0.008      97.033     636.895\n",
       "ar.L1.D.value     0.4727      0.069      6.840      0.000       0.337       0.608\n",
       "ma.L1.D.value     1.3096      0.066     19.751      0.000       1.180       1.440\n",
       "ma.L2.D.value     0.5957      0.070      8.511      0.000       0.458       0.733\n",
       "                                    Roots                                    \n",
       "=============================================================================\n",
       "                  Real          Imaginary           Modulus         Frequency\n",
       "-----------------------------------------------------------------------------\n",
       "AR.1            2.1155           +0.0000j            2.1155            0.0000\n",
       "MA.1           -1.0993           -0.6859j            1.2957           -0.4112\n",
       "MA.2           -1.0993           +0.6859j            1.2957            0.4112\n",
       "-----------------------------------------------------------------------------\n",
       "\"\"\""
      ]
     },
     "execution_count": 17,
     "metadata": {},
     "output_type": "execute_result"
    }
   ],
   "source": [
    "# make foreacst \n",
    "model = ARIMA(df_kc_melt, order=(1,1,2))\n",
    "model_fit = model.fit(disp=0)\n",
    "model_fit.summary()"
   ]
  },
  {
   "cell_type": "code",
   "execution_count": 18,
   "metadata": {
    "ExecuteTime": {
     "end_time": "2020-01-07T17:25:29.698285Z",
     "start_time": "2020-01-07T17:25:29.693622Z"
    }
   },
   "outputs": [],
   "source": [
    "forecast = model_fit.forecast(24)"
   ]
  },
  {
   "cell_type": "code",
   "execution_count": 22,
   "metadata": {
    "ExecuteTime": {
     "end_time": "2020-01-07T17:27:35.581191Z",
     "start_time": "2020-01-07T17:27:35.577328Z"
    }
   },
   "outputs": [
    {
     "data": {
      "text/plain": [
       "array([252581.58493821, 252184.14234056, 252189.7645576 , 252385.91903559,\n",
       "       252672.13977872, 253000.9356326 , 253349.85711349, 253708.29215416,\n",
       "       254071.2243377 , 254436.28235998, 254802.34528482, 255168.88323587,\n",
       "       255535.64573598, 255902.51438238, 256269.43320506, 256636.37574651,\n",
       "       257003.32950003, 257370.28855359, 257737.25011253, 258104.21285578,\n",
       "       258471.17615887, 258838.13972659, 259205.10341941, 259572.06717137])"
      ]
     },
     "execution_count": 22,
     "metadata": {},
     "output_type": "execute_result"
    }
   ],
   "source": [
    "forecast[0]"
   ]
  },
  {
   "cell_type": "code",
   "execution_count": 29,
   "metadata": {
    "ExecuteTime": {
     "end_time": "2020-01-07T17:29:09.549994Z",
     "start_time": "2020-01-07T17:29:09.545727Z"
    }
   },
   "outputs": [
    {
     "data": {
      "text/plain": [
       "array([[251780.38802071, 253382.7818557 ],\n",
       "       [249815.37020964, 254552.91447148],\n",
       "       [248061.20312654, 256318.32598866],\n",
       "       [246688.62227249, 258083.21579869],\n",
       "       [245603.80295956, 259740.47659787],\n",
       "       [244724.65880191, 261277.2124633 ],\n",
       "       [243994.06555644, 262705.64867054],\n",
       "       [243373.74041867, 264042.84388965],\n",
       "       [242837.87554773, 265304.57312766],\n",
       "       [242368.68768294, 266503.87703702],\n",
       "       [241953.57502544, 267651.11554419],\n",
       "       [241583.34176414, 268754.4247076 ],\n",
       "       [241251.08612732, 269820.20534463],\n",
       "       [240951.4934102 , 270853.53535455],\n",
       "       [240680.37680813, 271858.48960199],\n",
       "       [240434.37188257, 272838.37961045],\n",
       "       [240210.72809211, 273795.93090795],\n",
       "       [240007.16300977, 274733.41409741],\n",
       "       [239821.75797615, 275652.74224891],\n",
       "       [239652.88178679, 276555.54392477],\n",
       "       [239499.13377867, 277443.21853907],\n",
       "       [239359.30062838, 278316.9788248 ],\n",
       "       [239232.32303438, 279177.88380445],\n",
       "       [239117.26965351, 280026.86468923]])"
      ]
     },
     "execution_count": 29,
     "metadata": {},
     "output_type": "execute_result"
    }
   ],
   "source": [
    "actual_foreacst = forecast[0]\n",
    "forecast_conf_int = forecast[2]\n",
    "forecast_conf_int"
   ]
  },
  {
   "cell_type": "code",
   "execution_count": 24,
   "metadata": {
    "ExecuteTime": {
     "end_time": "2020-01-07T17:28:34.119356Z",
     "start_time": "2020-01-07T17:28:34.111821Z"
    }
   },
   "outputs": [
    {
     "data": {
      "text/html": [
       "<div>\n",
       "<style scoped>\n",
       "    .dataframe tbody tr th:only-of-type {\n",
       "        vertical-align: middle;\n",
       "    }\n",
       "\n",
       "    .dataframe tbody tr th {\n",
       "        vertical-align: top;\n",
       "    }\n",
       "\n",
       "    .dataframe thead th {\n",
       "        text-align: right;\n",
       "    }\n",
       "</style>\n",
       "<table border=\"1\" class=\"dataframe\">\n",
       "  <thead>\n",
       "    <tr style=\"text-align: right;\">\n",
       "      <th></th>\n",
       "      <th>value</th>\n",
       "    </tr>\n",
       "    <tr>\n",
       "      <th>time</th>\n",
       "      <th></th>\n",
       "    </tr>\n",
       "  </thead>\n",
       "  <tbody>\n",
       "    <tr>\n",
       "      <td>2018-03-01</td>\n",
       "      <td>254400.0</td>\n",
       "    </tr>\n",
       "    <tr>\n",
       "      <td>2018-04-01</td>\n",
       "      <td>253300.0</td>\n",
       "    </tr>\n",
       "  </tbody>\n",
       "</table>\n",
       "</div>"
      ],
      "text/plain": [
       "               value\n",
       "time                \n",
       "2018-03-01  254400.0\n",
       "2018-04-01  253300.0"
      ]
     },
     "execution_count": 24,
     "metadata": {},
     "output_type": "execute_result"
    }
   ],
   "source": [
    "df_kc_melt.tail(2)"
   ]
  },
  {
   "cell_type": "code",
   "execution_count": 30,
   "metadata": {
    "ExecuteTime": {
     "end_time": "2020-01-07T17:29:28.991538Z",
     "start_time": "2020-01-07T17:29:28.983341Z"
    }
   },
   "outputs": [],
   "source": [
    "# make dataframe with forecast and 95% confidence interval \n",
    "df_forecast = pd.DataFrame({'time': pd.date_range(start = '2018-05-01', end = '2020-04-01', freq = 'MS')})\n",
    "df_forecast['forecast'] = actual_foreacst\n",
    "df_forecast['lower_bound'] = forecast_conf_int[:, 0]\n",
    "df_forecast['upper_bound'] = forecast_conf_int[:, 1]\n",
    "df_forecast.set_index('time', inplace = True)"
   ]
  },
  {
   "cell_type": "code",
   "execution_count": 31,
   "metadata": {
    "ExecuteTime": {
     "end_time": "2020-01-07T17:29:36.023789Z",
     "start_time": "2020-01-07T17:29:36.019027Z"
    }
   },
   "outputs": [],
   "source": [
    "# combine raw data dataframe and forecast dataframe\n",
    "df_new = pd.concat([df_kc_melt, df_forecast])"
   ]
  },
  {
   "cell_type": "code",
   "execution_count": 32,
   "metadata": {
    "ExecuteTime": {
     "end_time": "2020-01-07T17:29:37.362840Z",
     "start_time": "2020-01-07T17:29:37.351421Z"
    }
   },
   "outputs": [
    {
     "data": {
      "text/html": [
       "<div>\n",
       "<style scoped>\n",
       "    .dataframe tbody tr th:only-of-type {\n",
       "        vertical-align: middle;\n",
       "    }\n",
       "\n",
       "    .dataframe tbody tr th {\n",
       "        vertical-align: top;\n",
       "    }\n",
       "\n",
       "    .dataframe thead th {\n",
       "        text-align: right;\n",
       "    }\n",
       "</style>\n",
       "<table border=\"1\" class=\"dataframe\">\n",
       "  <thead>\n",
       "    <tr style=\"text-align: right;\">\n",
       "      <th></th>\n",
       "      <th>forecast</th>\n",
       "      <th>lower_bound</th>\n",
       "      <th>upper_bound</th>\n",
       "      <th>value</th>\n",
       "    </tr>\n",
       "    <tr>\n",
       "      <th>time</th>\n",
       "      <th></th>\n",
       "      <th></th>\n",
       "      <th></th>\n",
       "      <th></th>\n",
       "    </tr>\n",
       "  </thead>\n",
       "  <tbody>\n",
       "    <tr>\n",
       "      <td>1996-04-01</td>\n",
       "      <td>NaN</td>\n",
       "      <td>NaN</td>\n",
       "      <td>NaN</td>\n",
       "      <td>152600.0</td>\n",
       "    </tr>\n",
       "    <tr>\n",
       "      <td>1996-05-01</td>\n",
       "      <td>NaN</td>\n",
       "      <td>NaN</td>\n",
       "      <td>NaN</td>\n",
       "      <td>152600.0</td>\n",
       "    </tr>\n",
       "    <tr>\n",
       "      <td>1996-06-01</td>\n",
       "      <td>NaN</td>\n",
       "      <td>NaN</td>\n",
       "      <td>NaN</td>\n",
       "      <td>152700.0</td>\n",
       "    </tr>\n",
       "    <tr>\n",
       "      <td>1996-07-01</td>\n",
       "      <td>NaN</td>\n",
       "      <td>NaN</td>\n",
       "      <td>NaN</td>\n",
       "      <td>152600.0</td>\n",
       "    </tr>\n",
       "    <tr>\n",
       "      <td>1996-08-01</td>\n",
       "      <td>NaN</td>\n",
       "      <td>NaN</td>\n",
       "      <td>NaN</td>\n",
       "      <td>152500.0</td>\n",
       "    </tr>\n",
       "  </tbody>\n",
       "</table>\n",
       "</div>"
      ],
      "text/plain": [
       "            forecast  lower_bound  upper_bound     value\n",
       "time                                                    \n",
       "1996-04-01       NaN          NaN          NaN  152600.0\n",
       "1996-05-01       NaN          NaN          NaN  152600.0\n",
       "1996-06-01       NaN          NaN          NaN  152700.0\n",
       "1996-07-01       NaN          NaN          NaN  152600.0\n",
       "1996-08-01       NaN          NaN          NaN  152500.0"
      ]
     },
     "execution_count": 32,
     "metadata": {},
     "output_type": "execute_result"
    }
   ],
   "source": [
    "df_new.head()"
   ]
  },
  {
   "cell_type": "code",
   "execution_count": 33,
   "metadata": {
    "ExecuteTime": {
     "end_time": "2020-01-07T17:29:37.983527Z",
     "start_time": "2020-01-07T17:29:37.768172Z"
    }
   },
   "outputs": [
    {
     "data": {
      "text/plain": [
       "Text(0.5, 1.0, 'Forecast for 64154')"
      ]
     },
     "execution_count": 33,
     "metadata": {},
     "output_type": "execute_result"
    },
    {
     "data": {
      "image/png": "[encoded data removed]",
      "text/plain": [
       "<Figure size 864x576 with 1 Axes>"
      ]
     },
     "metadata": {
      "needs_background": "light"
     },
     "output_type": "display_data"
    }
   ],
   "source": [
    "fig = plt.figure(figsize = (12, 8))\n",
    "\n",
    "plt.plot(df_new['value'], label = 'raw data')\n",
    "plt.plot(df_new['forecast'], label = 'forecast')\n",
    "plt.fill_between(df_new.index, df_new['lower_bound'], df_new['upper_bound'], color=\"k\", alpha=.15,\n",
    "                label = 'confidence interval')\n",
    "plt.legend(loc = 'upper left')\n",
    "plt.title('Forecast for 64154')"
   ]
  },
  {
   "cell_type": "markdown",
   "metadata": {},
   "source": [
    "## Get Percent Change in House Price "
   ]
  },
  {
   "cell_type": "code",
   "execution_count": 34,
   "metadata": {
    "ExecuteTime": {
     "end_time": "2020-01-07T17:30:01.076072Z",
     "start_time": "2020-01-07T17:30:01.067595Z"
    }
   },
   "outputs": [],
   "source": [
    "# forecasted price after 2 years\n",
    "forcast_2_years = df_new.loc['2020-04-01', 'forecast']\n",
    "forcast_lower = df_new.loc['2020-04-01', 'lower_bound']\n",
    "forcast_upper = df_new.loc['2020-04-01', 'upper_bound']"
   ]
  },
  {
   "cell_type": "code",
   "execution_count": 35,
   "metadata": {
    "ExecuteTime": {
     "end_time": "2020-01-07T17:30:13.558354Z",
     "start_time": "2020-01-07T17:30:13.555204Z"
    }
   },
   "outputs": [],
   "source": [
    "last_price = df_kc_melt.loc['2018-04-01', 'value']"
   ]
  },
  {
   "cell_type": "code",
   "execution_count": 36,
   "metadata": {
    "ExecuteTime": {
     "end_time": "2020-01-07T17:30:24.648752Z",
     "start_time": "2020-01-07T17:30:24.645730Z"
    }
   },
   "outputs": [
    {
     "name": "stdout",
     "output_type": "stream",
     "text": [
      " I would expect a  2.4761% return on my investment in 64154\n"
     ]
    }
   ],
   "source": [
    "predicted_percent_change = (forcast_2_years - last_price) / last_price\n",
    "print(f' I would expect a  {np.round(predicted_percent_change * 100, 4)}% return on my investment in 64154')"
   ]
  },
  {
   "cell_type": "code",
   "execution_count": 37,
   "metadata": {
    "ExecuteTime": {
     "end_time": "2020-01-07T17:30:25.700749Z",
     "start_time": "2020-01-07T17:30:25.697120Z"
    }
   },
   "outputs": [
    {
     "name": "stdout",
     "output_type": "stream",
     "text": [
      "Best case scenario I would expect a  10.5515% return on my investment in 64154\n"
     ]
    }
   ],
   "source": [
    "best_percent_change = (forcast_upper - last_price) / last_price\n",
    "print(f'Best case scenario I would expect a  {np.round(best_percent_change * 100, 4)}% return on my investment in 64154')"
   ]
  },
  {
   "cell_type": "code",
   "execution_count": 38,
   "metadata": {
    "ExecuteTime": {
     "end_time": "2020-01-07T17:30:26.414321Z",
     "start_time": "2020-01-07T17:30:26.411131Z"
    }
   },
   "outputs": [
    {
     "name": "stdout",
     "output_type": "stream",
     "text": [
      "Worst case scenario I would expect a  -5.5992% return on my investment in 64154\n"
     ]
    }
   ],
   "source": [
    "worst_percent_change = (forcast_lower - last_price) / last_price\n",
    "print(f'Worst case scenario I would expect a  {np.round(worst_percent_change * 100, 4)}% return on my investment in 64154')"
   ]
  },
  {
   "cell_type": "code",
   "execution_count": null,
   "metadata": {},
   "outputs": [],
   "source": []
  }
 ],
 "metadata": {
  "kernelspec": {
   "display_name": "Python 3",
   "language": "python",
   "name": "python3"
  },
  "language_info": {
   "codemirror_mode": {
    "name": "ipython",
    "version": 3
   },
   "file_extension": ".py",
   "mimetype": "text/x-python",
   "name": "python",
   "nbconvert_exporter": "python",
   "pygments_lexer": "ipython3",
   "version": "3.6.9"
  },
  "toc": {
   "base_numbering": 1,
   "nav_menu": {},
   "number_sections": false,
   "sideBar": true,
   "skip_h1_title": false,
   "title_cell": "Table of Contents",
   "title_sidebar": "Contents",
   "toc_cell": false,
   "toc_position": {
    "height": "calc(100% - 180px)",
    "left": "10px",
    "top": "150px",
    "width": "256px"
   },
   "toc_section_display": true,
   "toc_window_display": true
  }
 },
 "nbformat": 4,
 "nbformat_minor": 2
}
