{
 "nbformat": 4,
 "nbformat_minor": 2,
 "metadata": {
  "language_info": {
   "name": "python",
   "codemirror_mode": {
    "name": "ipython",
    "version": 3
   }
  },
  "orig_nbformat": 2,
  "file_extension": ".py",
  "mimetype": "text/x-python",
  "name": "python",
  "npconvert_exporter": "python",
  "pygments_lexer": "ipython3",
  "version": 3
 },
 "cells": [
  {
   "cell_type": "code",
   "execution_count": 1,
   "metadata": {},
   "outputs": [
    {
     "name": "stdout",
     "output_type": "stream",
     "text": "fsds_1007219  v0.4.19 loaded.  Read the docs: https://fsds.readthedocs.io/en/latest/ \n> For convenient loading of standard modules use: `>> from fsds_100719.imports import *`\n\n[i] You're using V 0.4.19 of fsds.\n"
    }
   ],
   "source": [
    "import jirving as ji"
   ]
  }
 ]
}