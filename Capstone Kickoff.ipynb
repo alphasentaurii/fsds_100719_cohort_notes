{
 "cells": [
  {
   "cell_type": "markdown",
   "metadata": {},
   "source": [
    "# Capstone Kickoff"
   ]
  },
  {
   "cell_type": "markdown",
   "metadata": {},
   "source": [
    "## Learning Objectives"
   ]
  },
  {
   "cell_type": "markdown",
   "metadata": {},
   "source": [
    "- [Review the learn.co capstone project README.](https://learn.co/tracks/data-science-career-v2/capstone-project/capstone-project/capstone-project)\n",
    "\n",
    "- Discuss some strategies/goals for deciding what to do for your capstone.\n",
    "- Example capstone projects\n"
   ]
  },
  {
   "cell_type": "markdown",
   "metadata": {},
   "source": [
    "## Capstone README"
   ]
  },
  {
   "cell_type": "markdown",
   "metadata": {},
   "source": [
    "### Topic:\n",
    "> You're completely free to choose any project topic that interests you. However, the project scope must be end-to-end, from data sourcing and cleaning all the way through tuning and analysis of your trained model(s). \n",
    "\n",
    "\n",
    "### Technical Requirements\n",
    "\n",
    "Your project must meet the following technical requirements:\n",
    "\n",
    "1. **_No Off-The-Shelf Datasets_**. \n",
    "    - Adding additional source of data/APIs or using unsupervised learning like autoencoders or clustering can be used to turn an off-the-shelf dataset into something appropriate for the capstone. \n",
    "    \n",
    "2. **_Strong Data Exploration, with at least 4 relevant data visualizations._** \n",
    "\n",
    "    - If you plan to make a dashboard, experiment with using Plotly figures, which are very easy to use with Dash dashboards.\n",
    "    - Plotly Express: https://plot.ly/python/plotly-express/\n",
    "    - [Cufflinks](https://github.com/santosjorge/cufflinks) (adds plotly to dataframes as an `iplot` method.\n",
    "    - [Dash User guide](https://dash.plot.ly/?_ga=2.156178875.1650132709.1582051288-909099599.1571873348)\n",
    "\n",
    "3. **_Makes use of Supervised Learning_**. \n",
    "    - Can also use unsupervised, but answer main question with supervised learning. \n",
    "    \n",
    "4. **_Explicitly makes use of a Data Science Process such as OSEMN or CRISP-DM_**. \n",
    "    - There is a notebook with the OSEMN process framework inside \n",
    "\n",
    "5. **_A well-defined question, with a well-defined answer._** \n",
    "    - Your project should clearly state the question you are trying to answer, and provide any background context needed to understand it. \n",
    "    - For instance, if you are trying to detect fault lines using Earthquake data, you should provide a brief primer on both the topic and your dataset so that the reader can better understand your topic and approach.  \n",
    "    - Think of 2 versions of your question:\n",
    "        - One that could be answered in ~3 days. \n",
    "        - One that you're excited/motivated to tackle and would want to continue working on post-graduation.\n",
    "        "
   ]
  },
  {
   "cell_type": "markdown",
   "metadata": {},
   "source": [
    "## Example Capstones"
   ]
  },
  {
   "cell_type": "markdown",
   "metadata": {},
   "source": [
    "- https://github.com/slieb74/NBA-Shot-Analysis\n",
    "- https://github.com/NaokoSuga/gentrification_yelp\n",
    "- https://github.com/paulinaczheng/twitter_flu_tracking\n",
    "- https://github.com/mrethana/news_bias_final\n",
    "- https://github.com/cpease00/etf_forecasting\n",
    "- https://github.com/davidmasse/freelancer-rates\n",
    "- https://github.com/lpilossoph/Capstone-Project\n",
    "- https://github.com/whitcrrd/puzzle-image-segmentation"
   ]
  },
  {
   "cell_type": "markdown",
   "metadata": {},
   "source": [
    "### My Cohort (online-ds-ft-021119)"
   ]
  },
  {
   "cell_type": "markdown",
   "metadata": {},
   "source": [
    "- https://github.com/whitcrrd/puzzle-image-segmentation\n",
    "- https://github.com/kpokrass/Global_Warming\n",
    "\n",
    "- https://github.com/jirvingphd/dsc-5-capstone-project-online-ds-ft-021119"
   ]
  },
  {
   "cell_type": "markdown",
   "metadata": {},
   "source": [
    "# Timeline"
   ]
  },
  {
   "cell_type": "markdown",
   "metadata": {},
   "source": [
    "- **Deadline: Datasets proposed by Saturday 02/22/20** \n",
    "\n",
    "- Guideline: Meat of EDA/analysis/modeling by ~02/28/20\n",
    "\n",
    "- **Deadline: Schedule Your Review & Turn in your links by 03/07.**\n",
    "\n",
    "- **Capstone Project reviews during week of 03/09 - 03/14.**\n",
    "\n",
    "- **Final class is 03/13.** :-("
   ]
  },
  {
   "cell_type": "markdown",
   "metadata": {
    "ExecuteTime": {
     "end_time": "2020-02-18T16:58:35.959856Z",
     "start_time": "2020-02-18T16:58:35.948545Z"
    }
   },
   "source": [
    "\n",
    "## Deliverables\n",
    "\n",
    "For online students, the deliverables for mthis project consist of the following three components:\n",
    "\n",
    "1. A Jupyter notebook for a presentation.\n",
    "  * The Jupyter notebook will have two components:\n",
    "    1. An **_Abstract_** section that briefly explains your problem, your methodology, and your findings, and business recommendations as a result of your findings. This section should be 1-2 paragraphs long.  \n",
    "    2. The technical analysis for a data science audience. This detailed technical analysis should explicitly follow a Data Science Process as outlined in the previous section. It should be well-formatted and organized, and should contain all code, visualizations, and detailed explanations/analysis.\n",
    "    \n",
    "2. An organized **README.md** file in the GitHub repository containing your project code that describes the contents of the repository. This file should be the source of information for navigating through all the code in your repository. \n",
    "    \n",
    "3. A blog post showcasing your project, with a focus on your methodology and findings. A well-written blog post about your project will probably be the first thing most recruiters and hiring managers see, so really take the time to polish up this blog post and explain your project, methodology, and findings/business recommendations in a clear, concise manner. This blog post should cover everything important about your project, but remember that your audience for this blog post will largely be non-technical. Your blog post should definitely contain visualizations, code snippets, and anything else you find important, but don't get bogged down trying to explain highly technical concepts. Your blog post should provide a link to the Github repository containing your actual project, for people that want to really dive into the technical aspects of your project.\n",
    "* Refer back to the [Blogging Guidelines](https://github.com/learn-co-curriculum/dsc-welcome-blogging) for the technical requirements and blog ideas.\n",
    "\n",
    "Note: On-campus students may have different deliverables, please speak with your instructor.\n"
   ]
  },
  {
   "cell_type": "code",
   "execution_count": null,
   "metadata": {},
   "outputs": [],
   "source": []
  }
 ],
 "metadata": {
  "kernelspec": {
   "display_name": "learn-env",
   "language": "python",
   "name": "learn-env"
  },
  "language_info": {
   "codemirror_mode": {
    "name": "ipython",
    "version": 3
   },
   "file_extension": ".py",
   "mimetype": "text/x-python",
   "name": "python",
   "nbconvert_exporter": "python",
   "pygments_lexer": "ipython3",
   "version": "3.6.9"
  },
  "toc": {
   "base_numbering": 1,
   "nav_menu": {},
   "number_sections": false,
   "sideBar": true,
   "skip_h1_title": false,
   "title_cell": "Table of Contents",
   "title_sidebar": "Contents",
   "toc_cell": false,
   "toc_position": {},
   "toc_section_display": true,
   "toc_window_display": true
  }
 },
 "nbformat": 4,
 "nbformat_minor": 2
}
