{
  "nbformat": 4,
  "nbformat_minor": 0,
  "metadata": {
    "colab": {
      "name": "Plotting and Functions Revisited",
      "provenance": [],
      "collapsed_sections": [],
      "include_colab_link": true
    },
    "kernelspec": {
      "name": "python3",
      "display_name": "Python 3"
    }
  },
  "cells": [
    {
      "cell_type": "markdown",
      "metadata": {
        "id": "view-in-github",
        "colab_type": "text"
      },
      "source": [
        "<a href=\"https://colab.research.google.com/github/jirvingphd/fsds_100719_cohort_notes/blob/master/Plotting_and_Functions_Revisited.ipynb\" target=\"_parent\"><img src=\"https://colab.research.google.com/assets/colab-badge.svg\" alt=\"Open In Colab\"/></a>"
      ]
    },
    {
      "cell_type": "markdown",
      "metadata": {
        "id": "Zh_6nDmEe1DC",
        "colab_type": "text"
      },
      "source": [
        "# PLOTTING AND FUNCTIONS REVISITED\n"
      ]
    },
    {
      "cell_type": "markdown",
      "metadata": {
        "id": "hvv8bIQbck2x",
        "colab_type": "text"
      },
      "source": [
        "# OUTLINE\n",
        "\n",
        "- Revisit Mod 1 project dataset / boston housing to perform EDA\n",
        "- Create a high quality customized figure for EDA.\n",
        "- Convert our plotting code into a working function.\n",
        "- Take a step back and think about what we may want to change in the future\n",
        "\n",
        "- **Breakout Rooms Activity: 15 minutes breakout rooms: Turning your own code into functions.**\n",
        "    -  First 3-5 min, everyone pulls up their own project and looks for a figure they want to turn into a function.\n",
        "    - Next 5 min: take turns sharing your screen and showing your partner the code you want to work on. \n",
        "        - Brainstorm together for 1 min on what customization/changes you want to add to your function. \n",
        "- Final 5 minutes, work on your function on your own computer, chatting and asking questions of each other and showing result, as needed/appropriate.\n",
        "\n",
        "- **Return to main room, discuss any questions thats arose during the activity that we want to discuss.**\n",
        "- With whatever time is remianing, we will touch on some more tips/best practices for functions."
      ]
    },
    {
      "cell_type": "markdown",
      "metadata": {
        "id": "iijmn9qbkE9t",
        "colab_type": "text"
      },
      "source": [
        "###  Matplotlib Refs\n",
        "- Matplotlib is the backbone of plotting in python and used by pandas,seaborn,etc.\n",
        "    - [Matplotlib Example Gallery](https://matplotlib.org/gallery/index.html#examples-index) \n",
        "    - [Seaborn Example Gallery](https://seaborn.pydata.org/examples/index.html)\n",
        "    - ['Pandas Visualization docs']('https://pandas.pydata.org/pandas-docs/stable/user_guide/visualization.html')\n",
        "\n",
        "-  *Matplotlib is powerful but can be a bit confusing at times because of its 2 sets of commands:*\n",
        "    - the matplotlib.pyplot functions (`plt.bar()`,`plt.title()`)\n",
        "    - the object_oriented methods (`ax.bar()`,`ax.set_title()`)\n",
        "    \n",
        "- The 2 syntaxes can be confusing at first and cause problems & odd results when mixed together.\n",
        "    - Learn about some of the problems when mixing types.\n",
        "    - Example: see how plt.title()/plt.xlabel(),etc. can behave strangely in subplots.\n",
        "    \n",
        "    - **Bookmark this article, its the best explanation of how matploblib'S 2 interfaces work:**\n",
        "> [\"Artist\" in Matplotlib - something I wanted to know before spending tremendous hours on googling how-tos.](https://dev.to/skotaro/artist-in-matplotlib---something-i-wanted-to-know-before-spending-tremendous-hours-on-googling-how-tos--31oo)<br>\n",
        "\n",
        "- [My Blog Post on Making Customized Figures in seaborn](https://jirvingphd.github.io/harnessing_seaborn_subplots_for_eda)\n",
        "    - This covers some concepts we didn't have time to cover, like ticklabel formatters.\n",
        "\n",
        "\n",
        "### **Matplotlib Documentation**\n",
        "- [Markers](https://matplotlib.org/3.1.1/api/markers_api.html)\n",
        "- [Colors](https://matplotlib.org/3.1.0/gallery/color/named_colors.html )\n",
        "- [Text](https://matplotlib.org/3.1.0/tutorials/text/text_intro.html )\n",
        "- [Text Properties](https://matplotlib.org/3.1.1/tutorials/text/text_props.html)\n",
        "\n",
        "```\n",
        "# This is formatted as code\n",
        "```\n",
        "\n"
      ]
    },
    {
      "cell_type": "code",
      "metadata": {
        "id": "oldYcnRYkEzk",
        "colab_type": "code",
        "colab": {}
      },
      "source": [
        "fs."
      ],
      "execution_count": 0,
      "outputs": []
    },
    {
      "cell_type": "markdown",
      "metadata": {
        "id": "ehZR9L4Cckx1",
        "colab_type": "text"
      },
      "source": [
        "# Group Activity:\n",
        "- Let's build an EDA figure together\n",
        "- Let's turn it into a function.\n",
        "- Let's add a docstring\n",
        "- Let's add some more customization / flexibility.\n"
      ]
    },
    {
      "cell_type": "code",
      "metadata": {
        "id": "8S7OHM5L7cT_",
        "colab_type": "code",
        "colab": {}
      },
      "source": [
        ""
      ],
      "execution_count": 0,
      "outputs": []
    },
    {
      "cell_type": "code",
      "metadata": {
        "id": "HS7PcfB3fMvI",
        "colab_type": "code",
        "outputId": "f3efc9ec-0356-4ab4-d02c-57223c319074",
        "colab": {
          "base_uri": "https://localhost:8080/",
          "height": 255
        }
      },
      "source": [
        "!pip install -U fsds_100719\n",
        "from IPython.display import clear_output\n",
        "clear_output()\n",
        "from fsds_100719.imports import *"
      ],
      "execution_count": 1,
      "outputs": [
        {
          "output_type": "stream",
          "text": [
            "fsds_1007219  v0.4.12 loaded.  Read the docs: https://fsds.readthedocs.io/en/latest/ \n",
            "> For convenient loading of standard modules use: `>> from fsds_100719.imports import *`\n",
            "\n"
          ],
          "name": "stdout"
        },
        {
          "output_type": "display_data",
          "data": {
            "text/html": [
              "<style  type=\"text/css\" >\n",
              "</style><table id=\"T_b3c8554e_fbfd_11e9_8ac0_0242ac1c0002\" ><caption>Loaded Packages and Handles</caption><thead>    <tr>        <th class=\"col_heading level0 col0\" >Package</th>        <th class=\"col_heading level0 col1\" >Handle</th>        <th class=\"col_heading level0 col2\" >Description</th>    </tr></thead><tbody>\n",
              "                <tr>\n",
              "                                <td id=\"T_b3c8554e_fbfd_11e9_8ac0_0242ac1c0002row0_col0\" class=\"data row0 col0\" >IPython.display</td>\n",
              "                        <td id=\"T_b3c8554e_fbfd_11e9_8ac0_0242ac1c0002row0_col1\" class=\"data row0 col1\" >dp</td>\n",
              "                        <td id=\"T_b3c8554e_fbfd_11e9_8ac0_0242ac1c0002row0_col2\" class=\"data row0 col2\" >Display modules with helpful display and clearing commands.</td>\n",
              "            </tr>\n",
              "            <tr>\n",
              "                                <td id=\"T_b3c8554e_fbfd_11e9_8ac0_0242ac1c0002row1_col0\" class=\"data row1 col0\" >fsds_100719</td>\n",
              "                        <td id=\"T_b3c8554e_fbfd_11e9_8ac0_0242ac1c0002row1_col1\" class=\"data row1 col1\" >fs</td>\n",
              "                        <td id=\"T_b3c8554e_fbfd_11e9_8ac0_0242ac1c0002row1_col2\" class=\"data row1 col2\" >Custom data science bootcamp student package</td>\n",
              "            </tr>\n",
              "            <tr>\n",
              "                                <td id=\"T_b3c8554e_fbfd_11e9_8ac0_0242ac1c0002row2_col0\" class=\"data row2 col0\" >matplotlib</td>\n",
              "                        <td id=\"T_b3c8554e_fbfd_11e9_8ac0_0242ac1c0002row2_col1\" class=\"data row2 col1\" >mpl</td>\n",
              "                        <td id=\"T_b3c8554e_fbfd_11e9_8ac0_0242ac1c0002row2_col2\" class=\"data row2 col2\" >Matplotlib's base OOP module with formatting artists</td>\n",
              "            </tr>\n",
              "            <tr>\n",
              "                                <td id=\"T_b3c8554e_fbfd_11e9_8ac0_0242ac1c0002row3_col0\" class=\"data row3 col0\" >matplotlib.pyplot</td>\n",
              "                        <td id=\"T_b3c8554e_fbfd_11e9_8ac0_0242ac1c0002row3_col1\" class=\"data row3 col1\" >plt</td>\n",
              "                        <td id=\"T_b3c8554e_fbfd_11e9_8ac0_0242ac1c0002row3_col2\" class=\"data row3 col2\" >Matplotlib's matlab-like plotting module</td>\n",
              "            </tr>\n",
              "            <tr>\n",
              "                                <td id=\"T_b3c8554e_fbfd_11e9_8ac0_0242ac1c0002row4_col0\" class=\"data row4 col0\" >numpy</td>\n",
              "                        <td id=\"T_b3c8554e_fbfd_11e9_8ac0_0242ac1c0002row4_col1\" class=\"data row4 col1\" >np</td>\n",
              "                        <td id=\"T_b3c8554e_fbfd_11e9_8ac0_0242ac1c0002row4_col2\" class=\"data row4 col2\" >scientific computing with Python</td>\n",
              "            </tr>\n",
              "            <tr>\n",
              "                                <td id=\"T_b3c8554e_fbfd_11e9_8ac0_0242ac1c0002row5_col0\" class=\"data row5 col0\" >pandas</td>\n",
              "                        <td id=\"T_b3c8554e_fbfd_11e9_8ac0_0242ac1c0002row5_col1\" class=\"data row5 col1\" >pd</td>\n",
              "                        <td id=\"T_b3c8554e_fbfd_11e9_8ac0_0242ac1c0002row5_col2\" class=\"data row5 col2\" >High performance data structures and tools</td>\n",
              "            </tr>\n",
              "            <tr>\n",
              "                                <td id=\"T_b3c8554e_fbfd_11e9_8ac0_0242ac1c0002row6_col0\" class=\"data row6 col0\" >seaborn</td>\n",
              "                        <td id=\"T_b3c8554e_fbfd_11e9_8ac0_0242ac1c0002row6_col1\" class=\"data row6 col1\" >sns</td>\n",
              "                        <td id=\"T_b3c8554e_fbfd_11e9_8ac0_0242ac1c0002row6_col2\" class=\"data row6 col2\" >High-level data visualization library based on matplotlib</td>\n",
              "            </tr>\n",
              "    </tbody></table>"
            ],
            "text/plain": [
              "<pandas.io.formats.style.Styler at 0x7f04e8c99e48>"
            ]
          },
          "metadata": {
            "tags": []
          }
        },
        {
          "output_type": "display_data",
          "data": {
            "text/html": [
              "        <script type=\"text/javascript\">\n",
              "        window.PlotlyConfig = {MathJaxConfig: 'local'};\n",
              "        if (window.MathJax) {MathJax.Hub.Config({SVG: {font: \"STIX-Web\"}});}\n",
              "        if (typeof require !== 'undefined') {\n",
              "        require.undef(\"plotly\");\n",
              "        requirejs.config({\n",
              "            paths: {\n",
              "                'plotly': ['https://cdn.plot.ly/plotly-latest.min']\n",
              "            }\n",
              "        });\n",
              "        require(['plotly'], function(Plotly) {\n",
              "            window._Plotly = Plotly;\n",
              "        });\n",
              "        }\n",
              "        </script>\n",
              "        "
            ]
          },
          "metadata": {
            "tags": []
          }
        }
      ]
    },
    {
      "cell_type": "markdown",
      "metadata": {
        "id": "x_H08Z-5hKZS",
        "colab_type": "text"
      },
      "source": [
        "## Let's build an EDA figure together\n"
      ]
    },
    {
      "cell_type": "code",
      "metadata": {
        "id": "qzW2tY3Plflp",
        "colab_type": "code",
        "colab": {}
      },
      "source": [
        "import matplotlib.pyplot as plt\n",
        "import matplotlib as mpl\n",
        "mpl.rcParams['figure.figsize'] = (15,15)"
      ],
      "execution_count": 0,
      "outputs": []
    },
    {
      "cell_type": "code",
      "metadata": {
        "id": "9nBCFyXCfMtZ",
        "colab_type": "code",
        "outputId": "3612c582-ad09-40d8-d741-fa7c59fb8e5f",
        "colab": {
          "base_uri": "https://localhost:8080/",
          "height": 224
        }
      },
      "source": [
        "## OPTION 1: MOD 1 DATASET\n",
        "df = fs.datasets.load_mod1_proj()\n",
        "df.drop(['id','date'],axis=1,inplace=True)\n",
        "df.head()"
      ],
      "execution_count": 42,
      "outputs": [
        {
          "output_type": "execute_result",
          "data": {
            "text/html": [
              "<div>\n",
              "<style scoped>\n",
              "    .dataframe tbody tr th:only-of-type {\n",
              "        vertical-align: middle;\n",
              "    }\n",
              "\n",
              "    .dataframe tbody tr th {\n",
              "        vertical-align: top;\n",
              "    }\n",
              "\n",
              "    .dataframe thead th {\n",
              "        text-align: right;\n",
              "    }\n",
              "</style>\n",
              "<table border=\"1\" class=\"dataframe\">\n",
              "  <thead>\n",
              "    <tr style=\"text-align: right;\">\n",
              "      <th></th>\n",
              "      <th>price</th>\n",
              "      <th>bedrooms</th>\n",
              "      <th>bathrooms</th>\n",
              "      <th>sqft_living</th>\n",
              "      <th>sqft_lot</th>\n",
              "      <th>floors</th>\n",
              "      <th>waterfront</th>\n",
              "      <th>view</th>\n",
              "      <th>condition</th>\n",
              "      <th>grade</th>\n",
              "      <th>sqft_above</th>\n",
              "      <th>sqft_basement</th>\n",
              "      <th>yr_built</th>\n",
              "      <th>yr_renovated</th>\n",
              "      <th>zipcode</th>\n",
              "      <th>lat</th>\n",
              "      <th>long</th>\n",
              "      <th>sqft_living15</th>\n",
              "      <th>sqft_lot15</th>\n",
              "    </tr>\n",
              "  </thead>\n",
              "  <tbody>\n",
              "    <tr>\n",
              "      <th>0</th>\n",
              "      <td>221900.0</td>\n",
              "      <td>3</td>\n",
              "      <td>1.00</td>\n",
              "      <td>1180</td>\n",
              "      <td>5650</td>\n",
              "      <td>1.0</td>\n",
              "      <td>NaN</td>\n",
              "      <td>0.0</td>\n",
              "      <td>3</td>\n",
              "      <td>7</td>\n",
              "      <td>1180</td>\n",
              "      <td>0.0</td>\n",
              "      <td>1955</td>\n",
              "      <td>0.0</td>\n",
              "      <td>98178</td>\n",
              "      <td>47.5112</td>\n",
              "      <td>-122.257</td>\n",
              "      <td>1340</td>\n",
              "      <td>5650</td>\n",
              "    </tr>\n",
              "    <tr>\n",
              "      <th>1</th>\n",
              "      <td>538000.0</td>\n",
              "      <td>3</td>\n",
              "      <td>2.25</td>\n",
              "      <td>2570</td>\n",
              "      <td>7242</td>\n",
              "      <td>2.0</td>\n",
              "      <td>0.0</td>\n",
              "      <td>0.0</td>\n",
              "      <td>3</td>\n",
              "      <td>7</td>\n",
              "      <td>2170</td>\n",
              "      <td>400.0</td>\n",
              "      <td>1951</td>\n",
              "      <td>1991.0</td>\n",
              "      <td>98125</td>\n",
              "      <td>47.7210</td>\n",
              "      <td>-122.319</td>\n",
              "      <td>1690</td>\n",
              "      <td>7639</td>\n",
              "    </tr>\n",
              "    <tr>\n",
              "      <th>2</th>\n",
              "      <td>180000.0</td>\n",
              "      <td>2</td>\n",
              "      <td>1.00</td>\n",
              "      <td>770</td>\n",
              "      <td>10000</td>\n",
              "      <td>1.0</td>\n",
              "      <td>0.0</td>\n",
              "      <td>0.0</td>\n",
              "      <td>3</td>\n",
              "      <td>6</td>\n",
              "      <td>770</td>\n",
              "      <td>0.0</td>\n",
              "      <td>1933</td>\n",
              "      <td>NaN</td>\n",
              "      <td>98028</td>\n",
              "      <td>47.7379</td>\n",
              "      <td>-122.233</td>\n",
              "      <td>2720</td>\n",
              "      <td>8062</td>\n",
              "    </tr>\n",
              "    <tr>\n",
              "      <th>3</th>\n",
              "      <td>604000.0</td>\n",
              "      <td>4</td>\n",
              "      <td>3.00</td>\n",
              "      <td>1960</td>\n",
              "      <td>5000</td>\n",
              "      <td>1.0</td>\n",
              "      <td>0.0</td>\n",
              "      <td>0.0</td>\n",
              "      <td>5</td>\n",
              "      <td>7</td>\n",
              "      <td>1050</td>\n",
              "      <td>910.0</td>\n",
              "      <td>1965</td>\n",
              "      <td>0.0</td>\n",
              "      <td>98136</td>\n",
              "      <td>47.5208</td>\n",
              "      <td>-122.393</td>\n",
              "      <td>1360</td>\n",
              "      <td>5000</td>\n",
              "    </tr>\n",
              "    <tr>\n",
              "      <th>4</th>\n",
              "      <td>510000.0</td>\n",
              "      <td>3</td>\n",
              "      <td>2.00</td>\n",
              "      <td>1680</td>\n",
              "      <td>8080</td>\n",
              "      <td>1.0</td>\n",
              "      <td>0.0</td>\n",
              "      <td>0.0</td>\n",
              "      <td>3</td>\n",
              "      <td>8</td>\n",
              "      <td>1680</td>\n",
              "      <td>0.0</td>\n",
              "      <td>1987</td>\n",
              "      <td>0.0</td>\n",
              "      <td>98074</td>\n",
              "      <td>47.6168</td>\n",
              "      <td>-122.045</td>\n",
              "      <td>1800</td>\n",
              "      <td>7503</td>\n",
              "    </tr>\n",
              "  </tbody>\n",
              "</table>\n",
              "</div>"
            ],
            "text/plain": [
              "      price  bedrooms  bathrooms  ...     long  sqft_living15  sqft_lot15\n",
              "0  221900.0         3       1.00  ... -122.257           1340        5650\n",
              "1  538000.0         3       2.25  ... -122.319           1690        7639\n",
              "2  180000.0         2       1.00  ... -122.233           2720        8062\n",
              "3  604000.0         4       3.00  ... -122.393           1360        5000\n",
              "4  510000.0         3       2.00  ... -122.045           1800        7503\n",
              "\n",
              "[5 rows x 19 columns]"
            ]
          },
          "metadata": {
            "tags": []
          },
          "execution_count": 42
        }
      ]
    },
    {
      "cell_type": "markdown",
      "metadata": {
        "id": "0Ugr5vaKmw3-",
        "colab_type": "text"
      },
      "source": [
        "- Multicollinearity\n",
        "- Histogram/distplot\n",
        "- Scatter / Regplot \n"
      ]
    },
    {
      "cell_type": "code",
      "metadata": {
        "id": "UExIi9Fgtdn6",
        "colab_type": "code",
        "colab": {
          "base_uri": "https://localhost:8080/",
          "height": 204
        },
        "outputId": "4e4b2913-820d-4599-f1f7-8f150cf39f5d"
      },
      "source": [
        "df = fs.datasets.load_boston()\n",
        "df.head()"
      ],
      "execution_count": 45,
      "outputs": [
        {
          "output_type": "execute_result",
          "data": {
            "text/html": [
              "<div>\n",
              "<style scoped>\n",
              "    .dataframe tbody tr th:only-of-type {\n",
              "        vertical-align: middle;\n",
              "    }\n",
              "\n",
              "    .dataframe tbody tr th {\n",
              "        vertical-align: top;\n",
              "    }\n",
              "\n",
              "    .dataframe thead th {\n",
              "        text-align: right;\n",
              "    }\n",
              "</style>\n",
              "<table border=\"1\" class=\"dataframe\">\n",
              "  <thead>\n",
              "    <tr style=\"text-align: right;\">\n",
              "      <th></th>\n",
              "      <th>CRIM</th>\n",
              "      <th>ZN</th>\n",
              "      <th>INDUS</th>\n",
              "      <th>CHAS</th>\n",
              "      <th>NOX</th>\n",
              "      <th>RM</th>\n",
              "      <th>AGE</th>\n",
              "      <th>DIS</th>\n",
              "      <th>RAD</th>\n",
              "      <th>TAX</th>\n",
              "      <th>PTRATIO</th>\n",
              "      <th>B</th>\n",
              "      <th>LSTAT</th>\n",
              "      <th>price</th>\n",
              "    </tr>\n",
              "  </thead>\n",
              "  <tbody>\n",
              "    <tr>\n",
              "      <th>0</th>\n",
              "      <td>0.00632</td>\n",
              "      <td>18.0</td>\n",
              "      <td>2.31</td>\n",
              "      <td>0.0</td>\n",
              "      <td>0.538</td>\n",
              "      <td>6.575</td>\n",
              "      <td>65.2</td>\n",
              "      <td>4.0900</td>\n",
              "      <td>1.0</td>\n",
              "      <td>296.0</td>\n",
              "      <td>15.3</td>\n",
              "      <td>396.90</td>\n",
              "      <td>4.98</td>\n",
              "      <td>24.0</td>\n",
              "    </tr>\n",
              "    <tr>\n",
              "      <th>1</th>\n",
              "      <td>0.02731</td>\n",
              "      <td>0.0</td>\n",
              "      <td>7.07</td>\n",
              "      <td>0.0</td>\n",
              "      <td>0.469</td>\n",
              "      <td>6.421</td>\n",
              "      <td>78.9</td>\n",
              "      <td>4.9671</td>\n",
              "      <td>2.0</td>\n",
              "      <td>242.0</td>\n",
              "      <td>17.8</td>\n",
              "      <td>396.90</td>\n",
              "      <td>9.14</td>\n",
              "      <td>21.6</td>\n",
              "    </tr>\n",
              "    <tr>\n",
              "      <th>2</th>\n",
              "      <td>0.02729</td>\n",
              "      <td>0.0</td>\n",
              "      <td>7.07</td>\n",
              "      <td>0.0</td>\n",
              "      <td>0.469</td>\n",
              "      <td>7.185</td>\n",
              "      <td>61.1</td>\n",
              "      <td>4.9671</td>\n",
              "      <td>2.0</td>\n",
              "      <td>242.0</td>\n",
              "      <td>17.8</td>\n",
              "      <td>392.83</td>\n",
              "      <td>4.03</td>\n",
              "      <td>34.7</td>\n",
              "    </tr>\n",
              "    <tr>\n",
              "      <th>3</th>\n",
              "      <td>0.03237</td>\n",
              "      <td>0.0</td>\n",
              "      <td>2.18</td>\n",
              "      <td>0.0</td>\n",
              "      <td>0.458</td>\n",
              "      <td>6.998</td>\n",
              "      <td>45.8</td>\n",
              "      <td>6.0622</td>\n",
              "      <td>3.0</td>\n",
              "      <td>222.0</td>\n",
              "      <td>18.7</td>\n",
              "      <td>394.63</td>\n",
              "      <td>2.94</td>\n",
              "      <td>33.4</td>\n",
              "    </tr>\n",
              "    <tr>\n",
              "      <th>4</th>\n",
              "      <td>0.06905</td>\n",
              "      <td>0.0</td>\n",
              "      <td>2.18</td>\n",
              "      <td>0.0</td>\n",
              "      <td>0.458</td>\n",
              "      <td>7.147</td>\n",
              "      <td>54.2</td>\n",
              "      <td>6.0622</td>\n",
              "      <td>3.0</td>\n",
              "      <td>222.0</td>\n",
              "      <td>18.7</td>\n",
              "      <td>396.90</td>\n",
              "      <td>5.33</td>\n",
              "      <td>36.2</td>\n",
              "    </tr>\n",
              "  </tbody>\n",
              "</table>\n",
              "</div>"
            ],
            "text/plain": [
              "      CRIM    ZN  INDUS  CHAS    NOX  ...    TAX  PTRATIO       B  LSTAT  price\n",
              "0  0.00632  18.0   2.31   0.0  0.538  ...  296.0     15.3  396.90   4.98   24.0\n",
              "1  0.02731   0.0   7.07   0.0  0.469  ...  242.0     17.8  396.90   9.14   21.6\n",
              "2  0.02729   0.0   7.07   0.0  0.469  ...  242.0     17.8  392.83   4.03   34.7\n",
              "3  0.03237   0.0   2.18   0.0  0.458  ...  222.0     18.7  394.63   2.94   33.4\n",
              "4  0.06905   0.0   2.18   0.0  0.458  ...  222.0     18.7  396.90   5.33   36.2\n",
              "\n",
              "[5 rows x 14 columns]"
            ]
          },
          "metadata": {
            "tags": []
          },
          "execution_count": 45
        }
      ]
    },
    {
      "cell_type": "markdown",
      "metadata": {
        "id": "pNwDa75hgkaI",
        "colab_type": "text"
      },
      "source": [
        "## Let's turn it into a function.\n"
      ]
    },
    {
      "cell_type": "code",
      "metadata": {
        "id": "JOsEBcxHhdV_",
        "colab_type": "code",
        "colab": {
          "base_uri": "https://localhost:8080/",
          "height": 297
        },
        "outputId": "09392ff6-b3c9-4add-a0a6-9511f82d9cca"
      },
      "source": [
        " ## \n",
        "def bathroom_break(df,col = \"AGE\",target='price',hist_kws=None, kde_kws={'color':'red','ls':':'},figsize=(12,4)):\n",
        "    \"\"\"Plots a seaborn displot for column with customization.\n",
        "    Args:\n",
        "     df (df)\n",
        "     col (str)\n",
        "     hist_kws (dict)\n",
        "     kde_kws (dict) Accepts properties of https://matplotlib.org/3.1.1/api/_as_gen/matplotlib.pyplot.hist.html\n",
        "     figsize (dict)\n",
        "    \n",
        "    Returns:\n",
        "        fig (matplotlib Figure)\n",
        "        ax (list of Matplotlib Axes)\n",
        "\n",
        "    Ex: \n",
        "    >> df = fs.datasets.load_boston()\n",
        "    >> bathroom_break(df)\n",
        "    \"\"\"\n",
        "    ## Fill in default hist_kws\n",
        "    if hist_kws is None:\n",
        "        hist_kws = {'alpha':0.5,'edgecolor':'black'}\n",
        "\n",
        "    ## Set X/Y Label fonts\n",
        "    label_font = {'weight':'semibold','size':16}\n",
        "    tick_font = {'size':12,'ha':'center','rotation':45}\n",
        "\n",
        "\n",
        "    ## Make Figure, Axes\n",
        "    fig,axes = plt.subplots(ncols=2,figsize=figsize)\n",
        "\n",
        "    ## Make subplot 1 on ax[0]\n",
        "    title_1 = f\"Distribution of {col.title()}\"    \n",
        "    sns.distplot(df[col], hist_kws=hist_kws, kde_kws=kde_kws,ax=axes[0])\n",
        "\n",
        "    ## CUSTOMIZE SUBPLOT 1 AX\n",
        "    ax = axes[0]\n",
        "    ax.set_ylabel('Counts', fontdict=label_font)\n",
        "    ax.set_xlabel(col.title(), fontdict=label_font)\n",
        "    ax.set_title(title_1, fontdict=label_font)\n",
        "\n",
        "\n",
        "\n",
        "    ## Make subplot 2 on ax[1]\n",
        "    title_2 = f\"Scatter Plot of {col.title()} vs {target.title()}\"\n",
        "    df.plot(kind='scatter',x=col,y=target, ax=axes[1])\n",
        "\n",
        "\n",
        "    ## TICKS: \n",
        "    # Somethings are changed using tickparams\n",
        "    # i.e. axes[0].xaxis.set_tick_params(**{'rotation':45})\n",
        "    # axes[0].set_xticklabels(axes[0].get_xticklabels(), fontdict=tick_font)#,rotation=45)\n",
        "    \n",
        "    ## CUSTOMIZE SUBPLOT 1 AX\n",
        "    ax = axes[1]\n",
        "    ax.set_ylabel(target.title(), fontdict=label_font)\n",
        "    ax.set_xlabel(col.title(), fontdict=label_font)\n",
        "    ax.set_title(title_2, fontdict=label_font)\n",
        "    ## Make subplot 2 on ax[1]\n",
        "    plt.tight_layout()\n",
        "\n",
        "    return fig, axes\n",
        "\n",
        "fig, ax = bathroom_break(df)\n"
      ],
      "execution_count": 99,
      "outputs": [
        {
          "output_type": "display_data",
          "data": {
            "image/png": "[encoded data removed]",
            "text/plain": [
              "<Figure size 864x288 with 2 Axes>"
            ]
          },
          "metadata": {
            "tags": []
          }
        }
      ]
    },
    {
      "cell_type": "code",
      "metadata": {
        "id": "PEYnFq4LhUgy",
        "colab_type": "code",
        "colab": {}
      },
      "source": [
        ""
      ],
      "execution_count": 0,
      "outputs": []
    },
    {
      "cell_type": "markdown",
      "metadata": {
        "id": "rKDzIBMkgkV9",
        "colab_type": "text"
      },
      "source": [
        "## BREAKOUT ROOM ACTIVITY"
      ]
    },
    {
      "cell_type": "markdown",
      "metadata": {
        "id": "51yOfa8Sgshk",
        "colab_type": "text"
      },
      "source": [
        "\n",
        "- Activity: 15 minutes breakout rooms: Turning your own code into functions.\n",
        "    -  First 3-5 min, everyone pulls up their own project and looks for a figure they want to turn into a function.\n",
        "    - Next 5 min: take turns sharing your screen and showing your partner the code you want to work on. \n",
        "        - Brainstorm together for 1 min on what customization/changes you want to add to your function. \n",
        "    - Final 5 minutes, work on your function on your own computer, chatting and asking questions of each other and showing result, as needed/appropriate."
      ]
    },
    {
      "cell_type": "code",
      "metadata": {
        "id": "6oi-7fRbhWH8",
        "colab_type": "code",
        "colab": {}
      },
      "source": [
        ""
      ],
      "execution_count": 0,
      "outputs": []
    },
    {
      "cell_type": "code",
      "metadata": {
        "id": "obQ1MHADhWDx",
        "colab_type": "code",
        "colab": {}
      },
      "source": [
        ""
      ],
      "execution_count": 0,
      "outputs": []
    },
    {
      "cell_type": "code",
      "metadata": {
        "id": "7qSjPnZfhYeH",
        "colab_type": "code",
        "colab": {}
      },
      "source": [
        ""
      ],
      "execution_count": 0,
      "outputs": []
    },
    {
      "cell_type": "markdown",
      "metadata": {
        "id": "lIDORdDugCQ9",
        "colab_type": "text"
      },
      "source": [
        "# Misc. Notes re: Functions\n"
      ]
    },
    {
      "cell_type": "markdown",
      "metadata": {
        "id": "Hv8-aE7u9Zw3",
        "colab_type": "text"
      },
      "source": [
        "**Functions**:\n",
        "- try,except,finally\n",
        "- raising Exceptions\n",
        "\n",
        "- Using `verbose` to control outputs:\n",
        "    - `verbose=0,1,2`\n",
        "    - `if verbose: display(...)`\n",
        "- Using 'isinstance'\n"
      ]
    },
    {
      "cell_type": "markdown",
      "metadata": {
        "id": "v0x9rCC0NUK9",
        "colab_type": "text"
      },
      "source": [
        ""
      ]
    },
    {
      "cell_type": "markdown",
      "metadata": {
        "id": "Uj75FwZZyRPW",
        "colab_type": "text"
      },
      "source": [
        "\n",
        "\n",
        "**1. `try,except,finally`**\n",
        "```python\n",
        "try:\n",
        "    some_func_that_may_error(inputs)\n",
        "except:\n",
        "    what_to_do_when_error_happens\n",
        "    # note: good place to print type, shape, etc. to help diagnose errors\n",
        "finally: #optional\n",
        "    run_this_code_no_matter_what\n",
        "```\n",
        "- Note: **if you don't want anything to happen** if there's an error, then just make `except:` be a `pass` command.\n",
        "    \n",
        "```python\n",
        "try:\n",
        "    some_func_that_may_error(inputs)\n",
        "except:\n",
        "    \n",
        "    msg = f\"the shape was {inputs.shape}\"\n",
        "    raise Exception(msg)\n",
        "    pass\n",
        "\n",
        "```\n",
        "- Additionally, you can specify what TYPE of errors to handle:\n",
        "    \n",
        "```python\n",
        "try: \n",
        "    function_that_calls_a_var(data=my_var) # if my_var doesn't exist, will raise a `NameError`\n",
        "except NameError:\n",
        "    my_var = func_to_create_var()\n",
        "```\n",
        "\n",
        "\n",
        "**2. raising Exceptions:**\n",
        "    - You can write your own errors + error msgs in your function\n",
        "    - This is helpful for giving the user specific information as to how to resolve the error.\n",
        "    \n",
        "    \n",
        "```python\n",
        "def my_func(arg1, arg2,option_1=True, option_2=False, option_3=False):\n",
        "    \"\"\"Function takes arg1, arg2 and then processes it according to which\n",
        "    option==True. \"\"\"\n",
        "    \n",
        "    # check if >1 parameter is True:\n",
        "    if np.sum([option_1, option_2,option_3])>1: \n",
        "        raise Exception('Only 1 of option_1,option_2,option_3 may be True')\n",
        "    ...\n",
        "```\n",
        "\n",
        "**3. Using verbose**\n",
        "\n",
        "    - a general practice is to specify verbosity as 0,1,2.\n",
        "        - 0 being little-to-no details, 1 being more, 2 being the most details.\n",
        "    - Can be very good for troubleshooting or for print outs that provde/demonstrate what the function did/generated.\n",
        "    \n",
        "```python\n",
        "def my_func(arg1,arg2,verbose=1):\n",
        "   if verbose: # if verbose==either 1 or 2\n",
        "        print(arg1.shape,arg2.shape)\n",
        "    ...\n",
        "    \n",
        "```\n",
        "\n",
        "**4. Using `isinstance` instead of `type==`:**\n",
        "\n",
        "- Using `type(var)==class_you_want` is not very helpful\n",
        "    - There's a lot of types that it will not recognize\n",
        "    - There's an entire `types` module you could import into Python\n",
        "- What's better is using `isinstance(var_youre_checking,'list')`\n",
        "\n",
        "```python\n",
        "if isinstance(my_var,'list'):\n",
        "    do_this_stuff...\n",
        "\n",
        "# Note, for types from outside packages, you will need to reference the class in the library.\n",
        "\n",
        "import pandas as pd\n",
        "if isinstance(my_var, pd.DataFrame):\n",
        "    do_this_stuff...\n",
        "```\n",
        "- What nice about using this in your functions is that **you can code-in the correct way of handling the input to make it compatible** with the rest of your function, instead of just raising an Error.\n",
        "\n",
        "i.e. User inputs a single string or a Series instead of a list of strings:\n",
        "```python\n",
        "import pandas as pd\n",
        "if isinstance(input_var,'list') == False:\n",
        "    \n",
        "    if isinstance(input_var,'str'):\n",
        "        input_var = [input_var]\n",
        "    elif isinstance(input_var, pd.Series):\n",
        "        input_var=list(input_var)\n",
        "        \n",
        "    ## Now input_var should be in list form and you can loop like normal\n",
        "    for entry in input_var:\n",
        "        ...\n",
        "```\n",
        "\n"
      ]
    }
  ]
}