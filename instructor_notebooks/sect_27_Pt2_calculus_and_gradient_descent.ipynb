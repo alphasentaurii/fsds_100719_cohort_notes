{
 "cells": [
  {
   "cell_type": "markdown",
   "metadata": {},
   "source": [
    "# Section 27: Calculus, Cost Functions, and Gradient Descent"
   ]
  },
  {
   "cell_type": "markdown",
   "metadata": {},
   "source": [
    "## Learning Objectives\n",
    "\n",
    "- Review basics of calculus (if needed)\n",
    "    - Derivatives\n",
    "    - Integrals\n",
    "    \n",
    "- Discuss cost functions and how they work/are used (examples from Linear Regression).\n",
    "\n",
    "- Discuss Cost Functions in Relation to Linear Regression\n",
    "    - Walk through the process of estimating regression model and updating parameters \n",
    "\n",
    "- Discuss Gradient Descent's use of partial derivatives to approximate loss functions.\n",
    "\n"
   ]
  },
  {
   "cell_type": "markdown",
   "metadata": {},
   "source": [
    "# Agenda\n"
   ]
  },
  {
   "cell_type": "markdown",
   "metadata": {},
   "source": [
    "1. Review last week's notebook.\n",
    "\n",
    "\n",
    "2. Watch Udemy course snippets:\n",
    "\n",
    "    - [Data Science Complete Bootcamp](https://www.udemy.com/share/101W9cAEYbdVdWRXQ=/)\n",
    "        - Section 42: \n",
    "            - **288: The Linear Model (Algebraic)** (3 min)\n",
    "            - **289: The Linear Model with Multiple Inputs** (2 min)\n",
    "            - **290: The Linear Model with Multiple Inputs & Outputs**(4 min)\n",
    "            - 295: Optimization Algorithm: 1-Parameter Gradient Descent (7 min)\n",
    "                - 0m00s ~ 3m30s : \n",
    "                    - learning rate($\\eta$) and update rule \n",
    "                    - Up to first ~2ish examples of learning rates\n",
    "                - \n",
    "                \n",
    "            - ***296: Optimization Algorithm: n-Parameter Gradient Descent (6 min)***\n",
    "        - Section 48:\n",
    "            - **329: Stochastic Gradient Descent (3 min)**\n",
    "            - **330: Problems with Gradient Descent (2 min)**\n",
    "            - 331? Momentum (4 min)\n",
    "            - 332? Learning Rate Schedules (4 min)\n",
    "            - 334? Adaptive Learning Rate Schedules (4 min)\n"
   ]
  },
  {
   "cell_type": "markdown",
   "metadata": {},
   "source": [
    "## Vocabulary/Formulas\n"
   ]
  },
  {
   "cell_type": "markdown",
   "metadata": {},
   "source": [
    "So how does this approach of shifting back and forth translate mathematically?  It means we determine the slope in one dimension, then the other. Then, we move where that slope is steepest downwards.  This moves us towards our minimum.  "
   ]
  },
  {
   "cell_type": "markdown",
   "metadata": {},
   "source": [
    "<center style=\"font-weight:bold;font-size:1.1=5em\"> <h3>Linear Regression to Linear Models </h3></center>\n",
    "\n",
    "<br><br>\n",
    "<div style=\"font-size:1.2em\">\n",
    "$$ \\large y = mx+b $$\n",
    "<br>\n",
    "<div style=\"box-border:1 em black;\">    \n",
    "where: \n",
    "    \n",
    "- $x$ = input data for modeling\n",
    "- $y$ = model] predictions\n",
    "- $m$ = slope\n",
    "- $b$ = intercept</div>\n",
    "\n",
    "\n",
    "**In Linear Model Formula terminology/notation changes:**\n",
    "\n",
    "- slopes $(m)$ becomes **weights $(w)$**\n",
    "- constant $b$ becomes **bias $b$**\n",
    "\n",
    "$$ \\large xw+b = y $$\n",
    "\n",
    "\n",
    "- $x$ = input data for modeling\n",
    "- $y$ = model] predictions\n",
    "- $w$ is the weight (slope)\n",
    "- $b$ is the bias (constant)\n",
    "</div>\n",
    "</div>\n",
    " x_i w+b = y_i -t? $"
   ]
  },
  {
   "cell_type": "markdown",
   "metadata": {},
   "source": [
    "### Cost/Loss/Error Functions\n",
    "\n",
    "- Loss Function: $L(y,t)$\n",
    "\n",
    "- Cost Function: $C(y,t)$\n",
    "\n",
    "- Error: $E(y,t)$\n"
   ]
  },
  {
   "cell_type": "markdown",
   "metadata": {},
   "source": [
    "### Calculus\n"
   ]
  },
  {
   "cell_type": "markdown",
   "metadata": {},
   "source": [
    "#### Derivative:\n",
    "$f'(x)$ is the instantaneous rate of change in the output of $f(x)$, with respect to $x$.\n",
    "\n",
    "$$\\large f'(x) = \\dfrac{f(x + \\Delta x) - f(x)}{\\Delta x}$$\n",
    "\n",
    "* $f(x)$ is output of $f$ for a given $x$ value.\n",
    "\n",
    "* $f'(x)$ is the derivative (rate of change) of $f(x)$'s output  \n",
    "\n",
    "\n",
    "* $\\Delta x$ is the size of the step between $x$ values.\n",
    "\n",
    "\n",
    "* $f(x + \\Delta x)$ the output of $f$ for the updated output when $x=(x +\\Delta x$)\n",
    "\n",
    "\n",
    "\n",
    "$$ f'(x) = \\dfrac{\\text{rise}}{\\text{run}} = \\dfrac{\\Delta y}{\\Delta x} =\\dfrac{f(x + \\Delta x) - f(x)}{\\Delta x}$$\n",
    "\n",
    "\n"
   ]
  },
  {
   "cell_type": "markdown",
   "metadata": {},
   "source": [
    "#### Gradient:\n",
    "- Multi-dimensional version of a derivative \n",
    "$$-\\nabla = \\sum_i \\dfrac{\\partial}{\\partial x_i}$$\n",
    "\n",
    "$$ x_{i+1} = x_i - \\eta * f'(x_i)$$\n",
    "\n",
    "\n",
    "- When minimum is reached, $ \\eta *f'(x_i) $ becomes 0. \n",
    "$$ x_{i+1} = x_i - 0 $$\n",
    "\n",
    "- [ADD PIC]\n",
    "\n",
    "#### Partial Derivative\n",
    "For example, with our function of $f(x, y) = y*x^2 $, when taking the partial derivative $\\frac{df}{dy}f(x, y)$, we treat all values of $x$ as a constant.  Let's do it:\n",
    "\n",
    "\n",
    "$$\\frac{df}{dy}f(x,y) =  \\frac{df}{dy}(y) * x^2 = 1*x^2 = x^2$$"
   ]
  },
  {
   "cell_type": "markdown",
   "metadata": {},
   "source": [
    "<img src=\"https://raw.githubusercontent.com/learn-co-students/dsc-the-gradient-in-gradient-descent-online-ds-ft-100719/master/images/Denali.jpg\">\n",
    "\n",
    "\n",
    "In fact, the direction of greatest ascent for a function,  $\\nabla f(x, y)$, is the direction which is a proportion of $\\frac{df}{dy}$ steps in the $y$ direction and $\\frac{df}{dx}$ in the $x$ direction.  So, for example, if $\\frac{df}{dy}$ = 5 and $\\frac{df}{dx}$ = 1, the direction of gradient ascent is five times more in the $y$ direction than the $x$ direction.  And this seems to be the path, more or less that our climbers are taking - some combination of $x$ and $y$, but tilted more towards the $y$ direction.\n",
    "\n",
    "\n",
    "\n",
    "___\n",
    "Gradient to Cost Function (Learn.co)\n",
    "Remember that mathematically, when we say cost function, we use the residual sum of squares where \n",
    "$$ \n",
    "\\begin{align}\n",
    "RSS &= \\sum_{i=1}^n(actual - expected)^2 \\\\\n",
    "&= \\sum_{i=1}^n(y_i - \\hat{y})^2 \\\\\n",
    "&= \\sum_{i=1}^n(y_i - (mx_i + b))^2\n",
    "\\end{align}\n",
    "$$ \n",
    "for all $x$ and $y$ values of our dataset.  So in the graph directly below, $x_i$ and $y_i$  would be our points representing a movie's budget and revenue.  Meanwhile, $mx_i + b $ is our predicted $y$ value for a given $x$ value, of a budget. \n",
    "\n",
    "And RSS takes the difference between $mx_i + b$, the $y_i$ value our regression line (the red line below) predicts, and our actual $y$, and sum up these squares for each piece of data in our dataset.  That is the residual sum of squares.\n",
    "\n",
    "\n",
    "**Cost Function $J$ (RSS):**\n",
    "$$\n",
    "\\begin{align}\n",
    "J(m, b) & = \\sum_{i=1}^{n}(y_i - \\hat{y})^2\\\\\n",
    "J(m, b) & = \\sum_{i=1}^{n}(y_i - (mx_i + b))^2 &&\\text{notice $\\hat{y} = mx + b$}\\\\\n",
    "\\end{align}\n",
    "$$\n",
    "\n",
    "\n",
    "As we know, the gradient of a function is simply the partial derivatives with respect to each of the variables, so:\n",
    "\n",
    "$$ \\nabla J(m, b) = \\frac{\\delta J}{\\delta m}, \\frac{\\delta J}{\\delta b}$$\n",
    "\n",
    "\n",
    "In calculating the partial derivatives of our function $J(m, b) = \\sum_{i=1}^{n}(y_i - (mx_i + b))^2$, **we won't change the result if we ignore the summation until the very end**. \n",
    "___"
   ]
  },
  {
   "cell_type": "markdown",
   "metadata": {},
   "source": [
    "$$\n",
    "\\begin{align}\n",
    "\\frac{\\delta J}{\\delta m}J(m, b) & = \\boldsymbol{\\frac{\\delta J}{\\delta m}}(y - (mx + b))^2  &&\\text{partial derivative with respect to} \\textbf{ m}\\\\\n",
    "\\\\\n",
    "\\frac{\\delta J}{\\delta b}J(m, b) & = \\boldsymbol{\\frac{\\delta J}{\\delta b}}(y - (mx + b))^2  &&\\text{partial derivative with respect to} \\textbf{ b}\\\\\n",
    "\\end{align}\n",
    "$$"
   ]
  },
  {
   "cell_type": "markdown",
   "metadata": {},
   "source": [
    "## Resources\n",
    "- [Jeff's Study Group on Gradient Descent](https://youtu.be/G0EV4wcv0ok)"
   ]
  },
  {
   "cell_type": "code",
   "execution_count": 1,
   "metadata": {},
   "outputs": [
    {
     "name": "stdout",
     "output_type": "stream",
     "text": [
      "fsds_1007219  v0.5.5 loaded.  Read the docs: https://fsds.readthedocs.io/en/latest/ \n"
     ]
    },
    {
     "data": {
      "text/html": [
       "<style  type=\"text/css\" >\n",
       "</style><table id=\"T_cc00b8c6_1ec4_11ea_9979_4865ee12e626\" ><caption>Loaded Packages and Handles</caption><thead>    <tr>        <th class=\"col_heading level0 col0\" >Handle</th>        <th class=\"col_heading level0 col1\" >Package</th>        <th class=\"col_heading level0 col2\" >Description</th>    </tr></thead><tbody>\n",
       "                <tr>\n",
       "                                <td id=\"T_cc00b8c6_1ec4_11ea_9979_4865ee12e626row0_col0\" class=\"data row0 col0\" >dp</td>\n",
       "                        <td id=\"T_cc00b8c6_1ec4_11ea_9979_4865ee12e626row0_col1\" class=\"data row0 col1\" >IPython.display</td>\n",
       "                        <td id=\"T_cc00b8c6_1ec4_11ea_9979_4865ee12e626row0_col2\" class=\"data row0 col2\" >Display modules with helpful display and clearing commands.</td>\n",
       "            </tr>\n",
       "            <tr>\n",
       "                                <td id=\"T_cc00b8c6_1ec4_11ea_9979_4865ee12e626row1_col0\" class=\"data row1 col0\" >fs</td>\n",
       "                        <td id=\"T_cc00b8c6_1ec4_11ea_9979_4865ee12e626row1_col1\" class=\"data row1 col1\" >fsds_100719</td>\n",
       "                        <td id=\"T_cc00b8c6_1ec4_11ea_9979_4865ee12e626row1_col2\" class=\"data row1 col2\" >Custom data science bootcamp student package</td>\n",
       "            </tr>\n",
       "            <tr>\n",
       "                                <td id=\"T_cc00b8c6_1ec4_11ea_9979_4865ee12e626row2_col0\" class=\"data row2 col0\" >mpl</td>\n",
       "                        <td id=\"T_cc00b8c6_1ec4_11ea_9979_4865ee12e626row2_col1\" class=\"data row2 col1\" >matplotlib</td>\n",
       "                        <td id=\"T_cc00b8c6_1ec4_11ea_9979_4865ee12e626row2_col2\" class=\"data row2 col2\" >Matplotlib's base OOP module with formatting artists</td>\n",
       "            </tr>\n",
       "            <tr>\n",
       "                                <td id=\"T_cc00b8c6_1ec4_11ea_9979_4865ee12e626row3_col0\" class=\"data row3 col0\" >plt</td>\n",
       "                        <td id=\"T_cc00b8c6_1ec4_11ea_9979_4865ee12e626row3_col1\" class=\"data row3 col1\" >matplotlib.pyplot</td>\n",
       "                        <td id=\"T_cc00b8c6_1ec4_11ea_9979_4865ee12e626row3_col2\" class=\"data row3 col2\" >Matplotlib's matlab-like plotting module</td>\n",
       "            </tr>\n",
       "            <tr>\n",
       "                                <td id=\"T_cc00b8c6_1ec4_11ea_9979_4865ee12e626row4_col0\" class=\"data row4 col0\" >np</td>\n",
       "                        <td id=\"T_cc00b8c6_1ec4_11ea_9979_4865ee12e626row4_col1\" class=\"data row4 col1\" >numpy</td>\n",
       "                        <td id=\"T_cc00b8c6_1ec4_11ea_9979_4865ee12e626row4_col2\" class=\"data row4 col2\" >scientific computing with Python</td>\n",
       "            </tr>\n",
       "            <tr>\n",
       "                                <td id=\"T_cc00b8c6_1ec4_11ea_9979_4865ee12e626row5_col0\" class=\"data row5 col0\" >pd</td>\n",
       "                        <td id=\"T_cc00b8c6_1ec4_11ea_9979_4865ee12e626row5_col1\" class=\"data row5 col1\" >pandas</td>\n",
       "                        <td id=\"T_cc00b8c6_1ec4_11ea_9979_4865ee12e626row5_col2\" class=\"data row5 col2\" >High performance data structures and tools</td>\n",
       "            </tr>\n",
       "            <tr>\n",
       "                                <td id=\"T_cc00b8c6_1ec4_11ea_9979_4865ee12e626row6_col0\" class=\"data row6 col0\" >sns</td>\n",
       "                        <td id=\"T_cc00b8c6_1ec4_11ea_9979_4865ee12e626row6_col1\" class=\"data row6 col1\" >seaborn</td>\n",
       "                        <td id=\"T_cc00b8c6_1ec4_11ea_9979_4865ee12e626row6_col2\" class=\"data row6 col2\" >High-level data visualization library based on matplotlib</td>\n",
       "            </tr>\n",
       "    </tbody></table>"
      ],
      "text/plain": [
       "<pandas.io.formats.style.Styler at 0x10fdce320>"
      ]
     },
     "metadata": {},
     "output_type": "display_data"
    }
   ],
   "source": [
    "!pip install -U fsds_100719\n",
    "from fsds_100719.imports import *"
   ]
  },
  {
   "cell_type": "code",
   "execution_count": 2,
   "metadata": {
    "collapsed": true
   },
   "outputs": [
    {
     "name": "stdout",
     "output_type": "stream",
     "text": [
      "Run sect_17_workflow(display=True) for lesson workflow. display=False for running workflow.\n"
     ]
    },
    {
     "data": {
      "image/png": "[encoded data removed]",
      "text/plain": [
       "<Figure size 720x504 with 1 Axes>"
      ]
     },
     "metadata": {
      "needs_background": "light"
     },
     "output_type": "display_data"
    },
    {
     "data": {
      "image/png": "[encoded data removed]",
      "text/plain": [
       "<Figure size 720x504 with 1 Axes>"
      ]
     },
     "metadata": {
      "needs_background": "light"
     },
     "output_type": "display_data"
    }
   ],
   "source": [
    "import py_files.sect_17 as sg\n",
    "# s1\n",
    "x,y = sg.make_xy()\n",
    "table_sm =sg.make_table_sm(x,y)\n",
    "sg.plot_RSS(table_sm)\n",
    "sg.plot_tangent(table_sm,x,y)"
   ]
  },
  {
   "cell_type": "markdown",
   "metadata": {},
   "source": [
    "`**kwargs`\n",
    "\n",
    "def my_funct(args, args2, inde_col=0,**kwargs):\n",
    "\n",
    "\n",
    "\n"
   ]
  },
  {
   "cell_type": "code",
   "execution_count": null,
   "metadata": {},
   "outputs": [],
   "source": [
    "fs.reload(sg)"
   ]
  },
  {
   "cell_type": "markdown",
   "metadata": {},
   "source": [
    "## My S.G. Plots"
   ]
  },
  {
   "cell_type": "code",
   "execution_count": 3,
   "metadata": {},
   "outputs": [
    {
     "data": {
      "text/html": [
       "<div>\n",
       "<style scoped>\n",
       "    .dataframe tbody tr th:only-of-type {\n",
       "        vertical-align: middle;\n",
       "    }\n",
       "\n",
       "    .dataframe tbody tr th {\n",
       "        vertical-align: top;\n",
       "    }\n",
       "\n",
       "    .dataframe thead th {\n",
       "        text-align: right;\n",
       "    }\n",
       "</style>\n",
       "<table border=\"1\" class=\"dataframe\">\n",
       "  <thead>\n",
       "    <tr style=\"text-align: right;\">\n",
       "      <th></th>\n",
       "      <th>Id</th>\n",
       "      <th>MSSubClass</th>\n",
       "      <th>MSZoning</th>\n",
       "      <th>LotFrontage</th>\n",
       "      <th>LotArea</th>\n",
       "      <th>Street</th>\n",
       "      <th>Alley</th>\n",
       "      <th>LotShape</th>\n",
       "      <th>LandContour</th>\n",
       "      <th>Utilities</th>\n",
       "      <th>...</th>\n",
       "      <th>PoolArea</th>\n",
       "      <th>PoolQC</th>\n",
       "      <th>Fence</th>\n",
       "      <th>MiscFeature</th>\n",
       "      <th>MiscVal</th>\n",
       "      <th>MoSold</th>\n",
       "      <th>YrSold</th>\n",
       "      <th>SaleType</th>\n",
       "      <th>SaleCondition</th>\n",
       "      <th>SalePrice</th>\n",
       "    </tr>\n",
       "  </thead>\n",
       "  <tbody>\n",
       "    <tr>\n",
       "      <td>0</td>\n",
       "      <td>1</td>\n",
       "      <td>60</td>\n",
       "      <td>RL</td>\n",
       "      <td>65.0</td>\n",
       "      <td>8450</td>\n",
       "      <td>Pave</td>\n",
       "      <td>NaN</td>\n",
       "      <td>Reg</td>\n",
       "      <td>Lvl</td>\n",
       "      <td>AllPub</td>\n",
       "      <td>...</td>\n",
       "      <td>0</td>\n",
       "      <td>NaN</td>\n",
       "      <td>NaN</td>\n",
       "      <td>NaN</td>\n",
       "      <td>0</td>\n",
       "      <td>2</td>\n",
       "      <td>2008</td>\n",
       "      <td>WD</td>\n",
       "      <td>Normal</td>\n",
       "      <td>208500</td>\n",
       "    </tr>\n",
       "    <tr>\n",
       "      <td>1</td>\n",
       "      <td>2</td>\n",
       "      <td>20</td>\n",
       "      <td>RL</td>\n",
       "      <td>80.0</td>\n",
       "      <td>9600</td>\n",
       "      <td>Pave</td>\n",
       "      <td>NaN</td>\n",
       "      <td>Reg</td>\n",
       "      <td>Lvl</td>\n",
       "      <td>AllPub</td>\n",
       "      <td>...</td>\n",
       "      <td>0</td>\n",
       "      <td>NaN</td>\n",
       "      <td>NaN</td>\n",
       "      <td>NaN</td>\n",
       "      <td>0</td>\n",
       "      <td>5</td>\n",
       "      <td>2007</td>\n",
       "      <td>WD</td>\n",
       "      <td>Normal</td>\n",
       "      <td>181500</td>\n",
       "    </tr>\n",
       "    <tr>\n",
       "      <td>2</td>\n",
       "      <td>3</td>\n",
       "      <td>60</td>\n",
       "      <td>RL</td>\n",
       "      <td>68.0</td>\n",
       "      <td>11250</td>\n",
       "      <td>Pave</td>\n",
       "      <td>NaN</td>\n",
       "      <td>IR1</td>\n",
       "      <td>Lvl</td>\n",
       "      <td>AllPub</td>\n",
       "      <td>...</td>\n",
       "      <td>0</td>\n",
       "      <td>NaN</td>\n",
       "      <td>NaN</td>\n",
       "      <td>NaN</td>\n",
       "      <td>0</td>\n",
       "      <td>9</td>\n",
       "      <td>2008</td>\n",
       "      <td>WD</td>\n",
       "      <td>Normal</td>\n",
       "      <td>223500</td>\n",
       "    </tr>\n",
       "    <tr>\n",
       "      <td>3</td>\n",
       "      <td>4</td>\n",
       "      <td>70</td>\n",
       "      <td>RL</td>\n",
       "      <td>60.0</td>\n",
       "      <td>9550</td>\n",
       "      <td>Pave</td>\n",
       "      <td>NaN</td>\n",
       "      <td>IR1</td>\n",
       "      <td>Lvl</td>\n",
       "      <td>AllPub</td>\n",
       "      <td>...</td>\n",
       "      <td>0</td>\n",
       "      <td>NaN</td>\n",
       "      <td>NaN</td>\n",
       "      <td>NaN</td>\n",
       "      <td>0</td>\n",
       "      <td>2</td>\n",
       "      <td>2006</td>\n",
       "      <td>WD</td>\n",
       "      <td>Abnorml</td>\n",
       "      <td>140000</td>\n",
       "    </tr>\n",
       "    <tr>\n",
       "      <td>4</td>\n",
       "      <td>5</td>\n",
       "      <td>60</td>\n",
       "      <td>RL</td>\n",
       "      <td>84.0</td>\n",
       "      <td>14260</td>\n",
       "      <td>Pave</td>\n",
       "      <td>NaN</td>\n",
       "      <td>IR1</td>\n",
       "      <td>Lvl</td>\n",
       "      <td>AllPub</td>\n",
       "      <td>...</td>\n",
       "      <td>0</td>\n",
       "      <td>NaN</td>\n",
       "      <td>NaN</td>\n",
       "      <td>NaN</td>\n",
       "      <td>0</td>\n",
       "      <td>12</td>\n",
       "      <td>2008</td>\n",
       "      <td>WD</td>\n",
       "      <td>Normal</td>\n",
       "      <td>250000</td>\n",
       "    </tr>\n",
       "  </tbody>\n",
       "</table>\n",
       "<p>5 rows × 81 columns</p>\n",
       "</div>"
      ],
      "text/plain": [
       "   Id  MSSubClass MSZoning  LotFrontage  LotArea Street Alley LotShape  \\\n",
       "0   1          60       RL         65.0     8450   Pave   NaN      Reg   \n",
       "1   2          20       RL         80.0     9600   Pave   NaN      Reg   \n",
       "2   3          60       RL         68.0    11250   Pave   NaN      IR1   \n",
       "3   4          70       RL         60.0     9550   Pave   NaN      IR1   \n",
       "4   5          60       RL         84.0    14260   Pave   NaN      IR1   \n",
       "\n",
       "  LandContour Utilities  ... PoolArea PoolQC Fence MiscFeature MiscVal MoSold  \\\n",
       "0         Lvl    AllPub  ...        0    NaN   NaN         NaN       0      2   \n",
       "1         Lvl    AllPub  ...        0    NaN   NaN         NaN       0      5   \n",
       "2         Lvl    AllPub  ...        0    NaN   NaN         NaN       0      9   \n",
       "3         Lvl    AllPub  ...        0    NaN   NaN         NaN       0      2   \n",
       "4         Lvl    AllPub  ...        0    NaN   NaN         NaN       0     12   \n",
       "\n",
       "  YrSold  SaleType  SaleCondition  SalePrice  \n",
       "0   2008        WD         Normal     208500  \n",
       "1   2007        WD         Normal     181500  \n",
       "2   2008        WD         Normal     223500  \n",
       "3   2006        WD        Abnorml     140000  \n",
       "4   2008        WD         Normal     250000  \n",
       "\n",
       "[5 rows x 81 columns]"
      ]
     },
     "execution_count": 3,
     "metadata": {},
     "output_type": "execute_result"
    }
   ],
   "source": [
    "df = sg.load_data()\n",
    "df.head()"
   ]
  },
  {
   "cell_type": "code",
   "execution_count": 4,
   "metadata": {},
   "outputs": [
    {
     "data": {
      "text/plain": [
       "(<Figure size 576x360 with 1 Axes>,\n",
       " <matplotlib.axes._subplots.AxesSubplot at 0x12527b198>)"
      ]
     },
     "execution_count": 4,
     "metadata": {},
     "output_type": "execute_result"
    },
    {
     "data": {
      "image/png": "[encoded data removed]",
      "text/plain": [
       "<Figure size 576x360 with 1 Axes>"
      ]
     },
     "metadata": {
      "needs_background": "light"
     },
     "output_type": "display_data"
    }
   ],
   "source": [
    "sg.plot_reg(df)"
   ]
  },
  {
   "cell_type": "markdown",
   "metadata": {},
   "source": [
    "## Updating Our Guess"
   ]
  },
  {
   "cell_type": "markdown",
   "metadata": {},
   "source": [
    "\n",
    "> Now that we are applying gradient descent to our cost curve $J(m, b)$, the technique should answer how much to move the $m$ variable and the $b$ variable to produce the greatest decrease in cost, or RSS. In other words, when altering our regression line, we want to know how much of this change should be derived from a move in the slope versus how much should be derived from a change in the y-intercept."
   ]
  },
  {
   "cell_type": "markdown",
   "metadata": {},
   "source": [
    "\n",
    "$$ \\nabla J(m, b) = \\frac{\\delta J}{\\delta m}, \\frac{\\delta J}{\\delta b}$$"
   ]
  },
  {
   "cell_type": "markdown",
   "metadata": {},
   "source": [
    "\n",
    "$$\n",
    "\\begin{align}\n",
    "\\frac{\\delta J}{\\delta m}J(m, b) & = \\boldsymbol{\\frac{\\delta J}{\\delta m}}(y - (mx + b))^2  &&\\text{partial derivative with respect to} \\textbf{ m}\\\\\n",
    "\\\\\n",
    "\\frac{\\delta J}{\\delta b}J(m, b) & = \\boldsymbol{\\frac{\\delta J}{\\delta b}}(y - (mx + b))^2  &&\\text{partial derivative with respect to} \\textbf{ b}\\\\\n",
    "\\end{align}\n",
    "$$"
   ]
  },
  {
   "cell_type": "markdown",
   "metadata": {},
   "source": [
    "$ \\frac{dJ}{dm}J(m,b) = -2\\sum_{i = 1}^n x_i(y_i - (mx_i + b)) = -2\\sum_{i = 1}^n x_i*\\epsilon_i$\n",
    "$ \\frac{dJ}{db}J(m,b) = -2\\sum_{i = 1}^n(y_i - (mx_i + b)) = -2\\sum_{i = 1}^n \\epsilon_i $"
   ]
  },
  {
   "cell_type": "code",
   "execution_count": null,
   "metadata": {},
   "outputs": [],
   "source": [
    "def loss_function():\n",
    "    pass\n",
    "\n",
    "    \n",
    "def step_parameters():\n",
    "    pass\n",
    "    "
   ]
  },
  {
   "cell_type": "code",
   "execution_count": null,
   "metadata": {},
   "outputs": [],
   "source": [
    "def step_gradient():\n",
    "    pass"
   ]
  },
  {
   "cell_type": "markdown",
   "metadata": {},
   "source": [
    "# Derivatives Basics\n",
    "\n",
    "- [Learn Lesson](https://learn.co/tracks/data-science-career-v2/module-4-a-complete-data-science-project-using-multiple-regression/section-27-calculus-cost-function-and-gradient-descent/rules-for-derivatives)"
   ]
  },
  {
   "cell_type": "markdown",
   "metadata": {},
   "source": [
    "## Rate of change for a (linear) function"
   ]
  },
  {
   "cell_type": "markdown",
   "metadata": {},
   "source": [
    "Slope is rate the change for line --> rate is constant\n",
    "\n",
    "For any two points:\n",
    "\n",
    "$ \\frac{\\Delta y}{\\Delta x} = \\frac{y_2 - y_1}{x_2 - x_1}$"
   ]
  },
  {
   "cell_type": "markdown",
   "metadata": {},
   "source": [
    "We can define this as a derivative:\n",
    "\n",
    "$ \n",
    "f'(x) = \\dfrac{\\Delta y}{\\Delta x} =  \\dfrac{f(x + \\Delta x) - f(x)}{\\Delta x}\n",
    "$"
   ]
  },
  {
   "cell_type": "markdown",
   "metadata": {},
   "source": [
    "# Intro to Gradient Descent"
   ]
  },
  {
   "cell_type": "markdown",
   "metadata": {},
   "source": [
    "### In summary, derivates are:\n",
    "\n"
   ]
  },
  {
   "cell_type": "markdown",
   "metadata": {},
   "source": [
    "$$ f'(x) = \\dfrac{\\text{rise}}{\\text{run}} = \\dfrac{\\Delta y}{\\Delta x} = \\dfrac{y_2 - y_1}{x_2 - x_1} =  \\dfrac{f(x_2) - f(x_1)}{x_2 - x_1}$$\n",
    "\n",
    "$$\\large f'(x) = \\dfrac{f(x + \\Delta x) - f(x)}{\\Delta x}$$\n",
    "\n",
    "\n",
    "\n",
    "* $f'(x)$ is the rate of change at a given value, or here the speed at a given time\n",
    "\n",
    "\n",
    "* $f(x)$ is the distance at a given time\n",
    "\n",
    "\n",
    "* $\\Delta x$ is the elapsed time, or the change in $x$\n",
    "\n",
    "\n",
    "* $f(x + \\Delta x)$ is the distance at the starting time plus the elapsed time \n"
   ]
  },
  {
   "cell_type": "markdown",
   "metadata": {},
   "source": [
    "\n",
    "### For Non-Linear Functions\n",
    "\n",
    "- [Derivatives on Non-Linear Functions](https://learn.co/tracks/data-science-career-v2/module-4-a-complete-data-science-project-using-multiple-regression/section-27-calculus-cost-function-and-gradient-descent/derivatives-of-non-linear-functions)\n",
    "$$\\large f'(x) = \\lim_{ h\\to0} \\frac{f(x + h) - f(x)}{h} $$ \n",
    "\n",
    "* where $h$ is used to represent $\\Delta x$"
   ]
  },
  {
   "cell_type": "markdown",
   "metadata": {},
   "source": [
    "### The Chain Rule"
   ]
  },
  {
   "cell_type": "markdown",
   "metadata": {},
   "source": [
    "$$h'(x) = (f\\circ g)'(x) = f'(g(x)) \\cdot g'(x)$$\n",
    "\n",
    "$$\\frac{dh}{dx} = \\frac{df}{dg} \\cdot \\frac{dg}{dx} = f'(y)g'(x) \\text{  where } y = g(x)$$ "
   ]
  },
  {
   "cell_type": "markdown",
   "metadata": {
    "heading_collapsed": true
   },
   "source": [
    "# Finding Minimum & Maximum with Derivatives"
   ]
  },
  {
   "cell_type": "markdown",
   "metadata": {
    "hidden": true
   },
   "source": [
    "Tops of hills"
   ]
  },
  {
   "cell_type": "code",
   "execution_count": null,
   "metadata": {
    "hidden": true
   },
   "outputs": [],
   "source": [
    "# Functions from Gradient Descent: Step Sizes\n",
    "import numpy as np\n",
    "import matplotlib.pyplot as plt\n",
    "%matplotlib inline \n",
    "\n",
    "def regression_formula(x):\n",
    "    return 1.319 + 52*x\n",
    "\n",
    "np.random.seed(225)\n",
    "x =df[\"GrLivArea\"]\n",
    "y=df[\"SalePrice\"]\n",
    "\n",
    "m_ = 50\n",
    "b_ = 3\n",
    "# x = np.random.rand(30,1).reshape(30)\n",
    "# y_randterm = np.random.normal(0,3,30)\n",
    "# y = b_+ m_* x + y_randterm\n",
    "\n",
    "plt.figure(figsize=(8,6))\n",
    "plt.plot(x, y, '.b')\n",
    "plt.plot(x, regression_formula(x), '-')\n",
    "plt.xlabel(\"x\", fontsize=14)\n",
    "plt.ylabel(\"y\", fontsize=14);"
   ]
  },
  {
   "cell_type": "code",
   "execution_count": null,
   "metadata": {
    "hidden": true
   },
   "outputs": [],
   "source": [
    "x"
   ]
  },
  {
   "cell_type": "code",
   "execution_count": null,
   "metadata": {
    "hidden": true
   },
   "outputs": [],
   "source": [
    "my_slope = 10\n",
    "def errors(x_values, y_values, m, b):\n",
    "    y_line = (b + m*x_values)\n",
    "    return (y_values - y_line)\n",
    "\n",
    "def squared_errors(x_values, y_values, m, b):\n",
    "    return np.round(errors(x_values, y_values, m, b)**2, 2)\n",
    "\n",
    "def residual_sum_squares(x_values, y_values, m, b):\n",
    "    return round(sum(squared_errors(x_values, y_values, m, b)), 2)\n",
    "\n",
    "def get_table(x,y,val,my_slope):\n",
    "    table = np.zeros((20,2))\n",
    "    import math\n",
    "\n",
    "    table = [['Val','RSS']]\n",
    "    for val in range(math.floor(x.min()), math.ceil(x.max())):#enumerate(range(40, 60)):abs\n",
    "        table.append([val,residual_sum_squares(x, y, val, my_slope)])\n",
    "    #     table[idx,1] = \n",
    "    table = fs.list2df(table)\n",
    "    return table\n",
    "\n",
    "get_table(x,y,val,my_slope)"
   ]
  },
  {
   "cell_type": "code",
   "execution_count": null,
   "metadata": {
    "hidden": true
   },
   "outputs": [],
   "source": [
    "plt.figure(figsize=(10,7))\n",
    "plt.plot(table['Val'], table[\"RSS\"], '-')\n",
    "plt.xlabel(\"m-values\", fontsize=14)\n",
    "plt.ylabel(\"RSS\", fontsize=14)\n",
    "plt.title(\"RSS with changes to slope\", fontsize=16);"
   ]
  },
  {
   "cell_type": "code",
   "execution_count": null,
   "metadata": {
    "hidden": true
   },
   "outputs": [],
   "source": [
    "def tan_line(start, stop, delta_a,table_sm=table):\n",
    "    \n",
    "    xs = np.linspace(start,stop,delta_a)\n",
    "#     x_dev = np.linspace(start, stop, 100)\n",
    "    a = (start+stop)/2 \n",
    "    \n",
    "    ## How compute?\n",
    "    f_a = table_sm.loc[table_sm['Val']==a,'Val']\n",
    "    print(f\"f_a = {f_a}\")\n",
    "#     f_a= table_sm[(table_sm[:,0]==a),1]\n",
    "    \n",
    "    \n",
    "    rounded_a_delta_a = round(a+delta_a,2)\n",
    "    f_a_delta= table_sm[table_sm.loc[table_sm['Val']==rounded_a_delta_a]]\n",
    "#     f_a_delta= table_sm[(table_sm[:,0]== (rounded_a_delta_a)),1]\n",
    "    \n",
    "    # Calc Derivative\n",
    "    fprime = (f_a_delta-f_a)/delta_a \n",
    "    tan = f_a+fprime*(xs-a)\n",
    "    return fprime, xs, tan\n",
    "\n",
    "for idx, val in enumerate(np.linspace(40, 60, 401)):\n",
    "    table_sm[idx,0] = val\n",
    "    table_sm[idx,1] = residual_sum_squares(x, y, val, 1.319)\n",
    "    \n",
    "# table_sm\n",
    "    \n"
   ]
  },
  {
   "cell_type": "markdown",
   "metadata": {},
   "source": [
    "# BOOKMARK"
   ]
  },
  {
   "cell_type": "markdown",
   "metadata": {},
   "source": [
    "<img src=\"https://raw.githubusercontent.com/jirvingphd/dsc-gradient-descent-step-sizes-online-ds-ft-100719/master/images/snowboard.png\" width=70%>"
   ]
  },
  {
   "cell_type": "code",
   "execution_count": null,
   "metadata": {},
   "outputs": [],
   "source": []
  },
  {
   "cell_type": "code",
   "execution_count": null,
   "metadata": {},
   "outputs": [],
   "source": [
    "fprime_1, x_dev_1, y_dev_1 = tan_line(1000, 10005, 1)\n",
    "fprime_2, x_dev_2,  y_dev_2 = tan_line(3000, 10005, 1)\n",
    "fprime_3, x_dev_3,  y_dev_3 = tan_line(5000, 10005, 1)\n",
    "\n",
    "\n",
    "# plt.figure(figsize=(10,7))\n",
    "# plt.plot(table[:,0], table[:,1], '-')\n",
    "# plt.plot(x_dev_1, y_dev_1, color = \"red\",  label = \"slope =\" + str(fprime_1))\n",
    "# plt.plot(x_dev_2, y_dev_2, color = \"green\",  label = \"slope =\" + str(fprime_2))\n",
    "# plt.plot(x_dev_3, y_dev_3, color = \"orange\", label = \"slope =\" + str(fprime_3))\n",
    "\n",
    "# plt.xlabel(\"m-values\", fontsize=14)\n",
    "# plt.ylabel(\"RSS\", fontsize=14)\n",
    "# plt.legend(loc='upper right', fontsize='large')\n",
    "\n",
    "# plt.title(\"RSS with changes to slope\", fontsize=16);"
   ]
  },
  {
   "cell_type": "code",
   "execution_count": null,
   "metadata": {},
   "outputs": [],
   "source": []
  },
  {
   "cell_type": "markdown",
   "metadata": {},
   "source": [
    "# Expanding Gradient Descent for Higher Dimensions"
   ]
  },
  {
   "cell_type": "markdown",
   "metadata": {},
   "source": [
    "Partial Derivatives\n",
    "\n",
    "Grad function $-\\nabla = \\sum_i \\dfrac{\\partial}{\\partial x_i}$"
   ]
  },
  {
   "cell_type": "markdown",
   "metadata": {},
   "source": [
    "<img src='images/gradientdescent.png' width=80%/>\n",
    "<img src=\"https://raw.githubusercontent.com/jirvingphd/dsc-gradient-descent-in-3d-online-ds-ft-100719/master/images/traveller-stepping.jpg\" width=80%>"
   ]
  },
  {
   "cell_type": "markdown",
   "metadata": {},
   "source": [
    "___"
   ]
  },
  {
   "cell_type": "markdown",
   "metadata": {},
   "source": [
    "# Partial Derivatives (Return To Next Class)\n",
    "\n"
   ]
  },
  {
   "cell_type": "markdown",
   "metadata": {},
   "source": [
    "\n",
    "$$ \\nabla J(m, b) = \\frac{\\delta J}{\\delta m}, \\frac{\\delta J}{\\delta b}$$"
   ]
  },
  {
   "cell_type": "markdown",
   "metadata": {},
   "source": [
    "\n",
    "$$\n",
    "\\begin{align}\n",
    "\\frac{\\delta J}{\\delta m}J(m, b) & = \\boldsymbol{\\frac{\\delta J}{\\delta m}}(y - (mx + b))^2  &&\\text{partial derivative with respect to} \\textbf{ m}\\\\\n",
    "\\\\\n",
    "\\frac{\\delta J}{\\delta b}J(m, b) & = \\boldsymbol{\\frac{\\delta J}{\\delta b}}(y - (mx + b))^2  &&\\text{partial derivative with respect to} \\textbf{ b}\\\\\n",
    "\\end{align}\n",
    "$$"
   ]
  },
  {
   "cell_type": "markdown",
   "metadata": {},
   "source": [
    "Lesson adapted from Jeff Herman: https://github.com/sik-flow/Study_Groups/blob/master/Gradient_Descent.ipynb"
   ]
  },
  {
   "cell_type": "markdown",
   "metadata": {},
   "source": [
    "$ \\frac{dJ}{dm}J(m,b) = -2\\sum_{i = 1}^n x_i(y_i - (mx_i + b)) = -2\\sum_{i = 1}^n x_i*\\epsilon_i$\n",
    "$ \\frac{dJ}{db}J(m,b) = -2\\sum_{i = 1}^n(y_i - (mx_i + b)) = -2\\sum_{i = 1}^n \\epsilon_i $"
   ]
  },
  {
   "cell_type": "markdown",
   "metadata": {},
   "source": [
    "## Arbitrarily choosing a feature and target"
   ]
  },
  {
   "cell_type": "code",
   "execution_count": null,
   "metadata": {
    "ExecuteTime": {
     "end_time": "2019-10-17T16:55:57.161277Z",
     "start_time": "2019-10-17T16:55:57.158937Z"
    },
    "colab": {},
    "colab_type": "code",
    "id": "Iod7FrFGDu58"
   },
   "outputs": [],
   "source": [
    "import pandas as pd\n",
    "import numpy as np\n",
    "import matplotlib.pyplot as plt"
   ]
  },
  {
   "cell_type": "markdown",
   "metadata": {},
   "source": [
    "We'll focus on the `GrLivAre` vs the `SalePrice` (target)"
   ]
  },
  {
   "cell_type": "code",
   "execution_count": null,
   "metadata": {
    "ExecuteTime": {
     "end_time": "2019-10-17T16:55:57.215597Z",
     "start_time": "2019-10-17T16:55:57.213296Z"
    },
    "colab": {},
    "colab_type": "code",
    "id": "arsQ6WioDu6E"
   },
   "outputs": [],
   "source": [
    "x = df['GrLivArea']\n",
    "y = df['SalePrice']"
   ]
  },
  {
   "cell_type": "code",
   "execution_count": null,
   "metadata": {
    "ExecuteTime": {
     "end_time": "2019-10-17T16:55:57.328968Z",
     "start_time": "2019-10-17T16:55:57.216963Z"
    },
    "colab": {},
    "colab_type": "code",
    "id": "avTQSKoJDu6G",
    "scrolled": true
   },
   "outputs": [],
   "source": [
    "plt.scatter(x, y)\n",
    "plt.show()"
   ]
  },
  {
   "cell_type": "markdown",
   "metadata": {},
   "source": [
    "Looks like there are some extreme values that might affect our linear regression"
   ]
  },
  {
   "cell_type": "markdown",
   "metadata": {},
   "source": [
    "### Removing Outliers"
   ]
  },
  {
   "cell_type": "code",
   "execution_count": null,
   "metadata": {
    "ExecuteTime": {
     "end_time": "2019-10-17T16:55:57.348779Z",
     "start_time": "2019-10-17T16:55:57.330072Z"
    },
    "colab": {},
    "colab_type": "code",
    "id": "NxuYmRLNDu6H"
   },
   "outputs": [],
   "source": [
    "df[(df['GrLivArea'x] > 4000) & (df['SalePrice'] < 300000)]"
   ]
  },
  {
   "cell_type": "code",
   "execution_count": null,
   "metadata": {
    "ExecuteTime": {
     "end_time": "2019-10-17T16:55:57.353835Z",
     "start_time": "2019-10-17T16:55:57.350219Z"
    },
    "colab": {},
    "colab_type": "code",
    "id": "hYj49k5_Du6J"
   },
   "outputs": [],
   "source": [
    "df.drop([523, 1298], inplace = True)\n",
    "df.reset_index(inplace = True)"
   ]
  },
  {
   "cell_type": "code",
   "execution_count": null,
   "metadata": {
    "ExecuteTime": {
     "end_time": "2019-10-17T16:55:57.358135Z",
     "start_time": "2019-10-17T16:55:57.356099Z"
    },
    "colab": {},
    "colab_type": "code",
    "id": "mYVNsQGcDu6K"
   },
   "outputs": [],
   "source": [
    "x = df['GrLivArea']\n",
    "y = df['SalePrice']"
   ]
  },
  {
   "cell_type": "code",
   "execution_count": null,
   "metadata": {
    "ExecuteTime": {
     "end_time": "2019-10-17T16:55:57.464630Z",
     "start_time": "2019-10-17T16:55:57.360737Z"
    },
    "colab": {},
    "colab_type": "code",
    "id": "QSyOosVDDu6M",
    "scrolled": true
   },
   "outputs": [],
   "source": [
    "plt.scatter(x, y)\n",
    "plt.show()"
   ]
  },
  {
   "cell_type": "code",
   "execution_count": null,
   "metadata": {
    "ExecuteTime": {
     "end_time": "2019-10-17T16:55:57.470708Z",
     "start_time": "2019-10-17T16:55:57.468940Z"
    },
    "colab": {},
    "colab_type": "code",
    "id": "YBeWX3vXDu6O"
   },
   "outputs": [],
   "source": [
    "my_slope = 0\n",
    "my_intercept = 0"
   ]
  },
  {
   "cell_type": "code",
   "execution_count": null,
   "metadata": {
    "ExecuteTime": {
     "end_time": "2019-10-17T16:55:57.625398Z",
     "start_time": "2019-10-17T16:55:57.471952Z"
    },
    "colab": {},
    "colab_type": "code",
    "id": "XEW8N2AgDu6R"
   },
   "outputs": [],
   "source": [
    "fig = plt.figure(figsize = (12, 8))\n",
    "plt.scatter(x, y, label = 'Raw Data')\n",
    "plt.plot(x, regression_formula(x, my_slope, my_intercept), color = 'k', label = 'Regression')\n",
    "plt.legend()\n",
    "plt.show()"
   ]
  },
  {
   "cell_type": "code",
   "execution_count": null,
   "metadata": {
    "ExecuteTime": {
     "end_time": "2019-10-17T16:55:57.628857Z",
     "start_time": "2019-10-17T16:55:57.626583Z"
    },
    "colab": {},
    "colab_type": "code",
    "id": "-8TmSi8qDu6T"
   },
   "outputs": [],
   "source": [
    "def error(intercept, slope, x, y):\n",
    "    totalError = 0\n",
    "    for i in range(0, len(x)):\n",
    "        totalError += (y[i] - (slope * x[i] + intercept)) ** 2\n",
    "    return totalError / len(x)"
   ]
  },
  {
   "cell_type": "code",
   "execution_count": null,
   "metadata": {
    "ExecuteTime": {
     "end_time": "2019-10-17T16:55:57.659004Z",
     "start_time": "2019-10-17T16:55:57.630023Z"
    },
    "colab": {},
    "colab_type": "code",
    "id": "RxKQ5XqSDu6U"
   },
   "outputs": [],
   "source": [
    "error(my_intercept, my_slope, x, y)"
   ]
  },
  {
   "cell_type": "markdown",
   "metadata": {},
   "source": [
    "## Gradient descent one step at a time"
   ]
  },
  {
   "cell_type": "markdown",
   "metadata": {},
   "source": [
    "We need to find the gradient for each cost function (2-dimensions: b & m):\n",
    "\n",
    "$$ \\frac{\\partial}{\\partial b} (y_i - (b + ax_i))^2 = 2 \\cdot (y_i-ax_i + b)$$\n",
    "\n",
    "$$ \\frac{\\partial}{\\partial a} (y_i - (b + ax_i))^2 = 2 \\cdot x_i \\cdot (y_i-ax_i + b)$$"
   ]
  },
  {
   "cell_type": "code",
   "execution_count": null,
   "metadata": {
    "ExecuteTime": {
     "end_time": "2019-10-17T16:56:25.286477Z",
     "start_time": "2019-10-17T16:56:25.283406Z"
    }
   },
   "outputs": [],
   "source": [
    "def partial_deriv(b, a, x_i, y_i, respect_to):\n",
    "    if respect_to == 'b': \n",
    "        return (y_i - (a * x_i + b))\n",
    "    elif respect_to == 'a':\n",
    "        return (x_i * (y_i - (a * x_i + b)))\n",
    "    else:\n",
    "        print('Choose either respect_to: a or b ')\n",
    "        return 0       "
   ]
  },
  {
   "cell_type": "code",
   "execution_count": null,
   "metadata": {
    "ExecuteTime": {
     "end_time": "2019-10-17T16:56:25.628601Z",
     "start_time": "2019-10-17T16:56:25.624544Z"
    },
    "colab": {},
    "colab_type": "code",
    "id": "5hq-IYorDu6X"
   },
   "outputs": [],
   "source": [
    "def step_gradient(b, a, x, y, learning_rate):\n",
    "    db = 0\n",
    "    da = 0 \n",
    "    # For each data point, update the derivative for the slope & intercept\n",
    "    N = len(x)\n",
    "    for i in range(len(x)):\n",
    "        # Derivatives already pre-done\n",
    "        \n",
    "        # Partial derivatives of loss/cost function with respect to b & a\n",
    "        db +=  -(2/N) * partial_deriv(b,a,x[i],y[i],respect_to='b')\n",
    "        da +=  -(2/N) * partial_deriv(b,a,x[i],y[i],respect_to='a')\n",
    "        \n",
    "    # Adjust the slope & intercept by the gradient\n",
    "    new_b = b - (learning_rate * db)\n",
    "    new_a = a - (learning_rate * da)\n",
    "    \n",
    "    return (new_b, new_a)"
   ]
  },
  {
   "cell_type": "markdown",
   "metadata": {
    "heading_collapsed": true
   },
   "source": [
    "### First Iteration"
   ]
  },
  {
   "cell_type": "code",
   "execution_count": null,
   "metadata": {
    "ExecuteTime": {
     "end_time": "2019-10-17T16:56:26.600404Z",
     "start_time": "2019-10-17T16:56:26.536895Z"
    },
    "colab": {},
    "colab_type": "code",
    "hidden": true,
    "id": "JFK1kVOdDu6Y"
   },
   "outputs": [],
   "source": [
    "first_step = step_gradient(my_intercept, my_slope, x, y, learning_rate=0.1)"
   ]
  },
  {
   "cell_type": "markdown",
   "metadata": {},
   "source": [
    "# Our Linear Regression Line"
   ]
  },
  {
   "cell_type": "code",
   "execution_count": null,
   "metadata": {
    "ExecuteTime": {
     "end_time": "2019-10-17T16:55:57.467651Z",
     "start_time": "2019-10-17T16:55:57.465798Z"
    },
    "colab": {},
    "colab_type": "code",
    "id": "TI1247DKDu6Q"
   },
   "outputs": [],
   "source": [
    "def regression_formula(x, slope, intercept):\n",
    "    return slope * x + intercept"
   ]
  },
  {
   "cell_type": "code",
   "execution_count": null,
   "metadata": {
    "ExecuteTime": {
     "end_time": "2019-10-17T16:56:26.811070Z",
     "start_time": "2019-10-17T16:56:26.807375Z"
    },
    "colab": {},
    "colab_type": "code",
    "id": "Lo5w8R2sDu6a"
   },
   "outputs": [],
   "source": [
    "first_step"
   ]
  },
  {
   "cell_type": "code",
   "execution_count": null,
   "metadata": {
    "ExecuteTime": {
     "end_time": "2019-10-17T16:56:27.189788Z",
     "start_time": "2019-10-17T16:56:27.042501Z"
    },
    "colab": {},
    "colab_type": "code",
    "id": "WpBY3bA6Du6b"
   },
   "outputs": [],
   "source": [
    "fig = plt.figure(figsize = (12, 8))\n",
    "plt.scatter(x, y, label = 'Raw Data')\n",
    "plt.plot(x, regression_formula(x, first_step[1], first_step[0]), \n",
    "         color = 'k', label = 'Regression')\n",
    "plt.legend()\n",
    "plt.show()"
   ]
  },
  {
   "cell_type": "code",
   "execution_count": null,
   "metadata": {
    "ExecuteTime": {
     "end_time": "2019-10-17T16:56:27.444004Z",
     "start_time": "2019-10-17T16:56:27.403296Z"
    },
    "colab": {},
    "colab_type": "code",
    "id": "sjM_HcJ9Du6e"
   },
   "outputs": [],
   "source": [
    "error(my_intercept, my_slope, x, y)"
   ]
  },
  {
   "cell_type": "code",
   "execution_count": null,
   "metadata": {
    "ExecuteTime": {
     "end_time": "2019-10-17T16:56:27.724718Z",
     "start_time": "2019-10-17T16:56:27.686707Z"
    },
    "colab": {},
    "colab_type": "code",
    "id": "8IYgTxy9Du6g"
   },
   "outputs": [],
   "source": [
    "error(first_step[0], first_step[1], x, y)"
   ]
  },
  {
   "cell_type": "code",
   "execution_count": null,
   "metadata": {
    "ExecuteTime": {
     "end_time": "2019-10-17T16:56:28.064228Z",
     "start_time": "2019-10-17T16:56:27.971779Z"
    },
    "colab": {},
    "colab_type": "code",
    "id": "i60bqdSyDu6j"
   },
   "outputs": [],
   "source": [
    "first_step = step_gradient(my_intercept, my_slope, x, y, learning_rate=0.00000001)\n",
    "\n",
    "error(first_step[0], first_step[1], x, y)"
   ]
  },
  {
   "cell_type": "code",
   "execution_count": null,
   "metadata": {
    "ExecuteTime": {
     "end_time": "2019-10-17T16:56:28.481764Z",
     "start_time": "2019-10-17T16:56:28.293695Z"
    },
    "colab": {},
    "colab_type": "code",
    "id": "XGl4Hh_5Du6m"
   },
   "outputs": [],
   "source": [
    "fig = plt.figure(figsize = (12, 8))\n",
    "plt.scatter(x, y, label = 'Raw Data')\n",
    "plt.plot(x, regression_formula(x, first_step[1], first_step[0]), \n",
    "         color = 'k', label = 'Regression')\n",
    "plt.legend()\n",
    "plt.text(500, 650000, 'Iteration Number 1')\n",
    "plt.text(500, 600000, f'Error {round(error(first_step[0], first_step[1], x, y), 0)}')\n",
    "plt.show()"
   ]
  },
  {
   "cell_type": "markdown",
   "metadata": {
    "colab_type": "text",
    "heading_collapsed": true,
    "id": "1zftmRXLDu6n"
   },
   "source": [
    "### Second Iteration"
   ]
  },
  {
   "cell_type": "code",
   "execution_count": null,
   "metadata": {
    "ExecuteTime": {
     "end_time": "2019-10-17T16:56:28.754920Z",
     "start_time": "2019-10-17T16:56:28.694646Z"
    },
    "colab": {},
    "colab_type": "code",
    "hidden": true,
    "id": "s1n0OBdBDu6o"
   },
   "outputs": [],
   "source": [
    "second_step = step_gradient(first_step[0], first_step[1], x, y, learning_rate=0.00000001)"
   ]
  },
  {
   "cell_type": "code",
   "execution_count": null,
   "metadata": {
    "ExecuteTime": {
     "end_time": "2019-10-17T16:56:29.166087Z",
     "start_time": "2019-10-17T16:56:28.951928Z"
    },
    "colab": {},
    "colab_type": "code",
    "hidden": true,
    "id": "vjlzP2OnDu6q"
   },
   "outputs": [],
   "source": [
    "fig = plt.figure(figsize = (12, 8))\n",
    "plt.scatter(x, y, label = 'Raw Data')\n",
    "plt.plot(x, regression_formula(x, second_step[1], second_step[0]), \n",
    "         color = 'k', label = 'Regression')\n",
    "plt.legend()\n",
    "plt.text(500, 650000, 'Iteration Number 2')\n",
    "plt.text(500, 600000, f'Error {round(error(second_step[0], second_step[1], x, y), 0)}')\n",
    "plt.show()"
   ]
  },
  {
   "cell_type": "markdown",
   "metadata": {
    "colab_type": "text",
    "heading_collapsed": true,
    "id": "T62rSPD0Du6r"
   },
   "source": [
    "### Third Iteration"
   ]
  },
  {
   "cell_type": "code",
   "execution_count": null,
   "metadata": {
    "ExecuteTime": {
     "end_time": "2019-10-17T16:56:29.443094Z",
     "start_time": "2019-10-17T16:56:29.381493Z"
    },
    "colab": {},
    "colab_type": "code",
    "hidden": true,
    "id": "u79uk3XuDu6s"
   },
   "outputs": [],
   "source": [
    "third_step = step_gradient(second_step[0], second_step[1], x, y, learning_rate=0.00000001)"
   ]
  },
  {
   "cell_type": "code",
   "execution_count": null,
   "metadata": {
    "ExecuteTime": {
     "end_time": "2019-10-17T16:56:29.821793Z",
     "start_time": "2019-10-17T16:56:29.639583Z"
    },
    "colab": {},
    "colab_type": "code",
    "hidden": true,
    "id": "GurMUYYyDu6t",
    "scrolled": false
   },
   "outputs": [],
   "source": [
    "fig = plt.figure(figsize = (12, 8))\n",
    "plt.scatter(x, y, label = 'Raw Data')\n",
    "plt.plot(x, regression_formula(x, third_step[1], third_step[0]), \n",
    "         color = 'k', label = 'Regression')\n",
    "plt.legend()\n",
    "plt.text(500, 650000, 'Iteration Number 3')\n",
    "plt.text(500, 600000, f'Error {round(error(third_step[0], third_step[1], x, y), 0)}')\n",
    "plt.show()"
   ]
  },
  {
   "cell_type": "markdown",
   "metadata": {
    "heading_collapsed": true
   },
   "source": [
    "## Multiple iterations"
   ]
  },
  {
   "cell_type": "code",
   "execution_count": null,
   "metadata": {
    "ExecuteTime": {
     "end_time": "2019-10-17T16:56:38.150057Z",
     "start_time": "2019-10-17T16:56:30.031506Z"
    },
    "colab": {},
    "colab_type": "code",
    "hidden": true,
    "id": "FcHbSNyHDu6w"
   },
   "outputs": [],
   "source": [
    "errs = []\n",
    "b = 0\n",
    "m = 0\n",
    "\n",
    "for i in range(100):\n",
    "    err = error(b, m, x, y)\n",
    "    errs.append(err)\n",
    "    b, m = step_gradient(b, m, x, y, 0.00000001)"
   ]
  },
  {
   "cell_type": "code",
   "execution_count": null,
   "metadata": {
    "ExecuteTime": {
     "end_time": "2019-10-17T16:56:38.450008Z",
     "start_time": "2019-10-17T16:56:38.352399Z"
    },
    "colab": {},
    "colab_type": "code",
    "hidden": true,
    "id": "IFjpJnK6Du6y"
   },
   "outputs": [],
   "source": [
    "plt.plot(range(100), errs)\n",
    "plt.show()"
   ]
  },
  {
   "cell_type": "markdown",
   "metadata": {
    "hidden": true
   },
   "source": [
    "Looks like we didn't have to do the full 100 since it doesn't do much better. We can do **early stopping** when the error doesn't change too much"
   ]
  },
  {
   "cell_type": "code",
   "execution_count": null,
   "metadata": {
    "ExecuteTime": {
     "end_time": "2019-10-17T16:56:42.504282Z",
     "start_time": "2019-10-17T16:56:38.651821Z"
    },
    "colab": {},
    "colab_type": "code",
    "hidden": true,
    "id": "jVMEeP5zDu6v"
   },
   "outputs": [],
   "source": [
    "errs = []\n",
    "b = 0\n",
    "m = 0\n",
    "\n",
    "for i in range(100):\n",
    "    err = error(b, m, x, y)\n",
    "    errs.append(err)\n",
    "    b, m = step_gradient(b, m, x, y, 0.00000001)\n",
    "    # Stop after errors don't change too much\n",
    "    if len(errs) > 1:\n",
    "        if (errs[-2] - errs[-1]) / errs[-2] < 0.01:\n",
    "            print (i)\n",
    "            break"
   ]
  },
  {
   "cell_type": "code",
   "execution_count": null,
   "metadata": {
    "ExecuteTime": {
     "end_time": "2019-10-17T16:56:42.814267Z",
     "start_time": "2019-10-17T16:56:42.716524Z"
    },
    "colab": {},
    "colab_type": "code",
    "hidden": true,
    "id": "IFjpJnK6Du6y"
   },
   "outputs": [],
   "source": [
    "plt.plot(range(len(errs)), errs)\n",
    "plt.show()"
   ]
  },
  {
   "cell_type": "code",
   "execution_count": null,
   "metadata": {
    "ExecuteTime": {
     "end_time": "2019-10-17T16:56:53.873728Z",
     "start_time": "2019-10-17T16:56:43.044496Z"
    },
    "colab": {},
    "colab_type": "code",
    "hidden": true,
    "id": "un5eqJxcDu6z",
    "scrolled": false
   },
   "outputs": [],
   "source": [
    "errs = []\n",
    "b = 0\n",
    "m = 0\n",
    "\n",
    "for i in range(100):\n",
    "    err = error(b, m, x, y)\n",
    "    errs.append(err)\n",
    "    if (i > 1) & (i % 10 == 0):\n",
    "        fig = plt.figure(figsize = (12, 8))\n",
    "        ax1 = plt.subplot(1, 2, 1)\n",
    "        ax1.scatter(x, y, label = 'Raw Data')\n",
    "        ax1.plot(x, regression_formula(x, m, b), \n",
    "                 color = 'k', label = 'Regression')\n",
    "        plt.legend()\n",
    "        ax1.set_title(f'Iteration Number {i}')\n",
    "        ax2 = plt.subplot(1, 2, 2)\n",
    "        ax2.plot(range(i + 1), errs)\n",
    "        ax2.set_title(f'Error {round(error(m, b, x, y), 0)}')\n",
    "        plt.show()\n",
    "    b, m = step_gradient(b, m, x, y, 0.00000001)"
   ]
  },
  {
   "cell_type": "markdown",
   "metadata": {},
   "source": [
    "# Using Scikit-Learn"
   ]
  },
  {
   "cell_type": "code",
   "execution_count": null,
   "metadata": {
    "ExecuteTime": {
     "end_time": "2019-10-17T16:56:54.098025Z",
     "start_time": "2019-10-17T16:56:54.095601Z"
    },
    "colab": {},
    "colab_type": "code",
    "id": "kfL1H_mRDu61"
   },
   "outputs": [],
   "source": [
    "from sklearn.linear_model import LinearRegression"
   ]
  },
  {
   "cell_type": "code",
   "execution_count": null,
   "metadata": {
    "ExecuteTime": {
     "end_time": "2019-10-17T16:56:54.323184Z",
     "start_time": "2019-10-17T16:56:54.321209Z"
    },
    "colab": {},
    "colab_type": "code",
    "id": "B720G49_Du62"
   },
   "outputs": [],
   "source": [
    "linreg = LinearRegression()"
   ]
  },
  {
   "cell_type": "code",
   "execution_count": null,
   "metadata": {
    "ExecuteTime": {
     "end_time": "2019-10-17T16:56:54.543289Z",
     "start_time": "2019-10-17T16:56:54.538188Z"
    },
    "colab": {},
    "colab_type": "code",
    "id": "4Q_3jY0IDu63"
   },
   "outputs": [],
   "source": [
    "linreg.fit(x.values.reshape(-1, 1), y.values.reshape(-1, 1))"
   ]
  },
  {
   "cell_type": "code",
   "execution_count": null,
   "metadata": {
    "ExecuteTime": {
     "end_time": "2019-10-17T16:56:54.767321Z",
     "start_time": "2019-10-17T16:56:54.764191Z"
    },
    "colab": {},
    "colab_type": "code",
    "id": "mnXoCgkFDu64"
   },
   "outputs": [],
   "source": [
    "linreg.coef_[0][0]"
   ]
  },
  {
   "cell_type": "code",
   "execution_count": null,
   "metadata": {
    "ExecuteTime": {
     "end_time": "2019-10-17T16:56:55.006115Z",
     "start_time": "2019-10-17T16:56:55.003238Z"
    },
    "colab": {},
    "colab_type": "code",
    "id": "QRsoio6bDu66"
   },
   "outputs": [],
   "source": [
    "linreg.intercept_[0]"
   ]
  },
  {
   "cell_type": "code",
   "execution_count": null,
   "metadata": {
    "ExecuteTime": {
     "end_time": "2019-10-17T16:56:55.231236Z",
     "start_time": "2019-10-17T16:56:55.228283Z"
    },
    "colab": {},
    "colab_type": "code",
    "id": "VBnXOg7fDu68"
   },
   "outputs": [],
   "source": [
    "m, b"
   ]
  },
  {
   "cell_type": "code",
   "execution_count": null,
   "metadata": {
    "ExecuteTime": {
     "end_time": "2019-10-17T16:56:55.689129Z",
     "start_time": "2019-10-17T16:56:55.442037Z"
    },
    "colab": {},
    "colab_type": "code",
    "id": "fxv0-SckDu6-"
   },
   "outputs": [],
   "source": [
    "fig = plt.figure(figsize = (12, 8))\n",
    "ax1 = plt.subplot(1, 2, 1)\n",
    "ax2 = plt.subplot(1, 2, 2)\n",
    "\n",
    "ax1.scatter(x, y, label = 'Raw Data')\n",
    "ax1.plot(x, regression_formula(x, m, b), \n",
    "         color = 'k', label = 'Regression')\n",
    "ax1.set_title('Gradient Descent')\n",
    "ax2.scatter(x, y, label = 'Raw Data')\n",
    "ax2.plot(x, regression_formula(x, linreg.coef_[0][0], linreg.intercept_[0]), \n",
    "         color = 'k', label = 'Regression')\n",
    "ax2.set_title('Sklearn')"
   ]
  },
  {
   "cell_type": "code",
   "execution_count": null,
   "metadata": {
    "ExecuteTime": {
     "end_time": "2019-10-17T16:56:55.897787Z",
     "start_time": "2019-10-17T16:56:55.894918Z"
    },
    "colab": {},
    "colab_type": "code",
    "id": "1qJFwk2tDu6_"
   },
   "outputs": [],
   "source": [
    "b"
   ]
  },
  {
   "cell_type": "code",
   "execution_count": null,
   "metadata": {
    "ExecuteTime": {
     "end_time": "2019-10-17T16:56:56.160034Z",
     "start_time": "2019-10-17T16:56:56.124288Z"
    },
    "colab": {},
    "colab_type": "code",
    "id": "2-bpw7RfDu7A"
   },
   "outputs": [],
   "source": [
    "np.sqrt(error(m, b, x, y))"
   ]
  },
  {
   "cell_type": "code",
   "execution_count": null,
   "metadata": {
    "ExecuteTime": {
     "end_time": "2019-10-17T16:56:56.401533Z",
     "start_time": "2019-10-17T16:56:56.370543Z"
    },
    "colab": {},
    "colab_type": "code",
    "id": "E7ncYnBVDu7B"
   },
   "outputs": [],
   "source": [
    "np.sqrt(error(linreg.coef_[0][0], linreg.intercept_[0], x, y))"
   ]
  },
  {
   "cell_type": "code",
   "execution_count": null,
   "metadata": {
    "ExecuteTime": {
     "end_time": "2019-10-17T16:56:56.652701Z",
     "start_time": "2019-10-17T16:56:56.621710Z"
    },
    "colab": {},
    "colab_type": "code",
    "id": "cfWziWeaDu7C"
   },
   "outputs": [],
   "source": [
    "error(m, b, x, y)"
   ]
  }
 ],
 "metadata": {
  "colab": {
   "collapsed_sections": [],
   "name": "Walkthrough_Gradient_Descent.ipynb",
   "provenance": []
  },
  "kernelspec": {
   "display_name": "Python [conda env:learn-env] *",
   "language": "python",
   "name": "conda-env-learn-env-py"
  },
  "language_info": {
   "codemirror_mode": {
    "name": "ipython",
    "version": 3
   },
   "file_extension": ".py",
   "mimetype": "text/x-python",
   "name": "python",
   "nbconvert_exporter": "python",
   "pygments_lexer": "ipython3",
   "version": "3.6.9"
  },
  "toc": {
   "base_numbering": 1,
   "nav_menu": {},
   "number_sections": true,
   "sideBar": true,
   "skip_h1_title": false,
   "title_cell": "Table of Contents",
   "title_sidebar": "Contents",
   "toc_cell": false,
   "toc_position": {
    "height": "453.6px",
    "left": "0px",
    "top": "110.833px",
    "width": "230.4px"
   },
   "toc_section_display": true,
   "toc_window_display": true
  },
  "varInspector": {
   "cols": {
    "lenName": 16,
    "lenType": 16,
    "lenVar": 40
   },
   "kernels_config": {
    "python": {
     "delete_cmd_postfix": "",
     "delete_cmd_prefix": "del ",
     "library": "var_list.py",
     "varRefreshCmd": "print(var_dic_list())"
    },
    "r": {
     "delete_cmd_postfix": ") ",
     "delete_cmd_prefix": "rm(",
     "library": "var_list.r",
     "varRefreshCmd": "cat(var_dic_list()) "
    }
   },
   "types_to_exclude": [
    "module",
    "function",
    "builtin_function_or_method",
    "instance",
    "_Feature"
   ],
   "window_display": false
  }
 },
 "nbformat": 4,
 "nbformat_minor": 2
}
