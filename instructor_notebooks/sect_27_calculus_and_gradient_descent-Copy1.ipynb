{
 "cells": [
  {
   "cell_type": "markdown",
   "metadata": {},
   "source": [
    "# Section 27: Calculus, Cost Functions, and Gradient Descent"
   ]
  },
  {
   "cell_type": "markdown",
   "metadata": {},
   "source": [
    "## Learning Objectives\n",
    "\n",
    "- Review basics of calculus (if needed)\n",
    "    - Derivatives\n",
    "    - Integrals\n",
    "    \n",
    "- Discuss cost functions and how they work/are used (examples from Linear Regression).\n",
    "\n",
    "- Discuss Cost Functions in Relation to Linear Regression\n",
    "    - Walk through the process of estimating regression model and updating parameters \n",
    "\n",
    "- Discuss Gradient Descent's use of partial derivatives to approximate loss functions.\n",
    "\n"
   ]
  },
  {
   "cell_type": "markdown",
   "metadata": {},
   "source": [
    "## Resources\n",
    "- [Jeff's Study Group on Gradient Descent](https://youtu.be/G0EV4wcv0ok)"
   ]
  },
  {
   "cell_type": "markdown",
   "metadata": {},
   "source": [
    " Intro to Derivatives: Rates of Change"
   ]
  },
  {
   "cell_type": "code",
   "execution_count": 6,
   "metadata": {},
   "outputs": [
    {
     "name": "stdout",
     "output_type": "stream",
     "text": [
      "fsds_1007219  v0.5.2 loaded.  Read the docs: https://fsds.readthedocs.io/en/latest/ \n"
     ]
    },
    {
     "data": {
      "text/html": [
       "<style  type=\"text/css\" >\n",
       "</style><table id=\"T_a39f5968_1dc2_11ea_8f63_4865ee12e626\" ><caption>Loaded Packages and Handles</caption><thead>    <tr>        <th class=\"col_heading level0 col0\" >Handle</th>        <th class=\"col_heading level0 col1\" >Package</th>        <th class=\"col_heading level0 col2\" >Description</th>    </tr></thead><tbody>\n",
       "                <tr>\n",
       "                                <td id=\"T_a39f5968_1dc2_11ea_8f63_4865ee12e626row0_col0\" class=\"data row0 col0\" >dp</td>\n",
       "                        <td id=\"T_a39f5968_1dc2_11ea_8f63_4865ee12e626row0_col1\" class=\"data row0 col1\" >IPython.display</td>\n",
       "                        <td id=\"T_a39f5968_1dc2_11ea_8f63_4865ee12e626row0_col2\" class=\"data row0 col2\" >Display modules with helpful display and clearing commands.</td>\n",
       "            </tr>\n",
       "            <tr>\n",
       "                                <td id=\"T_a39f5968_1dc2_11ea_8f63_4865ee12e626row1_col0\" class=\"data row1 col0\" >fs</td>\n",
       "                        <td id=\"T_a39f5968_1dc2_11ea_8f63_4865ee12e626row1_col1\" class=\"data row1 col1\" >fsds_100719</td>\n",
       "                        <td id=\"T_a39f5968_1dc2_11ea_8f63_4865ee12e626row1_col2\" class=\"data row1 col2\" >Custom data science bootcamp student package</td>\n",
       "            </tr>\n",
       "            <tr>\n",
       "                                <td id=\"T_a39f5968_1dc2_11ea_8f63_4865ee12e626row2_col0\" class=\"data row2 col0\" >mpl</td>\n",
       "                        <td id=\"T_a39f5968_1dc2_11ea_8f63_4865ee12e626row2_col1\" class=\"data row2 col1\" >matplotlib</td>\n",
       "                        <td id=\"T_a39f5968_1dc2_11ea_8f63_4865ee12e626row2_col2\" class=\"data row2 col2\" >Matplotlib's base OOP module with formatting artists</td>\n",
       "            </tr>\n",
       "            <tr>\n",
       "                                <td id=\"T_a39f5968_1dc2_11ea_8f63_4865ee12e626row3_col0\" class=\"data row3 col0\" >plt</td>\n",
       "                        <td id=\"T_a39f5968_1dc2_11ea_8f63_4865ee12e626row3_col1\" class=\"data row3 col1\" >matplotlib.pyplot</td>\n",
       "                        <td id=\"T_a39f5968_1dc2_11ea_8f63_4865ee12e626row3_col2\" class=\"data row3 col2\" >Matplotlib's matlab-like plotting module</td>\n",
       "            </tr>\n",
       "            <tr>\n",
       "                                <td id=\"T_a39f5968_1dc2_11ea_8f63_4865ee12e626row4_col0\" class=\"data row4 col0\" >np</td>\n",
       "                        <td id=\"T_a39f5968_1dc2_11ea_8f63_4865ee12e626row4_col1\" class=\"data row4 col1\" >numpy</td>\n",
       "                        <td id=\"T_a39f5968_1dc2_11ea_8f63_4865ee12e626row4_col2\" class=\"data row4 col2\" >scientific computing with Python</td>\n",
       "            </tr>\n",
       "            <tr>\n",
       "                                <td id=\"T_a39f5968_1dc2_11ea_8f63_4865ee12e626row5_col0\" class=\"data row5 col0\" >pd</td>\n",
       "                        <td id=\"T_a39f5968_1dc2_11ea_8f63_4865ee12e626row5_col1\" class=\"data row5 col1\" >pandas</td>\n",
       "                        <td id=\"T_a39f5968_1dc2_11ea_8f63_4865ee12e626row5_col2\" class=\"data row5 col2\" >High performance data structures and tools</td>\n",
       "            </tr>\n",
       "            <tr>\n",
       "                                <td id=\"T_a39f5968_1dc2_11ea_8f63_4865ee12e626row6_col0\" class=\"data row6 col0\" >sns</td>\n",
       "                        <td id=\"T_a39f5968_1dc2_11ea_8f63_4865ee12e626row6_col1\" class=\"data row6 col1\" >seaborn</td>\n",
       "                        <td id=\"T_a39f5968_1dc2_11ea_8f63_4865ee12e626row6_col2\" class=\"data row6 col2\" >High-level data visualization library based on matplotlib</td>\n",
       "            </tr>\n",
       "    </tbody></table>"
      ],
      "text/plain": [
       "<pandas.io.formats.style.Styler at 0x118257c88>"
      ]
     },
     "metadata": {},
     "output_type": "display_data"
    }
   ],
   "source": [
    "!pip install -U fsds_100719\n",
    "from fsds_100719.imports import *"
   ]
  },
  {
   "cell_type": "markdown",
   "metadata": {},
   "source": [
    "## Cost Functions\n",
    "- Defintion:\n",
    "- Examples You've Seen/Used"
   ]
  },
  {
   "cell_type": "markdown",
   "metadata": {
    "heading_collapsed": true
   },
   "source": [
    "### Examples - Equations\n"
   ]
  },
  {
   "cell_type": "markdown",
   "metadata": {
    "hidden": true
   },
   "source": [
    "\n",
    "\n",
    "$$ \\Large MSE = \\frac{1}{n}\\sum_{i=1}^{n}(y_{i} - \\hat y_{i})^2$$\n",
    "\n",
    "$$ \\Large RMSE = \\sqrt{\\frac{1}{n}\\sum_{i=1}^{n}(y_{i} - \\hat y_{i})^2}$$\n",
    "\n"
   ]
  },
  {
   "cell_type": "markdown",
   "metadata": {
    "hidden": true
   },
   "source": []
  },
  {
   "cell_type": "markdown",
   "metadata": {},
   "source": [
    "# Linear Regression Example Analogy for Loss Functions"
   ]
  },
  {
   "cell_type": "code",
   "execution_count": 11,
   "metadata": {
    "scrolled": true
   },
   "outputs": [
    {
     "data": {
      "text/html": [
       "<div>\n",
       "<style scoped>\n",
       "    .dataframe tbody tr th:only-of-type {\n",
       "        vertical-align: middle;\n",
       "    }\n",
       "\n",
       "    .dataframe tbody tr th {\n",
       "        vertical-align: top;\n",
       "    }\n",
       "\n",
       "    .dataframe thead th {\n",
       "        text-align: right;\n",
       "    }\n",
       "</style>\n",
       "<table border=\"1\" class=\"dataframe\">\n",
       "  <thead>\n",
       "    <tr style=\"text-align: right;\">\n",
       "      <th></th>\n",
       "      <th>Id</th>\n",
       "      <th>MSSubClass</th>\n",
       "      <th>MSZoning</th>\n",
       "      <th>LotFrontage</th>\n",
       "      <th>LotArea</th>\n",
       "      <th>Street</th>\n",
       "      <th>Alley</th>\n",
       "      <th>LotShape</th>\n",
       "      <th>LandContour</th>\n",
       "      <th>Utilities</th>\n",
       "      <th>...</th>\n",
       "      <th>PoolArea</th>\n",
       "      <th>PoolQC</th>\n",
       "      <th>Fence</th>\n",
       "      <th>MiscFeature</th>\n",
       "      <th>MiscVal</th>\n",
       "      <th>MoSold</th>\n",
       "      <th>YrSold</th>\n",
       "      <th>SaleType</th>\n",
       "      <th>SaleCondition</th>\n",
       "      <th>SalePrice</th>\n",
       "    </tr>\n",
       "  </thead>\n",
       "  <tbody>\n",
       "    <tr>\n",
       "      <td>0</td>\n",
       "      <td>1</td>\n",
       "      <td>60</td>\n",
       "      <td>RL</td>\n",
       "      <td>65.0</td>\n",
       "      <td>8450</td>\n",
       "      <td>Pave</td>\n",
       "      <td>NaN</td>\n",
       "      <td>Reg</td>\n",
       "      <td>Lvl</td>\n",
       "      <td>AllPub</td>\n",
       "      <td>...</td>\n",
       "      <td>0</td>\n",
       "      <td>NaN</td>\n",
       "      <td>NaN</td>\n",
       "      <td>NaN</td>\n",
       "      <td>0</td>\n",
       "      <td>2</td>\n",
       "      <td>2008</td>\n",
       "      <td>WD</td>\n",
       "      <td>Normal</td>\n",
       "      <td>208500</td>\n",
       "    </tr>\n",
       "    <tr>\n",
       "      <td>1</td>\n",
       "      <td>2</td>\n",
       "      <td>20</td>\n",
       "      <td>RL</td>\n",
       "      <td>80.0</td>\n",
       "      <td>9600</td>\n",
       "      <td>Pave</td>\n",
       "      <td>NaN</td>\n",
       "      <td>Reg</td>\n",
       "      <td>Lvl</td>\n",
       "      <td>AllPub</td>\n",
       "      <td>...</td>\n",
       "      <td>0</td>\n",
       "      <td>NaN</td>\n",
       "      <td>NaN</td>\n",
       "      <td>NaN</td>\n",
       "      <td>0</td>\n",
       "      <td>5</td>\n",
       "      <td>2007</td>\n",
       "      <td>WD</td>\n",
       "      <td>Normal</td>\n",
       "      <td>181500</td>\n",
       "    </tr>\n",
       "    <tr>\n",
       "      <td>2</td>\n",
       "      <td>3</td>\n",
       "      <td>60</td>\n",
       "      <td>RL</td>\n",
       "      <td>68.0</td>\n",
       "      <td>11250</td>\n",
       "      <td>Pave</td>\n",
       "      <td>NaN</td>\n",
       "      <td>IR1</td>\n",
       "      <td>Lvl</td>\n",
       "      <td>AllPub</td>\n",
       "      <td>...</td>\n",
       "      <td>0</td>\n",
       "      <td>NaN</td>\n",
       "      <td>NaN</td>\n",
       "      <td>NaN</td>\n",
       "      <td>0</td>\n",
       "      <td>9</td>\n",
       "      <td>2008</td>\n",
       "      <td>WD</td>\n",
       "      <td>Normal</td>\n",
       "      <td>223500</td>\n",
       "    </tr>\n",
       "    <tr>\n",
       "      <td>3</td>\n",
       "      <td>4</td>\n",
       "      <td>70</td>\n",
       "      <td>RL</td>\n",
       "      <td>60.0</td>\n",
       "      <td>9550</td>\n",
       "      <td>Pave</td>\n",
       "      <td>NaN</td>\n",
       "      <td>IR1</td>\n",
       "      <td>Lvl</td>\n",
       "      <td>AllPub</td>\n",
       "      <td>...</td>\n",
       "      <td>0</td>\n",
       "      <td>NaN</td>\n",
       "      <td>NaN</td>\n",
       "      <td>NaN</td>\n",
       "      <td>0</td>\n",
       "      <td>2</td>\n",
       "      <td>2006</td>\n",
       "      <td>WD</td>\n",
       "      <td>Abnorml</td>\n",
       "      <td>140000</td>\n",
       "    </tr>\n",
       "    <tr>\n",
       "      <td>4</td>\n",
       "      <td>5</td>\n",
       "      <td>60</td>\n",
       "      <td>RL</td>\n",
       "      <td>84.0</td>\n",
       "      <td>14260</td>\n",
       "      <td>Pave</td>\n",
       "      <td>NaN</td>\n",
       "      <td>IR1</td>\n",
       "      <td>Lvl</td>\n",
       "      <td>AllPub</td>\n",
       "      <td>...</td>\n",
       "      <td>0</td>\n",
       "      <td>NaN</td>\n",
       "      <td>NaN</td>\n",
       "      <td>NaN</td>\n",
       "      <td>0</td>\n",
       "      <td>12</td>\n",
       "      <td>2008</td>\n",
       "      <td>WD</td>\n",
       "      <td>Normal</td>\n",
       "      <td>250000</td>\n",
       "    </tr>\n",
       "  </tbody>\n",
       "</table>\n",
       "<p>5 rows × 81 columns</p>\n",
       "</div>"
      ],
      "text/plain": [
       "   Id  MSSubClass MSZoning  LotFrontage  LotArea Street Alley LotShape  \\\n",
       "0   1          60       RL         65.0     8450   Pave   NaN      Reg   \n",
       "1   2          20       RL         80.0     9600   Pave   NaN      Reg   \n",
       "2   3          60       RL         68.0    11250   Pave   NaN      IR1   \n",
       "3   4          70       RL         60.0     9550   Pave   NaN      IR1   \n",
       "4   5          60       RL         84.0    14260   Pave   NaN      IR1   \n",
       "\n",
       "  LandContour Utilities  ... PoolArea PoolQC Fence MiscFeature MiscVal MoSold  \\\n",
       "0         Lvl    AllPub  ...        0    NaN   NaN         NaN       0      2   \n",
       "1         Lvl    AllPub  ...        0    NaN   NaN         NaN       0      5   \n",
       "2         Lvl    AllPub  ...        0    NaN   NaN         NaN       0      9   \n",
       "3         Lvl    AllPub  ...        0    NaN   NaN         NaN       0      2   \n",
       "4         Lvl    AllPub  ...        0    NaN   NaN         NaN       0     12   \n",
       "\n",
       "  YrSold  SaleType  SaleCondition  SalePrice  \n",
       "0   2008        WD         Normal     208500  \n",
       "1   2007        WD         Normal     181500  \n",
       "2   2008        WD         Normal     223500  \n",
       "3   2006        WD        Abnorml     140000  \n",
       "4   2008        WD         Normal     250000  \n",
       "\n",
       "[5 rows x 81 columns]"
      ]
     },
     "metadata": {},
     "output_type": "display_data"
    },
    {
     "name": "stdout",
     "output_type": "stream",
     "text": [
      "<class 'pandas.core.frame.DataFrame'>\n",
      "RangeIndex: 1460 entries, 0 to 1459\n",
      "Data columns (total 81 columns):\n",
      "Id               1460 non-null int64\n",
      "MSSubClass       1460 non-null int64\n",
      "MSZoning         1460 non-null object\n",
      "LotFrontage      1201 non-null float64\n",
      "LotArea          1460 non-null int64\n",
      "Street           1460 non-null object\n",
      "Alley            91 non-null object\n",
      "LotShape         1460 non-null object\n",
      "LandContour      1460 non-null object\n",
      "Utilities        1460 non-null object\n",
      "LotConfig        1460 non-null object\n",
      "LandSlope        1460 non-null object\n",
      "Neighborhood     1460 non-null object\n",
      "Condition1       1460 non-null object\n",
      "Condition2       1460 non-null object\n",
      "BldgType         1460 non-null object\n",
      "HouseStyle       1460 non-null object\n",
      "OverallQual      1460 non-null int64\n",
      "OverallCond      1460 non-null int64\n",
      "YearBuilt        1460 non-null int64\n",
      "YearRemodAdd     1460 non-null int64\n",
      "RoofStyle        1460 non-null object\n",
      "RoofMatl         1460 non-null object\n",
      "Exterior1st      1460 non-null object\n",
      "Exterior2nd      1460 non-null object\n",
      "MasVnrType       1452 non-null object\n",
      "MasVnrArea       1452 non-null float64\n",
      "ExterQual        1460 non-null object\n",
      "ExterCond        1460 non-null object\n",
      "Foundation       1460 non-null object\n",
      "BsmtQual         1423 non-null object\n",
      "BsmtCond         1423 non-null object\n",
      "BsmtExposure     1422 non-null object\n",
      "BsmtFinType1     1423 non-null object\n",
      "BsmtFinSF1       1460 non-null int64\n",
      "BsmtFinType2     1422 non-null object\n",
      "BsmtFinSF2       1460 non-null int64\n",
      "BsmtUnfSF        1460 non-null int64\n",
      "TotalBsmtSF      1460 non-null int64\n",
      "Heating          1460 non-null object\n",
      "HeatingQC        1460 non-null object\n",
      "CentralAir       1460 non-null object\n",
      "Electrical       1459 non-null object\n",
      "1stFlrSF         1460 non-null int64\n",
      "2ndFlrSF         1460 non-null int64\n",
      "LowQualFinSF     1460 non-null int64\n",
      "GrLivArea        1460 non-null int64\n",
      "BsmtFullBath     1460 non-null int64\n",
      "BsmtHalfBath     1460 non-null int64\n",
      "FullBath         1460 non-null int64\n",
      "HalfBath         1460 non-null int64\n",
      "BedroomAbvGr     1460 non-null int64\n",
      "KitchenAbvGr     1460 non-null int64\n",
      "KitchenQual      1460 non-null object\n",
      "TotRmsAbvGrd     1460 non-null int64\n",
      "Functional       1460 non-null object\n",
      "Fireplaces       1460 non-null int64\n",
      "FireplaceQu      770 non-null object\n",
      "GarageType       1379 non-null object\n",
      "GarageYrBlt      1379 non-null float64\n",
      "GarageFinish     1379 non-null object\n",
      "GarageCars       1460 non-null int64\n",
      "GarageArea       1460 non-null int64\n",
      "GarageQual       1379 non-null object\n",
      "GarageCond       1379 non-null object\n",
      "PavedDrive       1460 non-null object\n",
      "WoodDeckSF       1460 non-null int64\n",
      "OpenPorchSF      1460 non-null int64\n",
      "EnclosedPorch    1460 non-null int64\n",
      "3SsnPorch        1460 non-null int64\n",
      "ScreenPorch      1460 non-null int64\n",
      "PoolArea         1460 non-null int64\n",
      "PoolQC           7 non-null object\n",
      "Fence            281 non-null object\n",
      "MiscFeature      54 non-null object\n",
      "MiscVal          1460 non-null int64\n",
      "MoSold           1460 non-null int64\n",
      "YrSold           1460 non-null int64\n",
      "SaleType         1460 non-null object\n",
      "SaleCondition    1460 non-null object\n",
      "SalePrice        1460 non-null int64\n",
      "dtypes: float64(3), int64(35), object(43)\n",
      "memory usage: 924.0+ KB\n"
     ]
    }
   ],
   "source": [
    "## Kaggle Dataset https://www.kaggle.com/c/house-prices-advanced-regression-techniques/data\n",
    "\n",
    "url = \"https://raw.githubusercontent.com/jirvingphd/fsds_100719_cohort_notes/master/datasets/house-prices-advanced-regression-techniques/train.csv\"\n",
    "\n",
    "df = pd.read_csv(url)\n",
    "display(df.head())\n",
    "df.info()"
   ]
  },
  {
   "cell_type": "code",
   "execution_count": 1,
   "metadata": {},
   "outputs": [],
   "source": [
    "def reg_plot(df,x_col='GrLivArea',y_col='SalePrice'):\n",
    "    fig,ax = plt.subplots(figsize=(10,6))\n",
    "\n",
    "    ax.scatter(df[x_col],df[y_col],\n",
    "              s=3,alpha=0.5,label='Raw Data')\n",
    "\n",
    "    ax.set(**{\"title\":'Price vs Living Area',\n",
    "             'ylabel':\"Price\",\n",
    "             'xlabel':'GrLivArea'})\n",
    "    ax.legend()\n",
    "\n",
    "\n",
    "    fmtPrice = '$ {x:,.0f}'\n",
    "    tickPrice = mpl.ticker.StrMethodFormatter(fmtPrice)\n",
    "    ax.yaxis.set_major_formatter(tickPrice)\n",
    "    return fig,ax\n",
    "reg_plot(df)\n"
   ]
  },
  {
   "cell_type": "code",
   "execution_count": 50,
   "metadata": {},
   "outputs": [],
   "source": [
    "x = df['GrLivArea']\n",
    "y = df['SalePrice']"
   ]
  },
  {
   "cell_type": "code",
   "execution_count": 64,
   "metadata": {},
   "outputs": [],
   "source": [
    "def regression_formula(x,slope,intercept,return_str=False):\n",
    "    str_form = f\"y={slope}*x + {intercept}\"\n",
    "    \n",
    "    if return_str:\n",
    "        return str_form\n",
    "    else:\n",
    "        return slope*x+intercept\n",
    "    \n",
    "def error(intercept, slope, x,y):\n",
    "    totalError = 0\n",
    "    for i in range(0,len(x)):\n",
    "        totalError += (y[i] - (slope * x[i] + intercept)) ** 2\n",
    "        \n",
    "    return totalError / len(x)\n",
    "\n",
    "def plot_scatter_vs_regr(df,x_col='GrLivArea',y_col='SalePrice',\n",
    "                        slope=0, intercept=0):\n",
    "    fig,ax = reg_plot(df,x_col=x_col,y_col=y_col)\n",
    "\n",
    "    ax.plot(x,regression_formula(x,slope,intercept),\n",
    "           ls=\":\",c='orange',lw=3,label='Regression Line')\n",
    "    ax.legend()\n",
    "    return fig,ax"
   ]
  },
  {
   "cell_type": "code",
   "execution_count": 65,
   "metadata": {},
   "outputs": [
    {
     "data": {
      "text/plain": [
       "0        8554\n",
       "1        6314\n",
       "2        8934\n",
       "3        8589\n",
       "4       10994\n",
       "        ...  \n",
       "1455     8239\n",
       "1456    10369\n",
       "1457    11704\n",
       "1458     5394\n",
       "1459     6284\n",
       "Name: GrLivArea, Length: 1460, dtype: int64"
      ]
     },
     "execution_count": 65,
     "metadata": {},
     "output_type": "execute_result"
    }
   ],
   "source": [
    "regression_formula(x,my_slope,my_intercept)"
   ]
  },
  {
   "cell_type": "code",
   "execution_count": 68,
   "metadata": {},
   "outputs": [
    {
     "data": {
      "text/plain": [
       "(<Figure size 720x432 with 1 Axes>,\n",
       " <matplotlib.axes._subplots.AxesSubplot at 0x11e9fef28>)"
      ]
     },
     "execution_count": 68,
     "metadata": {},
     "output_type": "execute_result"
    },
    {
     "data": {
      "image/png": "[encoded data removed]",
      "text/plain": [
       "<Figure size 720x432 with 1 Axes>"
      ]
     },
     "metadata": {
      "needs_background": "light"
     },
     "output_type": "display_data"
    }
   ],
   "source": [
    "my_intercept=1\n",
    "my_slope = 5\n",
    "plot_scatter_vs_regr(df,slope=my_slope,intercept=my_intercept)"
   ]
  },
  {
   "cell_type": "code",
   "execution_count": 69,
   "metadata": {},
   "outputs": [
    {
     "data": {
      "text/plain": [
       "36065824190.3911"
      ]
     },
     "execution_count": 69,
     "metadata": {},
     "output_type": "execute_result"
    }
   ],
   "source": [
    "error(my_intercept,my_slope,x,y)"
   ]
  },
  {
   "cell_type": "markdown",
   "metadata": {},
   "source": [
    "## Updating Our Guess"
   ]
  },
  {
   "cell_type": "markdown",
   "metadata": {},
   "source": [
    "\n",
    "> Now that we are applying gradient descent to our cost curve $J(m, b)$, the technique should answer how much to move the $m$ variable and the $b$ variable to produce the greatest decrease in cost, or RSS. In other words, when altering our regression line, we want to know how much of this change should be derived from a move in the slope versus how much should be derived from a change in the y-intercept."
   ]
  },
  {
   "cell_type": "markdown",
   "metadata": {},
   "source": [
    "\n",
    "$$ \\nabla J(m, b) = \\frac{\\delta J}{\\delta m}, \\frac{\\delta J}{\\delta b}$$"
   ]
  },
  {
   "cell_type": "markdown",
   "metadata": {},
   "source": [
    "\n",
    "$$\n",
    "\\begin{align}\n",
    "\\frac{\\delta J}{\\delta m}J(m, b) & = \\boldsymbol{\\frac{\\delta J}{\\delta m}}(y - (mx + b))^2  &&\\text{partial derivative with respect to} \\textbf{ m}\\\\\n",
    "\\\\\n",
    "\\frac{\\delta J}{\\delta b}J(m, b) & = \\boldsymbol{\\frac{\\delta J}{\\delta b}}(y - (mx + b))^2  &&\\text{partial derivative with respect to} \\textbf{ b}\\\\\n",
    "\\end{align}\n",
    "$$"
   ]
  },
  {
   "cell_type": "markdown",
   "metadata": {},
   "source": [
    "$ \\frac{dJ}{dm}J(m,b) = -2\\sum_{i = 1}^n x_i(y_i - (mx_i + b)) = -2\\sum_{i = 1}^n x_i*\\epsilon_i$\n",
    "$ \\frac{dJ}{db}J(m,b) = -2\\sum_{i = 1}^n(y_i - (mx_i + b)) = -2\\sum_{i = 1}^n \\epsilon_i $"
   ]
  },
  {
   "cell_type": "code",
   "execution_count": 71,
   "metadata": {},
   "outputs": [
    {
     "ename": "SyntaxError",
     "evalue": "invalid syntax (<ipython-input-71-f1acdb0ce11a>, line 7)",
     "output_type": "error",
     "traceback": [
      "\u001b[0;36m  File \u001b[0;32m\"<ipython-input-71-f1acdb0ce11a>\"\u001b[0;36m, line \u001b[0;32m7\u001b[0m\n\u001b[0;31m    error=\u001b[0m\n\u001b[0m          ^\u001b[0m\n\u001b[0;31mSyntaxError\u001b[0m\u001b[0;31m:\u001b[0m invalid syntax\n"
     ]
    }
   ],
   "source": [
    "def loss_function(y,y_hat):\n",
    "    from sklearn.metrics import mean_squared_error\n",
    "    return mean_squared_error(y,y_hat)\n",
    "    \n",
    "def step_parameters( x,y, slope, intercept,learning_rate):\n",
    "    y_hat = regression_formula(x,slope,intercept)\n",
    "    error_0=loss_function(y,y_hat)\n",
    "    \n",
    "    slope+=learning_rate\n",
    "    intercept+=learning rate\n",
    "    \n",
    "#     error()"
   ]
  },
  {
   "cell_type": "code",
   "execution_count": null,
   "metadata": {},
   "outputs": [],
   "source": [
    "def step_gradient(b_current, m_current, x, y, learning_rate):\n",
    "    b_gradient = 0\n",
    "    m_gradient = 0 \n",
    "    N = len(x)\n",
    "    \n",
    "    for i in range(0, len(x)):\n",
    "        m_gradient +=  -(2/N) * x[i] * (y[i] - (m_current * x[i] + b_current))\n",
    "        b_gradient +=  -(2/N) * (y[i] - (m_current * x[i] + b_current))\n",
    "    new_b = b_current - (learning_rate * b_gradient)\n",
    "    new_m = m_current - (learning_rate * m_gradient)\n",
    "    \n",
    "    return (new_b, new_m)"
   ]
  },
  {
   "cell_type": "markdown",
   "metadata": {},
   "source": [
    "# Derivatives Basics\n",
    "\n",
    "- [Learn Lesson](https://learn.co/tracks/data-science-career-v2/module-4-a-complete-data-science-project-using-multiple-regression/section-27-calculus-cost-function-and-gradient-descent/rules-for-derivatives)"
   ]
  },
  {
   "cell_type": "markdown",
   "metadata": {},
   "source": [
    "## Rate of change for a (linear) function"
   ]
  },
  {
   "cell_type": "markdown",
   "metadata": {},
   "source": [
    "Slope is rate the change for line --> rate is constant\n",
    "\n",
    "For any two points:\n",
    "\n",
    "$ \\frac{\\Delta y}{\\Delta x} = \\frac{y_2 - y_1}{x_2 - x_1}$"
   ]
  },
  {
   "cell_type": "markdown",
   "metadata": {},
   "source": [
    "We can define this as a derivative:\n",
    "\n",
    "$ \n",
    "f'(x) = \\dfrac{\\Delta y}{\\Delta x} =  \\dfrac{f(x + \\Delta x) - f(x)}{\\Delta x}\n",
    "$"
   ]
  },
  {
   "cell_type": "markdown",
   "metadata": {},
   "source": [
    "### In summary, derivates are:\n",
    "\n"
   ]
  },
  {
   "cell_type": "markdown",
   "metadata": {},
   "source": [
    "$$ f'(x) = \\dfrac{\\text{rise}}{\\text{run}} = \\dfrac{\\Delta y}{\\Delta x} = \\dfrac{y_2 - y_1}{x_2 - x_1} =  \\dfrac{f(x_2) - f(x_1)}{x_2 - x_1}$$\n",
    "\n",
    "$$\\large f'(x) = \\dfrac{f(x + \\Delta x) - f(x)}{\\Delta x}$$\n",
    "\n",
    "\n",
    "\n",
    "* $f'(x)$ is the rate of change at a given value, or here the speed at a given time\n",
    "\n",
    "\n",
    "* $f(x)$ is the distance at a given time\n",
    "\n",
    "\n",
    "* $\\Delta x$ is the elapsed time, or the change in $x$\n",
    "\n",
    "\n",
    "* $f(x + \\Delta x)$ is the distance at the starting time plus the elapsed time \n"
   ]
  },
  {
   "cell_type": "markdown",
   "metadata": {},
   "source": [
    "\n",
    "### For Non-Linear Functions\n",
    "\n",
    "- [Derivatives on Non-Linear Functions](https://learn.co/tracks/data-science-career-v2/module-4-a-complete-data-science-project-using-multiple-regression/section-27-calculus-cost-function-and-gradient-descent/derivatives-of-non-linear-functions)\n",
    "$$\\large f'(x) = \\lim_{ h\\to0} \\frac{f(x + h) - f(x)}{h} $$ \n",
    "\n",
    "* where $h$ is used to represent $\\Delta x$"
   ]
  },
  {
   "cell_type": "markdown",
   "metadata": {},
   "source": [
    "### Power Rule"
   ]
  },
  {
   "cell_type": "markdown",
   "metadata": {},
   "source": [
    "### Addition Terms & Coefficients"
   ]
  },
  {
   "cell_type": "markdown",
   "metadata": {},
   "source": [
    "### The Chain Rule"
   ]
  },
  {
   "cell_type": "markdown",
   "metadata": {},
   "source": [
    "$$h'(x) = (f\\circ g)'(x) = f'(g(x)) \\cdot g'(x)$$\n",
    "\n",
    "$$\\frac{dh}{dx} = \\frac{df}{dg} \\cdot \\frac{dg}{dx} = f'(y)g'(x) \\text{  where } y = g(x)$$ "
   ]
  },
  {
   "cell_type": "code",
   "execution_count": null,
   "metadata": {},
   "outputs": [],
   "source": []
  },
  {
   "cell_type": "markdown",
   "metadata": {},
   "source": [
    "# Finding Minimum & Maximum with Derivatives"
   ]
  },
  {
   "cell_type": "markdown",
   "metadata": {},
   "source": [
    "Tops of hills"
   ]
  },
  {
   "cell_type": "code",
   "execution_count": 1,
   "metadata": {
    "ExecuteTime": {
     "end_time": "2019-09-10T22:37:54.975060Z",
     "start_time": "2019-09-10T22:37:54.669376Z"
    }
   },
   "outputs": [],
   "source": [
    "import matplotlib.pyplot as plt\n",
    "import numpy as np\n",
    "%matplotlib inline"
   ]
  },
  {
   "cell_type": "markdown",
   "metadata": {},
   "source": [
    "# Motivation from Linear Regression (Line of Best Fit)"
   ]
  },
  {
   "cell_type": "markdown",
   "metadata": {},
   "source": [
    "- Cost function ==> residuals / error (RSS: residual sum of squares)"
   ]
  },
  {
   "cell_type": "markdown",
   "metadata": {},
   "source": [
    "## Creating some random data"
   ]
  },
  {
   "cell_type": "code",
   "execution_count": 2,
   "metadata": {
    "ExecuteTime": {
     "end_time": "2019-09-10T22:37:56.152659Z",
     "start_time": "2019-09-10T22:37:56.149857Z"
    }
   },
   "outputs": [],
   "source": [
    "np.random.seed(27)\n",
    "\n",
    "x = np.random.rand(30,1).reshape(30)\n",
    "y_randterm = np.random.normal(0,3,30)\n",
    "y = 3 + 50 * x + y_randterm"
   ]
  },
  {
   "cell_type": "code",
   "execution_count": 3,
   "metadata": {
    "ExecuteTime": {
     "end_time": "2019-09-10T22:37:56.950435Z",
     "start_time": "2019-09-10T22:37:56.948315Z"
    }
   },
   "outputs": [],
   "source": [
    "# Plotting a guess of a regression line\n",
    "def regression_formula(x, b=2, a=30):\n",
    "    return b + a*x"
   ]
  },
  {
   "cell_type": "code",
   "execution_count": 4,
   "metadata": {
    "ExecuteTime": {
     "end_time": "2019-09-10T22:37:58.008784Z",
     "start_time": "2019-09-10T22:37:57.829414Z"
    }
   },
   "outputs": [
    {
     "data": {
      "image/png": "[encoded data removed]",
      "text/plain": [
       "<Figure size 576x432 with 1 Axes>"
      ]
     },
     "metadata": {
      "needs_background": "light"
     },
     "output_type": "display_data"
    }
   ],
   "source": [
    "plt.figure(figsize=(8,6))\n",
    "plt.plot(x, y, '.b')\n",
    "plt.plot(x, regression_formula(x), '-')\n",
    "plt.xlabel(\"x\", fontsize=14)\n",
    "plt.ylabel(\"y\", fontsize=14);"
   ]
  },
  {
   "cell_type": "code",
   "execution_count": 5,
   "metadata": {
    "ExecuteTime": {
     "end_time": "2019-09-10T22:38:57.899444Z",
     "start_time": "2019-09-10T22:38:57.894516Z"
    }
   },
   "outputs": [
    {
     "ename": "NameError",
     "evalue": "name 'residual_sum_squares' is not defined",
     "output_type": "error",
     "traceback": [
      "\u001b[0;31m---------------------------------------------------------------------------\u001b[0m",
      "\u001b[0;31mNameError\u001b[0m                                 Traceback (most recent call last)",
      "\u001b[0;32m<ipython-input-5-8448880dad72>\u001b[0m in \u001b[0;36m<module>\u001b[0;34m\u001b[0m\n\u001b[0;32m----> 1\u001b[0;31m \u001b[0mresidual_sum_squares\u001b[0m\u001b[0;34m(\u001b[0m\u001b[0mx\u001b[0m\u001b[0;34m,\u001b[0m\u001b[0my\u001b[0m\u001b[0;34m,\u001b[0m\u001b[0;36m30\u001b[0m\u001b[0;34m,\u001b[0m\u001b[0;36m2\u001b[0m\u001b[0;34m)\u001b[0m\u001b[0;34m\u001b[0m\u001b[0;34m\u001b[0m\u001b[0m\n\u001b[0m",
      "\u001b[0;31mNameError\u001b[0m: name 'residual_sum_squares' is not defined"
     ]
    }
   ],
   "source": [
    "residual_sum_squares(x,y,30,2)"
   ]
  },
  {
   "cell_type": "code",
   "execution_count": null,
   "metadata": {
    "ExecuteTime": {
     "end_time": "2019-09-10T22:40:09.967947Z",
     "start_time": "2019-09-10T22:40:09.817960Z"
    }
   },
   "outputs": [],
   "source": [
    "plt.figure(figsize=(8,6))\n",
    "plt.plot(x, y, '.b')\n",
    "plt.plot(x, regression_formula(x,3,55), '-')\n",
    "plt.xlabel(\"x\", fontsize=14)\n",
    "plt.ylabel(\"y\", fontsize=14);"
   ]
  },
  {
   "cell_type": "code",
   "execution_count": null,
   "metadata": {
    "ExecuteTime": {
     "end_time": "2019-09-10T22:40:24.460831Z",
     "start_time": "2019-09-10T22:40:24.456480Z"
    }
   },
   "outputs": [],
   "source": [
    "residual_sum_squares(x,y,50,3)"
   ]
  },
  {
   "cell_type": "code",
   "execution_count": null,
   "metadata": {
    "ExecuteTime": {
     "end_time": "2019-09-10T22:38:25.195095Z",
     "start_time": "2019-09-10T22:38:25.192022Z"
    }
   },
   "outputs": [],
   "source": [
    "# Analyzing the regression line\n",
    "def errors(x_values, y_values, m, b):\n",
    "    y_line = (b + m*x_values)\n",
    "    return (y_values - y_line)\n",
    "\n",
    "def squared_errors(x_values, y_values, m, b):\n",
    "    return np.round(errors(x_values, y_values, m, b)**2, 2)\n",
    "\n",
    "def residual_sum_squares(x_values, y_values, m, b):\n",
    "    return round(sum(squared_errors(x_values, y_values, m, b)), 2)"
   ]
  },
  {
   "cell_type": "code",
   "execution_count": null,
   "metadata": {
    "ExecuteTime": {
     "end_time": "2019-09-10T22:41:22.156016Z",
     "start_time": "2019-09-10T22:41:21.977386Z"
    }
   },
   "outputs": [],
   "source": [
    "table = np.zeros((20,2))\n",
    "for idx, val in enumerate(range(40, 60)):\n",
    "    table[idx,0] = val\n",
    "    table[idx,1] = residual_sum_squares(x, y, val, 1.319)\n",
    "    \n",
    "plt.figure(figsize=(10,7))\n",
    "plt.plot(table[:,0], table[:,1], '-')\n",
    "plt.xlabel(\"m-values\", fontsize=14)\n",
    "plt.ylabel(\"RSS\", fontsize=14)\n",
    "plt.title(\"RSS with changes to slope\", fontsize=16);"
   ]
  },
  {
   "cell_type": "markdown",
   "metadata": {
    "heading_collapsed": true
   },
   "source": [
    "# Intro to Gradient Descent"
   ]
  },
  {
   "cell_type": "markdown",
   "metadata": {
    "hidden": true
   },
   "source": [
    "Adjust until it fits well enough\n",
    "\n",
    "Judge by using the **cost curve**"
   ]
  },
  {
   "cell_type": "markdown",
   "metadata": {
    "hidden": true
   },
   "source": [
    "## Stepping down a hill"
   ]
  },
  {
   "cell_type": "markdown",
   "metadata": {
    "hidden": true
   },
   "source": [
    "More Slope --> bigger step"
   ]
  },
  {
   "cell_type": "markdown",
   "metadata": {},
   "source": [
    "# Expanding Gradient Descent for Higher Dimensions"
   ]
  },
  {
   "cell_type": "markdown",
   "metadata": {},
   "source": [
    "Partial Derivatives\n",
    "\n",
    "Grad function $-\\nabla = \\sum_i \\dfrac{\\partial}{\\partial x_i}$"
   ]
  },
  {
   "cell_type": "markdown",
   "metadata": {},
   "source": [
    "<img src='images/gradientdescent.png' width=80%/>\n",
    "<img src=\"https://raw.githubusercontent.com/jirvingphd/dsc-gradient-descent-in-3d-online-ds-ft-100719/master/images/traveller-stepping.jpg\" width=80%>"
   ]
  },
  {
   "cell_type": "markdown",
   "metadata": {},
   "source": [
    "Lesson adapted from Jeff Herman: https://github.com/sik-flow/Study_Groups/blob/master/Gradient_Descent.ipynb"
   ]
  },
  {
   "cell_type": "code",
   "execution_count": 1,
   "metadata": {
    "ExecuteTime": {
     "end_time": "2019-10-17T16:55:57.161277Z",
     "start_time": "2019-10-17T16:55:57.158937Z"
    },
    "colab": {},
    "colab_type": "code",
    "id": "Iod7FrFGDu58"
   },
   "outputs": [],
   "source": [
    "import pandas as pd\n",
    "import numpy as np\n",
    "import matplotlib.pyplot as plt"
   ]
  },
  {
   "cell_type": "markdown",
   "metadata": {
    "colab_type": "text",
    "id": "5qVsZH4JDu56"
   },
   "source": [
    "# Load in Data & Explore"
   ]
  },
  {
   "cell_type": "code",
   "execution_count": 2,
   "metadata": {
    "ExecuteTime": {
     "end_time": "2019-10-17T16:55:57.187393Z",
     "start_time": "2019-10-17T16:55:57.163398Z"
    },
    "colab": {
     "base_uri": "https://localhost:8080/",
     "height": 375
    },
    "colab_type": "code",
    "id": "pNHZpzraDu5-",
    "outputId": "0210a91c-a085-4a7f-a399-2e4cb86ecdd0"
   },
   "outputs": [
    {
     "ename": "FileNotFoundError",
     "evalue": "[Errno 2] File b'data/house-prices-advanced-regression-techniques/train.csv' does not exist: b'data/house-prices-advanced-regression-techniques/train.csv'",
     "output_type": "error",
     "traceback": [
      "\u001b[0;31m---------------------------------------------------------------------------\u001b[0m",
      "\u001b[0;31mFileNotFoundError\u001b[0m                         Traceback (most recent call last)",
      "\u001b[0;32m<ipython-input-2-a2bc0c74b19e>\u001b[0m in \u001b[0;36m<module>\u001b[0;34m\u001b[0m\n\u001b[1;32m      1\u001b[0m \u001b[0;31m# CSV from https://www.kaggle.com/c/house-prices-advanced-regression-techniques\u001b[0m\u001b[0;34m\u001b[0m\u001b[0;34m\u001b[0m\u001b[0;34m\u001b[0m\u001b[0m\n\u001b[0;32m----> 2\u001b[0;31m \u001b[0mdf\u001b[0m \u001b[0;34m=\u001b[0m \u001b[0mpd\u001b[0m\u001b[0;34m.\u001b[0m\u001b[0mread_csv\u001b[0m\u001b[0;34m(\u001b[0m\u001b[0;34m'data/house-prices-advanced-regression-techniques/train.csv'\u001b[0m\u001b[0;34m)\u001b[0m\u001b[0;34m\u001b[0m\u001b[0;34m\u001b[0m\u001b[0m\n\u001b[0m",
      "\u001b[0;32m//anaconda3/envs/learn-env/lib/python3.6/site-packages/pandas/io/parsers.py\u001b[0m in \u001b[0;36mparser_f\u001b[0;34m(filepath_or_buffer, sep, delimiter, header, names, index_col, usecols, squeeze, prefix, mangle_dupe_cols, dtype, engine, converters, true_values, false_values, skipinitialspace, skiprows, skipfooter, nrows, na_values, keep_default_na, na_filter, verbose, skip_blank_lines, parse_dates, infer_datetime_format, keep_date_col, date_parser, dayfirst, cache_dates, iterator, chunksize, compression, thousands, decimal, lineterminator, quotechar, quoting, doublequote, escapechar, comment, encoding, dialect, error_bad_lines, warn_bad_lines, delim_whitespace, low_memory, memory_map, float_precision)\u001b[0m\n\u001b[1;32m    683\u001b[0m         )\n\u001b[1;32m    684\u001b[0m \u001b[0;34m\u001b[0m\u001b[0m\n\u001b[0;32m--> 685\u001b[0;31m         \u001b[0;32mreturn\u001b[0m \u001b[0m_read\u001b[0m\u001b[0;34m(\u001b[0m\u001b[0mfilepath_or_buffer\u001b[0m\u001b[0;34m,\u001b[0m \u001b[0mkwds\u001b[0m\u001b[0;34m)\u001b[0m\u001b[0;34m\u001b[0m\u001b[0;34m\u001b[0m\u001b[0m\n\u001b[0m\u001b[1;32m    686\u001b[0m \u001b[0;34m\u001b[0m\u001b[0m\n\u001b[1;32m    687\u001b[0m     \u001b[0mparser_f\u001b[0m\u001b[0;34m.\u001b[0m\u001b[0m__name__\u001b[0m \u001b[0;34m=\u001b[0m \u001b[0mname\u001b[0m\u001b[0;34m\u001b[0m\u001b[0;34m\u001b[0m\u001b[0m\n",
      "\u001b[0;32m//anaconda3/envs/learn-env/lib/python3.6/site-packages/pandas/io/parsers.py\u001b[0m in \u001b[0;36m_read\u001b[0;34m(filepath_or_buffer, kwds)\u001b[0m\n\u001b[1;32m    455\u001b[0m \u001b[0;34m\u001b[0m\u001b[0m\n\u001b[1;32m    456\u001b[0m     \u001b[0;31m# Create the parser.\u001b[0m\u001b[0;34m\u001b[0m\u001b[0;34m\u001b[0m\u001b[0;34m\u001b[0m\u001b[0m\n\u001b[0;32m--> 457\u001b[0;31m     \u001b[0mparser\u001b[0m \u001b[0;34m=\u001b[0m \u001b[0mTextFileReader\u001b[0m\u001b[0;34m(\u001b[0m\u001b[0mfp_or_buf\u001b[0m\u001b[0;34m,\u001b[0m \u001b[0;34m**\u001b[0m\u001b[0mkwds\u001b[0m\u001b[0;34m)\u001b[0m\u001b[0;34m\u001b[0m\u001b[0;34m\u001b[0m\u001b[0m\n\u001b[0m\u001b[1;32m    458\u001b[0m \u001b[0;34m\u001b[0m\u001b[0m\n\u001b[1;32m    459\u001b[0m     \u001b[0;32mif\u001b[0m \u001b[0mchunksize\u001b[0m \u001b[0;32mor\u001b[0m \u001b[0miterator\u001b[0m\u001b[0;34m:\u001b[0m\u001b[0;34m\u001b[0m\u001b[0;34m\u001b[0m\u001b[0m\n",
      "\u001b[0;32m//anaconda3/envs/learn-env/lib/python3.6/site-packages/pandas/io/parsers.py\u001b[0m in \u001b[0;36m__init__\u001b[0;34m(self, f, engine, **kwds)\u001b[0m\n\u001b[1;32m    893\u001b[0m             \u001b[0mself\u001b[0m\u001b[0;34m.\u001b[0m\u001b[0moptions\u001b[0m\u001b[0;34m[\u001b[0m\u001b[0;34m\"has_index_names\"\u001b[0m\u001b[0;34m]\u001b[0m \u001b[0;34m=\u001b[0m \u001b[0mkwds\u001b[0m\u001b[0;34m[\u001b[0m\u001b[0;34m\"has_index_names\"\u001b[0m\u001b[0;34m]\u001b[0m\u001b[0;34m\u001b[0m\u001b[0;34m\u001b[0m\u001b[0m\n\u001b[1;32m    894\u001b[0m \u001b[0;34m\u001b[0m\u001b[0m\n\u001b[0;32m--> 895\u001b[0;31m         \u001b[0mself\u001b[0m\u001b[0;34m.\u001b[0m\u001b[0m_make_engine\u001b[0m\u001b[0;34m(\u001b[0m\u001b[0mself\u001b[0m\u001b[0;34m.\u001b[0m\u001b[0mengine\u001b[0m\u001b[0;34m)\u001b[0m\u001b[0;34m\u001b[0m\u001b[0;34m\u001b[0m\u001b[0m\n\u001b[0m\u001b[1;32m    896\u001b[0m \u001b[0;34m\u001b[0m\u001b[0m\n\u001b[1;32m    897\u001b[0m     \u001b[0;32mdef\u001b[0m \u001b[0mclose\u001b[0m\u001b[0;34m(\u001b[0m\u001b[0mself\u001b[0m\u001b[0;34m)\u001b[0m\u001b[0;34m:\u001b[0m\u001b[0;34m\u001b[0m\u001b[0;34m\u001b[0m\u001b[0m\n",
      "\u001b[0;32m//anaconda3/envs/learn-env/lib/python3.6/site-packages/pandas/io/parsers.py\u001b[0m in \u001b[0;36m_make_engine\u001b[0;34m(self, engine)\u001b[0m\n\u001b[1;32m   1133\u001b[0m     \u001b[0;32mdef\u001b[0m \u001b[0m_make_engine\u001b[0m\u001b[0;34m(\u001b[0m\u001b[0mself\u001b[0m\u001b[0;34m,\u001b[0m \u001b[0mengine\u001b[0m\u001b[0;34m=\u001b[0m\u001b[0;34m\"c\"\u001b[0m\u001b[0;34m)\u001b[0m\u001b[0;34m:\u001b[0m\u001b[0;34m\u001b[0m\u001b[0;34m\u001b[0m\u001b[0m\n\u001b[1;32m   1134\u001b[0m         \u001b[0;32mif\u001b[0m \u001b[0mengine\u001b[0m \u001b[0;34m==\u001b[0m \u001b[0;34m\"c\"\u001b[0m\u001b[0;34m:\u001b[0m\u001b[0;34m\u001b[0m\u001b[0;34m\u001b[0m\u001b[0m\n\u001b[0;32m-> 1135\u001b[0;31m             \u001b[0mself\u001b[0m\u001b[0;34m.\u001b[0m\u001b[0m_engine\u001b[0m \u001b[0;34m=\u001b[0m \u001b[0mCParserWrapper\u001b[0m\u001b[0;34m(\u001b[0m\u001b[0mself\u001b[0m\u001b[0;34m.\u001b[0m\u001b[0mf\u001b[0m\u001b[0;34m,\u001b[0m \u001b[0;34m**\u001b[0m\u001b[0mself\u001b[0m\u001b[0;34m.\u001b[0m\u001b[0moptions\u001b[0m\u001b[0;34m)\u001b[0m\u001b[0;34m\u001b[0m\u001b[0;34m\u001b[0m\u001b[0m\n\u001b[0m\u001b[1;32m   1136\u001b[0m         \u001b[0;32melse\u001b[0m\u001b[0;34m:\u001b[0m\u001b[0;34m\u001b[0m\u001b[0;34m\u001b[0m\u001b[0m\n\u001b[1;32m   1137\u001b[0m             \u001b[0;32mif\u001b[0m \u001b[0mengine\u001b[0m \u001b[0;34m==\u001b[0m \u001b[0;34m\"python\"\u001b[0m\u001b[0;34m:\u001b[0m\u001b[0;34m\u001b[0m\u001b[0;34m\u001b[0m\u001b[0m\n",
      "\u001b[0;32m//anaconda3/envs/learn-env/lib/python3.6/site-packages/pandas/io/parsers.py\u001b[0m in \u001b[0;36m__init__\u001b[0;34m(self, src, **kwds)\u001b[0m\n\u001b[1;32m   1915\u001b[0m         \u001b[0mkwds\u001b[0m\u001b[0;34m[\u001b[0m\u001b[0;34m\"usecols\"\u001b[0m\u001b[0;34m]\u001b[0m \u001b[0;34m=\u001b[0m \u001b[0mself\u001b[0m\u001b[0;34m.\u001b[0m\u001b[0musecols\u001b[0m\u001b[0;34m\u001b[0m\u001b[0;34m\u001b[0m\u001b[0m\n\u001b[1;32m   1916\u001b[0m \u001b[0;34m\u001b[0m\u001b[0m\n\u001b[0;32m-> 1917\u001b[0;31m         \u001b[0mself\u001b[0m\u001b[0;34m.\u001b[0m\u001b[0m_reader\u001b[0m \u001b[0;34m=\u001b[0m \u001b[0mparsers\u001b[0m\u001b[0;34m.\u001b[0m\u001b[0mTextReader\u001b[0m\u001b[0;34m(\u001b[0m\u001b[0msrc\u001b[0m\u001b[0;34m,\u001b[0m \u001b[0;34m**\u001b[0m\u001b[0mkwds\u001b[0m\u001b[0;34m)\u001b[0m\u001b[0;34m\u001b[0m\u001b[0;34m\u001b[0m\u001b[0m\n\u001b[0m\u001b[1;32m   1918\u001b[0m         \u001b[0mself\u001b[0m\u001b[0;34m.\u001b[0m\u001b[0munnamed_cols\u001b[0m \u001b[0;34m=\u001b[0m \u001b[0mself\u001b[0m\u001b[0;34m.\u001b[0m\u001b[0m_reader\u001b[0m\u001b[0;34m.\u001b[0m\u001b[0munnamed_cols\u001b[0m\u001b[0;34m\u001b[0m\u001b[0;34m\u001b[0m\u001b[0m\n\u001b[1;32m   1919\u001b[0m \u001b[0;34m\u001b[0m\u001b[0m\n",
      "\u001b[0;32mpandas/_libs/parsers.pyx\u001b[0m in \u001b[0;36mpandas._libs.parsers.TextReader.__cinit__\u001b[0;34m()\u001b[0m\n",
      "\u001b[0;32mpandas/_libs/parsers.pyx\u001b[0m in \u001b[0;36mpandas._libs.parsers.TextReader._setup_parser_source\u001b[0;34m()\u001b[0m\n",
      "\u001b[0;31mFileNotFoundError\u001b[0m: [Errno 2] File b'data/house-prices-advanced-regression-techniques/train.csv' does not exist: b'data/house-prices-advanced-regression-techniques/train.csv'"
     ]
    }
   ],
   "source": [
    "# CSV from https://www.kaggle.com/c/house-prices-advanced-regression-techniques\n",
    "df = pd.read_csv('data/house-prices-advanced-regression-techniques/train.csv')"
   ]
  },
  {
   "cell_type": "code",
   "execution_count": 3,
   "metadata": {
    "ExecuteTime": {
     "end_time": "2019-10-17T16:55:57.207224Z",
     "start_time": "2019-10-17T16:55:57.189178Z"
    },
    "colab": {},
    "colab_type": "code",
    "id": "3gizNhKxDu6A"
   },
   "outputs": [
    {
     "ename": "NameError",
     "evalue": "name 'df' is not defined",
     "output_type": "error",
     "traceback": [
      "\u001b[0;31m---------------------------------------------------------------------------\u001b[0m",
      "\u001b[0;31mNameError\u001b[0m                                 Traceback (most recent call last)",
      "\u001b[0;32m<ipython-input-3-c42a15b2c7cf>\u001b[0m in \u001b[0;36m<module>\u001b[0;34m\u001b[0m\n\u001b[0;32m----> 1\u001b[0;31m \u001b[0mdf\u001b[0m\u001b[0;34m.\u001b[0m\u001b[0mhead\u001b[0m\u001b[0;34m(\u001b[0m\u001b[0;34m)\u001b[0m\u001b[0;34m\u001b[0m\u001b[0;34m\u001b[0m\u001b[0m\n\u001b[0m",
      "\u001b[0;31mNameError\u001b[0m: name 'df' is not defined"
     ]
    }
   ],
   "source": [
    "df.head()"
   ]
  },
  {
   "cell_type": "code",
   "execution_count": 4,
   "metadata": {
    "ExecuteTime": {
     "end_time": "2019-10-17T16:55:57.212087Z",
     "start_time": "2019-10-17T16:55:57.208831Z"
    },
    "colab": {},
    "colab_type": "code",
    "id": "y7WZCXHCDu6C"
   },
   "outputs": [
    {
     "ename": "NameError",
     "evalue": "name 'df' is not defined",
     "output_type": "error",
     "traceback": [
      "\u001b[0;31m---------------------------------------------------------------------------\u001b[0m",
      "\u001b[0;31mNameError\u001b[0m                                 Traceback (most recent call last)",
      "\u001b[0;32m<ipython-input-4-b666bf274d0a>\u001b[0m in \u001b[0;36m<module>\u001b[0;34m\u001b[0m\n\u001b[0;32m----> 1\u001b[0;31m \u001b[0mdf\u001b[0m\u001b[0;34m.\u001b[0m\u001b[0mcolumns\u001b[0m\u001b[0;34m\u001b[0m\u001b[0;34m\u001b[0m\u001b[0m\n\u001b[0m",
      "\u001b[0;31mNameError\u001b[0m: name 'df' is not defined"
     ]
    }
   ],
   "source": [
    "df.columns"
   ]
  },
  {
   "cell_type": "markdown",
   "metadata": {
    "heading_collapsed": true
   },
   "source": [
    "## Arbitrarily choosing a feature and target"
   ]
  },
  {
   "cell_type": "markdown",
   "metadata": {
    "hidden": true
   },
   "source": [
    "We'll focus on the `GrLivAre` vs the `SalePrice` (target)"
   ]
  },
  {
   "cell_type": "code",
   "execution_count": null,
   "metadata": {
    "ExecuteTime": {
     "end_time": "2019-10-17T16:55:57.215597Z",
     "start_time": "2019-10-17T16:55:57.213296Z"
    },
    "colab": {},
    "colab_type": "code",
    "hidden": true,
    "id": "arsQ6WioDu6E"
   },
   "outputs": [],
   "source": [
    "x = df['GrLivArea']\n",
    "y = df['SalePrice']"
   ]
  },
  {
   "cell_type": "code",
   "execution_count": null,
   "metadata": {
    "ExecuteTime": {
     "end_time": "2019-10-17T16:55:57.328968Z",
     "start_time": "2019-10-17T16:55:57.216963Z"
    },
    "colab": {},
    "colab_type": "code",
    "hidden": true,
    "id": "avTQSKoJDu6G",
    "scrolled": true
   },
   "outputs": [],
   "source": [
    "plt.scatter(x, y)\n",
    "plt.show()"
   ]
  },
  {
   "cell_type": "markdown",
   "metadata": {
    "hidden": true
   },
   "source": [
    "Looks like there are some extreme values that might affect our linear regression"
   ]
  },
  {
   "cell_type": "markdown",
   "metadata": {
    "heading_collapsed": true,
    "hidden": true
   },
   "source": [
    "### Removing Outliers"
   ]
  },
  {
   "cell_type": "code",
   "execution_count": null,
   "metadata": {
    "ExecuteTime": {
     "end_time": "2019-10-17T16:55:57.348779Z",
     "start_time": "2019-10-17T16:55:57.330072Z"
    },
    "colab": {},
    "colab_type": "code",
    "hidden": true,
    "id": "NxuYmRLNDu6H"
   },
   "outputs": [],
   "source": [
    "df[(df['GrLivArea'] > 4000) & (df['SalePrice'] < 300000)]"
   ]
  },
  {
   "cell_type": "code",
   "execution_count": null,
   "metadata": {
    "ExecuteTime": {
     "end_time": "2019-10-17T16:55:57.353835Z",
     "start_time": "2019-10-17T16:55:57.350219Z"
    },
    "colab": {},
    "colab_type": "code",
    "hidden": true,
    "id": "hYj49k5_Du6J"
   },
   "outputs": [],
   "source": [
    "df.drop([523, 1298], inplace = True)\n",
    "df.reset_index(inplace = True)"
   ]
  },
  {
   "cell_type": "code",
   "execution_count": null,
   "metadata": {
    "ExecuteTime": {
     "end_time": "2019-10-17T16:55:57.358135Z",
     "start_time": "2019-10-17T16:55:57.356099Z"
    },
    "colab": {},
    "colab_type": "code",
    "hidden": true,
    "id": "mYVNsQGcDu6K"
   },
   "outputs": [],
   "source": [
    "x = df['GrLivArea']\n",
    "y = df['SalePrice']"
   ]
  },
  {
   "cell_type": "code",
   "execution_count": null,
   "metadata": {
    "ExecuteTime": {
     "end_time": "2019-10-17T16:55:57.464630Z",
     "start_time": "2019-10-17T16:55:57.360737Z"
    },
    "colab": {},
    "colab_type": "code",
    "hidden": true,
    "id": "QSyOosVDDu6M",
    "scrolled": true
   },
   "outputs": [],
   "source": [
    "plt.scatter(x, y)\n",
    "plt.show()"
   ]
  },
  {
   "cell_type": "markdown",
   "metadata": {
    "heading_collapsed": true
   },
   "source": [
    "# Our Linear Regression Line"
   ]
  },
  {
   "cell_type": "code",
   "execution_count": null,
   "metadata": {
    "ExecuteTime": {
     "end_time": "2019-10-17T16:55:57.467651Z",
     "start_time": "2019-10-17T16:55:57.465798Z"
    },
    "colab": {},
    "colab_type": "code",
    "hidden": true,
    "id": "TI1247DKDu6Q"
   },
   "outputs": [],
   "source": [
    "def regression_formula(x, slope, intercept):\n",
    "    return slope * x + intercept"
   ]
  },
  {
   "cell_type": "code",
   "execution_count": null,
   "metadata": {
    "ExecuteTime": {
     "end_time": "2019-10-17T16:55:57.470708Z",
     "start_time": "2019-10-17T16:55:57.468940Z"
    },
    "colab": {},
    "colab_type": "code",
    "hidden": true,
    "id": "YBeWX3vXDu6O"
   },
   "outputs": [],
   "source": [
    "my_slope = 0\n",
    "my_intercept = 0"
   ]
  },
  {
   "cell_type": "code",
   "execution_count": null,
   "metadata": {
    "ExecuteTime": {
     "end_time": "2019-10-17T16:55:57.625398Z",
     "start_time": "2019-10-17T16:55:57.471952Z"
    },
    "colab": {},
    "colab_type": "code",
    "hidden": true,
    "id": "XEW8N2AgDu6R"
   },
   "outputs": [],
   "source": [
    "fig = plt.figure(figsize = (12, 8))\n",
    "plt.scatter(x, y, label = 'Raw Data')\n",
    "plt.plot(x, regression_formula(x, my_slope, my_intercept), color = 'k', label = 'Regression')\n",
    "plt.legend()\n",
    "plt.show()"
   ]
  },
  {
   "cell_type": "code",
   "execution_count": null,
   "metadata": {
    "ExecuteTime": {
     "end_time": "2019-10-17T16:55:57.628857Z",
     "start_time": "2019-10-17T16:55:57.626583Z"
    },
    "colab": {},
    "colab_type": "code",
    "hidden": true,
    "id": "-8TmSi8qDu6T"
   },
   "outputs": [],
   "source": [
    "def error(intercept, slope, x, y):\n",
    "    totalError = 0\n",
    "    for i in range(0, len(x)):\n",
    "        totalError += (y[i] - (slope * x[i] + intercept)) ** 2\n",
    "    return totalError / len(x)"
   ]
  },
  {
   "cell_type": "code",
   "execution_count": null,
   "metadata": {
    "ExecuteTime": {
     "end_time": "2019-10-17T16:55:57.659004Z",
     "start_time": "2019-10-17T16:55:57.630023Z"
    },
    "colab": {},
    "colab_type": "code",
    "hidden": true,
    "id": "RxKQ5XqSDu6U"
   },
   "outputs": [],
   "source": [
    "error(my_intercept, my_slope, x, y)"
   ]
  },
  {
   "cell_type": "markdown",
   "metadata": {
    "heading_collapsed": true,
    "hidden": true
   },
   "source": [
    "## Gradient descent one step at a time"
   ]
  },
  {
   "cell_type": "markdown",
   "metadata": {
    "hidden": true
   },
   "source": [
    "We need to find the gradient for each cost function (2-dimensions: b & m):\n",
    "\n",
    "$$ \\frac{\\partial}{\\partial b} (y_i - (b + ax_i))^2 = 2 \\cdot (y_i-ax_i + b)$$\n",
    "\n",
    "$$ \\frac{\\partial}{\\partial a} (y_i - (b + ax_i))^2 = 2 \\cdot x_i \\cdot (y_i-ax_i + b)$$"
   ]
  },
  {
   "cell_type": "code",
   "execution_count": null,
   "metadata": {
    "ExecuteTime": {
     "end_time": "2019-10-17T16:56:25.286477Z",
     "start_time": "2019-10-17T16:56:25.283406Z"
    },
    "hidden": true
   },
   "outputs": [],
   "source": [
    "def partial_deriv(b, a, x_i, y_i, respect_to):\n",
    "    if respect_to == 'b': \n",
    "        return (y_i - (a * x_i + b))\n",
    "    elif respect_to == 'a':\n",
    "        return (x_i * (y_i - (a * x_i + b)))\n",
    "    else:\n",
    "        print('Choose either respect_to: a or b ')\n",
    "        return 0       "
   ]
  },
  {
   "cell_type": "code",
   "execution_count": null,
   "metadata": {
    "ExecuteTime": {
     "end_time": "2019-10-17T16:56:25.628601Z",
     "start_time": "2019-10-17T16:56:25.624544Z"
    },
    "colab": {},
    "colab_type": "code",
    "hidden": true,
    "id": "5hq-IYorDu6X"
   },
   "outputs": [],
   "source": [
    "def step_gradient(b, a, x, y, learning_rate):\n",
    "    db = 0\n",
    "    da = 0 \n",
    "    # For each data point, update the derivative for the slope & intercept\n",
    "    N = len(x)\n",
    "    for i in range(len(x)):\n",
    "        # Derivatives already pre-done\n",
    "        \n",
    "        # Partial derivatives of loss/cost function with respect to b & a\n",
    "        db +=  -(2/N) * partial_deriv(b,a,x[i],y[i],respect_to='b')\n",
    "        da +=  -(2/N) * partial_deriv(b,a,x[i],y[i],respect_to='a')\n",
    "        \n",
    "    # Adjust the slope & intercept by the gradient\n",
    "    new_b = b - (learning_rate * db)\n",
    "    new_a = a - (learning_rate * da)\n",
    "    \n",
    "    return (new_b, new_a)"
   ]
  },
  {
   "cell_type": "markdown",
   "metadata": {
    "heading_collapsed": true,
    "hidden": true
   },
   "source": [
    "### First Iteration"
   ]
  },
  {
   "cell_type": "code",
   "execution_count": null,
   "metadata": {
    "ExecuteTime": {
     "end_time": "2019-10-17T16:56:26.600404Z",
     "start_time": "2019-10-17T16:56:26.536895Z"
    },
    "colab": {},
    "colab_type": "code",
    "hidden": true,
    "id": "JFK1kVOdDu6Y"
   },
   "outputs": [],
   "source": [
    "first_step = step_gradient(my_intercept, my_slope, x, y, learning_rate=0.1)"
   ]
  },
  {
   "cell_type": "code",
   "execution_count": null,
   "metadata": {
    "ExecuteTime": {
     "end_time": "2019-10-17T16:56:26.811070Z",
     "start_time": "2019-10-17T16:56:26.807375Z"
    },
    "colab": {},
    "colab_type": "code",
    "hidden": true,
    "id": "Lo5w8R2sDu6a"
   },
   "outputs": [],
   "source": [
    "first_step"
   ]
  },
  {
   "cell_type": "code",
   "execution_count": null,
   "metadata": {
    "ExecuteTime": {
     "end_time": "2019-10-17T16:56:27.189788Z",
     "start_time": "2019-10-17T16:56:27.042501Z"
    },
    "colab": {},
    "colab_type": "code",
    "hidden": true,
    "id": "WpBY3bA6Du6b"
   },
   "outputs": [],
   "source": [
    "fig = plt.figure(figsize = (12, 8))\n",
    "plt.scatter(x, y, label = 'Raw Data')\n",
    "plt.plot(x, regression_formula(x, first_step[1], first_step[0]), \n",
    "         color = 'k', label = 'Regression')\n",
    "plt.legend()\n",
    "plt.show()"
   ]
  },
  {
   "cell_type": "code",
   "execution_count": null,
   "metadata": {
    "ExecuteTime": {
     "end_time": "2019-10-17T16:56:27.444004Z",
     "start_time": "2019-10-17T16:56:27.403296Z"
    },
    "colab": {},
    "colab_type": "code",
    "hidden": true,
    "id": "sjM_HcJ9Du6e"
   },
   "outputs": [],
   "source": [
    "error(my_intercept, my_slope, x, y)"
   ]
  },
  {
   "cell_type": "code",
   "execution_count": null,
   "metadata": {
    "ExecuteTime": {
     "end_time": "2019-10-17T16:56:27.724718Z",
     "start_time": "2019-10-17T16:56:27.686707Z"
    },
    "colab": {},
    "colab_type": "code",
    "hidden": true,
    "id": "8IYgTxy9Du6g"
   },
   "outputs": [],
   "source": [
    "error(first_step[0], first_step[1], x, y)"
   ]
  },
  {
   "cell_type": "code",
   "execution_count": null,
   "metadata": {
    "ExecuteTime": {
     "end_time": "2019-10-17T16:56:28.064228Z",
     "start_time": "2019-10-17T16:56:27.971779Z"
    },
    "colab": {},
    "colab_type": "code",
    "hidden": true,
    "id": "i60bqdSyDu6j"
   },
   "outputs": [],
   "source": [
    "first_step = step_gradient(my_intercept, my_slope, x, y, learning_rate=0.00000001)\n",
    "\n",
    "error(first_step[0], first_step[1], x, y)"
   ]
  },
  {
   "cell_type": "code",
   "execution_count": null,
   "metadata": {
    "ExecuteTime": {
     "end_time": "2019-10-17T16:56:28.481764Z",
     "start_time": "2019-10-17T16:56:28.293695Z"
    },
    "colab": {},
    "colab_type": "code",
    "hidden": true,
    "id": "XGl4Hh_5Du6m"
   },
   "outputs": [],
   "source": [
    "fig = plt.figure(figsize = (12, 8))\n",
    "plt.scatter(x, y, label = 'Raw Data')\n",
    "plt.plot(x, regression_formula(x, first_step[1], first_step[0]), \n",
    "         color = 'k', label = 'Regression')\n",
    "plt.legend()\n",
    "plt.text(500, 650000, 'Iteration Number 1')\n",
    "plt.text(500, 600000, f'Error {round(error(first_step[0], first_step[1], x, y), 0)}')\n",
    "plt.show()"
   ]
  },
  {
   "cell_type": "markdown",
   "metadata": {
    "colab_type": "text",
    "heading_collapsed": true,
    "hidden": true,
    "id": "1zftmRXLDu6n"
   },
   "source": [
    "### Second Iteration"
   ]
  },
  {
   "cell_type": "code",
   "execution_count": null,
   "metadata": {
    "ExecuteTime": {
     "end_time": "2019-10-17T16:56:28.754920Z",
     "start_time": "2019-10-17T16:56:28.694646Z"
    },
    "colab": {},
    "colab_type": "code",
    "hidden": true,
    "id": "s1n0OBdBDu6o"
   },
   "outputs": [],
   "source": [
    "second_step = step_gradient(first_step[0], first_step[1], x, y, learning_rate=0.00000001)"
   ]
  },
  {
   "cell_type": "code",
   "execution_count": null,
   "metadata": {
    "ExecuteTime": {
     "end_time": "2019-10-17T16:56:29.166087Z",
     "start_time": "2019-10-17T16:56:28.951928Z"
    },
    "colab": {},
    "colab_type": "code",
    "hidden": true,
    "id": "vjlzP2OnDu6q"
   },
   "outputs": [],
   "source": [
    "fig = plt.figure(figsize = (12, 8))\n",
    "plt.scatter(x, y, label = 'Raw Data')\n",
    "plt.plot(x, regression_formula(x, second_step[1], second_step[0]), \n",
    "         color = 'k', label = 'Regression')\n",
    "plt.legend()\n",
    "plt.text(500, 650000, 'Iteration Number 2')\n",
    "plt.text(500, 600000, f'Error {round(error(second_step[0], second_step[1], x, y), 0)}')\n",
    "plt.show()"
   ]
  },
  {
   "cell_type": "markdown",
   "metadata": {
    "colab_type": "text",
    "heading_collapsed": true,
    "hidden": true,
    "id": "T62rSPD0Du6r"
   },
   "source": [
    "### Third Iteration"
   ]
  },
  {
   "cell_type": "code",
   "execution_count": null,
   "metadata": {
    "ExecuteTime": {
     "end_time": "2019-10-17T16:56:29.443094Z",
     "start_time": "2019-10-17T16:56:29.381493Z"
    },
    "colab": {},
    "colab_type": "code",
    "hidden": true,
    "id": "u79uk3XuDu6s"
   },
   "outputs": [],
   "source": [
    "third_step = step_gradient(second_step[0], second_step[1], x, y, learning_rate=0.00000001)"
   ]
  },
  {
   "cell_type": "code",
   "execution_count": null,
   "metadata": {
    "ExecuteTime": {
     "end_time": "2019-10-17T16:56:29.821793Z",
     "start_time": "2019-10-17T16:56:29.639583Z"
    },
    "colab": {},
    "colab_type": "code",
    "hidden": true,
    "id": "GurMUYYyDu6t",
    "scrolled": false
   },
   "outputs": [],
   "source": [
    "fig = plt.figure(figsize = (12, 8))\n",
    "plt.scatter(x, y, label = 'Raw Data')\n",
    "plt.plot(x, regression_formula(x, third_step[1], third_step[0]), \n",
    "         color = 'k', label = 'Regression')\n",
    "plt.legend()\n",
    "plt.text(500, 650000, 'Iteration Number 3')\n",
    "plt.text(500, 600000, f'Error {round(error(third_step[0], third_step[1], x, y), 0)}')\n",
    "plt.show()"
   ]
  },
  {
   "cell_type": "markdown",
   "metadata": {
    "heading_collapsed": true,
    "hidden": true
   },
   "source": [
    "## Multiple iterations"
   ]
  },
  {
   "cell_type": "code",
   "execution_count": null,
   "metadata": {
    "ExecuteTime": {
     "end_time": "2019-10-17T16:56:38.150057Z",
     "start_time": "2019-10-17T16:56:30.031506Z"
    },
    "colab": {},
    "colab_type": "code",
    "hidden": true,
    "id": "FcHbSNyHDu6w"
   },
   "outputs": [],
   "source": [
    "errs = []\n",
    "b = 0\n",
    "m = 0\n",
    "\n",
    "for i in range(100):\n",
    "    err = error(b, m, x, y)\n",
    "    errs.append(err)\n",
    "    b, m = step_gradient(b, m, x, y, 0.00000001)"
   ]
  },
  {
   "cell_type": "code",
   "execution_count": null,
   "metadata": {
    "ExecuteTime": {
     "end_time": "2019-10-17T16:56:38.450008Z",
     "start_time": "2019-10-17T16:56:38.352399Z"
    },
    "colab": {},
    "colab_type": "code",
    "hidden": true,
    "id": "IFjpJnK6Du6y"
   },
   "outputs": [],
   "source": [
    "plt.plot(range(100), errs)\n",
    "plt.show()"
   ]
  },
  {
   "cell_type": "markdown",
   "metadata": {
    "hidden": true
   },
   "source": [
    "Looks like we didn't have to do the full 100 since it doesn't do much better. We can do **early stopping** when the error doesn't change too much"
   ]
  },
  {
   "cell_type": "code",
   "execution_count": null,
   "metadata": {
    "ExecuteTime": {
     "end_time": "2019-10-17T16:56:42.504282Z",
     "start_time": "2019-10-17T16:56:38.651821Z"
    },
    "colab": {},
    "colab_type": "code",
    "hidden": true,
    "id": "jVMEeP5zDu6v"
   },
   "outputs": [],
   "source": [
    "errs = []\n",
    "b = 0\n",
    "m = 0\n",
    "\n",
    "for i in range(100):\n",
    "    err = error(b, m, x, y)\n",
    "    errs.append(err)\n",
    "    b, m = step_gradient(b, m, x, y, 0.00000001)\n",
    "    # Stop after errors don't change too much\n",
    "    if len(errs) > 1:\n",
    "        if (errs[-2] - errs[-1]) / errs[-2] < 0.01:\n",
    "            print (i)\n",
    "            break"
   ]
  },
  {
   "cell_type": "code",
   "execution_count": null,
   "metadata": {
    "ExecuteTime": {
     "end_time": "2019-10-17T16:56:42.814267Z",
     "start_time": "2019-10-17T16:56:42.716524Z"
    },
    "colab": {},
    "colab_type": "code",
    "hidden": true,
    "id": "IFjpJnK6Du6y"
   },
   "outputs": [],
   "source": [
    "plt.plot(range(len(errs)), errs)\n",
    "plt.show()"
   ]
  },
  {
   "cell_type": "code",
   "execution_count": null,
   "metadata": {
    "ExecuteTime": {
     "end_time": "2019-10-17T16:56:53.873728Z",
     "start_time": "2019-10-17T16:56:43.044496Z"
    },
    "colab": {},
    "colab_type": "code",
    "hidden": true,
    "id": "un5eqJxcDu6z",
    "scrolled": false
   },
   "outputs": [],
   "source": [
    "errs = []\n",
    "b = 0\n",
    "m = 0\n",
    "\n",
    "for i in range(100):\n",
    "    err = error(b, m, x, y)\n",
    "    errs.append(err)\n",
    "    if (i > 1) & (i % 10 == 0):\n",
    "        fig = plt.figure(figsize = (12, 8))\n",
    "        ax1 = plt.subplot(1, 2, 1)\n",
    "        ax1.scatter(x, y, label = 'Raw Data')\n",
    "        ax1.plot(x, regression_formula(x, m, b), \n",
    "                 color = 'k', label = 'Regression')\n",
    "        plt.legend()\n",
    "        ax1.set_title(f'Iteration Number {i}')\n",
    "        ax2 = plt.subplot(1, 2, 2)\n",
    "        ax2.plot(range(i + 1), errs)\n",
    "        ax2.set_title(f'Error {round(error(m, b, x, y), 0)}')\n",
    "        plt.show()\n",
    "    b, m = step_gradient(b, m, x, y, 0.00000001)"
   ]
  },
  {
   "cell_type": "markdown",
   "metadata": {},
   "source": [
    "# Using Scikit-Learn"
   ]
  },
  {
   "cell_type": "code",
   "execution_count": null,
   "metadata": {
    "ExecuteTime": {
     "end_time": "2019-10-17T16:56:54.098025Z",
     "start_time": "2019-10-17T16:56:54.095601Z"
    },
    "colab": {},
    "colab_type": "code",
    "id": "kfL1H_mRDu61"
   },
   "outputs": [],
   "source": [
    "from sklearn.linear_model import LinearRegression"
   ]
  },
  {
   "cell_type": "code",
   "execution_count": null,
   "metadata": {
    "ExecuteTime": {
     "end_time": "2019-10-17T16:56:54.323184Z",
     "start_time": "2019-10-17T16:56:54.321209Z"
    },
    "colab": {},
    "colab_type": "code",
    "id": "B720G49_Du62"
   },
   "outputs": [],
   "source": [
    "linreg = LinearRegression()"
   ]
  },
  {
   "cell_type": "code",
   "execution_count": null,
   "metadata": {
    "ExecuteTime": {
     "end_time": "2019-10-17T16:56:54.543289Z",
     "start_time": "2019-10-17T16:56:54.538188Z"
    },
    "colab": {},
    "colab_type": "code",
    "id": "4Q_3jY0IDu63"
   },
   "outputs": [],
   "source": [
    "linreg.fit(x.values.reshape(-1, 1), y.values.reshape(-1, 1))"
   ]
  },
  {
   "cell_type": "code",
   "execution_count": null,
   "metadata": {
    "ExecuteTime": {
     "end_time": "2019-10-17T16:56:54.767321Z",
     "start_time": "2019-10-17T16:56:54.764191Z"
    },
    "colab": {},
    "colab_type": "code",
    "id": "mnXoCgkFDu64"
   },
   "outputs": [],
   "source": [
    "linreg.coef_[0][0]"
   ]
  },
  {
   "cell_type": "code",
   "execution_count": null,
   "metadata": {
    "ExecuteTime": {
     "end_time": "2019-10-17T16:56:55.006115Z",
     "start_time": "2019-10-17T16:56:55.003238Z"
    },
    "colab": {},
    "colab_type": "code",
    "id": "QRsoio6bDu66"
   },
   "outputs": [],
   "source": [
    "linreg.intercept_[0]"
   ]
  },
  {
   "cell_type": "code",
   "execution_count": null,
   "metadata": {
    "ExecuteTime": {
     "end_time": "2019-10-17T16:56:55.231236Z",
     "start_time": "2019-10-17T16:56:55.228283Z"
    },
    "colab": {},
    "colab_type": "code",
    "id": "VBnXOg7fDu68"
   },
   "outputs": [],
   "source": [
    "m, b"
   ]
  },
  {
   "cell_type": "code",
   "execution_count": null,
   "metadata": {
    "ExecuteTime": {
     "end_time": "2019-10-17T16:56:55.689129Z",
     "start_time": "2019-10-17T16:56:55.442037Z"
    },
    "colab": {},
    "colab_type": "code",
    "id": "fxv0-SckDu6-"
   },
   "outputs": [],
   "source": [
    "fig = plt.figure(figsize = (12, 8))\n",
    "ax1 = plt.subplot(1, 2, 1)\n",
    "ax2 = plt.subplot(1, 2, 2)\n",
    "\n",
    "ax1.scatter(x, y, label = 'Raw Data')\n",
    "ax1.plot(x, regression_formula(x, m, b), \n",
    "         color = 'k', label = 'Regression')\n",
    "ax1.set_title('Gradient Descent')\n",
    "ax2.scatter(x, y, label = 'Raw Data')\n",
    "ax2.plot(x, regression_formula(x, linreg.coef_[0][0], linreg.intercept_[0]), \n",
    "         color = 'k', label = 'Regression')\n",
    "ax2.set_title('Sklearn')"
   ]
  },
  {
   "cell_type": "code",
   "execution_count": null,
   "metadata": {
    "ExecuteTime": {
     "end_time": "2019-10-17T16:56:55.897787Z",
     "start_time": "2019-10-17T16:56:55.894918Z"
    },
    "colab": {},
    "colab_type": "code",
    "id": "1qJFwk2tDu6_"
   },
   "outputs": [],
   "source": [
    "b"
   ]
  },
  {
   "cell_type": "code",
   "execution_count": null,
   "metadata": {
    "ExecuteTime": {
     "end_time": "2019-10-17T16:56:56.160034Z",
     "start_time": "2019-10-17T16:56:56.124288Z"
    },
    "colab": {},
    "colab_type": "code",
    "id": "2-bpw7RfDu7A"
   },
   "outputs": [],
   "source": [
    "np.sqrt(error(m, b, x, y))"
   ]
  },
  {
   "cell_type": "code",
   "execution_count": null,
   "metadata": {
    "ExecuteTime": {
     "end_time": "2019-10-17T16:56:56.401533Z",
     "start_time": "2019-10-17T16:56:56.370543Z"
    },
    "colab": {},
    "colab_type": "code",
    "id": "E7ncYnBVDu7B"
   },
   "outputs": [],
   "source": [
    "np.sqrt(error(linreg.coef_[0][0], linreg.intercept_[0], x, y))"
   ]
  },
  {
   "cell_type": "code",
   "execution_count": null,
   "metadata": {
    "ExecuteTime": {
     "end_time": "2019-10-17T16:56:56.652701Z",
     "start_time": "2019-10-17T16:56:56.621710Z"
    },
    "colab": {},
    "colab_type": "code",
    "id": "cfWziWeaDu7C"
   },
   "outputs": [],
   "source": [
    "error(m, b, x, y)"
   ]
  }
 ],
 "metadata": {
  "colab": {
   "collapsed_sections": [],
   "name": "Walkthrough_Gradient_Descent.ipynb",
   "provenance": []
  },
  "kernelspec": {
   "display_name": "Python [conda env:learn-env] *",
   "language": "python",
   "name": "conda-env-learn-env-py"
  },
  "language_info": {
   "codemirror_mode": {
    "name": "ipython",
    "version": 3
   },
   "file_extension": ".py",
   "mimetype": "text/x-python",
   "name": "python",
   "nbconvert_exporter": "python",
   "pygments_lexer": "ipython3",
   "version": "3.6.9"
  },
  "toc": {
   "base_numbering": 1,
   "nav_menu": {},
   "number_sections": true,
   "sideBar": true,
   "skip_h1_title": false,
   "title_cell": "Table of Contents",
   "title_sidebar": "Contents",
   "toc_cell": false,
   "toc_position": {
    "height": "453.6px",
    "left": "0px",
    "top": "110.833px",
    "width": "230.4px"
   },
   "toc_section_display": true,
   "toc_window_display": true
  },
  "varInspector": {
   "cols": {
    "lenName": 16,
    "lenType": 16,
    "lenVar": 40
   },
   "kernels_config": {
    "python": {
     "delete_cmd_postfix": "",
     "delete_cmd_prefix": "del ",
     "library": "var_list.py",
     "varRefreshCmd": "print(var_dic_list())"
    },
    "r": {
     "delete_cmd_postfix": ") ",
     "delete_cmd_prefix": "rm(",
     "library": "var_list.r",
     "varRefreshCmd": "cat(var_dic_list()) "
    }
   },
   "types_to_exclude": [
    "module",
    "function",
    "builtin_function_or_method",
    "instance",
    "_Feature"
   ],
   "window_display": false
  }
 },
 "nbformat": 4,
 "nbformat_minor": 2
}
