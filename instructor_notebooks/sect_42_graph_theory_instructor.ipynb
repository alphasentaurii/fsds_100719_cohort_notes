{
 "cells": [
  {
   "cell_type": "markdown",
   "metadata": {
    "colab_type": "text",
    "id": "1D7nK5qU_M7X"
   },
   "source": [
    "# Sect 42: Graph Theory"
   ]
  },
  {
   "cell_type": "markdown",
   "metadata": {
    "colab_type": "text",
    "id": "1D7nK5qU_M7X"
   },
   "source": [
    ">A \"Graph\" in mathematical and computer science terms consists of \"Nodes\" or \"Vertices\". Nodes/Vertices may or may not be connected with one another. The connecting line between two nodes is called an \"edge\". \n",
    "\n",
    "- Linked Refs:\n",
    "    - [Graph Theory Basics](https://www.geeksforgeeks.org/mathematics-graph-theory-basics-set-1/)\n",
    "    - [A Gentle Intro to Graph Theory](https://medium.com/basecs/a-gentle-introduction-to-graph-theory-77969829ead8)\n",
    "    \n",
    "    \n",
    "   <img src=\"https://raw.githubusercontent.com/learn-co-students/dsc-intro-graph-theory-online-ds-ft-100719/master/images/graph2.png\" width=400>\n",
    "   \n",
    "<!---   \n",
    "<img src=\"https://raw.githubusercontent.com/learn-co-students/dsc-intro-graph-theory-online-ds-ft-100719/master/images/graph3.png\" width=400>--->"
   ]
  },
  {
   "cell_type": "markdown",
   "metadata": {
    "colab_type": "text",
    "id": "-Eok_IyvDsEV"
   },
   "source": [
    "### Graph Components  and Characteristics"
   ]
  },
  {
   "cell_type": "markdown",
   "metadata": {
    "colab_type": "text",
    "id": "-Eok_IyvDsEV"
   },
   "source": [
    "<img src=\"https://www.dropbox.com/s/s73t4jezg0wz6ml/Nodes%20and%20Edges.png?raw=1\" width =250>\n",
    "\n",
    "- **Basic Pieces of a Graph**\n",
    "    - __Node / Vertex__: The entity of analysis which has a relationship. \n",
    "        Node is used in the network context, vertex is used in the graph theory context, but commonly interchanged.\n",
    "\n",
    "    - __Link / Edge / Relationship__: The connections between the nodes.\n",
    "        Link is used in the network context, edge is used in the graph theory context, and all words are used interchangably with *relationship*.\n",
    "\n",
    "    - __Attributes__: Both nodes and edges can store attributes, which contain additional data about that object.\n",
    "\n",
    "    - __Weight__: A common *attribute* of edges, used to indicate *strength* or *value* of a relationship."
   ]
  },
  {
   "cell_type": "markdown",
   "metadata": {},
   "source": [
    "### General Concepts:\n",
    "\n",
    "- Directed vs Undirected Graphs:\n",
    "<img src=\"https://raw.githubusercontent.com/learn-co-students/dsc-intro-graph-theory-online-ds-ft-100719/master/images/graph3.png\" width=400>"
   ]
  },
  {
   "cell_type": "markdown",
   "metadata": {},
   "source": [
    "- **Connectedness:**\n",
    "    - Quantifies the number of edges attached to a node.\n",
    "    - \n",
    "- **Path Searching:**\n",
    "    - Aims to find the shortest distance between any two nodes."
   ]
  },
  {
   "cell_type": "markdown",
   "metadata": {
    "colab_type": "text",
    "id": "-Eok_IyvDsEV"
   },
   "source": [
    "### Terminology\n",
    "- Adjacent Nodes:\n",
    "    - Node v is adjacent to node u if and only if there exists an edge between u and v.\n",
    "\n",
    "\n",
    "- Path:\n",
    "    - A path of length n from node u to note v is defined as sequence of n+1 nodes.\n",
    "    $$P(u,v)=(v0,v1,v2,v3…….vn)$$\n",
    "\n",
    "\n",
    "- Degree of a node:\n",
    "    - In undirected graph\n",
    "        - A node's **degree** is the  # of nodes 'incident upon' the node. (AKA connected).\n",
    "    - In a directed graph,\n",
    "        - a node's **Indegree** is the # of arriving edges to the node\n",
    "        - **Outdegree** is the # of departing edges. \n",
    "- Isolated Nodes\n",
    "    - Have no connection (degree=0)\n",
    "    - Isolated nodes cannot be found by _breadth first search_ (BFS)\n",
    "\n",
    "<img src=\"https://www.dropbox.com/s/6ssw6smhwsntktw/deg.png?raw=1\" width=500>    "
   ]
  },
  {
   "cell_type": "markdown",
   "metadata": {
    "colab_type": "text",
    "id": "-Eok_IyvDsEV"
   },
   "source": [
    "- **Graph Thoery Summary**\n",
    "\n",
    "<img src=\"https://www.dropbox.com/s/g5sxt0udv7wkbck/summary.png?raw=1\" width=700>\n",
    "\n",
    "\n",
    "\n",
    "|          -     | Absent     | Present  |\n",
    "| --- | --- | --- |\n",
    "| __Weights__ | Unweighted | Weighted |\n",
    "| __Directionality__ | Undirected | Directed |"
   ]
  },
  {
   "cell_type": "markdown",
   "metadata": {},
   "source": [
    "# Making a network with NetworkX\n",
    "\n",
    "- https://networkx.github.io/documentation/stable/index.html\n",
    "- https://networkx.github.io/documentation/networkx-1.10/reference/generated/networkx.drawing.nx_pylab.draw_networkx_nodes.html"
   ]
  },
  {
   "cell_type": "markdown",
   "metadata": {},
   "source": [
    "### Creating Graphs"
   ]
  },
  {
   "cell_type": "markdown",
   "metadata": {},
   "source": [
    "```python\n",
    "## Creating a Graph from Scratch\n",
    "import networkx as nx\n",
    "G = nx.Graph()\n",
    "\n",
    "G.add_node('Node1')\n",
    "G.add_node('Node2')\n",
    "\n",
    "G.add_edge('Node1','Node2')\n",
    "\n",
    "## To Visualize\n",
    "nx.draw(G. with_labels=True, node_color='purple',\n",
    "node_size=2000, alpha=0.7, font_weight='bold')\n",
    "```\n",
    "\n",
    "- **`nx.draw()` Parameters:**\n",
    "    * `with_labels` (boolean) - would you like labels for your nodes?\n",
    "    * `node_color` (color) - what color do you want your nodes?\n",
    "    * `node_size` (real) - how big do you want your nodes? (300 is default)\n",
    "    * `alpha` (real) - node transparency, must be between 0 and 1, 1 being the default\n",
    "    * `font_weight` (string) - additional formatting for the label text"
   ]
  },
  {
   "cell_type": "markdown",
   "metadata": {},
   "source": [
    "```python\n",
    "## Creating a graph from a DataFrame\n",
    "df = pd.read_csv('../datasets/Airlines.csv')\n",
    "\n",
    "df_graph = nx.from_pandas_edgelist(df,\n",
    "                                   source='origin',\n",
    "                                   target='dest',\n",
    "                                  edge_attr=True)\n",
    "\n",
    "```\n"
   ]
  },
  {
   "cell_type": "markdown",
   "metadata": {},
   "source": [
    "### Analyzing Paths"
   ]
  },
  {
   "cell_type": "markdown",
   "metadata": {},
   "source": [
    "```python\n",
    "## check if path exists\n",
    "nx.has_path(G,'Node1','Node2')\n",
    "\n",
    "## Get shortest path conenctions\n",
    "nx.shortest_path(G,'Node1','Node3')\n",
    "\n",
    "## get length of shortest path\n",
    "nx.shortest_path_length(G, 'Node1', 'Node2')\n",
    "\n",
    "## NOTE THE ALGORITHM USED FOR SHORTEST PATH IS Dijkstra. \n",
    "\n",
    "## shorest_path == dijkstra\n",
    "nx.dijkstra(G,'Node1','Node3')\n",
    "\n",
    "## get length of shortest path\n",
    "nx.dijkstra_path_length(G, 'Node1', 'Node2')\n",
    "\n",
    "\n",
    "```"
   ]
  },
  {
   "cell_type": "markdown",
   "metadata": {},
   "source": [
    "## Node Centrality"
   ]
  },
  {
   "cell_type": "markdown",
   "metadata": {},
   "source": [
    "- Degree Centrality\n",
    "    - Degree=number of edges attached to a node.\n",
    "    - `nx.degree(G)`\n",
    "\n",
    "- Closeness Centrality\n",
    "    - Essentially the average distanfce from that node to any other noded.\n",
    "    - Uses Dijkstra's algorithm \n",
    "    - `nx.closeness_centrality(G,'Node1')`\n",
    "    \n",
    "- Betweenness Centrality\n",
    "    - Measure of how much of a \"stepping stone\" a node is.\n",
    "        - How much that node appears on the other nodes' shortest paths\n",
    "    \n",
    "    - To calculate betweenness, first calculate shortest paths for all nodes.\n",
    "        - Next, count the number of the shortest paths that this node lies on.\n",
    "        - Normalize so value is between 0 and 1.\n",
    "    - `nx.betweenness_centrality(G)['Node2'])`\n",
    "\n",
    "\n",
    "- Eigenvector Centrality\n",
    "    - Iterative algorithm that attempts to measure a node's relative influence in the network.\n",
    "    - Like degree centrality, but includes how important/central the other connected nodes are.\n",
    "    \n",
    "    - `nx.eigenvector_centrality(G)['Node2']`"
   ]
  },
  {
   "cell_type": "code",
   "execution_count": 1,
   "metadata": {
    "ExecuteTime": {
     "end_time": "2020-02-04T16:36:00.156459Z",
     "start_time": "2020-02-04T16:35:55.150361Z"
    }
   },
   "outputs": [
    {
     "name": "stdout",
     "output_type": "stream",
     "text": [
      "fsds_1007219  v0.7.4 loaded.  Read the docs: https://fsds.readthedocs.io/en/latest/ \n"
     ]
    },
    {
     "data": {
      "text/html": [
       "<style  type=\"text/css\" >\n",
       "</style><table id=\"T_6cc684da_476c_11ea_a29d_acde48001122\" ><caption>Loaded Packages and Handles</caption><thead>    <tr>        <th class=\"col_heading level0 col0\" >Handle</th>        <th class=\"col_heading level0 col1\" >Package</th>        <th class=\"col_heading level0 col2\" >Description</th>    </tr></thead><tbody>\n",
       "                <tr>\n",
       "                                <td id=\"T_6cc684da_476c_11ea_a29d_acde48001122row0_col0\" class=\"data row0 col0\" >dp</td>\n",
       "                        <td id=\"T_6cc684da_476c_11ea_a29d_acde48001122row0_col1\" class=\"data row0 col1\" >IPython.display</td>\n",
       "                        <td id=\"T_6cc684da_476c_11ea_a29d_acde48001122row0_col2\" class=\"data row0 col2\" >Display modules with helpful display and clearing commands.</td>\n",
       "            </tr>\n",
       "            <tr>\n",
       "                                <td id=\"T_6cc684da_476c_11ea_a29d_acde48001122row1_col0\" class=\"data row1 col0\" >fs</td>\n",
       "                        <td id=\"T_6cc684da_476c_11ea_a29d_acde48001122row1_col1\" class=\"data row1 col1\" >fsds_100719</td>\n",
       "                        <td id=\"T_6cc684da_476c_11ea_a29d_acde48001122row1_col2\" class=\"data row1 col2\" >Custom data science bootcamp student package</td>\n",
       "            </tr>\n",
       "            <tr>\n",
       "                                <td id=\"T_6cc684da_476c_11ea_a29d_acde48001122row2_col0\" class=\"data row2 col0\" >mpl</td>\n",
       "                        <td id=\"T_6cc684da_476c_11ea_a29d_acde48001122row2_col1\" class=\"data row2 col1\" >matplotlib</td>\n",
       "                        <td id=\"T_6cc684da_476c_11ea_a29d_acde48001122row2_col2\" class=\"data row2 col2\" >Matplotlib's base OOP module with formatting artists</td>\n",
       "            </tr>\n",
       "            <tr>\n",
       "                                <td id=\"T_6cc684da_476c_11ea_a29d_acde48001122row3_col0\" class=\"data row3 col0\" >plt</td>\n",
       "                        <td id=\"T_6cc684da_476c_11ea_a29d_acde48001122row3_col1\" class=\"data row3 col1\" >matplotlib.pyplot</td>\n",
       "                        <td id=\"T_6cc684da_476c_11ea_a29d_acde48001122row3_col2\" class=\"data row3 col2\" >Matplotlib's matlab-like plotting module</td>\n",
       "            </tr>\n",
       "            <tr>\n",
       "                                <td id=\"T_6cc684da_476c_11ea_a29d_acde48001122row4_col0\" class=\"data row4 col0\" >np</td>\n",
       "                        <td id=\"T_6cc684da_476c_11ea_a29d_acde48001122row4_col1\" class=\"data row4 col1\" >numpy</td>\n",
       "                        <td id=\"T_6cc684da_476c_11ea_a29d_acde48001122row4_col2\" class=\"data row4 col2\" >scientific computing with Python</td>\n",
       "            </tr>\n",
       "            <tr>\n",
       "                                <td id=\"T_6cc684da_476c_11ea_a29d_acde48001122row5_col0\" class=\"data row5 col0\" >pd</td>\n",
       "                        <td id=\"T_6cc684da_476c_11ea_a29d_acde48001122row5_col1\" class=\"data row5 col1\" >pandas</td>\n",
       "                        <td id=\"T_6cc684da_476c_11ea_a29d_acde48001122row5_col2\" class=\"data row5 col2\" >High performance data structures and tools</td>\n",
       "            </tr>\n",
       "            <tr>\n",
       "                                <td id=\"T_6cc684da_476c_11ea_a29d_acde48001122row6_col0\" class=\"data row6 col0\" >sns</td>\n",
       "                        <td id=\"T_6cc684da_476c_11ea_a29d_acde48001122row6_col1\" class=\"data row6 col1\" >seaborn</td>\n",
       "                        <td id=\"T_6cc684da_476c_11ea_a29d_acde48001122row6_col2\" class=\"data row6 col2\" >High-level data visualization library based on matplotlib</td>\n",
       "            </tr>\n",
       "    </tbody></table>"
      ],
      "text/plain": [
       "<pandas.io.formats.style.Styler at 0x1a25181588>"
      ]
     },
     "metadata": {},
     "output_type": "display_data"
    },
    {
     "data": {
      "text/html": [
       "        <script type=\"text/javascript\">\n",
       "        window.PlotlyConfig = {MathJaxConfig: 'local'};\n",
       "        if (window.MathJax) {MathJax.Hub.Config({SVG: {font: \"STIX-Web\"}});}\n",
       "        if (typeof require !== 'undefined') {\n",
       "        require.undef(\"plotly\");\n",
       "        requirejs.config({\n",
       "            paths: {\n",
       "                'plotly': ['https://cdn.plot.ly/plotly-latest.min']\n",
       "            }\n",
       "        });\n",
       "        require(['plotly'], function(Plotly) {\n",
       "            window._Plotly = Plotly;\n",
       "        });\n",
       "        }\n",
       "        </script>\n",
       "        "
      ]
     },
     "metadata": {},
     "output_type": "display_data"
    },
    {
     "name": "stdout",
     "output_type": "stream",
     "text": [
      "['[i] Pandas .iplot() method activated.']\n"
     ]
    }
   ],
   "source": [
    "!pip install -U fsds_100719\n",
    "from fsds_100719.imports import *"
   ]
  },
  {
   "cell_type": "markdown",
   "metadata": {},
   "source": [
    "## Using Graph Theory for Social Analyses"
   ]
  },
  {
   "cell_type": "markdown",
   "metadata": {},
   "source": [
    "### Gay vs Straight Entanglements"
   ]
  },
  {
   "cell_type": "markdown",
   "metadata": {},
   "source": [
    "> Us gay men are notorious for being high-drama, but is that an inherent quality or is that a by product of social organization? \n",
    "- Let's examine using a little Graph Theory!"
   ]
  },
  {
   "cell_type": "markdown",
   "metadata": {},
   "source": [
    "#### First, real-world historical drama"
   ]
  },
  {
   "cell_type": "code",
   "execution_count": 2,
   "metadata": {
    "ExecuteTime": {
     "end_time": "2020-02-04T16:36:00.438463Z",
     "start_time": "2020-02-04T16:36:00.157877Z"
    }
   },
   "outputs": [],
   "source": [
    "import networkx as nx"
   ]
  },
  {
   "cell_type": "code",
   "execution_count": 3,
   "metadata": {
    "ExecuteTime": {
     "end_time": "2020-02-04T16:36:00.621193Z",
     "start_time": "2020-02-04T16:36:00.440320Z"
    }
   },
   "outputs": [
    {
     "name": "stderr",
     "output_type": "stream",
     "text": [
      "//anaconda3/envs/learn-env/lib/python3.6/site-packages/networkx/drawing/nx_pylab.py:579: MatplotlibDeprecationWarning:\n",
      "\n",
      "\n",
      "The iterable function was deprecated in Matplotlib 3.1 and will be removed in 3.3. Use np.iterable instead.\n",
      "\n"
     ]
    },
    {
     "data": {
      "image/png": "[encoded data removed]",
      "text/plain": [
       "<Figure size 432x288 with 1 Axes>"
      ]
     },
     "metadata": {},
     "output_type": "display_data"
    }
   ],
   "source": [
    "s_people = ['John','Gwen','Kimmie', 'Mark','Sylvie']\n",
    "s_colors = ['blue','pink','pink','blue','pink']\n",
    "\n",
    "s_relations = {\"John\":['Gwen','Kimmie'],\n",
    "              \"Mark\":[\"Gwen\",'Kimmie'],\n",
    "              'Sylvie':['John']}\n",
    "\n",
    "Gs = nx.Graph()\n",
    "for person in s_people:\n",
    "    Gs.add_node(person)\n",
    "\n",
    "for p1 in s_relations:\n",
    "    p2s = s_relations[p1]\n",
    "    \n",
    "    for p2 in p2s:\n",
    "        Gs.add_edge(p1,p2)\n",
    "        \n",
    "nx.draw(Gs, \n",
    "        with_labels=True,\n",
    "        node_color=s_colors,#'aqua',\n",
    "        node_size=2000,\n",
    "        alpha=0.7, \n",
    "        font_weight='bold')"
   ]
  },
  {
   "cell_type": "code",
   "execution_count": 30,
   "metadata": {
    "ExecuteTime": {
     "end_time": "2020-02-04T16:41:34.213221Z",
     "start_time": "2020-02-04T16:41:33.976315Z"
    }
   },
   "outputs": [
    {
     "data": {
      "application/vnd.plotly.v1+json": {
       "config": {
        "linkText": "Export to plot.ly",
        "plotlyServerURL": "https://plot.ly",
        "showLink": true
       },
       "data": [
        {
         "marker": {
          "color": "rgba(255, 153, 51, 0.6)",
          "line": {
           "color": "rgba(255, 153, 51, 1.0)",
           "width": 1
          }
         },
         "name": "Degree",
         "orientation": "v",
         "text": "",
         "type": "bar",
         "x": [
          "John",
          "Gwen",
          "Kimmie",
          "Mark",
          "Sylvie"
         ],
         "y": [
          3,
          2,
          2,
          2,
          1
         ]
        }
       ],
       "layout": {
        "legend": {
         "bgcolor": "#F5F6F9",
         "font": {
          "color": "#4D5663"
         }
        },
        "paper_bgcolor": "#F5F6F9",
        "plot_bgcolor": "#F5F6F9",
        "template": {
         "data": {
          "bar": [
           {
            "error_x": {
             "color": "#2a3f5f"
            },
            "error_y": {
             "color": "#2a3f5f"
            },
            "marker": {
             "line": {
              "color": "#E5ECF6",
              "width": 0.5
             }
            },
            "type": "bar"
           }
          ],
          "barpolar": [
           {
            "marker": {
             "line": {
              "color": "#E5ECF6",
              "width": 0.5
             }
            },
            "type": "barpolar"
           }
          ],
          "carpet": [
           {
            "aaxis": {
             "endlinecolor": "#2a3f5f",
             "gridcolor": "white",
             "linecolor": "white",
             "minorgridcolor": "white",
             "startlinecolor": "#2a3f5f"
            },
            "baxis": {
             "endlinecolor": "#2a3f5f",
             "gridcolor": "white",
             "linecolor": "white",
             "minorgridcolor": "white",
             "startlinecolor": "#2a3f5f"
            },
            "type": "carpet"
           }
          ],
          "choropleth": [
           {
            "colorbar": {
             "outlinewidth": 0,
             "ticks": ""
            },
            "type": "choropleth"
           }
          ],
          "contour": [
           {
            "colorbar": {
             "outlinewidth": 0,
             "ticks": ""
            },
            "colorscale": [
             [
              0,
              "#0d0887"
             ],
             [
              0.1111111111111111,
              "#46039f"
             ],
             [
              0.2222222222222222,
              "#7201a8"
             ],
             [
              0.3333333333333333,
              "#9c179e"
             ],
             [
              0.4444444444444444,
              "#bd3786"
             ],
             [
              0.5555555555555556,
              "#d8576b"
             ],
             [
              0.6666666666666666,
              "#ed7953"
             ],
             [
              0.7777777777777778,
              "#fb9f3a"
             ],
             [
              0.8888888888888888,
              "#fdca26"
             ],
             [
              1,
              "#f0f921"
             ]
            ],
            "type": "contour"
           }
          ],
          "contourcarpet": [
           {
            "colorbar": {
             "outlinewidth": 0,
             "ticks": ""
            },
            "type": "contourcarpet"
           }
          ],
          "heatmap": [
           {
            "colorbar": {
             "outlinewidth": 0,
             "ticks": ""
            },
            "colorscale": [
             [
              0,
              "#0d0887"
             ],
             [
              0.1111111111111111,
              "#46039f"
             ],
             [
              0.2222222222222222,
              "#7201a8"
             ],
             [
              0.3333333333333333,
              "#9c179e"
             ],
             [
              0.4444444444444444,
              "#bd3786"
             ],
             [
              0.5555555555555556,
              "#d8576b"
             ],
             [
              0.6666666666666666,
              "#ed7953"
             ],
             [
              0.7777777777777778,
              "#fb9f3a"
             ],
             [
              0.8888888888888888,
              "#fdca26"
             ],
             [
              1,
              "#f0f921"
             ]
            ],
            "type": "heatmap"
           }
          ],
          "heatmapgl": [
           {
            "colorbar": {
             "outlinewidth": 0,
             "ticks": ""
            },
            "colorscale": [
             [
              0,
              "#0d0887"
             ],
             [
              0.1111111111111111,
              "#46039f"
             ],
             [
              0.2222222222222222,
              "#7201a8"
             ],
             [
              0.3333333333333333,
              "#9c179e"
             ],
             [
              0.4444444444444444,
              "#bd3786"
             ],
             [
              0.5555555555555556,
              "#d8576b"
             ],
             [
              0.6666666666666666,
              "#ed7953"
             ],
             [
              0.7777777777777778,
              "#fb9f3a"
             ],
             [
              0.8888888888888888,
              "#fdca26"
             ],
             [
              1,
              "#f0f921"
             ]
            ],
            "type": "heatmapgl"
           }
          ],
          "histogram": [
           {
            "marker": {
             "colorbar": {
              "outlinewidth": 0,
              "ticks": ""
             }
            },
            "type": "histogram"
           }
          ],
          "histogram2d": [
           {
            "colorbar": {
             "outlinewidth": 0,
             "ticks": ""
            },
            "colorscale": [
             [
              0,
              "#0d0887"
             ],
             [
              0.1111111111111111,
              "#46039f"
             ],
             [
              0.2222222222222222,
              "#7201a8"
             ],
             [
              0.3333333333333333,
              "#9c179e"
             ],
             [
              0.4444444444444444,
              "#bd3786"
             ],
             [
              0.5555555555555556,
              "#d8576b"
             ],
             [
              0.6666666666666666,
              "#ed7953"
             ],
             [
              0.7777777777777778,
              "#fb9f3a"
             ],
             [
              0.8888888888888888,
              "#fdca26"
             ],
             [
              1,
              "#f0f921"
             ]
            ],
            "type": "histogram2d"
           }
          ],
          "histogram2dcontour": [
           {
            "colorbar": {
             "outlinewidth": 0,
             "ticks": ""
            },
            "colorscale": [
             [
              0,
              "#0d0887"
             ],
             [
              0.1111111111111111,
              "#46039f"
             ],
             [
              0.2222222222222222,
              "#7201a8"
             ],
             [
              0.3333333333333333,
              "#9c179e"
             ],
             [
              0.4444444444444444,
              "#bd3786"
             ],
             [
              0.5555555555555556,
              "#d8576b"
             ],
             [
              0.6666666666666666,
              "#ed7953"
             ],
             [
              0.7777777777777778,
              "#fb9f3a"
             ],
             [
              0.8888888888888888,
              "#fdca26"
             ],
             [
              1,
              "#f0f921"
             ]
            ],
            "type": "histogram2dcontour"
           }
          ],
          "mesh3d": [
           {
            "colorbar": {
             "outlinewidth": 0,
             "ticks": ""
            },
            "type": "mesh3d"
           }
          ],
          "parcoords": [
           {
            "line": {
             "colorbar": {
              "outlinewidth": 0,
              "ticks": ""
             }
            },
            "type": "parcoords"
           }
          ],
          "pie": [
           {
            "automargin": true,
            "type": "pie"
           }
          ],
          "scatter": [
           {
            "marker": {
             "colorbar": {
              "outlinewidth": 0,
              "ticks": ""
             }
            },
            "type": "scatter"
           }
          ],
          "scatter3d": [
           {
            "line": {
             "colorbar": {
              "outlinewidth": 0,
              "ticks": ""
             }
            },
            "marker": {
             "colorbar": {
              "outlinewidth": 0,
              "ticks": ""
             }
            },
            "type": "scatter3d"
           }
          ],
          "scattercarpet": [
           {
            "marker": {
             "colorbar": {
              "outlinewidth": 0,
              "ticks": ""
             }
            },
            "type": "scattercarpet"
           }
          ],
          "scattergeo": [
           {
            "marker": {
             "colorbar": {
              "outlinewidth": 0,
              "ticks": ""
             }
            },
            "type": "scattergeo"
           }
          ],
          "scattergl": [
           {
            "marker": {
             "colorbar": {
              "outlinewidth": 0,
              "ticks": ""
             }
            },
            "type": "scattergl"
           }
          ],
          "scattermapbox": [
           {
            "marker": {
             "colorbar": {
              "outlinewidth": 0,
              "ticks": ""
             }
            },
            "type": "scattermapbox"
           }
          ],
          "scatterpolar": [
           {
            "marker": {
             "colorbar": {
              "outlinewidth": 0,
              "ticks": ""
             }
            },
            "type": "scatterpolar"
           }
          ],
          "scatterpolargl": [
           {
            "marker": {
             "colorbar": {
              "outlinewidth": 0,
              "ticks": ""
             }
            },
            "type": "scatterpolargl"
           }
          ],
          "scatterternary": [
           {
            "marker": {
             "colorbar": {
              "outlinewidth": 0,
              "ticks": ""
             }
            },
            "type": "scatterternary"
           }
          ],
          "surface": [
           {
            "colorbar": {
             "outlinewidth": 0,
             "ticks": ""
            },
            "colorscale": [
             [
              0,
              "#0d0887"
             ],
             [
              0.1111111111111111,
              "#46039f"
             ],
             [
              0.2222222222222222,
              "#7201a8"
             ],
             [
              0.3333333333333333,
              "#9c179e"
             ],
             [
              0.4444444444444444,
              "#bd3786"
             ],
             [
              0.5555555555555556,
              "#d8576b"
             ],
             [
              0.6666666666666666,
              "#ed7953"
             ],
             [
              0.7777777777777778,
              "#fb9f3a"
             ],
             [
              0.8888888888888888,
              "#fdca26"
             ],
             [
              1,
              "#f0f921"
             ]
            ],
            "type": "surface"
           }
          ],
          "table": [
           {
            "cells": {
             "fill": {
              "color": "#EBF0F8"
             },
             "line": {
              "color": "white"
             }
            },
            "header": {
             "fill": {
              "color": "#C8D4E3"
             },
             "line": {
              "color": "white"
             }
            },
            "type": "table"
           }
          ]
         },
         "layout": {
          "annotationdefaults": {
           "arrowcolor": "#2a3f5f",
           "arrowhead": 0,
           "arrowwidth": 1
          },
          "coloraxis": {
           "colorbar": {
            "outlinewidth": 0,
            "ticks": ""
           }
          },
          "colorscale": {
           "diverging": [
            [
             0,
             "#8e0152"
            ],
            [
             0.1,
             "#c51b7d"
            ],
            [
             0.2,
             "#de77ae"
            ],
            [
             0.3,
             "#f1b6da"
            ],
            [
             0.4,
             "#fde0ef"
            ],
            [
             0.5,
             "#f7f7f7"
            ],
            [
             0.6,
             "#e6f5d0"
            ],
            [
             0.7,
             "#b8e186"
            ],
            [
             0.8,
             "#7fbc41"
            ],
            [
             0.9,
             "#4d9221"
            ],
            [
             1,
             "#276419"
            ]
           ],
           "sequential": [
            [
             0,
             "#0d0887"
            ],
            [
             0.1111111111111111,
             "#46039f"
            ],
            [
             0.2222222222222222,
             "#7201a8"
            ],
            [
             0.3333333333333333,
             "#9c179e"
            ],
            [
             0.4444444444444444,
             "#bd3786"
            ],
            [
             0.5555555555555556,
             "#d8576b"
            ],
            [
             0.6666666666666666,
             "#ed7953"
            ],
            [
             0.7777777777777778,
             "#fb9f3a"
            ],
            [
             0.8888888888888888,
             "#fdca26"
            ],
            [
             1,
             "#f0f921"
            ]
           ],
           "sequentialminus": [
            [
             0,
             "#0d0887"
            ],
            [
             0.1111111111111111,
             "#46039f"
            ],
            [
             0.2222222222222222,
             "#7201a8"
            ],
            [
             0.3333333333333333,
             "#9c179e"
            ],
            [
             0.4444444444444444,
             "#bd3786"
            ],
            [
             0.5555555555555556,
             "#d8576b"
            ],
            [
             0.6666666666666666,
             "#ed7953"
            ],
            [
             0.7777777777777778,
             "#fb9f3a"
            ],
            [
             0.8888888888888888,
             "#fdca26"
            ],
            [
             1,
             "#f0f921"
            ]
           ]
          },
          "colorway": [
           "#636efa",
           "#EF553B",
           "#00cc96",
           "#ab63fa",
           "#FFA15A",
           "#19d3f3",
           "#FF6692",
           "#B6E880",
           "#FF97FF",
           "#FECB52"
          ],
          "font": {
           "color": "#2a3f5f"
          },
          "geo": {
           "bgcolor": "white",
           "lakecolor": "white",
           "landcolor": "#E5ECF6",
           "showlakes": true,
           "showland": true,
           "subunitcolor": "white"
          },
          "hoverlabel": {
           "align": "left"
          },
          "hovermode": "closest",
          "mapbox": {
           "style": "light"
          },
          "paper_bgcolor": "white",
          "plot_bgcolor": "#E5ECF6",
          "polar": {
           "angularaxis": {
            "gridcolor": "white",
            "linecolor": "white",
            "ticks": ""
           },
           "bgcolor": "#E5ECF6",
           "radialaxis": {
            "gridcolor": "white",
            "linecolor": "white",
            "ticks": ""
           }
          },
          "scene": {
           "xaxis": {
            "backgroundcolor": "#E5ECF6",
            "gridcolor": "white",
            "gridwidth": 2,
            "linecolor": "white",
            "showbackground": true,
            "ticks": "",
            "zerolinecolor": "white"
           },
           "yaxis": {
            "backgroundcolor": "#E5ECF6",
            "gridcolor": "white",
            "gridwidth": 2,
            "linecolor": "white",
            "showbackground": true,
            "ticks": "",
            "zerolinecolor": "white"
           },
           "zaxis": {
            "backgroundcolor": "#E5ECF6",
            "gridcolor": "white",
            "gridwidth": 2,
            "linecolor": "white",
            "showbackground": true,
            "ticks": "",
            "zerolinecolor": "white"
           }
          },
          "shapedefaults": {
           "line": {
            "color": "#2a3f5f"
           }
          },
          "ternary": {
           "aaxis": {
            "gridcolor": "white",
            "linecolor": "white",
            "ticks": ""
           },
           "baxis": {
            "gridcolor": "white",
            "linecolor": "white",
            "ticks": ""
           },
           "bgcolor": "#E5ECF6",
           "caxis": {
            "gridcolor": "white",
            "linecolor": "white",
            "ticks": ""
           }
          },
          "title": {
           "x": 0.05
          },
          "xaxis": {
           "automargin": true,
           "gridcolor": "white",
           "linecolor": "white",
           "ticks": "",
           "title": {
            "standoff": 15
           },
           "zerolinecolor": "white",
           "zerolinewidth": 2
          },
          "yaxis": {
           "automargin": true,
           "gridcolor": "white",
           "linecolor": "white",
           "ticks": "",
           "title": {
            "standoff": 15
           },
           "zerolinecolor": "white",
           "zerolinewidth": 2
          }
         }
        },
        "title": {
         "font": {
          "color": "#4D5663"
         },
         "text": "Node Centrality By Degree (Total Degrees=10)"
        },
        "xaxis": {
         "gridcolor": "#E1E5ED",
         "showgrid": true,
         "tickfont": {
          "color": "#4D5663"
         },
         "title": {
          "font": {
           "color": "#4D5663"
          },
          "text": ""
         },
         "zerolinecolor": "#E1E5ED"
        },
        "yaxis": {
         "gridcolor": "#E1E5ED",
         "showgrid": true,
         "tickfont": {
          "color": "#4D5663"
         },
         "title": {
          "font": {
           "color": "#4D5663"
          },
          "text": "Degree"
         },
         "zerolinecolor": "#E1E5ED"
        }
       }
      },
      "text/html": [
       "<div>\n",
       "        \n",
       "        \n",
       "            <div id=\"54bd7824-47aa-4efc-b73e-40f4c1fed9cb\" class=\"plotly-graph-div\" style=\"height:525px; width:100%;\"></div>\n",
       "            <script type=\"text/javascript\">\n",
       "                require([\"plotly\"], function(Plotly) {\n",
       "                    window.PLOTLYENV=window.PLOTLYENV || {};\n",
       "                    window.PLOTLYENV.BASE_URL='https://plot.ly';\n",
       "                    \n",
       "                if (document.getElementById(\"54bd7824-47aa-4efc-b73e-40f4c1fed9cb\")) {\n",
       "                    Plotly.newPlot(\n",
       "                        '54bd7824-47aa-4efc-b73e-40f4c1fed9cb',\n",
       "                        [{\"marker\": {\"color\": \"rgba(255, 153, 51, 0.6)\", \"line\": {\"color\": \"rgba(255, 153, 51, 1.0)\", \"width\": 1}}, \"name\": \"Degree\", \"orientation\": \"v\", \"text\": \"\", \"type\": \"bar\", \"x\": [\"John\", \"Gwen\", \"Kimmie\", \"Mark\", \"Sylvie\"], \"y\": [3, 2, 2, 2, 1]}],\n",
       "                        {\"legend\": {\"bgcolor\": \"#F5F6F9\", \"font\": {\"color\": \"#4D5663\"}}, \"paper_bgcolor\": \"#F5F6F9\", \"plot_bgcolor\": \"#F5F6F9\", \"template\": {\"data\": {\"bar\": [{\"error_x\": {\"color\": \"#2a3f5f\"}, \"error_y\": {\"color\": \"#2a3f5f\"}, \"marker\": {\"line\": {\"color\": \"#E5ECF6\", \"width\": 0.5}}, \"type\": \"bar\"}], \"barpolar\": [{\"marker\": {\"line\": {\"color\": \"#E5ECF6\", \"width\": 0.5}}, \"type\": \"barpolar\"}], \"carpet\": [{\"aaxis\": {\"endlinecolor\": \"#2a3f5f\", \"gridcolor\": \"white\", \"linecolor\": \"white\", \"minorgridcolor\": \"white\", \"startlinecolor\": \"#2a3f5f\"}, \"baxis\": {\"endlinecolor\": \"#2a3f5f\", \"gridcolor\": \"white\", \"linecolor\": \"white\", \"minorgridcolor\": \"white\", \"startlinecolor\": \"#2a3f5f\"}, \"type\": \"carpet\"}], \"choropleth\": [{\"colorbar\": {\"outlinewidth\": 0, \"ticks\": \"\"}, \"type\": \"choropleth\"}], \"contour\": [{\"colorbar\": {\"outlinewidth\": 0, \"ticks\": \"\"}, \"colorscale\": [[0.0, \"#0d0887\"], [0.1111111111111111, \"#46039f\"], [0.2222222222222222, \"#7201a8\"], [0.3333333333333333, \"#9c179e\"], [0.4444444444444444, \"#bd3786\"], [0.5555555555555556, \"#d8576b\"], [0.6666666666666666, \"#ed7953\"], [0.7777777777777778, \"#fb9f3a\"], [0.8888888888888888, \"#fdca26\"], [1.0, \"#f0f921\"]], \"type\": \"contour\"}], \"contourcarpet\": [{\"colorbar\": {\"outlinewidth\": 0, \"ticks\": \"\"}, \"type\": \"contourcarpet\"}], \"heatmap\": [{\"colorbar\": {\"outlinewidth\": 0, \"ticks\": \"\"}, \"colorscale\": [[0.0, \"#0d0887\"], [0.1111111111111111, \"#46039f\"], [0.2222222222222222, \"#7201a8\"], [0.3333333333333333, \"#9c179e\"], [0.4444444444444444, \"#bd3786\"], [0.5555555555555556, \"#d8576b\"], [0.6666666666666666, \"#ed7953\"], [0.7777777777777778, \"#fb9f3a\"], [0.8888888888888888, \"#fdca26\"], [1.0, \"#f0f921\"]], \"type\": \"heatmap\"}], \"heatmapgl\": [{\"colorbar\": {\"outlinewidth\": 0, \"ticks\": \"\"}, \"colorscale\": [[0.0, \"#0d0887\"], [0.1111111111111111, \"#46039f\"], [0.2222222222222222, \"#7201a8\"], [0.3333333333333333, \"#9c179e\"], [0.4444444444444444, \"#bd3786\"], [0.5555555555555556, \"#d8576b\"], [0.6666666666666666, \"#ed7953\"], [0.7777777777777778, \"#fb9f3a\"], [0.8888888888888888, \"#fdca26\"], [1.0, \"#f0f921\"]], \"type\": \"heatmapgl\"}], \"histogram\": [{\"marker\": {\"colorbar\": {\"outlinewidth\": 0, \"ticks\": \"\"}}, \"type\": \"histogram\"}], \"histogram2d\": [{\"colorbar\": {\"outlinewidth\": 0, \"ticks\": \"\"}, \"colorscale\": [[0.0, \"#0d0887\"], [0.1111111111111111, \"#46039f\"], [0.2222222222222222, \"#7201a8\"], [0.3333333333333333, \"#9c179e\"], [0.4444444444444444, \"#bd3786\"], [0.5555555555555556, \"#d8576b\"], [0.6666666666666666, \"#ed7953\"], [0.7777777777777778, \"#fb9f3a\"], [0.8888888888888888, \"#fdca26\"], [1.0, \"#f0f921\"]], \"type\": \"histogram2d\"}], \"histogram2dcontour\": [{\"colorbar\": {\"outlinewidth\": 0, \"ticks\": \"\"}, \"colorscale\": [[0.0, \"#0d0887\"], [0.1111111111111111, \"#46039f\"], [0.2222222222222222, \"#7201a8\"], [0.3333333333333333, \"#9c179e\"], [0.4444444444444444, \"#bd3786\"], [0.5555555555555556, \"#d8576b\"], [0.6666666666666666, \"#ed7953\"], [0.7777777777777778, \"#fb9f3a\"], [0.8888888888888888, \"#fdca26\"], [1.0, \"#f0f921\"]], \"type\": \"histogram2dcontour\"}], \"mesh3d\": [{\"colorbar\": {\"outlinewidth\": 0, \"ticks\": \"\"}, \"type\": \"mesh3d\"}], \"parcoords\": [{\"line\": {\"colorbar\": {\"outlinewidth\": 0, \"ticks\": \"\"}}, \"type\": \"parcoords\"}], \"pie\": [{\"automargin\": true, \"type\": \"pie\"}], \"scatter\": [{\"marker\": {\"colorbar\": {\"outlinewidth\": 0, \"ticks\": \"\"}}, \"type\": \"scatter\"}], \"scatter3d\": [{\"line\": {\"colorbar\": {\"outlinewidth\": 0, \"ticks\": \"\"}}, \"marker\": {\"colorbar\": {\"outlinewidth\": 0, \"ticks\": \"\"}}, \"type\": \"scatter3d\"}], \"scattercarpet\": [{\"marker\": {\"colorbar\": {\"outlinewidth\": 0, \"ticks\": \"\"}}, \"type\": \"scattercarpet\"}], \"scattergeo\": [{\"marker\": {\"colorbar\": {\"outlinewidth\": 0, \"ticks\": \"\"}}, \"type\": \"scattergeo\"}], \"scattergl\": [{\"marker\": {\"colorbar\": {\"outlinewidth\": 0, \"ticks\": \"\"}}, \"type\": \"scattergl\"}], \"scattermapbox\": [{\"marker\": {\"colorbar\": {\"outlinewidth\": 0, \"ticks\": \"\"}}, \"type\": \"scattermapbox\"}], \"scatterpolar\": [{\"marker\": {\"colorbar\": {\"outlinewidth\": 0, \"ticks\": \"\"}}, \"type\": \"scatterpolar\"}], \"scatterpolargl\": [{\"marker\": {\"colorbar\": {\"outlinewidth\": 0, \"ticks\": \"\"}}, \"type\": \"scatterpolargl\"}], \"scatterternary\": [{\"marker\": {\"colorbar\": {\"outlinewidth\": 0, \"ticks\": \"\"}}, \"type\": \"scatterternary\"}], \"surface\": [{\"colorbar\": {\"outlinewidth\": 0, \"ticks\": \"\"}, \"colorscale\": [[0.0, \"#0d0887\"], [0.1111111111111111, \"#46039f\"], [0.2222222222222222, \"#7201a8\"], [0.3333333333333333, \"#9c179e\"], [0.4444444444444444, \"#bd3786\"], [0.5555555555555556, \"#d8576b\"], [0.6666666666666666, \"#ed7953\"], [0.7777777777777778, \"#fb9f3a\"], [0.8888888888888888, \"#fdca26\"], [1.0, \"#f0f921\"]], \"type\": \"surface\"}], \"table\": [{\"cells\": {\"fill\": {\"color\": \"#EBF0F8\"}, \"line\": {\"color\": \"white\"}}, \"header\": {\"fill\": {\"color\": \"#C8D4E3\"}, \"line\": {\"color\": \"white\"}}, \"type\": \"table\"}]}, \"layout\": {\"annotationdefaults\": {\"arrowcolor\": \"#2a3f5f\", \"arrowhead\": 0, \"arrowwidth\": 1}, \"coloraxis\": {\"colorbar\": {\"outlinewidth\": 0, \"ticks\": \"\"}}, \"colorscale\": {\"diverging\": [[0, \"#8e0152\"], [0.1, \"#c51b7d\"], [0.2, \"#de77ae\"], [0.3, \"#f1b6da\"], [0.4, \"#fde0ef\"], [0.5, \"#f7f7f7\"], [0.6, \"#e6f5d0\"], [0.7, \"#b8e186\"], [0.8, \"#7fbc41\"], [0.9, \"#4d9221\"], [1, \"#276419\"]], \"sequential\": [[0.0, \"#0d0887\"], [0.1111111111111111, \"#46039f\"], [0.2222222222222222, \"#7201a8\"], [0.3333333333333333, \"#9c179e\"], [0.4444444444444444, \"#bd3786\"], [0.5555555555555556, \"#d8576b\"], [0.6666666666666666, \"#ed7953\"], [0.7777777777777778, \"#fb9f3a\"], [0.8888888888888888, \"#fdca26\"], [1.0, \"#f0f921\"]], \"sequentialminus\": [[0.0, \"#0d0887\"], [0.1111111111111111, \"#46039f\"], [0.2222222222222222, \"#7201a8\"], [0.3333333333333333, \"#9c179e\"], [0.4444444444444444, \"#bd3786\"], [0.5555555555555556, \"#d8576b\"], [0.6666666666666666, \"#ed7953\"], [0.7777777777777778, \"#fb9f3a\"], [0.8888888888888888, \"#fdca26\"], [1.0, \"#f0f921\"]]}, \"colorway\": [\"#636efa\", \"#EF553B\", \"#00cc96\", \"#ab63fa\", \"#FFA15A\", \"#19d3f3\", \"#FF6692\", \"#B6E880\", \"#FF97FF\", \"#FECB52\"], \"font\": {\"color\": \"#2a3f5f\"}, \"geo\": {\"bgcolor\": \"white\", \"lakecolor\": \"white\", \"landcolor\": \"#E5ECF6\", \"showlakes\": true, \"showland\": true, \"subunitcolor\": \"white\"}, \"hoverlabel\": {\"align\": \"left\"}, \"hovermode\": \"closest\", \"mapbox\": {\"style\": \"light\"}, \"paper_bgcolor\": \"white\", \"plot_bgcolor\": \"#E5ECF6\", \"polar\": {\"angularaxis\": {\"gridcolor\": \"white\", \"linecolor\": \"white\", \"ticks\": \"\"}, \"bgcolor\": \"#E5ECF6\", \"radialaxis\": {\"gridcolor\": \"white\", \"linecolor\": \"white\", \"ticks\": \"\"}}, \"scene\": {\"xaxis\": {\"backgroundcolor\": \"#E5ECF6\", \"gridcolor\": \"white\", \"gridwidth\": 2, \"linecolor\": \"white\", \"showbackground\": true, \"ticks\": \"\", \"zerolinecolor\": \"white\"}, \"yaxis\": {\"backgroundcolor\": \"#E5ECF6\", \"gridcolor\": \"white\", \"gridwidth\": 2, \"linecolor\": \"white\", \"showbackground\": true, \"ticks\": \"\", \"zerolinecolor\": \"white\"}, \"zaxis\": {\"backgroundcolor\": \"#E5ECF6\", \"gridcolor\": \"white\", \"gridwidth\": 2, \"linecolor\": \"white\", \"showbackground\": true, \"ticks\": \"\", \"zerolinecolor\": \"white\"}}, \"shapedefaults\": {\"line\": {\"color\": \"#2a3f5f\"}}, \"ternary\": {\"aaxis\": {\"gridcolor\": \"white\", \"linecolor\": \"white\", \"ticks\": \"\"}, \"baxis\": {\"gridcolor\": \"white\", \"linecolor\": \"white\", \"ticks\": \"\"}, \"bgcolor\": \"#E5ECF6\", \"caxis\": {\"gridcolor\": \"white\", \"linecolor\": \"white\", \"ticks\": \"\"}}, \"title\": {\"x\": 0.05}, \"xaxis\": {\"automargin\": true, \"gridcolor\": \"white\", \"linecolor\": \"white\", \"ticks\": \"\", \"title\": {\"standoff\": 15}, \"zerolinecolor\": \"white\", \"zerolinewidth\": 2}, \"yaxis\": {\"automargin\": true, \"gridcolor\": \"white\", \"linecolor\": \"white\", \"ticks\": \"\", \"title\": {\"standoff\": 15}, \"zerolinecolor\": \"white\", \"zerolinewidth\": 2}}}, \"title\": {\"font\": {\"color\": \"#4D5663\"}, \"text\": \"Node Centrality By Degree (Total Degrees=10)\"}, \"xaxis\": {\"gridcolor\": \"#E1E5ED\", \"showgrid\": true, \"tickfont\": {\"color\": \"#4D5663\"}, \"title\": {\"font\": {\"color\": \"#4D5663\"}, \"text\": \"\"}, \"zerolinecolor\": \"#E1E5ED\"}, \"yaxis\": {\"gridcolor\": \"#E1E5ED\", \"showgrid\": true, \"tickfont\": {\"color\": \"#4D5663\"}, \"title\": {\"font\": {\"color\": \"#4D5663\"}, \"text\": \"Degree\"}, \"zerolinecolor\": \"#E1E5ED\"}},\n",
       "                        {\"showLink\": true, \"linkText\": \"Export to plot.ly\", \"plotlyServerURL\": \"https://plot.ly\", \"responsive\": true}\n",
       "                    ).then(function(){\n",
       "                            \n",
       "var gd = document.getElementById('54bd7824-47aa-4efc-b73e-40f4c1fed9cb');\n",
       "var x = new MutationObserver(function (mutations, observer) {{\n",
       "        var display = window.getComputedStyle(gd).display;\n",
       "        if (!display || display === 'none') {{\n",
       "            console.log([gd, 'removed!']);\n",
       "            Plotly.purge(gd);\n",
       "            observer.disconnect();\n",
       "        }}\n",
       "}});\n",
       "\n",
       "// Listen for the removal of the full notebook cells\n",
       "var notebookContainer = gd.closest('#notebook-container');\n",
       "if (notebookContainer) {{\n",
       "    x.observe(notebookContainer, {childList: true});\n",
       "}}\n",
       "\n",
       "// Listen for the clearing of the current output cell\n",
       "var outputEl = gd.closest('.output');\n",
       "if (outputEl) {{\n",
       "    x.observe(outputEl, {childList: true});\n",
       "}}\n",
       "\n",
       "                        })\n",
       "                };\n",
       "                });\n",
       "            </script>\n",
       "        </div>"
      ]
     },
     "metadata": {},
     "output_type": "display_data"
    },
    {
     "name": "stdout",
     "output_type": "stream",
     "text": [
      "There are 10 degrees in the straight network\n"
     ]
    }
   ],
   "source": [
    "s_central = pd.DataFrame(Gs.degree(),\n",
    "                         columns=['Node','Degree'])\\\n",
    "                        .sort_values('Degree',\n",
    "                                     ascending=False)\n",
    "\n",
    "\n",
    "s_central.set_index('Node').head(10).iplot(\n",
    "    kind='bar',title=f\"Node Centrality By Degree (Total Degrees={s_central['Degree'].sum()})\",yTitle='Degree')\n",
    "\n",
    "print(f\"There are {s_central['Degree'].sum()} degrees in the straight network\")"
   ]
  },
  {
   "cell_type": "code",
   "execution_count": null,
   "metadata": {},
   "outputs": [],
   "source": [
    "def get_degrees(Gs,plot=True):\n",
    "    s_central = pd.DataFrame(Gs.degree(),\n",
    "                         columns=['Node','Degree'])\\\n",
    "                        .sort_values('Degree',\n",
    "                                     ascending=False)\n",
    "\n",
    "    if plot:\n",
    "        s_central.set_index('Node').head(10).iplot(\n",
    "            kind='bar',\n",
    "            title=f\"Node Centrality By Degree (Total Degrees={s_central['Degree'].sum()})\",\n",
    "            yTitle='Degree')\n",
    "    return s_central\n"
   ]
  },
  {
   "cell_type": "code",
   "execution_count": 31,
   "metadata": {
    "ExecuteTime": {
     "end_time": "2020-02-04T16:41:39.957355Z",
     "start_time": "2020-02-04T16:41:39.753817Z"
    }
   },
   "outputs": [
    {
     "name": "stderr",
     "output_type": "stream",
     "text": [
      "//anaconda3/envs/learn-env/lib/python3.6/site-packages/networkx/drawing/nx_pylab.py:579: MatplotlibDeprecationWarning:\n",
      "\n",
      "\n",
      "The iterable function was deprecated in Matplotlib 3.1 and will be removed in 3.3. Use np.iterable instead.\n",
      "\n"
     ]
    },
    {
     "data": {
      "image/png": "[encoded data removed]",
      "text/plain": [
       "<Figure size 432x288 with 1 Axes>"
      ]
     },
     "metadata": {},
     "output_type": "display_data"
    }
   ],
   "source": [
    "\n",
    "g_people = ['James','Alex','Ryan','Steve','Guy']\n",
    "g_colors= ['red','yellow','blue','green',\n",
    "          'purple']\n",
    "g_relations = {'James':['Alex','Ryan','Steve'],\n",
    "              \"Alex\":['James','Ryan','Steve'],\n",
    "              'Guy':['James','Steve']}\n",
    "\n",
    "Gg = nx.Graph()\n",
    "\n",
    "for person in g_people:\n",
    "    Gg.add_node(person)\n",
    "\n",
    "\n",
    "for p1 in g_relations:\n",
    "    p2s = g_relations[p1]\n",
    "    \n",
    "    for p2 in p2s:\n",
    "        Gg.add_edge(p1,p2)\n",
    "nx.draw(Gg, \n",
    "        with_labels=True,\n",
    "        node_color=g_colors,#'aqua',\n",
    "        node_size=2000,\n",
    "        alpha=0.7, \n",
    "        font_weight='bold')"
   ]
  },
  {
   "cell_type": "code",
   "execution_count": 32,
   "metadata": {
    "ExecuteTime": {
     "end_time": "2020-02-04T16:41:50.882975Z",
     "start_time": "2020-02-04T16:41:50.641674Z"
    }
   },
   "outputs": [
    {
     "data": {
      "application/vnd.plotly.v1+json": {
       "config": {
        "linkText": "Export to plot.ly",
        "plotlyServerURL": "https://plot.ly",
        "showLink": true
       },
       "data": [
        {
         "marker": {
          "color": "rgba(255, 153, 51, 0.6)",
          "line": {
           "color": "rgba(255, 153, 51, 1.0)",
           "width": 1
          }
         },
         "name": "Degree",
         "orientation": "v",
         "text": "",
         "type": "bar",
         "x": [
          "James",
          "Alex",
          "Steve",
          "Ryan",
          "Guy"
         ],
         "y": [
          4,
          3,
          3,
          2,
          2
         ]
        }
       ],
       "layout": {
        "legend": {
         "bgcolor": "#F5F6F9",
         "font": {
          "color": "#4D5663"
         }
        },
        "paper_bgcolor": "#F5F6F9",
        "plot_bgcolor": "#F5F6F9",
        "template": {
         "data": {
          "bar": [
           {
            "error_x": {
             "color": "#2a3f5f"
            },
            "error_y": {
             "color": "#2a3f5f"
            },
            "marker": {
             "line": {
              "color": "#E5ECF6",
              "width": 0.5
             }
            },
            "type": "bar"
           }
          ],
          "barpolar": [
           {
            "marker": {
             "line": {
              "color": "#E5ECF6",
              "width": 0.5
             }
            },
            "type": "barpolar"
           }
          ],
          "carpet": [
           {
            "aaxis": {
             "endlinecolor": "#2a3f5f",
             "gridcolor": "white",
             "linecolor": "white",
             "minorgridcolor": "white",
             "startlinecolor": "#2a3f5f"
            },
            "baxis": {
             "endlinecolor": "#2a3f5f",
             "gridcolor": "white",
             "linecolor": "white",
             "minorgridcolor": "white",
             "startlinecolor": "#2a3f5f"
            },
            "type": "carpet"
           }
          ],
          "choropleth": [
           {
            "colorbar": {
             "outlinewidth": 0,
             "ticks": ""
            },
            "type": "choropleth"
           }
          ],
          "contour": [
           {
            "colorbar": {
             "outlinewidth": 0,
             "ticks": ""
            },
            "colorscale": [
             [
              0,
              "#0d0887"
             ],
             [
              0.1111111111111111,
              "#46039f"
             ],
             [
              0.2222222222222222,
              "#7201a8"
             ],
             [
              0.3333333333333333,
              "#9c179e"
             ],
             [
              0.4444444444444444,
              "#bd3786"
             ],
             [
              0.5555555555555556,
              "#d8576b"
             ],
             [
              0.6666666666666666,
              "#ed7953"
             ],
             [
              0.7777777777777778,
              "#fb9f3a"
             ],
             [
              0.8888888888888888,
              "#fdca26"
             ],
             [
              1,
              "#f0f921"
             ]
            ],
            "type": "contour"
           }
          ],
          "contourcarpet": [
           {
            "colorbar": {
             "outlinewidth": 0,
             "ticks": ""
            },
            "type": "contourcarpet"
           }
          ],
          "heatmap": [
           {
            "colorbar": {
             "outlinewidth": 0,
             "ticks": ""
            },
            "colorscale": [
             [
              0,
              "#0d0887"
             ],
             [
              0.1111111111111111,
              "#46039f"
             ],
             [
              0.2222222222222222,
              "#7201a8"
             ],
             [
              0.3333333333333333,
              "#9c179e"
             ],
             [
              0.4444444444444444,
              "#bd3786"
             ],
             [
              0.5555555555555556,
              "#d8576b"
             ],
             [
              0.6666666666666666,
              "#ed7953"
             ],
             [
              0.7777777777777778,
              "#fb9f3a"
             ],
             [
              0.8888888888888888,
              "#fdca26"
             ],
             [
              1,
              "#f0f921"
             ]
            ],
            "type": "heatmap"
           }
          ],
          "heatmapgl": [
           {
            "colorbar": {
             "outlinewidth": 0,
             "ticks": ""
            },
            "colorscale": [
             [
              0,
              "#0d0887"
             ],
             [
              0.1111111111111111,
              "#46039f"
             ],
             [
              0.2222222222222222,
              "#7201a8"
             ],
             [
              0.3333333333333333,
              "#9c179e"
             ],
             [
              0.4444444444444444,
              "#bd3786"
             ],
             [
              0.5555555555555556,
              "#d8576b"
             ],
             [
              0.6666666666666666,
              "#ed7953"
             ],
             [
              0.7777777777777778,
              "#fb9f3a"
             ],
             [
              0.8888888888888888,
              "#fdca26"
             ],
             [
              1,
              "#f0f921"
             ]
            ],
            "type": "heatmapgl"
           }
          ],
          "histogram": [
           {
            "marker": {
             "colorbar": {
              "outlinewidth": 0,
              "ticks": ""
             }
            },
            "type": "histogram"
           }
          ],
          "histogram2d": [
           {
            "colorbar": {
             "outlinewidth": 0,
             "ticks": ""
            },
            "colorscale": [
             [
              0,
              "#0d0887"
             ],
             [
              0.1111111111111111,
              "#46039f"
             ],
             [
              0.2222222222222222,
              "#7201a8"
             ],
             [
              0.3333333333333333,
              "#9c179e"
             ],
             [
              0.4444444444444444,
              "#bd3786"
             ],
             [
              0.5555555555555556,
              "#d8576b"
             ],
             [
              0.6666666666666666,
              "#ed7953"
             ],
             [
              0.7777777777777778,
              "#fb9f3a"
             ],
             [
              0.8888888888888888,
              "#fdca26"
             ],
             [
              1,
              "#f0f921"
             ]
            ],
            "type": "histogram2d"
           }
          ],
          "histogram2dcontour": [
           {
            "colorbar": {
             "outlinewidth": 0,
             "ticks": ""
            },
            "colorscale": [
             [
              0,
              "#0d0887"
             ],
             [
              0.1111111111111111,
              "#46039f"
             ],
             [
              0.2222222222222222,
              "#7201a8"
             ],
             [
              0.3333333333333333,
              "#9c179e"
             ],
             [
              0.4444444444444444,
              "#bd3786"
             ],
             [
              0.5555555555555556,
              "#d8576b"
             ],
             [
              0.6666666666666666,
              "#ed7953"
             ],
             [
              0.7777777777777778,
              "#fb9f3a"
             ],
             [
              0.8888888888888888,
              "#fdca26"
             ],
             [
              1,
              "#f0f921"
             ]
            ],
            "type": "histogram2dcontour"
           }
          ],
          "mesh3d": [
           {
            "colorbar": {
             "outlinewidth": 0,
             "ticks": ""
            },
            "type": "mesh3d"
           }
          ],
          "parcoords": [
           {
            "line": {
             "colorbar": {
              "outlinewidth": 0,
              "ticks": ""
             }
            },
            "type": "parcoords"
           }
          ],
          "pie": [
           {
            "automargin": true,
            "type": "pie"
           }
          ],
          "scatter": [
           {
            "marker": {
             "colorbar": {
              "outlinewidth": 0,
              "ticks": ""
             }
            },
            "type": "scatter"
           }
          ],
          "scatter3d": [
           {
            "line": {
             "colorbar": {
              "outlinewidth": 0,
              "ticks": ""
             }
            },
            "marker": {
             "colorbar": {
              "outlinewidth": 0,
              "ticks": ""
             }
            },
            "type": "scatter3d"
           }
          ],
          "scattercarpet": [
           {
            "marker": {
             "colorbar": {
              "outlinewidth": 0,
              "ticks": ""
             }
            },
            "type": "scattercarpet"
           }
          ],
          "scattergeo": [
           {
            "marker": {
             "colorbar": {
              "outlinewidth": 0,
              "ticks": ""
             }
            },
            "type": "scattergeo"
           }
          ],
          "scattergl": [
           {
            "marker": {
             "colorbar": {
              "outlinewidth": 0,
              "ticks": ""
             }
            },
            "type": "scattergl"
           }
          ],
          "scattermapbox": [
           {
            "marker": {
             "colorbar": {
              "outlinewidth": 0,
              "ticks": ""
             }
            },
            "type": "scattermapbox"
           }
          ],
          "scatterpolar": [
           {
            "marker": {
             "colorbar": {
              "outlinewidth": 0,
              "ticks": ""
             }
            },
            "type": "scatterpolar"
           }
          ],
          "scatterpolargl": [
           {
            "marker": {
             "colorbar": {
              "outlinewidth": 0,
              "ticks": ""
             }
            },
            "type": "scatterpolargl"
           }
          ],
          "scatterternary": [
           {
            "marker": {
             "colorbar": {
              "outlinewidth": 0,
              "ticks": ""
             }
            },
            "type": "scatterternary"
           }
          ],
          "surface": [
           {
            "colorbar": {
             "outlinewidth": 0,
             "ticks": ""
            },
            "colorscale": [
             [
              0,
              "#0d0887"
             ],
             [
              0.1111111111111111,
              "#46039f"
             ],
             [
              0.2222222222222222,
              "#7201a8"
             ],
             [
              0.3333333333333333,
              "#9c179e"
             ],
             [
              0.4444444444444444,
              "#bd3786"
             ],
             [
              0.5555555555555556,
              "#d8576b"
             ],
             [
              0.6666666666666666,
              "#ed7953"
             ],
             [
              0.7777777777777778,
              "#fb9f3a"
             ],
             [
              0.8888888888888888,
              "#fdca26"
             ],
             [
              1,
              "#f0f921"
             ]
            ],
            "type": "surface"
           }
          ],
          "table": [
           {
            "cells": {
             "fill": {
              "color": "#EBF0F8"
             },
             "line": {
              "color": "white"
             }
            },
            "header": {
             "fill": {
              "color": "#C8D4E3"
             },
             "line": {
              "color": "white"
             }
            },
            "type": "table"
           }
          ]
         },
         "layout": {
          "annotationdefaults": {
           "arrowcolor": "#2a3f5f",
           "arrowhead": 0,
           "arrowwidth": 1
          },
          "coloraxis": {
           "colorbar": {
            "outlinewidth": 0,
            "ticks": ""
           }
          },
          "colorscale": {
           "diverging": [
            [
             0,
             "#8e0152"
            ],
            [
             0.1,
             "#c51b7d"
            ],
            [
             0.2,
             "#de77ae"
            ],
            [
             0.3,
             "#f1b6da"
            ],
            [
             0.4,
             "#fde0ef"
            ],
            [
             0.5,
             "#f7f7f7"
            ],
            [
             0.6,
             "#e6f5d0"
            ],
            [
             0.7,
             "#b8e186"
            ],
            [
             0.8,
             "#7fbc41"
            ],
            [
             0.9,
             "#4d9221"
            ],
            [
             1,
             "#276419"
            ]
           ],
           "sequential": [
            [
             0,
             "#0d0887"
            ],
            [
             0.1111111111111111,
             "#46039f"
            ],
            [
             0.2222222222222222,
             "#7201a8"
            ],
            [
             0.3333333333333333,
             "#9c179e"
            ],
            [
             0.4444444444444444,
             "#bd3786"
            ],
            [
             0.5555555555555556,
             "#d8576b"
            ],
            [
             0.6666666666666666,
             "#ed7953"
            ],
            [
             0.7777777777777778,
             "#fb9f3a"
            ],
            [
             0.8888888888888888,
             "#fdca26"
            ],
            [
             1,
             "#f0f921"
            ]
           ],
           "sequentialminus": [
            [
             0,
             "#0d0887"
            ],
            [
             0.1111111111111111,
             "#46039f"
            ],
            [
             0.2222222222222222,
             "#7201a8"
            ],
            [
             0.3333333333333333,
             "#9c179e"
            ],
            [
             0.4444444444444444,
             "#bd3786"
            ],
            [
             0.5555555555555556,
             "#d8576b"
            ],
            [
             0.6666666666666666,
             "#ed7953"
            ],
            [
             0.7777777777777778,
             "#fb9f3a"
            ],
            [
             0.8888888888888888,
             "#fdca26"
            ],
            [
             1,
             "#f0f921"
            ]
           ]
          },
          "colorway": [
           "#636efa",
           "#EF553B",
           "#00cc96",
           "#ab63fa",
           "#FFA15A",
           "#19d3f3",
           "#FF6692",
           "#B6E880",
           "#FF97FF",
           "#FECB52"
          ],
          "font": {
           "color": "#2a3f5f"
          },
          "geo": {
           "bgcolor": "white",
           "lakecolor": "white",
           "landcolor": "#E5ECF6",
           "showlakes": true,
           "showland": true,
           "subunitcolor": "white"
          },
          "hoverlabel": {
           "align": "left"
          },
          "hovermode": "closest",
          "mapbox": {
           "style": "light"
          },
          "paper_bgcolor": "white",
          "plot_bgcolor": "#E5ECF6",
          "polar": {
           "angularaxis": {
            "gridcolor": "white",
            "linecolor": "white",
            "ticks": ""
           },
           "bgcolor": "#E5ECF6",
           "radialaxis": {
            "gridcolor": "white",
            "linecolor": "white",
            "ticks": ""
           }
          },
          "scene": {
           "xaxis": {
            "backgroundcolor": "#E5ECF6",
            "gridcolor": "white",
            "gridwidth": 2,
            "linecolor": "white",
            "showbackground": true,
            "ticks": "",
            "zerolinecolor": "white"
           },
           "yaxis": {
            "backgroundcolor": "#E5ECF6",
            "gridcolor": "white",
            "gridwidth": 2,
            "linecolor": "white",
            "showbackground": true,
            "ticks": "",
            "zerolinecolor": "white"
           },
           "zaxis": {
            "backgroundcolor": "#E5ECF6",
            "gridcolor": "white",
            "gridwidth": 2,
            "linecolor": "white",
            "showbackground": true,
            "ticks": "",
            "zerolinecolor": "white"
           }
          },
          "shapedefaults": {
           "line": {
            "color": "#2a3f5f"
           }
          },
          "ternary": {
           "aaxis": {
            "gridcolor": "white",
            "linecolor": "white",
            "ticks": ""
           },
           "baxis": {
            "gridcolor": "white",
            "linecolor": "white",
            "ticks": ""
           },
           "bgcolor": "#E5ECF6",
           "caxis": {
            "gridcolor": "white",
            "linecolor": "white",
            "ticks": ""
           }
          },
          "title": {
           "x": 0.05
          },
          "xaxis": {
           "automargin": true,
           "gridcolor": "white",
           "linecolor": "white",
           "ticks": "",
           "title": {
            "standoff": 15
           },
           "zerolinecolor": "white",
           "zerolinewidth": 2
          },
          "yaxis": {
           "automargin": true,
           "gridcolor": "white",
           "linecolor": "white",
           "ticks": "",
           "title": {
            "standoff": 15
           },
           "zerolinecolor": "white",
           "zerolinewidth": 2
          }
         }
        },
        "title": {
         "font": {
          "color": "#4D5663"
         },
         "text": "Node Centrality By Degree (Total Degrees=14)"
        },
        "xaxis": {
         "gridcolor": "#E1E5ED",
         "showgrid": true,
         "tickfont": {
          "color": "#4D5663"
         },
         "title": {
          "font": {
           "color": "#4D5663"
          },
          "text": ""
         },
         "zerolinecolor": "#E1E5ED"
        },
        "yaxis": {
         "gridcolor": "#E1E5ED",
         "showgrid": true,
         "tickfont": {
          "color": "#4D5663"
         },
         "title": {
          "font": {
           "color": "#4D5663"
          },
          "text": "Degree"
         },
         "zerolinecolor": "#E1E5ED"
        }
       }
      },
      "text/html": [
       "<div>\n",
       "        \n",
       "        \n",
       "            <div id=\"c90b37f0-4f76-4aac-991c-39afb59ba702\" class=\"plotly-graph-div\" style=\"height:525px; width:100%;\"></div>\n",
       "            <script type=\"text/javascript\">\n",
       "                require([\"plotly\"], function(Plotly) {\n",
       "                    window.PLOTLYENV=window.PLOTLYENV || {};\n",
       "                    window.PLOTLYENV.BASE_URL='https://plot.ly';\n",
       "                    \n",
       "                if (document.getElementById(\"c90b37f0-4f76-4aac-991c-39afb59ba702\")) {\n",
       "                    Plotly.newPlot(\n",
       "                        'c90b37f0-4f76-4aac-991c-39afb59ba702',\n",
       "                        [{\"marker\": {\"color\": \"rgba(255, 153, 51, 0.6)\", \"line\": {\"color\": \"rgba(255, 153, 51, 1.0)\", \"width\": 1}}, \"name\": \"Degree\", \"orientation\": \"v\", \"text\": \"\", \"type\": \"bar\", \"x\": [\"James\", \"Alex\", \"Steve\", \"Ryan\", \"Guy\"], \"y\": [4, 3, 3, 2, 2]}],\n",
       "                        {\"legend\": {\"bgcolor\": \"#F5F6F9\", \"font\": {\"color\": \"#4D5663\"}}, \"paper_bgcolor\": \"#F5F6F9\", \"plot_bgcolor\": \"#F5F6F9\", \"template\": {\"data\": {\"bar\": [{\"error_x\": {\"color\": \"#2a3f5f\"}, \"error_y\": {\"color\": \"#2a3f5f\"}, \"marker\": {\"line\": {\"color\": \"#E5ECF6\", \"width\": 0.5}}, \"type\": \"bar\"}], \"barpolar\": [{\"marker\": {\"line\": {\"color\": \"#E5ECF6\", \"width\": 0.5}}, \"type\": \"barpolar\"}], \"carpet\": [{\"aaxis\": {\"endlinecolor\": \"#2a3f5f\", \"gridcolor\": \"white\", \"linecolor\": \"white\", \"minorgridcolor\": \"white\", \"startlinecolor\": \"#2a3f5f\"}, \"baxis\": {\"endlinecolor\": \"#2a3f5f\", \"gridcolor\": \"white\", \"linecolor\": \"white\", \"minorgridcolor\": \"white\", \"startlinecolor\": \"#2a3f5f\"}, \"type\": \"carpet\"}], \"choropleth\": [{\"colorbar\": {\"outlinewidth\": 0, \"ticks\": \"\"}, \"type\": \"choropleth\"}], \"contour\": [{\"colorbar\": {\"outlinewidth\": 0, \"ticks\": \"\"}, \"colorscale\": [[0.0, \"#0d0887\"], [0.1111111111111111, \"#46039f\"], [0.2222222222222222, \"#7201a8\"], [0.3333333333333333, \"#9c179e\"], [0.4444444444444444, \"#bd3786\"], [0.5555555555555556, \"#d8576b\"], [0.6666666666666666, \"#ed7953\"], [0.7777777777777778, \"#fb9f3a\"], [0.8888888888888888, \"#fdca26\"], [1.0, \"#f0f921\"]], \"type\": \"contour\"}], \"contourcarpet\": [{\"colorbar\": {\"outlinewidth\": 0, \"ticks\": \"\"}, \"type\": \"contourcarpet\"}], \"heatmap\": [{\"colorbar\": {\"outlinewidth\": 0, \"ticks\": \"\"}, \"colorscale\": [[0.0, \"#0d0887\"], [0.1111111111111111, \"#46039f\"], [0.2222222222222222, \"#7201a8\"], [0.3333333333333333, \"#9c179e\"], [0.4444444444444444, \"#bd3786\"], [0.5555555555555556, \"#d8576b\"], [0.6666666666666666, \"#ed7953\"], [0.7777777777777778, \"#fb9f3a\"], [0.8888888888888888, \"#fdca26\"], [1.0, \"#f0f921\"]], \"type\": \"heatmap\"}], \"heatmapgl\": [{\"colorbar\": {\"outlinewidth\": 0, \"ticks\": \"\"}, \"colorscale\": [[0.0, \"#0d0887\"], [0.1111111111111111, \"#46039f\"], [0.2222222222222222, \"#7201a8\"], [0.3333333333333333, \"#9c179e\"], [0.4444444444444444, \"#bd3786\"], [0.5555555555555556, \"#d8576b\"], [0.6666666666666666, \"#ed7953\"], [0.7777777777777778, \"#fb9f3a\"], [0.8888888888888888, \"#fdca26\"], [1.0, \"#f0f921\"]], \"type\": \"heatmapgl\"}], \"histogram\": [{\"marker\": {\"colorbar\": {\"outlinewidth\": 0, \"ticks\": \"\"}}, \"type\": \"histogram\"}], \"histogram2d\": [{\"colorbar\": {\"outlinewidth\": 0, \"ticks\": \"\"}, \"colorscale\": [[0.0, \"#0d0887\"], [0.1111111111111111, \"#46039f\"], [0.2222222222222222, \"#7201a8\"], [0.3333333333333333, \"#9c179e\"], [0.4444444444444444, \"#bd3786\"], [0.5555555555555556, \"#d8576b\"], [0.6666666666666666, \"#ed7953\"], [0.7777777777777778, \"#fb9f3a\"], [0.8888888888888888, \"#fdca26\"], [1.0, \"#f0f921\"]], \"type\": \"histogram2d\"}], \"histogram2dcontour\": [{\"colorbar\": {\"outlinewidth\": 0, \"ticks\": \"\"}, \"colorscale\": [[0.0, \"#0d0887\"], [0.1111111111111111, \"#46039f\"], [0.2222222222222222, \"#7201a8\"], [0.3333333333333333, \"#9c179e\"], [0.4444444444444444, \"#bd3786\"], [0.5555555555555556, \"#d8576b\"], [0.6666666666666666, \"#ed7953\"], [0.7777777777777778, \"#fb9f3a\"], [0.8888888888888888, \"#fdca26\"], [1.0, \"#f0f921\"]], \"type\": \"histogram2dcontour\"}], \"mesh3d\": [{\"colorbar\": {\"outlinewidth\": 0, \"ticks\": \"\"}, \"type\": \"mesh3d\"}], \"parcoords\": [{\"line\": {\"colorbar\": {\"outlinewidth\": 0, \"ticks\": \"\"}}, \"type\": \"parcoords\"}], \"pie\": [{\"automargin\": true, \"type\": \"pie\"}], \"scatter\": [{\"marker\": {\"colorbar\": {\"outlinewidth\": 0, \"ticks\": \"\"}}, \"type\": \"scatter\"}], \"scatter3d\": [{\"line\": {\"colorbar\": {\"outlinewidth\": 0, \"ticks\": \"\"}}, \"marker\": {\"colorbar\": {\"outlinewidth\": 0, \"ticks\": \"\"}}, \"type\": \"scatter3d\"}], \"scattercarpet\": [{\"marker\": {\"colorbar\": {\"outlinewidth\": 0, \"ticks\": \"\"}}, \"type\": \"scattercarpet\"}], \"scattergeo\": [{\"marker\": {\"colorbar\": {\"outlinewidth\": 0, \"ticks\": \"\"}}, \"type\": \"scattergeo\"}], \"scattergl\": [{\"marker\": {\"colorbar\": {\"outlinewidth\": 0, \"ticks\": \"\"}}, \"type\": \"scattergl\"}], \"scattermapbox\": [{\"marker\": {\"colorbar\": {\"outlinewidth\": 0, \"ticks\": \"\"}}, \"type\": \"scattermapbox\"}], \"scatterpolar\": [{\"marker\": {\"colorbar\": {\"outlinewidth\": 0, \"ticks\": \"\"}}, \"type\": \"scatterpolar\"}], \"scatterpolargl\": [{\"marker\": {\"colorbar\": {\"outlinewidth\": 0, \"ticks\": \"\"}}, \"type\": \"scatterpolargl\"}], \"scatterternary\": [{\"marker\": {\"colorbar\": {\"outlinewidth\": 0, \"ticks\": \"\"}}, \"type\": \"scatterternary\"}], \"surface\": [{\"colorbar\": {\"outlinewidth\": 0, \"ticks\": \"\"}, \"colorscale\": [[0.0, \"#0d0887\"], [0.1111111111111111, \"#46039f\"], [0.2222222222222222, \"#7201a8\"], [0.3333333333333333, \"#9c179e\"], [0.4444444444444444, \"#bd3786\"], [0.5555555555555556, \"#d8576b\"], [0.6666666666666666, \"#ed7953\"], [0.7777777777777778, \"#fb9f3a\"], [0.8888888888888888, \"#fdca26\"], [1.0, \"#f0f921\"]], \"type\": \"surface\"}], \"table\": [{\"cells\": {\"fill\": {\"color\": \"#EBF0F8\"}, \"line\": {\"color\": \"white\"}}, \"header\": {\"fill\": {\"color\": \"#C8D4E3\"}, \"line\": {\"color\": \"white\"}}, \"type\": \"table\"}]}, \"layout\": {\"annotationdefaults\": {\"arrowcolor\": \"#2a3f5f\", \"arrowhead\": 0, \"arrowwidth\": 1}, \"coloraxis\": {\"colorbar\": {\"outlinewidth\": 0, \"ticks\": \"\"}}, \"colorscale\": {\"diverging\": [[0, \"#8e0152\"], [0.1, \"#c51b7d\"], [0.2, \"#de77ae\"], [0.3, \"#f1b6da\"], [0.4, \"#fde0ef\"], [0.5, \"#f7f7f7\"], [0.6, \"#e6f5d0\"], [0.7, \"#b8e186\"], [0.8, \"#7fbc41\"], [0.9, \"#4d9221\"], [1, \"#276419\"]], \"sequential\": [[0.0, \"#0d0887\"], [0.1111111111111111, \"#46039f\"], [0.2222222222222222, \"#7201a8\"], [0.3333333333333333, \"#9c179e\"], [0.4444444444444444, \"#bd3786\"], [0.5555555555555556, \"#d8576b\"], [0.6666666666666666, \"#ed7953\"], [0.7777777777777778, \"#fb9f3a\"], [0.8888888888888888, \"#fdca26\"], [1.0, \"#f0f921\"]], \"sequentialminus\": [[0.0, \"#0d0887\"], [0.1111111111111111, \"#46039f\"], [0.2222222222222222, \"#7201a8\"], [0.3333333333333333, \"#9c179e\"], [0.4444444444444444, \"#bd3786\"], [0.5555555555555556, \"#d8576b\"], [0.6666666666666666, \"#ed7953\"], [0.7777777777777778, \"#fb9f3a\"], [0.8888888888888888, \"#fdca26\"], [1.0, \"#f0f921\"]]}, \"colorway\": [\"#636efa\", \"#EF553B\", \"#00cc96\", \"#ab63fa\", \"#FFA15A\", \"#19d3f3\", \"#FF6692\", \"#B6E880\", \"#FF97FF\", \"#FECB52\"], \"font\": {\"color\": \"#2a3f5f\"}, \"geo\": {\"bgcolor\": \"white\", \"lakecolor\": \"white\", \"landcolor\": \"#E5ECF6\", \"showlakes\": true, \"showland\": true, \"subunitcolor\": \"white\"}, \"hoverlabel\": {\"align\": \"left\"}, \"hovermode\": \"closest\", \"mapbox\": {\"style\": \"light\"}, \"paper_bgcolor\": \"white\", \"plot_bgcolor\": \"#E5ECF6\", \"polar\": {\"angularaxis\": {\"gridcolor\": \"white\", \"linecolor\": \"white\", \"ticks\": \"\"}, \"bgcolor\": \"#E5ECF6\", \"radialaxis\": {\"gridcolor\": \"white\", \"linecolor\": \"white\", \"ticks\": \"\"}}, \"scene\": {\"xaxis\": {\"backgroundcolor\": \"#E5ECF6\", \"gridcolor\": \"white\", \"gridwidth\": 2, \"linecolor\": \"white\", \"showbackground\": true, \"ticks\": \"\", \"zerolinecolor\": \"white\"}, \"yaxis\": {\"backgroundcolor\": \"#E5ECF6\", \"gridcolor\": \"white\", \"gridwidth\": 2, \"linecolor\": \"white\", \"showbackground\": true, \"ticks\": \"\", \"zerolinecolor\": \"white\"}, \"zaxis\": {\"backgroundcolor\": \"#E5ECF6\", \"gridcolor\": \"white\", \"gridwidth\": 2, \"linecolor\": \"white\", \"showbackground\": true, \"ticks\": \"\", \"zerolinecolor\": \"white\"}}, \"shapedefaults\": {\"line\": {\"color\": \"#2a3f5f\"}}, \"ternary\": {\"aaxis\": {\"gridcolor\": \"white\", \"linecolor\": \"white\", \"ticks\": \"\"}, \"baxis\": {\"gridcolor\": \"white\", \"linecolor\": \"white\", \"ticks\": \"\"}, \"bgcolor\": \"#E5ECF6\", \"caxis\": {\"gridcolor\": \"white\", \"linecolor\": \"white\", \"ticks\": \"\"}}, \"title\": {\"x\": 0.05}, \"xaxis\": {\"automargin\": true, \"gridcolor\": \"white\", \"linecolor\": \"white\", \"ticks\": \"\", \"title\": {\"standoff\": 15}, \"zerolinecolor\": \"white\", \"zerolinewidth\": 2}, \"yaxis\": {\"automargin\": true, \"gridcolor\": \"white\", \"linecolor\": \"white\", \"ticks\": \"\", \"title\": {\"standoff\": 15}, \"zerolinecolor\": \"white\", \"zerolinewidth\": 2}}}, \"title\": {\"font\": {\"color\": \"#4D5663\"}, \"text\": \"Node Centrality By Degree (Total Degrees=14)\"}, \"xaxis\": {\"gridcolor\": \"#E1E5ED\", \"showgrid\": true, \"tickfont\": {\"color\": \"#4D5663\"}, \"title\": {\"font\": {\"color\": \"#4D5663\"}, \"text\": \"\"}, \"zerolinecolor\": \"#E1E5ED\"}, \"yaxis\": {\"gridcolor\": \"#E1E5ED\", \"showgrid\": true, \"tickfont\": {\"color\": \"#4D5663\"}, \"title\": {\"font\": {\"color\": \"#4D5663\"}, \"text\": \"Degree\"}, \"zerolinecolor\": \"#E1E5ED\"}},\n",
       "                        {\"showLink\": true, \"linkText\": \"Export to plot.ly\", \"plotlyServerURL\": \"https://plot.ly\", \"responsive\": true}\n",
       "                    ).then(function(){\n",
       "                            \n",
       "var gd = document.getElementById('c90b37f0-4f76-4aac-991c-39afb59ba702');\n",
       "var x = new MutationObserver(function (mutations, observer) {{\n",
       "        var display = window.getComputedStyle(gd).display;\n",
       "        if (!display || display === 'none') {{\n",
       "            console.log([gd, 'removed!']);\n",
       "            Plotly.purge(gd);\n",
       "            observer.disconnect();\n",
       "        }}\n",
       "}});\n",
       "\n",
       "// Listen for the removal of the full notebook cells\n",
       "var notebookContainer = gd.closest('#notebook-container');\n",
       "if (notebookContainer) {{\n",
       "    x.observe(notebookContainer, {childList: true});\n",
       "}}\n",
       "\n",
       "// Listen for the clearing of the current output cell\n",
       "var outputEl = gd.closest('.output');\n",
       "if (outputEl) {{\n",
       "    x.observe(outputEl, {childList: true});\n",
       "}}\n",
       "\n",
       "                        })\n",
       "                };\n",
       "                });\n",
       "            </script>\n",
       "        </div>"
      ]
     },
     "metadata": {},
     "output_type": "display_data"
    },
    {
     "data": {
      "text/html": [
       "<div>\n",
       "<style scoped>\n",
       "    .dataframe tbody tr th:only-of-type {\n",
       "        vertical-align: middle;\n",
       "    }\n",
       "\n",
       "    .dataframe tbody tr th {\n",
       "        vertical-align: top;\n",
       "    }\n",
       "\n",
       "    .dataframe thead th {\n",
       "        text-align: right;\n",
       "    }\n",
       "</style>\n",
       "<table border=\"1\" class=\"dataframe\">\n",
       "  <thead>\n",
       "    <tr style=\"text-align: right;\">\n",
       "      <th></th>\n",
       "      <th>Node</th>\n",
       "      <th>Degree</th>\n",
       "    </tr>\n",
       "  </thead>\n",
       "  <tbody>\n",
       "    <tr>\n",
       "      <td>0</td>\n",
       "      <td>James</td>\n",
       "      <td>4</td>\n",
       "    </tr>\n",
       "    <tr>\n",
       "      <td>1</td>\n",
       "      <td>Alex</td>\n",
       "      <td>3</td>\n",
       "    </tr>\n",
       "    <tr>\n",
       "      <td>3</td>\n",
       "      <td>Steve</td>\n",
       "      <td>3</td>\n",
       "    </tr>\n",
       "    <tr>\n",
       "      <td>2</td>\n",
       "      <td>Ryan</td>\n",
       "      <td>2</td>\n",
       "    </tr>\n",
       "    <tr>\n",
       "      <td>4</td>\n",
       "      <td>Guy</td>\n",
       "      <td>2</td>\n",
       "    </tr>\n",
       "  </tbody>\n",
       "</table>\n",
       "</div>"
      ],
      "text/plain": [
       "    Node  Degree\n",
       "0  James       4\n",
       "1   Alex       3\n",
       "3  Steve       3\n",
       "2   Ryan       2\n",
       "4    Guy       2"
      ]
     },
     "execution_count": 32,
     "metadata": {},
     "output_type": "execute_result"
    }
   ],
   "source": [
    "\n",
    "g_central = get_degrees(Gg)\n",
    "g_central"
   ]
  },
  {
   "cell_type": "markdown",
   "metadata": {},
   "source": [
    "#### Now, onto hypothetical connectivity"
   ]
  },
  {
   "cell_type": "markdown",
   "metadata": {},
   "source": [
    "- One potential source of drama is the number of possible romantic entanglements in homosexual vs hetereosexual relationships"
   ]
  },
  {
   "cell_type": "code",
   "execution_count": 34,
   "metadata": {
    "ExecuteTime": {
     "end_time": "2020-02-04T16:43:16.782295Z",
     "start_time": "2020-02-04T16:43:16.235535Z"
    }
   },
   "outputs": [
    {
     "name": "stdout",
     "output_type": "stream",
     "text": [
      "['Gwen', 'Kimmie', 'Sylvie']\n",
      "['John', 'Mark']\n"
     ]
    },
    {
     "name": "stderr",
     "output_type": "stream",
     "text": [
      "//anaconda3/envs/learn-env/lib/python3.6/site-packages/networkx/drawing/nx_pylab.py:579: MatplotlibDeprecationWarning:\n",
      "\n",
      "\n",
      "The iterable function was deprecated in Matplotlib 3.1 and will be removed in 3.3. Use np.iterable instead.\n",
      "\n"
     ]
    },
    {
     "data": {
      "application/vnd.plotly.v1+json": {
       "config": {
        "linkText": "Export to plot.ly",
        "plotlyServerURL": "https://plot.ly",
        "showLink": true
       },
       "data": [
        {
         "marker": {
          "color": "rgba(255, 153, 51, 0.6)",
          "line": {
           "color": "rgba(255, 153, 51, 1.0)",
           "width": 1
          }
         },
         "name": "Degree",
         "orientation": "v",
         "text": "",
         "type": "bar",
         "x": [
          "John",
          "Mark",
          "Gwen",
          "Kimmie",
          "Sylvie"
         ],
         "y": [
          3,
          3,
          2,
          2,
          2
         ]
        }
       ],
       "layout": {
        "legend": {
         "bgcolor": "#F5F6F9",
         "font": {
          "color": "#4D5663"
         }
        },
        "paper_bgcolor": "#F5F6F9",
        "plot_bgcolor": "#F5F6F9",
        "template": {
         "data": {
          "bar": [
           {
            "error_x": {
             "color": "#2a3f5f"
            },
            "error_y": {
             "color": "#2a3f5f"
            },
            "marker": {
             "line": {
              "color": "#E5ECF6",
              "width": 0.5
             }
            },
            "type": "bar"
           }
          ],
          "barpolar": [
           {
            "marker": {
             "line": {
              "color": "#E5ECF6",
              "width": 0.5
             }
            },
            "type": "barpolar"
           }
          ],
          "carpet": [
           {
            "aaxis": {
             "endlinecolor": "#2a3f5f",
             "gridcolor": "white",
             "linecolor": "white",
             "minorgridcolor": "white",
             "startlinecolor": "#2a3f5f"
            },
            "baxis": {
             "endlinecolor": "#2a3f5f",
             "gridcolor": "white",
             "linecolor": "white",
             "minorgridcolor": "white",
             "startlinecolor": "#2a3f5f"
            },
            "type": "carpet"
           }
          ],
          "choropleth": [
           {
            "colorbar": {
             "outlinewidth": 0,
             "ticks": ""
            },
            "type": "choropleth"
           }
          ],
          "contour": [
           {
            "colorbar": {
             "outlinewidth": 0,
             "ticks": ""
            },
            "colorscale": [
             [
              0,
              "#0d0887"
             ],
             [
              0.1111111111111111,
              "#46039f"
             ],
             [
              0.2222222222222222,
              "#7201a8"
             ],
             [
              0.3333333333333333,
              "#9c179e"
             ],
             [
              0.4444444444444444,
              "#bd3786"
             ],
             [
              0.5555555555555556,
              "#d8576b"
             ],
             [
              0.6666666666666666,
              "#ed7953"
             ],
             [
              0.7777777777777778,
              "#fb9f3a"
             ],
             [
              0.8888888888888888,
              "#fdca26"
             ],
             [
              1,
              "#f0f921"
             ]
            ],
            "type": "contour"
           }
          ],
          "contourcarpet": [
           {
            "colorbar": {
             "outlinewidth": 0,
             "ticks": ""
            },
            "type": "contourcarpet"
           }
          ],
          "heatmap": [
           {
            "colorbar": {
             "outlinewidth": 0,
             "ticks": ""
            },
            "colorscale": [
             [
              0,
              "#0d0887"
             ],
             [
              0.1111111111111111,
              "#46039f"
             ],
             [
              0.2222222222222222,
              "#7201a8"
             ],
             [
              0.3333333333333333,
              "#9c179e"
             ],
             [
              0.4444444444444444,
              "#bd3786"
             ],
             [
              0.5555555555555556,
              "#d8576b"
             ],
             [
              0.6666666666666666,
              "#ed7953"
             ],
             [
              0.7777777777777778,
              "#fb9f3a"
             ],
             [
              0.8888888888888888,
              "#fdca26"
             ],
             [
              1,
              "#f0f921"
             ]
            ],
            "type": "heatmap"
           }
          ],
          "heatmapgl": [
           {
            "colorbar": {
             "outlinewidth": 0,
             "ticks": ""
            },
            "colorscale": [
             [
              0,
              "#0d0887"
             ],
             [
              0.1111111111111111,
              "#46039f"
             ],
             [
              0.2222222222222222,
              "#7201a8"
             ],
             [
              0.3333333333333333,
              "#9c179e"
             ],
             [
              0.4444444444444444,
              "#bd3786"
             ],
             [
              0.5555555555555556,
              "#d8576b"
             ],
             [
              0.6666666666666666,
              "#ed7953"
             ],
             [
              0.7777777777777778,
              "#fb9f3a"
             ],
             [
              0.8888888888888888,
              "#fdca26"
             ],
             [
              1,
              "#f0f921"
             ]
            ],
            "type": "heatmapgl"
           }
          ],
          "histogram": [
           {
            "marker": {
             "colorbar": {
              "outlinewidth": 0,
              "ticks": ""
             }
            },
            "type": "histogram"
           }
          ],
          "histogram2d": [
           {
            "colorbar": {
             "outlinewidth": 0,
             "ticks": ""
            },
            "colorscale": [
             [
              0,
              "#0d0887"
             ],
             [
              0.1111111111111111,
              "#46039f"
             ],
             [
              0.2222222222222222,
              "#7201a8"
             ],
             [
              0.3333333333333333,
              "#9c179e"
             ],
             [
              0.4444444444444444,
              "#bd3786"
             ],
             [
              0.5555555555555556,
              "#d8576b"
             ],
             [
              0.6666666666666666,
              "#ed7953"
             ],
             [
              0.7777777777777778,
              "#fb9f3a"
             ],
             [
              0.8888888888888888,
              "#fdca26"
             ],
             [
              1,
              "#f0f921"
             ]
            ],
            "type": "histogram2d"
           }
          ],
          "histogram2dcontour": [
           {
            "colorbar": {
             "outlinewidth": 0,
             "ticks": ""
            },
            "colorscale": [
             [
              0,
              "#0d0887"
             ],
             [
              0.1111111111111111,
              "#46039f"
             ],
             [
              0.2222222222222222,
              "#7201a8"
             ],
             [
              0.3333333333333333,
              "#9c179e"
             ],
             [
              0.4444444444444444,
              "#bd3786"
             ],
             [
              0.5555555555555556,
              "#d8576b"
             ],
             [
              0.6666666666666666,
              "#ed7953"
             ],
             [
              0.7777777777777778,
              "#fb9f3a"
             ],
             [
              0.8888888888888888,
              "#fdca26"
             ],
             [
              1,
              "#f0f921"
             ]
            ],
            "type": "histogram2dcontour"
           }
          ],
          "mesh3d": [
           {
            "colorbar": {
             "outlinewidth": 0,
             "ticks": ""
            },
            "type": "mesh3d"
           }
          ],
          "parcoords": [
           {
            "line": {
             "colorbar": {
              "outlinewidth": 0,
              "ticks": ""
             }
            },
            "type": "parcoords"
           }
          ],
          "pie": [
           {
            "automargin": true,
            "type": "pie"
           }
          ],
          "scatter": [
           {
            "marker": {
             "colorbar": {
              "outlinewidth": 0,
              "ticks": ""
             }
            },
            "type": "scatter"
           }
          ],
          "scatter3d": [
           {
            "line": {
             "colorbar": {
              "outlinewidth": 0,
              "ticks": ""
             }
            },
            "marker": {
             "colorbar": {
              "outlinewidth": 0,
              "ticks": ""
             }
            },
            "type": "scatter3d"
           }
          ],
          "scattercarpet": [
           {
            "marker": {
             "colorbar": {
              "outlinewidth": 0,
              "ticks": ""
             }
            },
            "type": "scattercarpet"
           }
          ],
          "scattergeo": [
           {
            "marker": {
             "colorbar": {
              "outlinewidth": 0,
              "ticks": ""
             }
            },
            "type": "scattergeo"
           }
          ],
          "scattergl": [
           {
            "marker": {
             "colorbar": {
              "outlinewidth": 0,
              "ticks": ""
             }
            },
            "type": "scattergl"
           }
          ],
          "scattermapbox": [
           {
            "marker": {
             "colorbar": {
              "outlinewidth": 0,
              "ticks": ""
             }
            },
            "type": "scattermapbox"
           }
          ],
          "scatterpolar": [
           {
            "marker": {
             "colorbar": {
              "outlinewidth": 0,
              "ticks": ""
             }
            },
            "type": "scatterpolar"
           }
          ],
          "scatterpolargl": [
           {
            "marker": {
             "colorbar": {
              "outlinewidth": 0,
              "ticks": ""
             }
            },
            "type": "scatterpolargl"
           }
          ],
          "scatterternary": [
           {
            "marker": {
             "colorbar": {
              "outlinewidth": 0,
              "ticks": ""
             }
            },
            "type": "scatterternary"
           }
          ],
          "surface": [
           {
            "colorbar": {
             "outlinewidth": 0,
             "ticks": ""
            },
            "colorscale": [
             [
              0,
              "#0d0887"
             ],
             [
              0.1111111111111111,
              "#46039f"
             ],
             [
              0.2222222222222222,
              "#7201a8"
             ],
             [
              0.3333333333333333,
              "#9c179e"
             ],
             [
              0.4444444444444444,
              "#bd3786"
             ],
             [
              0.5555555555555556,
              "#d8576b"
             ],
             [
              0.6666666666666666,
              "#ed7953"
             ],
             [
              0.7777777777777778,
              "#fb9f3a"
             ],
             [
              0.8888888888888888,
              "#fdca26"
             ],
             [
              1,
              "#f0f921"
             ]
            ],
            "type": "surface"
           }
          ],
          "table": [
           {
            "cells": {
             "fill": {
              "color": "#EBF0F8"
             },
             "line": {
              "color": "white"
             }
            },
            "header": {
             "fill": {
              "color": "#C8D4E3"
             },
             "line": {
              "color": "white"
             }
            },
            "type": "table"
           }
          ]
         },
         "layout": {
          "annotationdefaults": {
           "arrowcolor": "#2a3f5f",
           "arrowhead": 0,
           "arrowwidth": 1
          },
          "coloraxis": {
           "colorbar": {
            "outlinewidth": 0,
            "ticks": ""
           }
          },
          "colorscale": {
           "diverging": [
            [
             0,
             "#8e0152"
            ],
            [
             0.1,
             "#c51b7d"
            ],
            [
             0.2,
             "#de77ae"
            ],
            [
             0.3,
             "#f1b6da"
            ],
            [
             0.4,
             "#fde0ef"
            ],
            [
             0.5,
             "#f7f7f7"
            ],
            [
             0.6,
             "#e6f5d0"
            ],
            [
             0.7,
             "#b8e186"
            ],
            [
             0.8,
             "#7fbc41"
            ],
            [
             0.9,
             "#4d9221"
            ],
            [
             1,
             "#276419"
            ]
           ],
           "sequential": [
            [
             0,
             "#0d0887"
            ],
            [
             0.1111111111111111,
             "#46039f"
            ],
            [
             0.2222222222222222,
             "#7201a8"
            ],
            [
             0.3333333333333333,
             "#9c179e"
            ],
            [
             0.4444444444444444,
             "#bd3786"
            ],
            [
             0.5555555555555556,
             "#d8576b"
            ],
            [
             0.6666666666666666,
             "#ed7953"
            ],
            [
             0.7777777777777778,
             "#fb9f3a"
            ],
            [
             0.8888888888888888,
             "#fdca26"
            ],
            [
             1,
             "#f0f921"
            ]
           ],
           "sequentialminus": [
            [
             0,
             "#0d0887"
            ],
            [
             0.1111111111111111,
             "#46039f"
            ],
            [
             0.2222222222222222,
             "#7201a8"
            ],
            [
             0.3333333333333333,
             "#9c179e"
            ],
            [
             0.4444444444444444,
             "#bd3786"
            ],
            [
             0.5555555555555556,
             "#d8576b"
            ],
            [
             0.6666666666666666,
             "#ed7953"
            ],
            [
             0.7777777777777778,
             "#fb9f3a"
            ],
            [
             0.8888888888888888,
             "#fdca26"
            ],
            [
             1,
             "#f0f921"
            ]
           ]
          },
          "colorway": [
           "#636efa",
           "#EF553B",
           "#00cc96",
           "#ab63fa",
           "#FFA15A",
           "#19d3f3",
           "#FF6692",
           "#B6E880",
           "#FF97FF",
           "#FECB52"
          ],
          "font": {
           "color": "#2a3f5f"
          },
          "geo": {
           "bgcolor": "white",
           "lakecolor": "white",
           "landcolor": "#E5ECF6",
           "showlakes": true,
           "showland": true,
           "subunitcolor": "white"
          },
          "hoverlabel": {
           "align": "left"
          },
          "hovermode": "closest",
          "mapbox": {
           "style": "light"
          },
          "paper_bgcolor": "white",
          "plot_bgcolor": "#E5ECF6",
          "polar": {
           "angularaxis": {
            "gridcolor": "white",
            "linecolor": "white",
            "ticks": ""
           },
           "bgcolor": "#E5ECF6",
           "radialaxis": {
            "gridcolor": "white",
            "linecolor": "white",
            "ticks": ""
           }
          },
          "scene": {
           "xaxis": {
            "backgroundcolor": "#E5ECF6",
            "gridcolor": "white",
            "gridwidth": 2,
            "linecolor": "white",
            "showbackground": true,
            "ticks": "",
            "zerolinecolor": "white"
           },
           "yaxis": {
            "backgroundcolor": "#E5ECF6",
            "gridcolor": "white",
            "gridwidth": 2,
            "linecolor": "white",
            "showbackground": true,
            "ticks": "",
            "zerolinecolor": "white"
           },
           "zaxis": {
            "backgroundcolor": "#E5ECF6",
            "gridcolor": "white",
            "gridwidth": 2,
            "linecolor": "white",
            "showbackground": true,
            "ticks": "",
            "zerolinecolor": "white"
           }
          },
          "shapedefaults": {
           "line": {
            "color": "#2a3f5f"
           }
          },
          "ternary": {
           "aaxis": {
            "gridcolor": "white",
            "linecolor": "white",
            "ticks": ""
           },
           "baxis": {
            "gridcolor": "white",
            "linecolor": "white",
            "ticks": ""
           },
           "bgcolor": "#E5ECF6",
           "caxis": {
            "gridcolor": "white",
            "linecolor": "white",
            "ticks": ""
           }
          },
          "title": {
           "x": 0.05
          },
          "xaxis": {
           "automargin": true,
           "gridcolor": "white",
           "linecolor": "white",
           "ticks": "",
           "title": {
            "standoff": 15
           },
           "zerolinecolor": "white",
           "zerolinewidth": 2
          },
          "yaxis": {
           "automargin": true,
           "gridcolor": "white",
           "linecolor": "white",
           "ticks": "",
           "title": {
            "standoff": 15
           },
           "zerolinecolor": "white",
           "zerolinewidth": 2
          }
         }
        },
        "title": {
         "font": {
          "color": "#4D5663"
         },
         "text": "Node Centrality By Degree (Total Degrees=12)"
        },
        "xaxis": {
         "gridcolor": "#E1E5ED",
         "showgrid": true,
         "tickfont": {
          "color": "#4D5663"
         },
         "title": {
          "font": {
           "color": "#4D5663"
          },
          "text": ""
         },
         "zerolinecolor": "#E1E5ED"
        },
        "yaxis": {
         "gridcolor": "#E1E5ED",
         "showgrid": true,
         "tickfont": {
          "color": "#4D5663"
         },
         "title": {
          "font": {
           "color": "#4D5663"
          },
          "text": "Degree"
         },
         "zerolinecolor": "#E1E5ED"
        }
       }
      },
      "text/html": [
       "<div>\n",
       "        \n",
       "        \n",
       "            <div id=\"e698b921-e950-41b1-bae8-5b9109e8d858\" class=\"plotly-graph-div\" style=\"height:525px; width:100%;\"></div>\n",
       "            <script type=\"text/javascript\">\n",
       "                require([\"plotly\"], function(Plotly) {\n",
       "                    window.PLOTLYENV=window.PLOTLYENV || {};\n",
       "                    window.PLOTLYENV.BASE_URL='https://plot.ly';\n",
       "                    \n",
       "                if (document.getElementById(\"e698b921-e950-41b1-bae8-5b9109e8d858\")) {\n",
       "                    Plotly.newPlot(\n",
       "                        'e698b921-e950-41b1-bae8-5b9109e8d858',\n",
       "                        [{\"marker\": {\"color\": \"rgba(255, 153, 51, 0.6)\", \"line\": {\"color\": \"rgba(255, 153, 51, 1.0)\", \"width\": 1}}, \"name\": \"Degree\", \"orientation\": \"v\", \"text\": \"\", \"type\": \"bar\", \"x\": [\"John\", \"Mark\", \"Gwen\", \"Kimmie\", \"Sylvie\"], \"y\": [3, 3, 2, 2, 2]}],\n",
       "                        {\"legend\": {\"bgcolor\": \"#F5F6F9\", \"font\": {\"color\": \"#4D5663\"}}, \"paper_bgcolor\": \"#F5F6F9\", \"plot_bgcolor\": \"#F5F6F9\", \"template\": {\"data\": {\"bar\": [{\"error_x\": {\"color\": \"#2a3f5f\"}, \"error_y\": {\"color\": \"#2a3f5f\"}, \"marker\": {\"line\": {\"color\": \"#E5ECF6\", \"width\": 0.5}}, \"type\": \"bar\"}], \"barpolar\": [{\"marker\": {\"line\": {\"color\": \"#E5ECF6\", \"width\": 0.5}}, \"type\": \"barpolar\"}], \"carpet\": [{\"aaxis\": {\"endlinecolor\": \"#2a3f5f\", \"gridcolor\": \"white\", \"linecolor\": \"white\", \"minorgridcolor\": \"white\", \"startlinecolor\": \"#2a3f5f\"}, \"baxis\": {\"endlinecolor\": \"#2a3f5f\", \"gridcolor\": \"white\", \"linecolor\": \"white\", \"minorgridcolor\": \"white\", \"startlinecolor\": \"#2a3f5f\"}, \"type\": \"carpet\"}], \"choropleth\": [{\"colorbar\": {\"outlinewidth\": 0, \"ticks\": \"\"}, \"type\": \"choropleth\"}], \"contour\": [{\"colorbar\": {\"outlinewidth\": 0, \"ticks\": \"\"}, \"colorscale\": [[0.0, \"#0d0887\"], [0.1111111111111111, \"#46039f\"], [0.2222222222222222, \"#7201a8\"], [0.3333333333333333, \"#9c179e\"], [0.4444444444444444, \"#bd3786\"], [0.5555555555555556, \"#d8576b\"], [0.6666666666666666, \"#ed7953\"], [0.7777777777777778, \"#fb9f3a\"], [0.8888888888888888, \"#fdca26\"], [1.0, \"#f0f921\"]], \"type\": \"contour\"}], \"contourcarpet\": [{\"colorbar\": {\"outlinewidth\": 0, \"ticks\": \"\"}, \"type\": \"contourcarpet\"}], \"heatmap\": [{\"colorbar\": {\"outlinewidth\": 0, \"ticks\": \"\"}, \"colorscale\": [[0.0, \"#0d0887\"], [0.1111111111111111, \"#46039f\"], [0.2222222222222222, \"#7201a8\"], [0.3333333333333333, \"#9c179e\"], [0.4444444444444444, \"#bd3786\"], [0.5555555555555556, \"#d8576b\"], [0.6666666666666666, \"#ed7953\"], [0.7777777777777778, \"#fb9f3a\"], [0.8888888888888888, \"#fdca26\"], [1.0, \"#f0f921\"]], \"type\": \"heatmap\"}], \"heatmapgl\": [{\"colorbar\": {\"outlinewidth\": 0, \"ticks\": \"\"}, \"colorscale\": [[0.0, \"#0d0887\"], [0.1111111111111111, \"#46039f\"], [0.2222222222222222, \"#7201a8\"], [0.3333333333333333, \"#9c179e\"], [0.4444444444444444, \"#bd3786\"], [0.5555555555555556, \"#d8576b\"], [0.6666666666666666, \"#ed7953\"], [0.7777777777777778, \"#fb9f3a\"], [0.8888888888888888, \"#fdca26\"], [1.0, \"#f0f921\"]], \"type\": \"heatmapgl\"}], \"histogram\": [{\"marker\": {\"colorbar\": {\"outlinewidth\": 0, \"ticks\": \"\"}}, \"type\": \"histogram\"}], \"histogram2d\": [{\"colorbar\": {\"outlinewidth\": 0, \"ticks\": \"\"}, \"colorscale\": [[0.0, \"#0d0887\"], [0.1111111111111111, \"#46039f\"], [0.2222222222222222, \"#7201a8\"], [0.3333333333333333, \"#9c179e\"], [0.4444444444444444, \"#bd3786\"], [0.5555555555555556, \"#d8576b\"], [0.6666666666666666, \"#ed7953\"], [0.7777777777777778, \"#fb9f3a\"], [0.8888888888888888, \"#fdca26\"], [1.0, \"#f0f921\"]], \"type\": \"histogram2d\"}], \"histogram2dcontour\": [{\"colorbar\": {\"outlinewidth\": 0, \"ticks\": \"\"}, \"colorscale\": [[0.0, \"#0d0887\"], [0.1111111111111111, \"#46039f\"], [0.2222222222222222, \"#7201a8\"], [0.3333333333333333, \"#9c179e\"], [0.4444444444444444, \"#bd3786\"], [0.5555555555555556, \"#d8576b\"], [0.6666666666666666, \"#ed7953\"], [0.7777777777777778, \"#fb9f3a\"], [0.8888888888888888, \"#fdca26\"], [1.0, \"#f0f921\"]], \"type\": \"histogram2dcontour\"}], \"mesh3d\": [{\"colorbar\": {\"outlinewidth\": 0, \"ticks\": \"\"}, \"type\": \"mesh3d\"}], \"parcoords\": [{\"line\": {\"colorbar\": {\"outlinewidth\": 0, \"ticks\": \"\"}}, \"type\": \"parcoords\"}], \"pie\": [{\"automargin\": true, \"type\": \"pie\"}], \"scatter\": [{\"marker\": {\"colorbar\": {\"outlinewidth\": 0, \"ticks\": \"\"}}, \"type\": \"scatter\"}], \"scatter3d\": [{\"line\": {\"colorbar\": {\"outlinewidth\": 0, \"ticks\": \"\"}}, \"marker\": {\"colorbar\": {\"outlinewidth\": 0, \"ticks\": \"\"}}, \"type\": \"scatter3d\"}], \"scattercarpet\": [{\"marker\": {\"colorbar\": {\"outlinewidth\": 0, \"ticks\": \"\"}}, \"type\": \"scattercarpet\"}], \"scattergeo\": [{\"marker\": {\"colorbar\": {\"outlinewidth\": 0, \"ticks\": \"\"}}, \"type\": \"scattergeo\"}], \"scattergl\": [{\"marker\": {\"colorbar\": {\"outlinewidth\": 0, \"ticks\": \"\"}}, \"type\": \"scattergl\"}], \"scattermapbox\": [{\"marker\": {\"colorbar\": {\"outlinewidth\": 0, \"ticks\": \"\"}}, \"type\": \"scattermapbox\"}], \"scatterpolar\": [{\"marker\": {\"colorbar\": {\"outlinewidth\": 0, \"ticks\": \"\"}}, \"type\": \"scatterpolar\"}], \"scatterpolargl\": [{\"marker\": {\"colorbar\": {\"outlinewidth\": 0, \"ticks\": \"\"}}, \"type\": \"scatterpolargl\"}], \"scatterternary\": [{\"marker\": {\"colorbar\": {\"outlinewidth\": 0, \"ticks\": \"\"}}, \"type\": \"scatterternary\"}], \"surface\": [{\"colorbar\": {\"outlinewidth\": 0, \"ticks\": \"\"}, \"colorscale\": [[0.0, \"#0d0887\"], [0.1111111111111111, \"#46039f\"], [0.2222222222222222, \"#7201a8\"], [0.3333333333333333, \"#9c179e\"], [0.4444444444444444, \"#bd3786\"], [0.5555555555555556, \"#d8576b\"], [0.6666666666666666, \"#ed7953\"], [0.7777777777777778, \"#fb9f3a\"], [0.8888888888888888, \"#fdca26\"], [1.0, \"#f0f921\"]], \"type\": \"surface\"}], \"table\": [{\"cells\": {\"fill\": {\"color\": \"#EBF0F8\"}, \"line\": {\"color\": \"white\"}}, \"header\": {\"fill\": {\"color\": \"#C8D4E3\"}, \"line\": {\"color\": \"white\"}}, \"type\": \"table\"}]}, \"layout\": {\"annotationdefaults\": {\"arrowcolor\": \"#2a3f5f\", \"arrowhead\": 0, \"arrowwidth\": 1}, \"coloraxis\": {\"colorbar\": {\"outlinewidth\": 0, \"ticks\": \"\"}}, \"colorscale\": {\"diverging\": [[0, \"#8e0152\"], [0.1, \"#c51b7d\"], [0.2, \"#de77ae\"], [0.3, \"#f1b6da\"], [0.4, \"#fde0ef\"], [0.5, \"#f7f7f7\"], [0.6, \"#e6f5d0\"], [0.7, \"#b8e186\"], [0.8, \"#7fbc41\"], [0.9, \"#4d9221\"], [1, \"#276419\"]], \"sequential\": [[0.0, \"#0d0887\"], [0.1111111111111111, \"#46039f\"], [0.2222222222222222, \"#7201a8\"], [0.3333333333333333, \"#9c179e\"], [0.4444444444444444, \"#bd3786\"], [0.5555555555555556, \"#d8576b\"], [0.6666666666666666, \"#ed7953\"], [0.7777777777777778, \"#fb9f3a\"], [0.8888888888888888, \"#fdca26\"], [1.0, \"#f0f921\"]], \"sequentialminus\": [[0.0, \"#0d0887\"], [0.1111111111111111, \"#46039f\"], [0.2222222222222222, \"#7201a8\"], [0.3333333333333333, \"#9c179e\"], [0.4444444444444444, \"#bd3786\"], [0.5555555555555556, \"#d8576b\"], [0.6666666666666666, \"#ed7953\"], [0.7777777777777778, \"#fb9f3a\"], [0.8888888888888888, \"#fdca26\"], [1.0, \"#f0f921\"]]}, \"colorway\": [\"#636efa\", \"#EF553B\", \"#00cc96\", \"#ab63fa\", \"#FFA15A\", \"#19d3f3\", \"#FF6692\", \"#B6E880\", \"#FF97FF\", \"#FECB52\"], \"font\": {\"color\": \"#2a3f5f\"}, \"geo\": {\"bgcolor\": \"white\", \"lakecolor\": \"white\", \"landcolor\": \"#E5ECF6\", \"showlakes\": true, \"showland\": true, \"subunitcolor\": \"white\"}, \"hoverlabel\": {\"align\": \"left\"}, \"hovermode\": \"closest\", \"mapbox\": {\"style\": \"light\"}, \"paper_bgcolor\": \"white\", \"plot_bgcolor\": \"#E5ECF6\", \"polar\": {\"angularaxis\": {\"gridcolor\": \"white\", \"linecolor\": \"white\", \"ticks\": \"\"}, \"bgcolor\": \"#E5ECF6\", \"radialaxis\": {\"gridcolor\": \"white\", \"linecolor\": \"white\", \"ticks\": \"\"}}, \"scene\": {\"xaxis\": {\"backgroundcolor\": \"#E5ECF6\", \"gridcolor\": \"white\", \"gridwidth\": 2, \"linecolor\": \"white\", \"showbackground\": true, \"ticks\": \"\", \"zerolinecolor\": \"white\"}, \"yaxis\": {\"backgroundcolor\": \"#E5ECF6\", \"gridcolor\": \"white\", \"gridwidth\": 2, \"linecolor\": \"white\", \"showbackground\": true, \"ticks\": \"\", \"zerolinecolor\": \"white\"}, \"zaxis\": {\"backgroundcolor\": \"#E5ECF6\", \"gridcolor\": \"white\", \"gridwidth\": 2, \"linecolor\": \"white\", \"showbackground\": true, \"ticks\": \"\", \"zerolinecolor\": \"white\"}}, \"shapedefaults\": {\"line\": {\"color\": \"#2a3f5f\"}}, \"ternary\": {\"aaxis\": {\"gridcolor\": \"white\", \"linecolor\": \"white\", \"ticks\": \"\"}, \"baxis\": {\"gridcolor\": \"white\", \"linecolor\": \"white\", \"ticks\": \"\"}, \"bgcolor\": \"#E5ECF6\", \"caxis\": {\"gridcolor\": \"white\", \"linecolor\": \"white\", \"ticks\": \"\"}}, \"title\": {\"x\": 0.05}, \"xaxis\": {\"automargin\": true, \"gridcolor\": \"white\", \"linecolor\": \"white\", \"ticks\": \"\", \"title\": {\"standoff\": 15}, \"zerolinecolor\": \"white\", \"zerolinewidth\": 2}, \"yaxis\": {\"automargin\": true, \"gridcolor\": \"white\", \"linecolor\": \"white\", \"ticks\": \"\", \"title\": {\"standoff\": 15}, \"zerolinecolor\": \"white\", \"zerolinewidth\": 2}}}, \"title\": {\"font\": {\"color\": \"#4D5663\"}, \"text\": \"Node Centrality By Degree (Total Degrees=12)\"}, \"xaxis\": {\"gridcolor\": \"#E1E5ED\", \"showgrid\": true, \"tickfont\": {\"color\": \"#4D5663\"}, \"title\": {\"font\": {\"color\": \"#4D5663\"}, \"text\": \"\"}, \"zerolinecolor\": \"#E1E5ED\"}, \"yaxis\": {\"gridcolor\": \"#E1E5ED\", \"showgrid\": true, \"tickfont\": {\"color\": \"#4D5663\"}, \"title\": {\"font\": {\"color\": \"#4D5663\"}, \"text\": \"Degree\"}, \"zerolinecolor\": \"#E1E5ED\"}},\n",
       "                        {\"showLink\": true, \"linkText\": \"Export to plot.ly\", \"plotlyServerURL\": \"https://plot.ly\", \"responsive\": true}\n",
       "                    ).then(function(){\n",
       "                            \n",
       "var gd = document.getElementById('e698b921-e950-41b1-bae8-5b9109e8d858');\n",
       "var x = new MutationObserver(function (mutations, observer) {{\n",
       "        var display = window.getComputedStyle(gd).display;\n",
       "        if (!display || display === 'none') {{\n",
       "            console.log([gd, 'removed!']);\n",
       "            Plotly.purge(gd);\n",
       "            observer.disconnect();\n",
       "        }}\n",
       "}});\n",
       "\n",
       "// Listen for the removal of the full notebook cells\n",
       "var notebookContainer = gd.closest('#notebook-container');\n",
       "if (notebookContainer) {{\n",
       "    x.observe(notebookContainer, {childList: true});\n",
       "}}\n",
       "\n",
       "// Listen for the clearing of the current output cell\n",
       "var outputEl = gd.closest('.output');\n",
       "if (outputEl) {{\n",
       "    x.observe(outputEl, {childList: true});\n",
       "}}\n",
       "\n",
       "                        })\n",
       "                };\n",
       "                });\n",
       "            </script>\n",
       "        </div>"
      ]
     },
     "metadata": {},
     "output_type": "display_data"
    },
    {
     "data": {
      "text/html": [
       "<div>\n",
       "<style scoped>\n",
       "    .dataframe tbody tr th:only-of-type {\n",
       "        vertical-align: middle;\n",
       "    }\n",
       "\n",
       "    .dataframe tbody tr th {\n",
       "        vertical-align: top;\n",
       "    }\n",
       "\n",
       "    .dataframe thead th {\n",
       "        text-align: right;\n",
       "    }\n",
       "</style>\n",
       "<table border=\"1\" class=\"dataframe\">\n",
       "  <thead>\n",
       "    <tr style=\"text-align: right;\">\n",
       "      <th></th>\n",
       "      <th>Node</th>\n",
       "      <th>Degree</th>\n",
       "    </tr>\n",
       "  </thead>\n",
       "  <tbody>\n",
       "    <tr>\n",
       "      <td>1</td>\n",
       "      <td>John</td>\n",
       "      <td>3</td>\n",
       "    </tr>\n",
       "    <tr>\n",
       "      <td>2</td>\n",
       "      <td>Mark</td>\n",
       "      <td>3</td>\n",
       "    </tr>\n",
       "    <tr>\n",
       "      <td>0</td>\n",
       "      <td>Gwen</td>\n",
       "      <td>2</td>\n",
       "    </tr>\n",
       "    <tr>\n",
       "      <td>3</td>\n",
       "      <td>Kimmie</td>\n",
       "      <td>2</td>\n",
       "    </tr>\n",
       "    <tr>\n",
       "      <td>4</td>\n",
       "      <td>Sylvie</td>\n",
       "      <td>2</td>\n",
       "    </tr>\n",
       "  </tbody>\n",
       "</table>\n",
       "</div>"
      ],
      "text/plain": [
       "     Node  Degree\n",
       "1    John       3\n",
       "2    Mark       3\n",
       "0    Gwen       2\n",
       "3  Kimmie       2\n",
       "4  Sylvie       2"
      ]
     },
     "execution_count": 34,
     "metadata": {},
     "output_type": "execute_result"
    },
    {
     "data": {
      "image/png": "[encoded data removed]",
      "text/plain": [
       "<Figure size 432x288 with 1 Axes>"
      ]
     },
     "metadata": {},
     "output_type": "display_data"
    }
   ],
   "source": [
    "## what if everyone slept with everyone?\n",
    "import itertools\n",
    "girls = [person for i,person in enumerate(s_people) if s_colors[i]=='pink']\n",
    "boys = [person for i,person in enumerate(s_people) if s_colors[i]=='blue']\n",
    "\n",
    "print(girls)\n",
    "print(boys)\n",
    "\n",
    "G = nx.Graph()\n",
    "[G.add_edge(*x,) for x in list(itertools.product(girls,boys))]\n",
    "nx.draw(G,with_labels=True,node_size=1500)#color=s_colors)\n",
    "\n",
    "get_degrees(G)"
   ]
  },
  {
   "cell_type": "code",
   "execution_count": 35,
   "metadata": {
    "ExecuteTime": {
     "end_time": "2020-02-04T16:43:23.274175Z",
     "start_time": "2020-02-04T16:43:22.835842Z"
    }
   },
   "outputs": [
    {
     "name": "stderr",
     "output_type": "stream",
     "text": [
      "//anaconda3/envs/learn-env/lib/python3.6/site-packages/networkx/drawing/nx_pylab.py:579: MatplotlibDeprecationWarning:\n",
      "\n",
      "\n",
      "The iterable function was deprecated in Matplotlib 3.1 and will be removed in 3.3. Use np.iterable instead.\n",
      "\n"
     ]
    },
    {
     "data": {
      "application/vnd.plotly.v1+json": {
       "config": {
        "linkText": "Export to plot.ly",
        "plotlyServerURL": "https://plot.ly",
        "showLink": true
       },
       "data": [
        {
         "marker": {
          "color": "rgba(255, 153, 51, 0.6)",
          "line": {
           "color": "rgba(255, 153, 51, 1.0)",
           "width": 1
          }
         },
         "name": "Degree",
         "orientation": "v",
         "text": "",
         "type": "bar",
         "x": [
          "Steve",
          "Ryan",
          "Guy",
          "Alex",
          "James"
         ],
         "y": [
          6,
          6,
          6,
          6,
          6
         ]
        }
       ],
       "layout": {
        "legend": {
         "bgcolor": "#F5F6F9",
         "font": {
          "color": "#4D5663"
         }
        },
        "paper_bgcolor": "#F5F6F9",
        "plot_bgcolor": "#F5F6F9",
        "template": {
         "data": {
          "bar": [
           {
            "error_x": {
             "color": "#2a3f5f"
            },
            "error_y": {
             "color": "#2a3f5f"
            },
            "marker": {
             "line": {
              "color": "#E5ECF6",
              "width": 0.5
             }
            },
            "type": "bar"
           }
          ],
          "barpolar": [
           {
            "marker": {
             "line": {
              "color": "#E5ECF6",
              "width": 0.5
             }
            },
            "type": "barpolar"
           }
          ],
          "carpet": [
           {
            "aaxis": {
             "endlinecolor": "#2a3f5f",
             "gridcolor": "white",
             "linecolor": "white",
             "minorgridcolor": "white",
             "startlinecolor": "#2a3f5f"
            },
            "baxis": {
             "endlinecolor": "#2a3f5f",
             "gridcolor": "white",
             "linecolor": "white",
             "minorgridcolor": "white",
             "startlinecolor": "#2a3f5f"
            },
            "type": "carpet"
           }
          ],
          "choropleth": [
           {
            "colorbar": {
             "outlinewidth": 0,
             "ticks": ""
            },
            "type": "choropleth"
           }
          ],
          "contour": [
           {
            "colorbar": {
             "outlinewidth": 0,
             "ticks": ""
            },
            "colorscale": [
             [
              0,
              "#0d0887"
             ],
             [
              0.1111111111111111,
              "#46039f"
             ],
             [
              0.2222222222222222,
              "#7201a8"
             ],
             [
              0.3333333333333333,
              "#9c179e"
             ],
             [
              0.4444444444444444,
              "#bd3786"
             ],
             [
              0.5555555555555556,
              "#d8576b"
             ],
             [
              0.6666666666666666,
              "#ed7953"
             ],
             [
              0.7777777777777778,
              "#fb9f3a"
             ],
             [
              0.8888888888888888,
              "#fdca26"
             ],
             [
              1,
              "#f0f921"
             ]
            ],
            "type": "contour"
           }
          ],
          "contourcarpet": [
           {
            "colorbar": {
             "outlinewidth": 0,
             "ticks": ""
            },
            "type": "contourcarpet"
           }
          ],
          "heatmap": [
           {
            "colorbar": {
             "outlinewidth": 0,
             "ticks": ""
            },
            "colorscale": [
             [
              0,
              "#0d0887"
             ],
             [
              0.1111111111111111,
              "#46039f"
             ],
             [
              0.2222222222222222,
              "#7201a8"
             ],
             [
              0.3333333333333333,
              "#9c179e"
             ],
             [
              0.4444444444444444,
              "#bd3786"
             ],
             [
              0.5555555555555556,
              "#d8576b"
             ],
             [
              0.6666666666666666,
              "#ed7953"
             ],
             [
              0.7777777777777778,
              "#fb9f3a"
             ],
             [
              0.8888888888888888,
              "#fdca26"
             ],
             [
              1,
              "#f0f921"
             ]
            ],
            "type": "heatmap"
           }
          ],
          "heatmapgl": [
           {
            "colorbar": {
             "outlinewidth": 0,
             "ticks": ""
            },
            "colorscale": [
             [
              0,
              "#0d0887"
             ],
             [
              0.1111111111111111,
              "#46039f"
             ],
             [
              0.2222222222222222,
              "#7201a8"
             ],
             [
              0.3333333333333333,
              "#9c179e"
             ],
             [
              0.4444444444444444,
              "#bd3786"
             ],
             [
              0.5555555555555556,
              "#d8576b"
             ],
             [
              0.6666666666666666,
              "#ed7953"
             ],
             [
              0.7777777777777778,
              "#fb9f3a"
             ],
             [
              0.8888888888888888,
              "#fdca26"
             ],
             [
              1,
              "#f0f921"
             ]
            ],
            "type": "heatmapgl"
           }
          ],
          "histogram": [
           {
            "marker": {
             "colorbar": {
              "outlinewidth": 0,
              "ticks": ""
             }
            },
            "type": "histogram"
           }
          ],
          "histogram2d": [
           {
            "colorbar": {
             "outlinewidth": 0,
             "ticks": ""
            },
            "colorscale": [
             [
              0,
              "#0d0887"
             ],
             [
              0.1111111111111111,
              "#46039f"
             ],
             [
              0.2222222222222222,
              "#7201a8"
             ],
             [
              0.3333333333333333,
              "#9c179e"
             ],
             [
              0.4444444444444444,
              "#bd3786"
             ],
             [
              0.5555555555555556,
              "#d8576b"
             ],
             [
              0.6666666666666666,
              "#ed7953"
             ],
             [
              0.7777777777777778,
              "#fb9f3a"
             ],
             [
              0.8888888888888888,
              "#fdca26"
             ],
             [
              1,
              "#f0f921"
             ]
            ],
            "type": "histogram2d"
           }
          ],
          "histogram2dcontour": [
           {
            "colorbar": {
             "outlinewidth": 0,
             "ticks": ""
            },
            "colorscale": [
             [
              0,
              "#0d0887"
             ],
             [
              0.1111111111111111,
              "#46039f"
             ],
             [
              0.2222222222222222,
              "#7201a8"
             ],
             [
              0.3333333333333333,
              "#9c179e"
             ],
             [
              0.4444444444444444,
              "#bd3786"
             ],
             [
              0.5555555555555556,
              "#d8576b"
             ],
             [
              0.6666666666666666,
              "#ed7953"
             ],
             [
              0.7777777777777778,
              "#fb9f3a"
             ],
             [
              0.8888888888888888,
              "#fdca26"
             ],
             [
              1,
              "#f0f921"
             ]
            ],
            "type": "histogram2dcontour"
           }
          ],
          "mesh3d": [
           {
            "colorbar": {
             "outlinewidth": 0,
             "ticks": ""
            },
            "type": "mesh3d"
           }
          ],
          "parcoords": [
           {
            "line": {
             "colorbar": {
              "outlinewidth": 0,
              "ticks": ""
             }
            },
            "type": "parcoords"
           }
          ],
          "pie": [
           {
            "automargin": true,
            "type": "pie"
           }
          ],
          "scatter": [
           {
            "marker": {
             "colorbar": {
              "outlinewidth": 0,
              "ticks": ""
             }
            },
            "type": "scatter"
           }
          ],
          "scatter3d": [
           {
            "line": {
             "colorbar": {
              "outlinewidth": 0,
              "ticks": ""
             }
            },
            "marker": {
             "colorbar": {
              "outlinewidth": 0,
              "ticks": ""
             }
            },
            "type": "scatter3d"
           }
          ],
          "scattercarpet": [
           {
            "marker": {
             "colorbar": {
              "outlinewidth": 0,
              "ticks": ""
             }
            },
            "type": "scattercarpet"
           }
          ],
          "scattergeo": [
           {
            "marker": {
             "colorbar": {
              "outlinewidth": 0,
              "ticks": ""
             }
            },
            "type": "scattergeo"
           }
          ],
          "scattergl": [
           {
            "marker": {
             "colorbar": {
              "outlinewidth": 0,
              "ticks": ""
             }
            },
            "type": "scattergl"
           }
          ],
          "scattermapbox": [
           {
            "marker": {
             "colorbar": {
              "outlinewidth": 0,
              "ticks": ""
             }
            },
            "type": "scattermapbox"
           }
          ],
          "scatterpolar": [
           {
            "marker": {
             "colorbar": {
              "outlinewidth": 0,
              "ticks": ""
             }
            },
            "type": "scatterpolar"
           }
          ],
          "scatterpolargl": [
           {
            "marker": {
             "colorbar": {
              "outlinewidth": 0,
              "ticks": ""
             }
            },
            "type": "scatterpolargl"
           }
          ],
          "scatterternary": [
           {
            "marker": {
             "colorbar": {
              "outlinewidth": 0,
              "ticks": ""
             }
            },
            "type": "scatterternary"
           }
          ],
          "surface": [
           {
            "colorbar": {
             "outlinewidth": 0,
             "ticks": ""
            },
            "colorscale": [
             [
              0,
              "#0d0887"
             ],
             [
              0.1111111111111111,
              "#46039f"
             ],
             [
              0.2222222222222222,
              "#7201a8"
             ],
             [
              0.3333333333333333,
              "#9c179e"
             ],
             [
              0.4444444444444444,
              "#bd3786"
             ],
             [
              0.5555555555555556,
              "#d8576b"
             ],
             [
              0.6666666666666666,
              "#ed7953"
             ],
             [
              0.7777777777777778,
              "#fb9f3a"
             ],
             [
              0.8888888888888888,
              "#fdca26"
             ],
             [
              1,
              "#f0f921"
             ]
            ],
            "type": "surface"
           }
          ],
          "table": [
           {
            "cells": {
             "fill": {
              "color": "#EBF0F8"
             },
             "line": {
              "color": "white"
             }
            },
            "header": {
             "fill": {
              "color": "#C8D4E3"
             },
             "line": {
              "color": "white"
             }
            },
            "type": "table"
           }
          ]
         },
         "layout": {
          "annotationdefaults": {
           "arrowcolor": "#2a3f5f",
           "arrowhead": 0,
           "arrowwidth": 1
          },
          "coloraxis": {
           "colorbar": {
            "outlinewidth": 0,
            "ticks": ""
           }
          },
          "colorscale": {
           "diverging": [
            [
             0,
             "#8e0152"
            ],
            [
             0.1,
             "#c51b7d"
            ],
            [
             0.2,
             "#de77ae"
            ],
            [
             0.3,
             "#f1b6da"
            ],
            [
             0.4,
             "#fde0ef"
            ],
            [
             0.5,
             "#f7f7f7"
            ],
            [
             0.6,
             "#e6f5d0"
            ],
            [
             0.7,
             "#b8e186"
            ],
            [
             0.8,
             "#7fbc41"
            ],
            [
             0.9,
             "#4d9221"
            ],
            [
             1,
             "#276419"
            ]
           ],
           "sequential": [
            [
             0,
             "#0d0887"
            ],
            [
             0.1111111111111111,
             "#46039f"
            ],
            [
             0.2222222222222222,
             "#7201a8"
            ],
            [
             0.3333333333333333,
             "#9c179e"
            ],
            [
             0.4444444444444444,
             "#bd3786"
            ],
            [
             0.5555555555555556,
             "#d8576b"
            ],
            [
             0.6666666666666666,
             "#ed7953"
            ],
            [
             0.7777777777777778,
             "#fb9f3a"
            ],
            [
             0.8888888888888888,
             "#fdca26"
            ],
            [
             1,
             "#f0f921"
            ]
           ],
           "sequentialminus": [
            [
             0,
             "#0d0887"
            ],
            [
             0.1111111111111111,
             "#46039f"
            ],
            [
             0.2222222222222222,
             "#7201a8"
            ],
            [
             0.3333333333333333,
             "#9c179e"
            ],
            [
             0.4444444444444444,
             "#bd3786"
            ],
            [
             0.5555555555555556,
             "#d8576b"
            ],
            [
             0.6666666666666666,
             "#ed7953"
            ],
            [
             0.7777777777777778,
             "#fb9f3a"
            ],
            [
             0.8888888888888888,
             "#fdca26"
            ],
            [
             1,
             "#f0f921"
            ]
           ]
          },
          "colorway": [
           "#636efa",
           "#EF553B",
           "#00cc96",
           "#ab63fa",
           "#FFA15A",
           "#19d3f3",
           "#FF6692",
           "#B6E880",
           "#FF97FF",
           "#FECB52"
          ],
          "font": {
           "color": "#2a3f5f"
          },
          "geo": {
           "bgcolor": "white",
           "lakecolor": "white",
           "landcolor": "#E5ECF6",
           "showlakes": true,
           "showland": true,
           "subunitcolor": "white"
          },
          "hoverlabel": {
           "align": "left"
          },
          "hovermode": "closest",
          "mapbox": {
           "style": "light"
          },
          "paper_bgcolor": "white",
          "plot_bgcolor": "#E5ECF6",
          "polar": {
           "angularaxis": {
            "gridcolor": "white",
            "linecolor": "white",
            "ticks": ""
           },
           "bgcolor": "#E5ECF6",
           "radialaxis": {
            "gridcolor": "white",
            "linecolor": "white",
            "ticks": ""
           }
          },
          "scene": {
           "xaxis": {
            "backgroundcolor": "#E5ECF6",
            "gridcolor": "white",
            "gridwidth": 2,
            "linecolor": "white",
            "showbackground": true,
            "ticks": "",
            "zerolinecolor": "white"
           },
           "yaxis": {
            "backgroundcolor": "#E5ECF6",
            "gridcolor": "white",
            "gridwidth": 2,
            "linecolor": "white",
            "showbackground": true,
            "ticks": "",
            "zerolinecolor": "white"
           },
           "zaxis": {
            "backgroundcolor": "#E5ECF6",
            "gridcolor": "white",
            "gridwidth": 2,
            "linecolor": "white",
            "showbackground": true,
            "ticks": "",
            "zerolinecolor": "white"
           }
          },
          "shapedefaults": {
           "line": {
            "color": "#2a3f5f"
           }
          },
          "ternary": {
           "aaxis": {
            "gridcolor": "white",
            "linecolor": "white",
            "ticks": ""
           },
           "baxis": {
            "gridcolor": "white",
            "linecolor": "white",
            "ticks": ""
           },
           "bgcolor": "#E5ECF6",
           "caxis": {
            "gridcolor": "white",
            "linecolor": "white",
            "ticks": ""
           }
          },
          "title": {
           "x": 0.05
          },
          "xaxis": {
           "automargin": true,
           "gridcolor": "white",
           "linecolor": "white",
           "ticks": "",
           "title": {
            "standoff": 15
           },
           "zerolinecolor": "white",
           "zerolinewidth": 2
          },
          "yaxis": {
           "automargin": true,
           "gridcolor": "white",
           "linecolor": "white",
           "ticks": "",
           "title": {
            "standoff": 15
           },
           "zerolinecolor": "white",
           "zerolinewidth": 2
          }
         }
        },
        "title": {
         "font": {
          "color": "#4D5663"
         },
         "text": "Node Centrality By Degree (Total Degrees=30)"
        },
        "xaxis": {
         "gridcolor": "#E1E5ED",
         "showgrid": true,
         "tickfont": {
          "color": "#4D5663"
         },
         "title": {
          "font": {
           "color": "#4D5663"
          },
          "text": ""
         },
         "zerolinecolor": "#E1E5ED"
        },
        "yaxis": {
         "gridcolor": "#E1E5ED",
         "showgrid": true,
         "tickfont": {
          "color": "#4D5663"
         },
         "title": {
          "font": {
           "color": "#4D5663"
          },
          "text": "Degree"
         },
         "zerolinecolor": "#E1E5ED"
        }
       }
      },
      "text/html": [
       "<div>\n",
       "        \n",
       "        \n",
       "            <div id=\"69972719-e6bb-49df-a5e2-bab72e9a19cd\" class=\"plotly-graph-div\" style=\"height:525px; width:100%;\"></div>\n",
       "            <script type=\"text/javascript\">\n",
       "                require([\"plotly\"], function(Plotly) {\n",
       "                    window.PLOTLYENV=window.PLOTLYENV || {};\n",
       "                    window.PLOTLYENV.BASE_URL='https://plot.ly';\n",
       "                    \n",
       "                if (document.getElementById(\"69972719-e6bb-49df-a5e2-bab72e9a19cd\")) {\n",
       "                    Plotly.newPlot(\n",
       "                        '69972719-e6bb-49df-a5e2-bab72e9a19cd',\n",
       "                        [{\"marker\": {\"color\": \"rgba(255, 153, 51, 0.6)\", \"line\": {\"color\": \"rgba(255, 153, 51, 1.0)\", \"width\": 1}}, \"name\": \"Degree\", \"orientation\": \"v\", \"text\": \"\", \"type\": \"bar\", \"x\": [\"Steve\", \"Ryan\", \"Guy\", \"Alex\", \"James\"], \"y\": [6, 6, 6, 6, 6]}],\n",
       "                        {\"legend\": {\"bgcolor\": \"#F5F6F9\", \"font\": {\"color\": \"#4D5663\"}}, \"paper_bgcolor\": \"#F5F6F9\", \"plot_bgcolor\": \"#F5F6F9\", \"template\": {\"data\": {\"bar\": [{\"error_x\": {\"color\": \"#2a3f5f\"}, \"error_y\": {\"color\": \"#2a3f5f\"}, \"marker\": {\"line\": {\"color\": \"#E5ECF6\", \"width\": 0.5}}, \"type\": \"bar\"}], \"barpolar\": [{\"marker\": {\"line\": {\"color\": \"#E5ECF6\", \"width\": 0.5}}, \"type\": \"barpolar\"}], \"carpet\": [{\"aaxis\": {\"endlinecolor\": \"#2a3f5f\", \"gridcolor\": \"white\", \"linecolor\": \"white\", \"minorgridcolor\": \"white\", \"startlinecolor\": \"#2a3f5f\"}, \"baxis\": {\"endlinecolor\": \"#2a3f5f\", \"gridcolor\": \"white\", \"linecolor\": \"white\", \"minorgridcolor\": \"white\", \"startlinecolor\": \"#2a3f5f\"}, \"type\": \"carpet\"}], \"choropleth\": [{\"colorbar\": {\"outlinewidth\": 0, \"ticks\": \"\"}, \"type\": \"choropleth\"}], \"contour\": [{\"colorbar\": {\"outlinewidth\": 0, \"ticks\": \"\"}, \"colorscale\": [[0.0, \"#0d0887\"], [0.1111111111111111, \"#46039f\"], [0.2222222222222222, \"#7201a8\"], [0.3333333333333333, \"#9c179e\"], [0.4444444444444444, \"#bd3786\"], [0.5555555555555556, \"#d8576b\"], [0.6666666666666666, \"#ed7953\"], [0.7777777777777778, \"#fb9f3a\"], [0.8888888888888888, \"#fdca26\"], [1.0, \"#f0f921\"]], \"type\": \"contour\"}], \"contourcarpet\": [{\"colorbar\": {\"outlinewidth\": 0, \"ticks\": \"\"}, \"type\": \"contourcarpet\"}], \"heatmap\": [{\"colorbar\": {\"outlinewidth\": 0, \"ticks\": \"\"}, \"colorscale\": [[0.0, \"#0d0887\"], [0.1111111111111111, \"#46039f\"], [0.2222222222222222, \"#7201a8\"], [0.3333333333333333, \"#9c179e\"], [0.4444444444444444, \"#bd3786\"], [0.5555555555555556, \"#d8576b\"], [0.6666666666666666, \"#ed7953\"], [0.7777777777777778, \"#fb9f3a\"], [0.8888888888888888, \"#fdca26\"], [1.0, \"#f0f921\"]], \"type\": \"heatmap\"}], \"heatmapgl\": [{\"colorbar\": {\"outlinewidth\": 0, \"ticks\": \"\"}, \"colorscale\": [[0.0, \"#0d0887\"], [0.1111111111111111, \"#46039f\"], [0.2222222222222222, \"#7201a8\"], [0.3333333333333333, \"#9c179e\"], [0.4444444444444444, \"#bd3786\"], [0.5555555555555556, \"#d8576b\"], [0.6666666666666666, \"#ed7953\"], [0.7777777777777778, \"#fb9f3a\"], [0.8888888888888888, \"#fdca26\"], [1.0, \"#f0f921\"]], \"type\": \"heatmapgl\"}], \"histogram\": [{\"marker\": {\"colorbar\": {\"outlinewidth\": 0, \"ticks\": \"\"}}, \"type\": \"histogram\"}], \"histogram2d\": [{\"colorbar\": {\"outlinewidth\": 0, \"ticks\": \"\"}, \"colorscale\": [[0.0, \"#0d0887\"], [0.1111111111111111, \"#46039f\"], [0.2222222222222222, \"#7201a8\"], [0.3333333333333333, \"#9c179e\"], [0.4444444444444444, \"#bd3786\"], [0.5555555555555556, \"#d8576b\"], [0.6666666666666666, \"#ed7953\"], [0.7777777777777778, \"#fb9f3a\"], [0.8888888888888888, \"#fdca26\"], [1.0, \"#f0f921\"]], \"type\": \"histogram2d\"}], \"histogram2dcontour\": [{\"colorbar\": {\"outlinewidth\": 0, \"ticks\": \"\"}, \"colorscale\": [[0.0, \"#0d0887\"], [0.1111111111111111, \"#46039f\"], [0.2222222222222222, \"#7201a8\"], [0.3333333333333333, \"#9c179e\"], [0.4444444444444444, \"#bd3786\"], [0.5555555555555556, \"#d8576b\"], [0.6666666666666666, \"#ed7953\"], [0.7777777777777778, \"#fb9f3a\"], [0.8888888888888888, \"#fdca26\"], [1.0, \"#f0f921\"]], \"type\": \"histogram2dcontour\"}], \"mesh3d\": [{\"colorbar\": {\"outlinewidth\": 0, \"ticks\": \"\"}, \"type\": \"mesh3d\"}], \"parcoords\": [{\"line\": {\"colorbar\": {\"outlinewidth\": 0, \"ticks\": \"\"}}, \"type\": \"parcoords\"}], \"pie\": [{\"automargin\": true, \"type\": \"pie\"}], \"scatter\": [{\"marker\": {\"colorbar\": {\"outlinewidth\": 0, \"ticks\": \"\"}}, \"type\": \"scatter\"}], \"scatter3d\": [{\"line\": {\"colorbar\": {\"outlinewidth\": 0, \"ticks\": \"\"}}, \"marker\": {\"colorbar\": {\"outlinewidth\": 0, \"ticks\": \"\"}}, \"type\": \"scatter3d\"}], \"scattercarpet\": [{\"marker\": {\"colorbar\": {\"outlinewidth\": 0, \"ticks\": \"\"}}, \"type\": \"scattercarpet\"}], \"scattergeo\": [{\"marker\": {\"colorbar\": {\"outlinewidth\": 0, \"ticks\": \"\"}}, \"type\": \"scattergeo\"}], \"scattergl\": [{\"marker\": {\"colorbar\": {\"outlinewidth\": 0, \"ticks\": \"\"}}, \"type\": \"scattergl\"}], \"scattermapbox\": [{\"marker\": {\"colorbar\": {\"outlinewidth\": 0, \"ticks\": \"\"}}, \"type\": \"scattermapbox\"}], \"scatterpolar\": [{\"marker\": {\"colorbar\": {\"outlinewidth\": 0, \"ticks\": \"\"}}, \"type\": \"scatterpolar\"}], \"scatterpolargl\": [{\"marker\": {\"colorbar\": {\"outlinewidth\": 0, \"ticks\": \"\"}}, \"type\": \"scatterpolargl\"}], \"scatterternary\": [{\"marker\": {\"colorbar\": {\"outlinewidth\": 0, \"ticks\": \"\"}}, \"type\": \"scatterternary\"}], \"surface\": [{\"colorbar\": {\"outlinewidth\": 0, \"ticks\": \"\"}, \"colorscale\": [[0.0, \"#0d0887\"], [0.1111111111111111, \"#46039f\"], [0.2222222222222222, \"#7201a8\"], [0.3333333333333333, \"#9c179e\"], [0.4444444444444444, \"#bd3786\"], [0.5555555555555556, \"#d8576b\"], [0.6666666666666666, \"#ed7953\"], [0.7777777777777778, \"#fb9f3a\"], [0.8888888888888888, \"#fdca26\"], [1.0, \"#f0f921\"]], \"type\": \"surface\"}], \"table\": [{\"cells\": {\"fill\": {\"color\": \"#EBF0F8\"}, \"line\": {\"color\": \"white\"}}, \"header\": {\"fill\": {\"color\": \"#C8D4E3\"}, \"line\": {\"color\": \"white\"}}, \"type\": \"table\"}]}, \"layout\": {\"annotationdefaults\": {\"arrowcolor\": \"#2a3f5f\", \"arrowhead\": 0, \"arrowwidth\": 1}, \"coloraxis\": {\"colorbar\": {\"outlinewidth\": 0, \"ticks\": \"\"}}, \"colorscale\": {\"diverging\": [[0, \"#8e0152\"], [0.1, \"#c51b7d\"], [0.2, \"#de77ae\"], [0.3, \"#f1b6da\"], [0.4, \"#fde0ef\"], [0.5, \"#f7f7f7\"], [0.6, \"#e6f5d0\"], [0.7, \"#b8e186\"], [0.8, \"#7fbc41\"], [0.9, \"#4d9221\"], [1, \"#276419\"]], \"sequential\": [[0.0, \"#0d0887\"], [0.1111111111111111, \"#46039f\"], [0.2222222222222222, \"#7201a8\"], [0.3333333333333333, \"#9c179e\"], [0.4444444444444444, \"#bd3786\"], [0.5555555555555556, \"#d8576b\"], [0.6666666666666666, \"#ed7953\"], [0.7777777777777778, \"#fb9f3a\"], [0.8888888888888888, \"#fdca26\"], [1.0, \"#f0f921\"]], \"sequentialminus\": [[0.0, \"#0d0887\"], [0.1111111111111111, \"#46039f\"], [0.2222222222222222, \"#7201a8\"], [0.3333333333333333, \"#9c179e\"], [0.4444444444444444, \"#bd3786\"], [0.5555555555555556, \"#d8576b\"], [0.6666666666666666, \"#ed7953\"], [0.7777777777777778, \"#fb9f3a\"], [0.8888888888888888, \"#fdca26\"], [1.0, \"#f0f921\"]]}, \"colorway\": [\"#636efa\", \"#EF553B\", \"#00cc96\", \"#ab63fa\", \"#FFA15A\", \"#19d3f3\", \"#FF6692\", \"#B6E880\", \"#FF97FF\", \"#FECB52\"], \"font\": {\"color\": \"#2a3f5f\"}, \"geo\": {\"bgcolor\": \"white\", \"lakecolor\": \"white\", \"landcolor\": \"#E5ECF6\", \"showlakes\": true, \"showland\": true, \"subunitcolor\": \"white\"}, \"hoverlabel\": {\"align\": \"left\"}, \"hovermode\": \"closest\", \"mapbox\": {\"style\": \"light\"}, \"paper_bgcolor\": \"white\", \"plot_bgcolor\": \"#E5ECF6\", \"polar\": {\"angularaxis\": {\"gridcolor\": \"white\", \"linecolor\": \"white\", \"ticks\": \"\"}, \"bgcolor\": \"#E5ECF6\", \"radialaxis\": {\"gridcolor\": \"white\", \"linecolor\": \"white\", \"ticks\": \"\"}}, \"scene\": {\"xaxis\": {\"backgroundcolor\": \"#E5ECF6\", \"gridcolor\": \"white\", \"gridwidth\": 2, \"linecolor\": \"white\", \"showbackground\": true, \"ticks\": \"\", \"zerolinecolor\": \"white\"}, \"yaxis\": {\"backgroundcolor\": \"#E5ECF6\", \"gridcolor\": \"white\", \"gridwidth\": 2, \"linecolor\": \"white\", \"showbackground\": true, \"ticks\": \"\", \"zerolinecolor\": \"white\"}, \"zaxis\": {\"backgroundcolor\": \"#E5ECF6\", \"gridcolor\": \"white\", \"gridwidth\": 2, \"linecolor\": \"white\", \"showbackground\": true, \"ticks\": \"\", \"zerolinecolor\": \"white\"}}, \"shapedefaults\": {\"line\": {\"color\": \"#2a3f5f\"}}, \"ternary\": {\"aaxis\": {\"gridcolor\": \"white\", \"linecolor\": \"white\", \"ticks\": \"\"}, \"baxis\": {\"gridcolor\": \"white\", \"linecolor\": \"white\", \"ticks\": \"\"}, \"bgcolor\": \"#E5ECF6\", \"caxis\": {\"gridcolor\": \"white\", \"linecolor\": \"white\", \"ticks\": \"\"}}, \"title\": {\"x\": 0.05}, \"xaxis\": {\"automargin\": true, \"gridcolor\": \"white\", \"linecolor\": \"white\", \"ticks\": \"\", \"title\": {\"standoff\": 15}, \"zerolinecolor\": \"white\", \"zerolinewidth\": 2}, \"yaxis\": {\"automargin\": true, \"gridcolor\": \"white\", \"linecolor\": \"white\", \"ticks\": \"\", \"title\": {\"standoff\": 15}, \"zerolinecolor\": \"white\", \"zerolinewidth\": 2}}}, \"title\": {\"font\": {\"color\": \"#4D5663\"}, \"text\": \"Node Centrality By Degree (Total Degrees=30)\"}, \"xaxis\": {\"gridcolor\": \"#E1E5ED\", \"showgrid\": true, \"tickfont\": {\"color\": \"#4D5663\"}, \"title\": {\"font\": {\"color\": \"#4D5663\"}, \"text\": \"\"}, \"zerolinecolor\": \"#E1E5ED\"}, \"yaxis\": {\"gridcolor\": \"#E1E5ED\", \"showgrid\": true, \"tickfont\": {\"color\": \"#4D5663\"}, \"title\": {\"font\": {\"color\": \"#4D5663\"}, \"text\": \"Degree\"}, \"zerolinecolor\": \"#E1E5ED\"}},\n",
       "                        {\"showLink\": true, \"linkText\": \"Export to plot.ly\", \"plotlyServerURL\": \"https://plot.ly\", \"responsive\": true}\n",
       "                    ).then(function(){\n",
       "                            \n",
       "var gd = document.getElementById('69972719-e6bb-49df-a5e2-bab72e9a19cd');\n",
       "var x = new MutationObserver(function (mutations, observer) {{\n",
       "        var display = window.getComputedStyle(gd).display;\n",
       "        if (!display || display === 'none') {{\n",
       "            console.log([gd, 'removed!']);\n",
       "            Plotly.purge(gd);\n",
       "            observer.disconnect();\n",
       "        }}\n",
       "}});\n",
       "\n",
       "// Listen for the removal of the full notebook cells\n",
       "var notebookContainer = gd.closest('#notebook-container');\n",
       "if (notebookContainer) {{\n",
       "    x.observe(notebookContainer, {childList: true});\n",
       "}}\n",
       "\n",
       "// Listen for the clearing of the current output cell\n",
       "var outputEl = gd.closest('.output');\n",
       "if (outputEl) {{\n",
       "    x.observe(outputEl, {childList: true});\n",
       "}}\n",
       "\n",
       "                        })\n",
       "                };\n",
       "                });\n",
       "            </script>\n",
       "        </div>"
      ]
     },
     "metadata": {},
     "output_type": "display_data"
    },
    {
     "data": {
      "text/html": [
       "<div>\n",
       "<style scoped>\n",
       "    .dataframe tbody tr th:only-of-type {\n",
       "        vertical-align: middle;\n",
       "    }\n",
       "\n",
       "    .dataframe tbody tr th {\n",
       "        vertical-align: top;\n",
       "    }\n",
       "\n",
       "    .dataframe thead th {\n",
       "        text-align: right;\n",
       "    }\n",
       "</style>\n",
       "<table border=\"1\" class=\"dataframe\">\n",
       "  <thead>\n",
       "    <tr style=\"text-align: right;\">\n",
       "      <th></th>\n",
       "      <th>Node</th>\n",
       "      <th>Degree</th>\n",
       "    </tr>\n",
       "  </thead>\n",
       "  <tbody>\n",
       "    <tr>\n",
       "      <td>0</td>\n",
       "      <td>Steve</td>\n",
       "      <td>6</td>\n",
       "    </tr>\n",
       "    <tr>\n",
       "      <td>1</td>\n",
       "      <td>Ryan</td>\n",
       "      <td>6</td>\n",
       "    </tr>\n",
       "    <tr>\n",
       "      <td>2</td>\n",
       "      <td>Guy</td>\n",
       "      <td>6</td>\n",
       "    </tr>\n",
       "    <tr>\n",
       "      <td>3</td>\n",
       "      <td>Alex</td>\n",
       "      <td>6</td>\n",
       "    </tr>\n",
       "    <tr>\n",
       "      <td>4</td>\n",
       "      <td>James</td>\n",
       "      <td>6</td>\n",
       "    </tr>\n",
       "  </tbody>\n",
       "</table>\n",
       "</div>"
      ],
      "text/plain": [
       "    Node  Degree\n",
       "0  Steve       6\n",
       "1   Ryan       6\n",
       "2    Guy       6\n",
       "3   Alex       6\n",
       "4  James       6"
      ]
     },
     "execution_count": 35,
     "metadata": {},
     "output_type": "execute_result"
    },
    {
     "data": {
      "image/png": "[encoded data removed]",
      "text/plain": [
       "<Figure size 432x288 with 1 Axes>"
      ]
     },
     "metadata": {},
     "output_type": "display_data"
    }
   ],
   "source": [
    "gboys =list(itertools.product(g_people,g_people))\n",
    "gboys\n",
    "\n",
    "G = nx.Graph()\n",
    "[G.add_edge(*x,) for x in set(gboys)]\n",
    "nx.draw(G,with_labels=True,node_size=1500)#color=s_colors)\n",
    "get_degrees(G)"
   ]
  },
  {
   "cell_type": "code",
   "execution_count": null,
   "metadata": {},
   "outputs": [],
   "source": []
  },
  {
   "cell_type": "code",
   "execution_count": null,
   "metadata": {},
   "outputs": [],
   "source": []
  },
  {
   "cell_type": "markdown",
   "metadata": {},
   "source": [
    "# Activity: Node Centrality Lab\n",
    "- Inside repo: \"/labs_from_class/sect_42\""
   ]
  },
  {
   "cell_type": "markdown",
   "metadata": {},
   "source": [
    "## Post-Activity Commentary:"
   ]
  },
  {
   "cell_type": "markdown",
   "metadata": {},
   "source": [
    "- Q: In what areas could you see this analysis being applied?\n",
    "\n",
    "- A: Marketing- finding social influencers."
   ]
  },
  {
   "cell_type": "markdown",
   "metadata": {
    "heading_collapsed": true
   },
   "source": [
    "# Appendix - Airline Activity"
   ]
  },
  {
   "cell_type": "markdown",
   "metadata": {
    "hidden": true
   },
   "source": [
    "- https://www.analyticsvidhya.com/blog/2018/04/introduction-to-graph-theory-network-analysis-python-codes/"
   ]
  },
  {
   "cell_type": "code",
   "execution_count": 11,
   "metadata": {
    "ExecuteTime": {
     "end_time": "2020-02-04T16:36:02.062044Z",
     "start_time": "2020-02-04T16:36:02.059698Z"
    },
    "hidden": true
   },
   "outputs": [],
   "source": [
    "from fsds_100719.imports import *"
   ]
  },
  {
   "cell_type": "code",
   "execution_count": 12,
   "metadata": {
    "ExecuteTime": {
     "end_time": "2020-02-04T16:36:02.084121Z",
     "start_time": "2020-02-04T16:36:02.063235Z"
    },
    "hidden": true
   },
   "outputs": [
    {
     "data": {
      "text/html": [
       "<div>\n",
       "<style scoped>\n",
       "    .dataframe tbody tr th:only-of-type {\n",
       "        vertical-align: middle;\n",
       "    }\n",
       "\n",
       "    .dataframe tbody tr th {\n",
       "        vertical-align: top;\n",
       "    }\n",
       "\n",
       "    .dataframe thead th {\n",
       "        text-align: right;\n",
       "    }\n",
       "</style>\n",
       "<table border=\"1\" class=\"dataframe\">\n",
       "  <thead>\n",
       "    <tr style=\"text-align: right;\">\n",
       "      <th></th>\n",
       "      <th>year</th>\n",
       "      <th>month</th>\n",
       "      <th>day</th>\n",
       "      <th>dep_time</th>\n",
       "      <th>sched_dep_time</th>\n",
       "      <th>dep_delay</th>\n",
       "      <th>arr_time</th>\n",
       "      <th>sched_arr_time</th>\n",
       "      <th>arr_delay</th>\n",
       "      <th>carrier</th>\n",
       "      <th>flight</th>\n",
       "      <th>tailnum</th>\n",
       "      <th>origin</th>\n",
       "      <th>dest</th>\n",
       "      <th>air_time</th>\n",
       "      <th>distance</th>\n",
       "    </tr>\n",
       "  </thead>\n",
       "  <tbody>\n",
       "    <tr>\n",
       "      <td>0</td>\n",
       "      <td>2013</td>\n",
       "      <td>2</td>\n",
       "      <td>26</td>\n",
       "      <td>1807.0</td>\n",
       "      <td>1630</td>\n",
       "      <td>97.0</td>\n",
       "      <td>1956.0</td>\n",
       "      <td>1837</td>\n",
       "      <td>79.0</td>\n",
       "      <td>EV</td>\n",
       "      <td>4411</td>\n",
       "      <td>N13566</td>\n",
       "      <td>EWR</td>\n",
       "      <td>MEM</td>\n",
       "      <td>144.0</td>\n",
       "      <td>946</td>\n",
       "    </tr>\n",
       "    <tr>\n",
       "      <td>1</td>\n",
       "      <td>2013</td>\n",
       "      <td>8</td>\n",
       "      <td>17</td>\n",
       "      <td>1459.0</td>\n",
       "      <td>1445</td>\n",
       "      <td>14.0</td>\n",
       "      <td>1801.0</td>\n",
       "      <td>1747</td>\n",
       "      <td>14.0</td>\n",
       "      <td>B6</td>\n",
       "      <td>1171</td>\n",
       "      <td>N661JB</td>\n",
       "      <td>LGA</td>\n",
       "      <td>FLL</td>\n",
       "      <td>147.0</td>\n",
       "      <td>1076</td>\n",
       "    </tr>\n",
       "    <tr>\n",
       "      <td>2</td>\n",
       "      <td>2013</td>\n",
       "      <td>2</td>\n",
       "      <td>13</td>\n",
       "      <td>1812.0</td>\n",
       "      <td>1815</td>\n",
       "      <td>-3.0</td>\n",
       "      <td>2055.0</td>\n",
       "      <td>2125</td>\n",
       "      <td>-30.0</td>\n",
       "      <td>AS</td>\n",
       "      <td>7</td>\n",
       "      <td>N403AS</td>\n",
       "      <td>EWR</td>\n",
       "      <td>SEA</td>\n",
       "      <td>315.0</td>\n",
       "      <td>2402</td>\n",
       "    </tr>\n",
       "    <tr>\n",
       "      <td>3</td>\n",
       "      <td>2013</td>\n",
       "      <td>4</td>\n",
       "      <td>11</td>\n",
       "      <td>2122.0</td>\n",
       "      <td>2115</td>\n",
       "      <td>7.0</td>\n",
       "      <td>2339.0</td>\n",
       "      <td>2353</td>\n",
       "      <td>-14.0</td>\n",
       "      <td>B6</td>\n",
       "      <td>97</td>\n",
       "      <td>N656JB</td>\n",
       "      <td>JFK</td>\n",
       "      <td>DEN</td>\n",
       "      <td>221.0</td>\n",
       "      <td>1626</td>\n",
       "    </tr>\n",
       "    <tr>\n",
       "      <td>4</td>\n",
       "      <td>2013</td>\n",
       "      <td>8</td>\n",
       "      <td>5</td>\n",
       "      <td>1832.0</td>\n",
       "      <td>1835</td>\n",
       "      <td>-3.0</td>\n",
       "      <td>2145.0</td>\n",
       "      <td>2155</td>\n",
       "      <td>-10.0</td>\n",
       "      <td>AA</td>\n",
       "      <td>269</td>\n",
       "      <td>N3EYAA</td>\n",
       "      <td>JFK</td>\n",
       "      <td>SEA</td>\n",
       "      <td>358.0</td>\n",
       "      <td>2422</td>\n",
       "    </tr>\n",
       "  </tbody>\n",
       "</table>\n",
       "</div>"
      ],
      "text/plain": [
       "   year  month  day  dep_time  sched_dep_time  dep_delay  arr_time  \\\n",
       "0  2013      2   26    1807.0            1630       97.0    1956.0   \n",
       "1  2013      8   17    1459.0            1445       14.0    1801.0   \n",
       "2  2013      2   13    1812.0            1815       -3.0    2055.0   \n",
       "3  2013      4   11    2122.0            2115        7.0    2339.0   \n",
       "4  2013      8    5    1832.0            1835       -3.0    2145.0   \n",
       "\n",
       "   sched_arr_time  arr_delay carrier  flight tailnum origin dest  air_time  \\\n",
       "0            1837       79.0      EV    4411  N13566    EWR  MEM     144.0   \n",
       "1            1747       14.0      B6    1171  N661JB    LGA  FLL     147.0   \n",
       "2            2125      -30.0      AS       7  N403AS    EWR  SEA     315.0   \n",
       "3            2353      -14.0      B6      97  N656JB    JFK  DEN     221.0   \n",
       "4            2155      -10.0      AA     269  N3EYAA    JFK  SEA     358.0   \n",
       "\n",
       "   distance  \n",
       "0       946  \n",
       "1      1076  \n",
       "2      2402  \n",
       "3      1626  \n",
       "4      2422  "
      ]
     },
     "execution_count": 12,
     "metadata": {},
     "output_type": "execute_result"
    }
   ],
   "source": [
    "df = pd.read_csv('../datasets/Airlines.csv')\n",
    "# df.columns= [col.lower() for col in df.columns]\n",
    "df.head()"
   ]
  },
  {
   "cell_type": "code",
   "execution_count": 13,
   "metadata": {
    "ExecuteTime": {
     "end_time": "2020-02-04T16:36:02.087887Z",
     "start_time": "2020-02-04T16:36:02.085447Z"
    },
    "colab": {},
    "colab_type": "code",
    "hidden": true,
    "id": "enWz0R4Q_Pn1"
   },
   "outputs": [],
   "source": [
    "import networkx as nx"
   ]
  },
  {
   "cell_type": "code",
   "execution_count": 14,
   "metadata": {
    "ExecuteTime": {
     "end_time": "2020-02-04T16:36:02.093897Z",
     "start_time": "2020-02-04T16:36:02.089409Z"
    },
    "hidden": true
   },
   "outputs": [],
   "source": [
    "df_graph = nx.from_pandas_edgelist(df,\n",
    "                                   source='origin',\n",
    "                                   target='dest',\n",
    "                                  edge_attr=True)"
   ]
  },
  {
   "cell_type": "code",
   "execution_count": 15,
   "metadata": {
    "ExecuteTime": {
     "end_time": "2020-02-04T16:36:02.099682Z",
     "start_time": "2020-02-04T16:36:02.095543Z"
    },
    "hidden": true
   },
   "outputs": [
    {
     "data": {
      "text/plain": [
       "NodeView(('EWR', 'MEM', 'LGA', 'FLL', 'SEA', 'JFK', 'DEN', 'ORD', 'MIA', 'PBI', 'MCO', 'CMH', 'MSP', 'IAD', 'CLT', 'TPA', 'DCA', 'SJU', 'ATL', 'BHM', 'SRQ', 'MSY', 'DTW', 'LAX', 'JAX', 'RDU', 'MDW', 'DFW', 'IAH', 'SFO', 'STL', 'CVG', 'IND', 'RSW', 'BOS', 'CLE'))"
      ]
     },
     "execution_count": 15,
     "metadata": {},
     "output_type": "execute_result"
    }
   ],
   "source": [
    "df_graph.nodes"
   ]
  },
  {
   "cell_type": "code",
   "execution_count": 16,
   "metadata": {
    "ExecuteTime": {
     "end_time": "2020-02-04T16:36:02.104363Z",
     "start_time": "2020-02-04T16:36:02.101025Z"
    },
    "hidden": true,
    "scrolled": true
   },
   "outputs": [
    {
     "data": {
      "text/plain": [
       "EdgeView([('EWR', 'MEM'), ('EWR', 'SEA'), ('EWR', 'MIA'), ('EWR', 'ORD'), ('EWR', 'MSP'), ('EWR', 'TPA'), ('EWR', 'MSY'), ('EWR', 'DFW'), ('EWR', 'IAH'), ('EWR', 'SFO'), ('EWR', 'CVG'), ('EWR', 'IND'), ('EWR', 'RDU'), ('EWR', 'IAD'), ('EWR', 'RSW'), ('EWR', 'BOS'), ('EWR', 'PBI'), ('EWR', 'LAX'), ('EWR', 'MCO'), ('EWR', 'SJU'), ('LGA', 'FLL'), ('LGA', 'ORD'), ('LGA', 'PBI'), ('LGA', 'CMH'), ('LGA', 'IAD'), ('LGA', 'CLT'), ('LGA', 'MIA'), ('LGA', 'DCA'), ('LGA', 'BHM'), ('LGA', 'RDU'), ('LGA', 'ATL'), ('LGA', 'TPA'), ('LGA', 'MDW'), ('LGA', 'DEN'), ('LGA', 'MSP'), ('LGA', 'DTW'), ('LGA', 'STL'), ('LGA', 'MCO'), ('LGA', 'CVG'), ('LGA', 'IAH'), ('FLL', 'JFK'), ('SEA', 'JFK'), ('JFK', 'DEN'), ('JFK', 'MCO'), ('JFK', 'TPA'), ('JFK', 'SJU'), ('JFK', 'ATL'), ('JFK', 'SRQ'), ('JFK', 'DCA'), ('JFK', 'DTW'), ('JFK', 'LAX'), ('JFK', 'JAX'), ('JFK', 'CLT'), ('JFK', 'PBI'), ('JFK', 'CLE'), ('JFK', 'IAD'), ('JFK', 'BOS')])"
      ]
     },
     "execution_count": 16,
     "metadata": {},
     "output_type": "execute_result"
    }
   ],
   "source": [
    "df_graph.edges"
   ]
  },
  {
   "cell_type": "code",
   "execution_count": 17,
   "metadata": {
    "ExecuteTime": {
     "end_time": "2020-02-04T16:36:02.499395Z",
     "start_time": "2020-02-04T16:36:02.105715Z"
    },
    "hidden": true
   },
   "outputs": [
    {
     "data": {
      "image/png": "[encoded data removed]",
      "text/plain": [
       "<Figure size 864x576 with 1 Axes>"
      ]
     },
     "metadata": {},
     "output_type": "display_data"
    }
   ],
   "source": [
    "fig,ax=plt.subplots(figsize=(12,8))\n",
    "nx.draw_networkx(df_graph,ax=ax)"
   ]
  },
  {
   "cell_type": "code",
   "execution_count": 18,
   "metadata": {
    "ExecuteTime": {
     "end_time": "2020-02-04T16:36:02.507708Z",
     "start_time": "2020-02-04T16:36:02.500479Z"
    },
    "hidden": true
   },
   "outputs": [
    {
     "data": {
      "text/html": [
       "<div>\n",
       "<style scoped>\n",
       "    .dataframe tbody tr th:only-of-type {\n",
       "        vertical-align: middle;\n",
       "    }\n",
       "\n",
       "    .dataframe tbody tr th {\n",
       "        vertical-align: top;\n",
       "    }\n",
       "\n",
       "    .dataframe thead th {\n",
       "        text-align: right;\n",
       "    }\n",
       "</style>\n",
       "<table border=\"1\" class=\"dataframe\">\n",
       "  <thead>\n",
       "    <tr style=\"text-align: right;\">\n",
       "      <th></th>\n",
       "      <th>Node</th>\n",
       "      <th>Degree</th>\n",
       "    </tr>\n",
       "  </thead>\n",
       "  <tbody>\n",
       "    <tr>\n",
       "      <td>0</td>\n",
       "      <td>EWR</td>\n",
       "      <td>20</td>\n",
       "    </tr>\n",
       "    <tr>\n",
       "      <td>2</td>\n",
       "      <td>LGA</td>\n",
       "      <td>20</td>\n",
       "    </tr>\n",
       "    <tr>\n",
       "      <td>5</td>\n",
       "      <td>JFK</td>\n",
       "      <td>17</td>\n",
       "    </tr>\n",
       "    <tr>\n",
       "      <td>15</td>\n",
       "      <td>TPA</td>\n",
       "      <td>3</td>\n",
       "    </tr>\n",
       "    <tr>\n",
       "      <td>9</td>\n",
       "      <td>PBI</td>\n",
       "      <td>3</td>\n",
       "    </tr>\n",
       "  </tbody>\n",
       "</table>\n",
       "</div>"
      ],
      "text/plain": [
       "   Node  Degree\n",
       "0   EWR      20\n",
       "2   LGA      20\n",
       "5   JFK      17\n",
       "15  TPA       3\n",
       "9   PBI       3"
      ]
     },
     "execution_count": 18,
     "metadata": {},
     "output_type": "execute_result"
    }
   ],
   "source": [
    "df_deg = pd.DataFrame(df_graph.degree,\n",
    "             columns=['Node','Degree'])\n",
    "df_deg.sort_values('Degree',\n",
    "                   ascending=False).head()"
   ]
  },
  {
   "cell_type": "code",
   "execution_count": 19,
   "metadata": {
    "ExecuteTime": {
     "end_time": "2020-02-04T16:36:02.514028Z",
     "start_time": "2020-02-04T16:36:02.508926Z"
    },
    "code_folding": [
     0
    ],
    "hidden": true
   },
   "outputs": [],
   "source": [
    "def get_centrality(G,show=True,return_=True,plot=True):\n",
    "    \"\"\"Calcualtes all measures of centrality and creates a datafrane and iplot of results.\"\"\"\n",
    "    df_res = pd.DataFrame(G.degree(),columns=['Node','degree'])\n",
    "    \n",
    "    closeness = pd.Series(nx.closeness_centrality(G),name='closeness')\n",
    "    between = pd.Series(nx.betweenness_centrality(G),name='betweeness')\n",
    "    eigen = pd.Series(nx.eigenvector_centrality(G),name='eigenvector')\n",
    "\n",
    "    df_res=df_res.set_index('Node')\n",
    "    df_res=pd.concat([df_res,closeness,between,eigen],axis=1)\n",
    "    \n",
    "    if show:\n",
    "        display(df_res.style.background_gradient('Greens'))        \n",
    "\n",
    "    if plot:\n",
    "        df_res.iplot(kind='bar',title='Node Centrality Measures')\n",
    "\n",
    "    if return_:\n",
    "        return df_res\n",
    "    \n",
    "\n",
    "        "
   ]
  },
  {
   "cell_type": "code",
   "execution_count": 20,
   "metadata": {
    "ExecuteTime": {
     "end_time": "2020-02-04T16:36:02.841020Z",
     "start_time": "2020-02-04T16:36:02.515213Z"
    },
    "hidden": true,
    "scrolled": false
   },
   "outputs": [
    {
     "data": {
      "text/html": [
       "<style  type=\"text/css\" >\n",
       "    #T_6e99808c_476c_11ea_86ec_acde48001122row0_col0 {\n",
       "            background-color:  #00441b;\n",
       "            color:  #f1f1f1;\n",
       "        }    #T_6e99808c_476c_11ea_86ec_acde48001122row0_col1 {\n",
       "            background-color:  #00441b;\n",
       "            color:  #f1f1f1;\n",
       "        }    #T_6e99808c_476c_11ea_86ec_acde48001122row0_col2 {\n",
       "            background-color:  #00441b;\n",
       "            color:  #f1f1f1;\n",
       "        }    #T_6e99808c_476c_11ea_86ec_acde48001122row0_col3 {\n",
       "            background-color:  #005a24;\n",
       "            color:  #f1f1f1;\n",
       "        }    #T_6e99808c_476c_11ea_86ec_acde48001122row1_col0 {\n",
       "            background-color:  #f7fcf5;\n",
       "            color:  #000000;\n",
       "        }    #T_6e99808c_476c_11ea_86ec_acde48001122row1_col1 {\n",
       "            background-color:  #e9f7e5;\n",
       "            color:  #000000;\n",
       "        }    #T_6e99808c_476c_11ea_86ec_acde48001122row1_col2 {\n",
       "            background-color:  #f7fcf5;\n",
       "            color:  #000000;\n",
       "        }    #T_6e99808c_476c_11ea_86ec_acde48001122row1_col3 {\n",
       "            background-color:  #f5fbf2;\n",
       "            color:  #000000;\n",
       "        }    #T_6e99808c_476c_11ea_86ec_acde48001122row2_col0 {\n",
       "            background-color:  #00441b;\n",
       "            color:  #f1f1f1;\n",
       "        }    #T_6e99808c_476c_11ea_86ec_acde48001122row2_col1 {\n",
       "            background-color:  #00441b;\n",
       "            color:  #f1f1f1;\n",
       "        }    #T_6e99808c_476c_11ea_86ec_acde48001122row2_col2 {\n",
       "            background-color:  #005f26;\n",
       "            color:  #f1f1f1;\n",
       "        }    #T_6e99808c_476c_11ea_86ec_acde48001122row2_col3 {\n",
       "            background-color:  #00441b;\n",
       "            color:  #f1f1f1;\n",
       "        }    #T_6e99808c_476c_11ea_86ec_acde48001122row3_col0 {\n",
       "            background-color:  #f0f9ec;\n",
       "            color:  #000000;\n",
       "        }    #T_6e99808c_476c_11ea_86ec_acde48001122row3_col1 {\n",
       "            background-color:  #8ed08b;\n",
       "            color:  #000000;\n",
       "        }    #T_6e99808c_476c_11ea_86ec_acde48001122row3_col2 {\n",
       "            background-color:  #f5fbf2;\n",
       "            color:  #000000;\n",
       "        }    #T_6e99808c_476c_11ea_86ec_acde48001122row3_col3 {\n",
       "            background-color:  #d6efd0;\n",
       "            color:  #000000;\n",
       "        }    #T_6e99808c_476c_11ea_86ec_acde48001122row4_col0 {\n",
       "            background-color:  #f0f9ec;\n",
       "            color:  #000000;\n",
       "        }    #T_6e99808c_476c_11ea_86ec_acde48001122row4_col1 {\n",
       "            background-color:  #66bd6f;\n",
       "            color:  #000000;\n",
       "        }    #T_6e99808c_476c_11ea_86ec_acde48001122row4_col2 {\n",
       "            background-color:  #f4fbf1;\n",
       "            color:  #000000;\n",
       "        }    #T_6e99808c_476c_11ea_86ec_acde48001122row4_col3 {\n",
       "            background-color:  #d9f0d3;\n",
       "            color:  #000000;\n",
       "        }    #T_6e99808c_476c_11ea_86ec_acde48001122row5_col0 {\n",
       "            background-color:  #097532;\n",
       "            color:  #f1f1f1;\n",
       "        }    #T_6e99808c_476c_11ea_86ec_acde48001122row5_col1 {\n",
       "            background-color:  #1c8540;\n",
       "            color:  #000000;\n",
       "        }    #T_6e99808c_476c_11ea_86ec_acde48001122row5_col2 {\n",
       "            background-color:  #309950;\n",
       "            color:  #000000;\n",
       "        }    #T_6e99808c_476c_11ea_86ec_acde48001122row5_col3 {\n",
       "            background-color:  #107a37;\n",
       "            color:  #f1f1f1;\n",
       "        }    #T_6e99808c_476c_11ea_86ec_acde48001122row6_col0 {\n",
       "            background-color:  #f0f9ec;\n",
       "            color:  #000000;\n",
       "        }    #T_6e99808c_476c_11ea_86ec_acde48001122row6_col1 {\n",
       "            background-color:  #8ed08b;\n",
       "            color:  #000000;\n",
       "        }    #T_6e99808c_476c_11ea_86ec_acde48001122row6_col2 {\n",
       "            background-color:  #f5fbf2;\n",
       "            color:  #000000;\n",
       "        }    #T_6e99808c_476c_11ea_86ec_acde48001122row6_col3 {\n",
       "            background-color:  #d6efd0;\n",
       "            color:  #000000;\n",
       "        }    #T_6e99808c_476c_11ea_86ec_acde48001122row7_col0 {\n",
       "            background-color:  #f0f9ec;\n",
       "            color:  #000000;\n",
       "        }    #T_6e99808c_476c_11ea_86ec_acde48001122row7_col1 {\n",
       "            background-color:  #50b264;\n",
       "            color:  #000000;\n",
       "        }    #T_6e99808c_476c_11ea_86ec_acde48001122row7_col2 {\n",
       "            background-color:  #f4fbf1;\n",
       "            color:  #000000;\n",
       "        }    #T_6e99808c_476c_11ea_86ec_acde48001122row7_col3 {\n",
       "            background-color:  #d2edcc;\n",
       "            color:  #000000;\n",
       "        }    #T_6e99808c_476c_11ea_86ec_acde48001122row8_col0 {\n",
       "            background-color:  #f0f9ec;\n",
       "            color:  #000000;\n",
       "        }    #T_6e99808c_476c_11ea_86ec_acde48001122row8_col1 {\n",
       "            background-color:  #50b264;\n",
       "            color:  #000000;\n",
       "        }    #T_6e99808c_476c_11ea_86ec_acde48001122row8_col2 {\n",
       "            background-color:  #f4fbf1;\n",
       "            color:  #000000;\n",
       "        }    #T_6e99808c_476c_11ea_86ec_acde48001122row8_col3 {\n",
       "            background-color:  #d2edcc;\n",
       "            color:  #000000;\n",
       "        }    #T_6e99808c_476c_11ea_86ec_acde48001122row9_col0 {\n",
       "            background-color:  #e8f6e4;\n",
       "            color:  #000000;\n",
       "        }    #T_6e99808c_476c_11ea_86ec_acde48001122row9_col1 {\n",
       "            background-color:  #087432;\n",
       "            color:  #f1f1f1;\n",
       "        }    #T_6e99808c_476c_11ea_86ec_acde48001122row9_col2 {\n",
       "            background-color:  #edf8ea;\n",
       "            color:  #000000;\n",
       "        }    #T_6e99808c_476c_11ea_86ec_acde48001122row9_col3 {\n",
       "            background-color:  #a4da9e;\n",
       "            color:  #000000;\n",
       "        }    #T_6e99808c_476c_11ea_86ec_acde48001122row10_col0 {\n",
       "            background-color:  #e8f6e4;\n",
       "            color:  #000000;\n",
       "        }    #T_6e99808c_476c_11ea_86ec_acde48001122row10_col1 {\n",
       "            background-color:  #087432;\n",
       "            color:  #f1f1f1;\n",
       "        }    #T_6e99808c_476c_11ea_86ec_acde48001122row10_col2 {\n",
       "            background-color:  #edf8ea;\n",
       "            color:  #000000;\n",
       "        }    #T_6e99808c_476c_11ea_86ec_acde48001122row10_col3 {\n",
       "            background-color:  #a4da9e;\n",
       "            color:  #000000;\n",
       "        }    #T_6e99808c_476c_11ea_86ec_acde48001122row11_col0 {\n",
       "            background-color:  #f7fcf5;\n",
       "            color:  #000000;\n",
       "        }    #T_6e99808c_476c_11ea_86ec_acde48001122row11_col1 {\n",
       "            background-color:  #e9f7e5;\n",
       "            color:  #000000;\n",
       "        }    #T_6e99808c_476c_11ea_86ec_acde48001122row11_col2 {\n",
       "            background-color:  #f7fcf5;\n",
       "            color:  #000000;\n",
       "        }    #T_6e99808c_476c_11ea_86ec_acde48001122row11_col3 {\n",
       "            background-color:  #f3faf0;\n",
       "            color:  #000000;\n",
       "        }    #T_6e99808c_476c_11ea_86ec_acde48001122row12_col0 {\n",
       "            background-color:  #f0f9ec;\n",
       "            color:  #000000;\n",
       "        }    #T_6e99808c_476c_11ea_86ec_acde48001122row12_col1 {\n",
       "            background-color:  #50b264;\n",
       "            color:  #000000;\n",
       "        }    #T_6e99808c_476c_11ea_86ec_acde48001122row12_col2 {\n",
       "            background-color:  #f4fbf1;\n",
       "            color:  #000000;\n",
       "        }    #T_6e99808c_476c_11ea_86ec_acde48001122row12_col3 {\n",
       "            background-color:  #d2edcc;\n",
       "            color:  #000000;\n",
       "        }    #T_6e99808c_476c_11ea_86ec_acde48001122row13_col0 {\n",
       "            background-color:  #e8f6e4;\n",
       "            color:  #000000;\n",
       "        }    #T_6e99808c_476c_11ea_86ec_acde48001122row13_col1 {\n",
       "            background-color:  #087432;\n",
       "            color:  #f1f1f1;\n",
       "        }    #T_6e99808c_476c_11ea_86ec_acde48001122row13_col2 {\n",
       "            background-color:  #edf8ea;\n",
       "            color:  #000000;\n",
       "        }    #T_6e99808c_476c_11ea_86ec_acde48001122row13_col3 {\n",
       "            background-color:  #a4da9e;\n",
       "            color:  #000000;\n",
       "        }    #T_6e99808c_476c_11ea_86ec_acde48001122row14_col0 {\n",
       "            background-color:  #f0f9ec;\n",
       "            color:  #000000;\n",
       "        }    #T_6e99808c_476c_11ea_86ec_acde48001122row14_col1 {\n",
       "            background-color:  #8ed08b;\n",
       "            color:  #000000;\n",
       "        }    #T_6e99808c_476c_11ea_86ec_acde48001122row14_col2 {\n",
       "            background-color:  #f5fbf2;\n",
       "            color:  #000000;\n",
       "        }    #T_6e99808c_476c_11ea_86ec_acde48001122row14_col3 {\n",
       "            background-color:  #d6efd0;\n",
       "            color:  #000000;\n",
       "        }    #T_6e99808c_476c_11ea_86ec_acde48001122row15_col0 {\n",
       "            background-color:  #e8f6e4;\n",
       "            color:  #000000;\n",
       "        }    #T_6e99808c_476c_11ea_86ec_acde48001122row15_col1 {\n",
       "            background-color:  #087432;\n",
       "            color:  #f1f1f1;\n",
       "        }    #T_6e99808c_476c_11ea_86ec_acde48001122row15_col2 {\n",
       "            background-color:  #edf8ea;\n",
       "            color:  #000000;\n",
       "        }    #T_6e99808c_476c_11ea_86ec_acde48001122row15_col3 {\n",
       "            background-color:  #a4da9e;\n",
       "            color:  #000000;\n",
       "        }    #T_6e99808c_476c_11ea_86ec_acde48001122row16_col0 {\n",
       "            background-color:  #f0f9ec;\n",
       "            color:  #000000;\n",
       "        }    #T_6e99808c_476c_11ea_86ec_acde48001122row16_col1 {\n",
       "            background-color:  #8ed08b;\n",
       "            color:  #000000;\n",
       "        }    #T_6e99808c_476c_11ea_86ec_acde48001122row16_col2 {\n",
       "            background-color:  #f5fbf2;\n",
       "            color:  #000000;\n",
       "        }    #T_6e99808c_476c_11ea_86ec_acde48001122row16_col3 {\n",
       "            background-color:  #d6efd0;\n",
       "            color:  #000000;\n",
       "        }    #T_6e99808c_476c_11ea_86ec_acde48001122row17_col0 {\n",
       "            background-color:  #f0f9ec;\n",
       "            color:  #000000;\n",
       "        }    #T_6e99808c_476c_11ea_86ec_acde48001122row17_col1 {\n",
       "            background-color:  #66bd6f;\n",
       "            color:  #000000;\n",
       "        }    #T_6e99808c_476c_11ea_86ec_acde48001122row17_col2 {\n",
       "            background-color:  #f4fbf1;\n",
       "            color:  #000000;\n",
       "        }    #T_6e99808c_476c_11ea_86ec_acde48001122row17_col3 {\n",
       "            background-color:  #d9f0d3;\n",
       "            color:  #000000;\n",
       "        }    #T_6e99808c_476c_11ea_86ec_acde48001122row18_col0 {\n",
       "            background-color:  #f0f9ec;\n",
       "            color:  #000000;\n",
       "        }    #T_6e99808c_476c_11ea_86ec_acde48001122row18_col1 {\n",
       "            background-color:  #8ed08b;\n",
       "            color:  #000000;\n",
       "        }    #T_6e99808c_476c_11ea_86ec_acde48001122row18_col2 {\n",
       "            background-color:  #f5fbf2;\n",
       "            color:  #000000;\n",
       "        }    #T_6e99808c_476c_11ea_86ec_acde48001122row18_col3 {\n",
       "            background-color:  #d6efd0;\n",
       "            color:  #000000;\n",
       "        }    #T_6e99808c_476c_11ea_86ec_acde48001122row19_col0 {\n",
       "            background-color:  #f7fcf5;\n",
       "            color:  #000000;\n",
       "        }    #T_6e99808c_476c_11ea_86ec_acde48001122row19_col1 {\n",
       "            background-color:  #e9f7e5;\n",
       "            color:  #000000;\n",
       "        }    #T_6e99808c_476c_11ea_86ec_acde48001122row19_col2 {\n",
       "            background-color:  #f7fcf5;\n",
       "            color:  #000000;\n",
       "        }    #T_6e99808c_476c_11ea_86ec_acde48001122row19_col3 {\n",
       "            background-color:  #f3faf0;\n",
       "            color:  #000000;\n",
       "        }    #T_6e99808c_476c_11ea_86ec_acde48001122row20_col0 {\n",
       "            background-color:  #f7fcf5;\n",
       "            color:  #000000;\n",
       "        }    #T_6e99808c_476c_11ea_86ec_acde48001122row20_col1 {\n",
       "            background-color:  #f7fcf5;\n",
       "            color:  #000000;\n",
       "        }    #T_6e99808c_476c_11ea_86ec_acde48001122row20_col2 {\n",
       "            background-color:  #f7fcf5;\n",
       "            color:  #000000;\n",
       "        }    #T_6e99808c_476c_11ea_86ec_acde48001122row20_col3 {\n",
       "            background-color:  #f7fcf5;\n",
       "            color:  #000000;\n",
       "        }    #T_6e99808c_476c_11ea_86ec_acde48001122row21_col0 {\n",
       "            background-color:  #f7fcf5;\n",
       "            color:  #000000;\n",
       "        }    #T_6e99808c_476c_11ea_86ec_acde48001122row21_col1 {\n",
       "            background-color:  #e9f7e5;\n",
       "            color:  #000000;\n",
       "        }    #T_6e99808c_476c_11ea_86ec_acde48001122row21_col2 {\n",
       "            background-color:  #f7fcf5;\n",
       "            color:  #000000;\n",
       "        }    #T_6e99808c_476c_11ea_86ec_acde48001122row21_col3 {\n",
       "            background-color:  #f5fbf2;\n",
       "            color:  #000000;\n",
       "        }    #T_6e99808c_476c_11ea_86ec_acde48001122row22_col0 {\n",
       "            background-color:  #f0f9ec;\n",
       "            color:  #000000;\n",
       "        }    #T_6e99808c_476c_11ea_86ec_acde48001122row22_col1 {\n",
       "            background-color:  #8ed08b;\n",
       "            color:  #000000;\n",
       "        }    #T_6e99808c_476c_11ea_86ec_acde48001122row22_col2 {\n",
       "            background-color:  #f5fbf2;\n",
       "            color:  #000000;\n",
       "        }    #T_6e99808c_476c_11ea_86ec_acde48001122row22_col3 {\n",
       "            background-color:  #d6efd0;\n",
       "            color:  #000000;\n",
       "        }    #T_6e99808c_476c_11ea_86ec_acde48001122row23_col0 {\n",
       "            background-color:  #f0f9ec;\n",
       "            color:  #000000;\n",
       "        }    #T_6e99808c_476c_11ea_86ec_acde48001122row23_col1 {\n",
       "            background-color:  #66bd6f;\n",
       "            color:  #000000;\n",
       "        }    #T_6e99808c_476c_11ea_86ec_acde48001122row23_col2 {\n",
       "            background-color:  #f4fbf1;\n",
       "            color:  #000000;\n",
       "        }    #T_6e99808c_476c_11ea_86ec_acde48001122row23_col3 {\n",
       "            background-color:  #d9f0d3;\n",
       "            color:  #000000;\n",
       "        }    #T_6e99808c_476c_11ea_86ec_acde48001122row24_col0 {\n",
       "            background-color:  #f7fcf5;\n",
       "            color:  #000000;\n",
       "        }    #T_6e99808c_476c_11ea_86ec_acde48001122row24_col1 {\n",
       "            background-color:  #f7fcf5;\n",
       "            color:  #000000;\n",
       "        }    #T_6e99808c_476c_11ea_86ec_acde48001122row24_col2 {\n",
       "            background-color:  #f7fcf5;\n",
       "            color:  #000000;\n",
       "        }    #T_6e99808c_476c_11ea_86ec_acde48001122row24_col3 {\n",
       "            background-color:  #f7fcf5;\n",
       "            color:  #000000;\n",
       "        }    #T_6e99808c_476c_11ea_86ec_acde48001122row25_col0 {\n",
       "            background-color:  #f0f9ec;\n",
       "            color:  #000000;\n",
       "        }    #T_6e99808c_476c_11ea_86ec_acde48001122row25_col1 {\n",
       "            background-color:  #50b264;\n",
       "            color:  #000000;\n",
       "        }    #T_6e99808c_476c_11ea_86ec_acde48001122row25_col2 {\n",
       "            background-color:  #f4fbf1;\n",
       "            color:  #000000;\n",
       "        }    #T_6e99808c_476c_11ea_86ec_acde48001122row25_col3 {\n",
       "            background-color:  #d2edcc;\n",
       "            color:  #000000;\n",
       "        }    #T_6e99808c_476c_11ea_86ec_acde48001122row26_col0 {\n",
       "            background-color:  #f7fcf5;\n",
       "            color:  #000000;\n",
       "        }    #T_6e99808c_476c_11ea_86ec_acde48001122row26_col1 {\n",
       "            background-color:  #e9f7e5;\n",
       "            color:  #000000;\n",
       "        }    #T_6e99808c_476c_11ea_86ec_acde48001122row26_col2 {\n",
       "            background-color:  #f7fcf5;\n",
       "            color:  #000000;\n",
       "        }    #T_6e99808c_476c_11ea_86ec_acde48001122row26_col3 {\n",
       "            background-color:  #f3faf0;\n",
       "            color:  #000000;\n",
       "        }    #T_6e99808c_476c_11ea_86ec_acde48001122row27_col0 {\n",
       "            background-color:  #f7fcf5;\n",
       "            color:  #000000;\n",
       "        }    #T_6e99808c_476c_11ea_86ec_acde48001122row27_col1 {\n",
       "            background-color:  #e9f7e5;\n",
       "            color:  #000000;\n",
       "        }    #T_6e99808c_476c_11ea_86ec_acde48001122row27_col2 {\n",
       "            background-color:  #f7fcf5;\n",
       "            color:  #000000;\n",
       "        }    #T_6e99808c_476c_11ea_86ec_acde48001122row27_col3 {\n",
       "            background-color:  #f5fbf2;\n",
       "            color:  #000000;\n",
       "        }    #T_6e99808c_476c_11ea_86ec_acde48001122row28_col0 {\n",
       "            background-color:  #f0f9ec;\n",
       "            color:  #000000;\n",
       "        }    #T_6e99808c_476c_11ea_86ec_acde48001122row28_col1 {\n",
       "            background-color:  #50b264;\n",
       "            color:  #000000;\n",
       "        }    #T_6e99808c_476c_11ea_86ec_acde48001122row28_col2 {\n",
       "            background-color:  #f4fbf1;\n",
       "            color:  #000000;\n",
       "        }    #T_6e99808c_476c_11ea_86ec_acde48001122row28_col3 {\n",
       "            background-color:  #d2edcc;\n",
       "            color:  #000000;\n",
       "        }    #T_6e99808c_476c_11ea_86ec_acde48001122row29_col0 {\n",
       "            background-color:  #f7fcf5;\n",
       "            color:  #000000;\n",
       "        }    #T_6e99808c_476c_11ea_86ec_acde48001122row29_col1 {\n",
       "            background-color:  #e9f7e5;\n",
       "            color:  #000000;\n",
       "        }    #T_6e99808c_476c_11ea_86ec_acde48001122row29_col2 {\n",
       "            background-color:  #f7fcf5;\n",
       "            color:  #000000;\n",
       "        }    #T_6e99808c_476c_11ea_86ec_acde48001122row29_col3 {\n",
       "            background-color:  #f5fbf2;\n",
       "            color:  #000000;\n",
       "        }    #T_6e99808c_476c_11ea_86ec_acde48001122row30_col0 {\n",
       "            background-color:  #f7fcf5;\n",
       "            color:  #000000;\n",
       "        }    #T_6e99808c_476c_11ea_86ec_acde48001122row30_col1 {\n",
       "            background-color:  #e9f7e5;\n",
       "            color:  #000000;\n",
       "        }    #T_6e99808c_476c_11ea_86ec_acde48001122row30_col2 {\n",
       "            background-color:  #f7fcf5;\n",
       "            color:  #000000;\n",
       "        }    #T_6e99808c_476c_11ea_86ec_acde48001122row30_col3 {\n",
       "            background-color:  #f3faf0;\n",
       "            color:  #000000;\n",
       "        }    #T_6e99808c_476c_11ea_86ec_acde48001122row31_col0 {\n",
       "            background-color:  #f0f9ec;\n",
       "            color:  #000000;\n",
       "        }    #T_6e99808c_476c_11ea_86ec_acde48001122row31_col1 {\n",
       "            background-color:  #50b264;\n",
       "            color:  #000000;\n",
       "        }    #T_6e99808c_476c_11ea_86ec_acde48001122row31_col2 {\n",
       "            background-color:  #f4fbf1;\n",
       "            color:  #000000;\n",
       "        }    #T_6e99808c_476c_11ea_86ec_acde48001122row31_col3 {\n",
       "            background-color:  #d2edcc;\n",
       "            color:  #000000;\n",
       "        }    #T_6e99808c_476c_11ea_86ec_acde48001122row32_col0 {\n",
       "            background-color:  #f7fcf5;\n",
       "            color:  #000000;\n",
       "        }    #T_6e99808c_476c_11ea_86ec_acde48001122row32_col1 {\n",
       "            background-color:  #e9f7e5;\n",
       "            color:  #000000;\n",
       "        }    #T_6e99808c_476c_11ea_86ec_acde48001122row32_col2 {\n",
       "            background-color:  #f7fcf5;\n",
       "            color:  #000000;\n",
       "        }    #T_6e99808c_476c_11ea_86ec_acde48001122row32_col3 {\n",
       "            background-color:  #f5fbf2;\n",
       "            color:  #000000;\n",
       "        }    #T_6e99808c_476c_11ea_86ec_acde48001122row33_col0 {\n",
       "            background-color:  #f7fcf5;\n",
       "            color:  #000000;\n",
       "        }    #T_6e99808c_476c_11ea_86ec_acde48001122row33_col1 {\n",
       "            background-color:  #e9f7e5;\n",
       "            color:  #000000;\n",
       "        }    #T_6e99808c_476c_11ea_86ec_acde48001122row33_col2 {\n",
       "            background-color:  #f7fcf5;\n",
       "            color:  #000000;\n",
       "        }    #T_6e99808c_476c_11ea_86ec_acde48001122row33_col3 {\n",
       "            background-color:  #f5fbf2;\n",
       "            color:  #000000;\n",
       "        }    #T_6e99808c_476c_11ea_86ec_acde48001122row34_col0 {\n",
       "            background-color:  #f0f9ec;\n",
       "            color:  #000000;\n",
       "        }    #T_6e99808c_476c_11ea_86ec_acde48001122row34_col1 {\n",
       "            background-color:  #66bd6f;\n",
       "            color:  #000000;\n",
       "        }    #T_6e99808c_476c_11ea_86ec_acde48001122row34_col2 {\n",
       "            background-color:  #f4fbf1;\n",
       "            color:  #000000;\n",
       "        }    #T_6e99808c_476c_11ea_86ec_acde48001122row34_col3 {\n",
       "            background-color:  #d9f0d3;\n",
       "            color:  #000000;\n",
       "        }    #T_6e99808c_476c_11ea_86ec_acde48001122row35_col0 {\n",
       "            background-color:  #f7fcf5;\n",
       "            color:  #000000;\n",
       "        }    #T_6e99808c_476c_11ea_86ec_acde48001122row35_col1 {\n",
       "            background-color:  #f7fcf5;\n",
       "            color:  #000000;\n",
       "        }    #T_6e99808c_476c_11ea_86ec_acde48001122row35_col2 {\n",
       "            background-color:  #f7fcf5;\n",
       "            color:  #000000;\n",
       "        }    #T_6e99808c_476c_11ea_86ec_acde48001122row35_col3 {\n",
       "            background-color:  #f7fcf5;\n",
       "            color:  #000000;\n",
       "        }</style><table id=\"T_6e99808c_476c_11ea_86ec_acde48001122\" ><thead>    <tr>        <th class=\"blank level0\" ></th>        <th class=\"col_heading level0 col0\" >degree</th>        <th class=\"col_heading level0 col1\" >closeness</th>        <th class=\"col_heading level0 col2\" >betweeness</th>        <th class=\"col_heading level0 col3\" >eigenvector</th>    </tr>    <tr>        <th class=\"index_name level0\" >Node</th>        <th class=\"blank\" ></th>        <th class=\"blank\" ></th>        <th class=\"blank\" ></th>        <th class=\"blank\" ></th>    </tr></thead><tbody>\n",
       "                <tr>\n",
       "                        <th id=\"T_6e99808c_476c_11ea_86ec_acde48001122level0_row0\" class=\"row_heading level0 row0\" >EWR</th>\n",
       "                        <td id=\"T_6e99808c_476c_11ea_86ec_acde48001122row0_col0\" class=\"data row0 col0\" >20</td>\n",
       "                        <td id=\"T_6e99808c_476c_11ea_86ec_acde48001122row0_col1\" class=\"data row0 col1\" >0.555556</td>\n",
       "                        <td id=\"T_6e99808c_476c_11ea_86ec_acde48001122row0_col2\" class=\"data row0 col2\" >0.447339</td>\n",
       "                        <td id=\"T_6e99808c_476c_11ea_86ec_acde48001122row0_col3\" class=\"data row0 col3\" >0.412704</td>\n",
       "            </tr>\n",
       "            <tr>\n",
       "                        <th id=\"T_6e99808c_476c_11ea_86ec_acde48001122level0_row1\" class=\"row_heading level0 row1\" >MEM</th>\n",
       "                        <td id=\"T_6e99808c_476c_11ea_86ec_acde48001122row1_col0\" class=\"data row1 col0\" >1</td>\n",
       "                        <td id=\"T_6e99808c_476c_11ea_86ec_acde48001122row1_col1\" class=\"data row1 col1\" >0.360825</td>\n",
       "                        <td id=\"T_6e99808c_476c_11ea_86ec_acde48001122row1_col2\" class=\"data row1 col2\" >0</td>\n",
       "                        <td id=\"T_6e99808c_476c_11ea_86ec_acde48001122row1_col3\" class=\"data row1 col3\" >0.0671159</td>\n",
       "            </tr>\n",
       "            <tr>\n",
       "                        <th id=\"T_6e99808c_476c_11ea_86ec_acde48001122level0_row2\" class=\"row_heading level0 row2\" >LGA</th>\n",
       "                        <td id=\"T_6e99808c_476c_11ea_86ec_acde48001122row2_col0\" class=\"data row2 col0\" >20</td>\n",
       "                        <td id=\"T_6e99808c_476c_11ea_86ec_acde48001122row2_col1\" class=\"data row2 col1\" >0.555556</td>\n",
       "                        <td id=\"T_6e99808c_476c_11ea_86ec_acde48001122row2_col2\" class=\"data row2 col2\" >0.409524</td>\n",
       "                        <td id=\"T_6e99808c_476c_11ea_86ec_acde48001122row2_col3\" class=\"data row2 col3\" >0.439292</td>\n",
       "            </tr>\n",
       "            <tr>\n",
       "                        <th id=\"T_6e99808c_476c_11ea_86ec_acde48001122level0_row3\" class=\"row_heading level0 row3\" >FLL</th>\n",
       "                        <td id=\"T_6e99808c_476c_11ea_86ec_acde48001122row3_col0\" class=\"data row3 col0\" >2</td>\n",
       "                        <td id=\"T_6e99808c_476c_11ea_86ec_acde48001122row3_col1\" class=\"data row3 col1\" >0.432099</td>\n",
       "                        <td id=\"T_6e99808c_476c_11ea_86ec_acde48001122row3_col2\" class=\"data row3 col2\" >0.00728291</td>\n",
       "                        <td id=\"T_6e99808c_476c_11ea_86ec_acde48001122row3_col3\" class=\"data row3 col3\" >0.131567</td>\n",
       "            </tr>\n",
       "            <tr>\n",
       "                        <th id=\"T_6e99808c_476c_11ea_86ec_acde48001122level0_row4\" class=\"row_heading level0 row4\" >SEA</th>\n",
       "                        <td id=\"T_6e99808c_476c_11ea_86ec_acde48001122row4_col0\" class=\"data row4 col0\" >2</td>\n",
       "                        <td id=\"T_6e99808c_476c_11ea_86ec_acde48001122row4_col1\" class=\"data row4 col1\" >0.454545</td>\n",
       "                        <td id=\"T_6e99808c_476c_11ea_86ec_acde48001122row4_col2\" class=\"data row4 col2\" >0.0120448</td>\n",
       "                        <td id=\"T_6e99808c_476c_11ea_86ec_acde48001122row4_col3\" class=\"data row4 col3\" >0.127243</td>\n",
       "            </tr>\n",
       "            <tr>\n",
       "                        <th id=\"T_6e99808c_476c_11ea_86ec_acde48001122level0_row5\" class=\"row_heading level0 row5\" >JFK</th>\n",
       "                        <td id=\"T_6e99808c_476c_11ea_86ec_acde48001122row5_col0\" class=\"data row5 col0\" >17</td>\n",
       "                        <td id=\"T_6e99808c_476c_11ea_86ec_acde48001122row5_col1\" class=\"data row5 col1\" >0.507246</td>\n",
       "                        <td id=\"T_6e99808c_476c_11ea_86ec_acde48001122row5_col2\" class=\"data row5 col2\" >0.309524</td>\n",
       "                        <td id=\"T_6e99808c_476c_11ea_86ec_acde48001122row5_col3\" class=\"data row5 col3\" >0.369731</td>\n",
       "            </tr>\n",
       "            <tr>\n",
       "                        <th id=\"T_6e99808c_476c_11ea_86ec_acde48001122level0_row6\" class=\"row_heading level0 row6\" >DEN</th>\n",
       "                        <td id=\"T_6e99808c_476c_11ea_86ec_acde48001122row6_col0\" class=\"data row6 col0\" >2</td>\n",
       "                        <td id=\"T_6e99808c_476c_11ea_86ec_acde48001122row6_col1\" class=\"data row6 col1\" >0.432099</td>\n",
       "                        <td id=\"T_6e99808c_476c_11ea_86ec_acde48001122row6_col2\" class=\"data row6 col2\" >0.00728291</td>\n",
       "                        <td id=\"T_6e99808c_476c_11ea_86ec_acde48001122row6_col3\" class=\"data row6 col3\" >0.131567</td>\n",
       "            </tr>\n",
       "            <tr>\n",
       "                        <th id=\"T_6e99808c_476c_11ea_86ec_acde48001122level0_row7\" class=\"row_heading level0 row7\" >ORD</th>\n",
       "                        <td id=\"T_6e99808c_476c_11ea_86ec_acde48001122row7_col0\" class=\"data row7 col0\" >2</td>\n",
       "                        <td id=\"T_6e99808c_476c_11ea_86ec_acde48001122row7_col1\" class=\"data row7 col1\" >0.466667</td>\n",
       "                        <td id=\"T_6e99808c_476c_11ea_86ec_acde48001122row7_col2\" class=\"data row7 col2\" >0.0114846</td>\n",
       "                        <td id=\"T_6e99808c_476c_11ea_86ec_acde48001122row7_col3\" class=\"data row7 col3\" >0.138556</td>\n",
       "            </tr>\n",
       "            <tr>\n",
       "                        <th id=\"T_6e99808c_476c_11ea_86ec_acde48001122level0_row8\" class=\"row_heading level0 row8\" >MIA</th>\n",
       "                        <td id=\"T_6e99808c_476c_11ea_86ec_acde48001122row8_col0\" class=\"data row8 col0\" >2</td>\n",
       "                        <td id=\"T_6e99808c_476c_11ea_86ec_acde48001122row8_col1\" class=\"data row8 col1\" >0.466667</td>\n",
       "                        <td id=\"T_6e99808c_476c_11ea_86ec_acde48001122row8_col2\" class=\"data row8 col2\" >0.0114846</td>\n",
       "                        <td id=\"T_6e99808c_476c_11ea_86ec_acde48001122row8_col3\" class=\"data row8 col3\" >0.138556</td>\n",
       "            </tr>\n",
       "            <tr>\n",
       "                        <th id=\"T_6e99808c_476c_11ea_86ec_acde48001122level0_row9\" class=\"row_heading level0 row9\" >PBI</th>\n",
       "                        <td id=\"T_6e99808c_476c_11ea_86ec_acde48001122row9_col0\" class=\"data row9 col0\" >3</td>\n",
       "                        <td id=\"T_6e99808c_476c_11ea_86ec_acde48001122row9_col1\" class=\"data row9 col1\" >0.522388</td>\n",
       "                        <td id=\"T_6e99808c_476c_11ea_86ec_acde48001122row9_col2\" class=\"data row9 col2\" >0.0308123</td>\n",
       "                        <td id=\"T_6e99808c_476c_11ea_86ec_acde48001122row9_col3\" class=\"data row9 col3\" >0.198683</td>\n",
       "            </tr>\n",
       "            <tr>\n",
       "                        <th id=\"T_6e99808c_476c_11ea_86ec_acde48001122level0_row10\" class=\"row_heading level0 row10\" >MCO</th>\n",
       "                        <td id=\"T_6e99808c_476c_11ea_86ec_acde48001122row10_col0\" class=\"data row10 col0\" >3</td>\n",
       "                        <td id=\"T_6e99808c_476c_11ea_86ec_acde48001122row10_col1\" class=\"data row10 col1\" >0.522388</td>\n",
       "                        <td id=\"T_6e99808c_476c_11ea_86ec_acde48001122row10_col2\" class=\"data row10 col2\" >0.0308123</td>\n",
       "                        <td id=\"T_6e99808c_476c_11ea_86ec_acde48001122row10_col3\" class=\"data row10 col3\" >0.198683</td>\n",
       "            </tr>\n",
       "            <tr>\n",
       "                        <th id=\"T_6e99808c_476c_11ea_86ec_acde48001122level0_row11\" class=\"row_heading level0 row11\" >CMH</th>\n",
       "                        <td id=\"T_6e99808c_476c_11ea_86ec_acde48001122row11_col0\" class=\"data row11 col0\" >1</td>\n",
       "                        <td id=\"T_6e99808c_476c_11ea_86ec_acde48001122row11_col1\" class=\"data row11 col1\" >0.360825</td>\n",
       "                        <td id=\"T_6e99808c_476c_11ea_86ec_acde48001122row11_col2\" class=\"data row11 col2\" >0</td>\n",
       "                        <td id=\"T_6e99808c_476c_11ea_86ec_acde48001122row11_col3\" class=\"data row11 col3\" >0.0714399</td>\n",
       "            </tr>\n",
       "            <tr>\n",
       "                        <th id=\"T_6e99808c_476c_11ea_86ec_acde48001122level0_row12\" class=\"row_heading level0 row12\" >MSP</th>\n",
       "                        <td id=\"T_6e99808c_476c_11ea_86ec_acde48001122row12_col0\" class=\"data row12 col0\" >2</td>\n",
       "                        <td id=\"T_6e99808c_476c_11ea_86ec_acde48001122row12_col1\" class=\"data row12 col1\" >0.466667</td>\n",
       "                        <td id=\"T_6e99808c_476c_11ea_86ec_acde48001122row12_col2\" class=\"data row12 col2\" >0.0114846</td>\n",
       "                        <td id=\"T_6e99808c_476c_11ea_86ec_acde48001122row12_col3\" class=\"data row12 col3\" >0.138556</td>\n",
       "            </tr>\n",
       "            <tr>\n",
       "                        <th id=\"T_6e99808c_476c_11ea_86ec_acde48001122level0_row13\" class=\"row_heading level0 row13\" >IAD</th>\n",
       "                        <td id=\"T_6e99808c_476c_11ea_86ec_acde48001122row13_col0\" class=\"data row13 col0\" >3</td>\n",
       "                        <td id=\"T_6e99808c_476c_11ea_86ec_acde48001122row13_col1\" class=\"data row13 col1\" >0.522388</td>\n",
       "                        <td id=\"T_6e99808c_476c_11ea_86ec_acde48001122row13_col2\" class=\"data row13 col2\" >0.0308123</td>\n",
       "                        <td id=\"T_6e99808c_476c_11ea_86ec_acde48001122row13_col3\" class=\"data row13 col3\" >0.198683</td>\n",
       "            </tr>\n",
       "            <tr>\n",
       "                        <th id=\"T_6e99808c_476c_11ea_86ec_acde48001122level0_row14\" class=\"row_heading level0 row14\" >CLT</th>\n",
       "                        <td id=\"T_6e99808c_476c_11ea_86ec_acde48001122row14_col0\" class=\"data row14 col0\" >2</td>\n",
       "                        <td id=\"T_6e99808c_476c_11ea_86ec_acde48001122row14_col1\" class=\"data row14 col1\" >0.432099</td>\n",
       "                        <td id=\"T_6e99808c_476c_11ea_86ec_acde48001122row14_col2\" class=\"data row14 col2\" >0.00728291</td>\n",
       "                        <td id=\"T_6e99808c_476c_11ea_86ec_acde48001122row14_col3\" class=\"data row14 col3\" >0.131567</td>\n",
       "            </tr>\n",
       "            <tr>\n",
       "                        <th id=\"T_6e99808c_476c_11ea_86ec_acde48001122level0_row15\" class=\"row_heading level0 row15\" >TPA</th>\n",
       "                        <td id=\"T_6e99808c_476c_11ea_86ec_acde48001122row15_col0\" class=\"data row15 col0\" >3</td>\n",
       "                        <td id=\"T_6e99808c_476c_11ea_86ec_acde48001122row15_col1\" class=\"data row15 col1\" >0.522388</td>\n",
       "                        <td id=\"T_6e99808c_476c_11ea_86ec_acde48001122row15_col2\" class=\"data row15 col2\" >0.0308123</td>\n",
       "                        <td id=\"T_6e99808c_476c_11ea_86ec_acde48001122row15_col3\" class=\"data row15 col3\" >0.198683</td>\n",
       "            </tr>\n",
       "            <tr>\n",
       "                        <th id=\"T_6e99808c_476c_11ea_86ec_acde48001122level0_row16\" class=\"row_heading level0 row16\" >DCA</th>\n",
       "                        <td id=\"T_6e99808c_476c_11ea_86ec_acde48001122row16_col0\" class=\"data row16 col0\" >2</td>\n",
       "                        <td id=\"T_6e99808c_476c_11ea_86ec_acde48001122row16_col1\" class=\"data row16 col1\" >0.432099</td>\n",
       "                        <td id=\"T_6e99808c_476c_11ea_86ec_acde48001122row16_col2\" class=\"data row16 col2\" >0.00728291</td>\n",
       "                        <td id=\"T_6e99808c_476c_11ea_86ec_acde48001122row16_col3\" class=\"data row16 col3\" >0.131567</td>\n",
       "            </tr>\n",
       "            <tr>\n",
       "                        <th id=\"T_6e99808c_476c_11ea_86ec_acde48001122level0_row17\" class=\"row_heading level0 row17\" >SJU</th>\n",
       "                        <td id=\"T_6e99808c_476c_11ea_86ec_acde48001122row17_col0\" class=\"data row17 col0\" >2</td>\n",
       "                        <td id=\"T_6e99808c_476c_11ea_86ec_acde48001122row17_col1\" class=\"data row17 col1\" >0.454545</td>\n",
       "                        <td id=\"T_6e99808c_476c_11ea_86ec_acde48001122row17_col2\" class=\"data row17 col2\" >0.0120448</td>\n",
       "                        <td id=\"T_6e99808c_476c_11ea_86ec_acde48001122row17_col3\" class=\"data row17 col3\" >0.127243</td>\n",
       "            </tr>\n",
       "            <tr>\n",
       "                        <th id=\"T_6e99808c_476c_11ea_86ec_acde48001122level0_row18\" class=\"row_heading level0 row18\" >ATL</th>\n",
       "                        <td id=\"T_6e99808c_476c_11ea_86ec_acde48001122row18_col0\" class=\"data row18 col0\" >2</td>\n",
       "                        <td id=\"T_6e99808c_476c_11ea_86ec_acde48001122row18_col1\" class=\"data row18 col1\" >0.432099</td>\n",
       "                        <td id=\"T_6e99808c_476c_11ea_86ec_acde48001122row18_col2\" class=\"data row18 col2\" >0.00728291</td>\n",
       "                        <td id=\"T_6e99808c_476c_11ea_86ec_acde48001122row18_col3\" class=\"data row18 col3\" >0.131567</td>\n",
       "            </tr>\n",
       "            <tr>\n",
       "                        <th id=\"T_6e99808c_476c_11ea_86ec_acde48001122level0_row19\" class=\"row_heading level0 row19\" >BHM</th>\n",
       "                        <td id=\"T_6e99808c_476c_11ea_86ec_acde48001122row19_col0\" class=\"data row19 col0\" >1</td>\n",
       "                        <td id=\"T_6e99808c_476c_11ea_86ec_acde48001122row19_col1\" class=\"data row19 col1\" >0.360825</td>\n",
       "                        <td id=\"T_6e99808c_476c_11ea_86ec_acde48001122row19_col2\" class=\"data row19 col2\" >0</td>\n",
       "                        <td id=\"T_6e99808c_476c_11ea_86ec_acde48001122row19_col3\" class=\"data row19 col3\" >0.0714399</td>\n",
       "            </tr>\n",
       "            <tr>\n",
       "                        <th id=\"T_6e99808c_476c_11ea_86ec_acde48001122level0_row20\" class=\"row_heading level0 row20\" >SRQ</th>\n",
       "                        <td id=\"T_6e99808c_476c_11ea_86ec_acde48001122row20_col0\" class=\"data row20 col0\" >1</td>\n",
       "                        <td id=\"T_6e99808c_476c_11ea_86ec_acde48001122row20_col1\" class=\"data row20 col1\" >0.339806</td>\n",
       "                        <td id=\"T_6e99808c_476c_11ea_86ec_acde48001122row20_col2\" class=\"data row20 col2\" >0</td>\n",
       "                        <td id=\"T_6e99808c_476c_11ea_86ec_acde48001122row20_col3\" class=\"data row20 col3\" >0.0601274</td>\n",
       "            </tr>\n",
       "            <tr>\n",
       "                        <th id=\"T_6e99808c_476c_11ea_86ec_acde48001122level0_row21\" class=\"row_heading level0 row21\" >MSY</th>\n",
       "                        <td id=\"T_6e99808c_476c_11ea_86ec_acde48001122row21_col0\" class=\"data row21 col0\" >1</td>\n",
       "                        <td id=\"T_6e99808c_476c_11ea_86ec_acde48001122row21_col1\" class=\"data row21 col1\" >0.360825</td>\n",
       "                        <td id=\"T_6e99808c_476c_11ea_86ec_acde48001122row21_col2\" class=\"data row21 col2\" >0</td>\n",
       "                        <td id=\"T_6e99808c_476c_11ea_86ec_acde48001122row21_col3\" class=\"data row21 col3\" >0.0671159</td>\n",
       "            </tr>\n",
       "            <tr>\n",
       "                        <th id=\"T_6e99808c_476c_11ea_86ec_acde48001122level0_row22\" class=\"row_heading level0 row22\" >DTW</th>\n",
       "                        <td id=\"T_6e99808c_476c_11ea_86ec_acde48001122row22_col0\" class=\"data row22 col0\" >2</td>\n",
       "                        <td id=\"T_6e99808c_476c_11ea_86ec_acde48001122row22_col1\" class=\"data row22 col1\" >0.432099</td>\n",
       "                        <td id=\"T_6e99808c_476c_11ea_86ec_acde48001122row22_col2\" class=\"data row22 col2\" >0.00728291</td>\n",
       "                        <td id=\"T_6e99808c_476c_11ea_86ec_acde48001122row22_col3\" class=\"data row22 col3\" >0.131567</td>\n",
       "            </tr>\n",
       "            <tr>\n",
       "                        <th id=\"T_6e99808c_476c_11ea_86ec_acde48001122level0_row23\" class=\"row_heading level0 row23\" >LAX</th>\n",
       "                        <td id=\"T_6e99808c_476c_11ea_86ec_acde48001122row23_col0\" class=\"data row23 col0\" >2</td>\n",
       "                        <td id=\"T_6e99808c_476c_11ea_86ec_acde48001122row23_col1\" class=\"data row23 col1\" >0.454545</td>\n",
       "                        <td id=\"T_6e99808c_476c_11ea_86ec_acde48001122row23_col2\" class=\"data row23 col2\" >0.0120448</td>\n",
       "                        <td id=\"T_6e99808c_476c_11ea_86ec_acde48001122row23_col3\" class=\"data row23 col3\" >0.127243</td>\n",
       "            </tr>\n",
       "            <tr>\n",
       "                        <th id=\"T_6e99808c_476c_11ea_86ec_acde48001122level0_row24\" class=\"row_heading level0 row24\" >JAX</th>\n",
       "                        <td id=\"T_6e99808c_476c_11ea_86ec_acde48001122row24_col0\" class=\"data row24 col0\" >1</td>\n",
       "                        <td id=\"T_6e99808c_476c_11ea_86ec_acde48001122row24_col1\" class=\"data row24 col1\" >0.339806</td>\n",
       "                        <td id=\"T_6e99808c_476c_11ea_86ec_acde48001122row24_col2\" class=\"data row24 col2\" >0</td>\n",
       "                        <td id=\"T_6e99808c_476c_11ea_86ec_acde48001122row24_col3\" class=\"data row24 col3\" >0.0601274</td>\n",
       "            </tr>\n",
       "            <tr>\n",
       "                        <th id=\"T_6e99808c_476c_11ea_86ec_acde48001122level0_row25\" class=\"row_heading level0 row25\" >RDU</th>\n",
       "                        <td id=\"T_6e99808c_476c_11ea_86ec_acde48001122row25_col0\" class=\"data row25 col0\" >2</td>\n",
       "                        <td id=\"T_6e99808c_476c_11ea_86ec_acde48001122row25_col1\" class=\"data row25 col1\" >0.466667</td>\n",
       "                        <td id=\"T_6e99808c_476c_11ea_86ec_acde48001122row25_col2\" class=\"data row25 col2\" >0.0114846</td>\n",
       "                        <td id=\"T_6e99808c_476c_11ea_86ec_acde48001122row25_col3\" class=\"data row25 col3\" >0.138556</td>\n",
       "            </tr>\n",
       "            <tr>\n",
       "                        <th id=\"T_6e99808c_476c_11ea_86ec_acde48001122level0_row26\" class=\"row_heading level0 row26\" >MDW</th>\n",
       "                        <td id=\"T_6e99808c_476c_11ea_86ec_acde48001122row26_col0\" class=\"data row26 col0\" >1</td>\n",
       "                        <td id=\"T_6e99808c_476c_11ea_86ec_acde48001122row26_col1\" class=\"data row26 col1\" >0.360825</td>\n",
       "                        <td id=\"T_6e99808c_476c_11ea_86ec_acde48001122row26_col2\" class=\"data row26 col2\" >0</td>\n",
       "                        <td id=\"T_6e99808c_476c_11ea_86ec_acde48001122row26_col3\" class=\"data row26 col3\" >0.0714399</td>\n",
       "            </tr>\n",
       "            <tr>\n",
       "                        <th id=\"T_6e99808c_476c_11ea_86ec_acde48001122level0_row27\" class=\"row_heading level0 row27\" >DFW</th>\n",
       "                        <td id=\"T_6e99808c_476c_11ea_86ec_acde48001122row27_col0\" class=\"data row27 col0\" >1</td>\n",
       "                        <td id=\"T_6e99808c_476c_11ea_86ec_acde48001122row27_col1\" class=\"data row27 col1\" >0.360825</td>\n",
       "                        <td id=\"T_6e99808c_476c_11ea_86ec_acde48001122row27_col2\" class=\"data row27 col2\" >0</td>\n",
       "                        <td id=\"T_6e99808c_476c_11ea_86ec_acde48001122row27_col3\" class=\"data row27 col3\" >0.0671159</td>\n",
       "            </tr>\n",
       "            <tr>\n",
       "                        <th id=\"T_6e99808c_476c_11ea_86ec_acde48001122level0_row28\" class=\"row_heading level0 row28\" >IAH</th>\n",
       "                        <td id=\"T_6e99808c_476c_11ea_86ec_acde48001122row28_col0\" class=\"data row28 col0\" >2</td>\n",
       "                        <td id=\"T_6e99808c_476c_11ea_86ec_acde48001122row28_col1\" class=\"data row28 col1\" >0.466667</td>\n",
       "                        <td id=\"T_6e99808c_476c_11ea_86ec_acde48001122row28_col2\" class=\"data row28 col2\" >0.0114846</td>\n",
       "                        <td id=\"T_6e99808c_476c_11ea_86ec_acde48001122row28_col3\" class=\"data row28 col3\" >0.138556</td>\n",
       "            </tr>\n",
       "            <tr>\n",
       "                        <th id=\"T_6e99808c_476c_11ea_86ec_acde48001122level0_row29\" class=\"row_heading level0 row29\" >SFO</th>\n",
       "                        <td id=\"T_6e99808c_476c_11ea_86ec_acde48001122row29_col0\" class=\"data row29 col0\" >1</td>\n",
       "                        <td id=\"T_6e99808c_476c_11ea_86ec_acde48001122row29_col1\" class=\"data row29 col1\" >0.360825</td>\n",
       "                        <td id=\"T_6e99808c_476c_11ea_86ec_acde48001122row29_col2\" class=\"data row29 col2\" >0</td>\n",
       "                        <td id=\"T_6e99808c_476c_11ea_86ec_acde48001122row29_col3\" class=\"data row29 col3\" >0.0671159</td>\n",
       "            </tr>\n",
       "            <tr>\n",
       "                        <th id=\"T_6e99808c_476c_11ea_86ec_acde48001122level0_row30\" class=\"row_heading level0 row30\" >STL</th>\n",
       "                        <td id=\"T_6e99808c_476c_11ea_86ec_acde48001122row30_col0\" class=\"data row30 col0\" >1</td>\n",
       "                        <td id=\"T_6e99808c_476c_11ea_86ec_acde48001122row30_col1\" class=\"data row30 col1\" >0.360825</td>\n",
       "                        <td id=\"T_6e99808c_476c_11ea_86ec_acde48001122row30_col2\" class=\"data row30 col2\" >0</td>\n",
       "                        <td id=\"T_6e99808c_476c_11ea_86ec_acde48001122row30_col3\" class=\"data row30 col3\" >0.0714399</td>\n",
       "            </tr>\n",
       "            <tr>\n",
       "                        <th id=\"T_6e99808c_476c_11ea_86ec_acde48001122level0_row31\" class=\"row_heading level0 row31\" >CVG</th>\n",
       "                        <td id=\"T_6e99808c_476c_11ea_86ec_acde48001122row31_col0\" class=\"data row31 col0\" >2</td>\n",
       "                        <td id=\"T_6e99808c_476c_11ea_86ec_acde48001122row31_col1\" class=\"data row31 col1\" >0.466667</td>\n",
       "                        <td id=\"T_6e99808c_476c_11ea_86ec_acde48001122row31_col2\" class=\"data row31 col2\" >0.0114846</td>\n",
       "                        <td id=\"T_6e99808c_476c_11ea_86ec_acde48001122row31_col3\" class=\"data row31 col3\" >0.138556</td>\n",
       "            </tr>\n",
       "            <tr>\n",
       "                        <th id=\"T_6e99808c_476c_11ea_86ec_acde48001122level0_row32\" class=\"row_heading level0 row32\" >IND</th>\n",
       "                        <td id=\"T_6e99808c_476c_11ea_86ec_acde48001122row32_col0\" class=\"data row32 col0\" >1</td>\n",
       "                        <td id=\"T_6e99808c_476c_11ea_86ec_acde48001122row32_col1\" class=\"data row32 col1\" >0.360825</td>\n",
       "                        <td id=\"T_6e99808c_476c_11ea_86ec_acde48001122row32_col2\" class=\"data row32 col2\" >0</td>\n",
       "                        <td id=\"T_6e99808c_476c_11ea_86ec_acde48001122row32_col3\" class=\"data row32 col3\" >0.0671159</td>\n",
       "            </tr>\n",
       "            <tr>\n",
       "                        <th id=\"T_6e99808c_476c_11ea_86ec_acde48001122level0_row33\" class=\"row_heading level0 row33\" >RSW</th>\n",
       "                        <td id=\"T_6e99808c_476c_11ea_86ec_acde48001122row33_col0\" class=\"data row33 col0\" >1</td>\n",
       "                        <td id=\"T_6e99808c_476c_11ea_86ec_acde48001122row33_col1\" class=\"data row33 col1\" >0.360825</td>\n",
       "                        <td id=\"T_6e99808c_476c_11ea_86ec_acde48001122row33_col2\" class=\"data row33 col2\" >0</td>\n",
       "                        <td id=\"T_6e99808c_476c_11ea_86ec_acde48001122row33_col3\" class=\"data row33 col3\" >0.0671159</td>\n",
       "            </tr>\n",
       "            <tr>\n",
       "                        <th id=\"T_6e99808c_476c_11ea_86ec_acde48001122level0_row34\" class=\"row_heading level0 row34\" >BOS</th>\n",
       "                        <td id=\"T_6e99808c_476c_11ea_86ec_acde48001122row34_col0\" class=\"data row34 col0\" >2</td>\n",
       "                        <td id=\"T_6e99808c_476c_11ea_86ec_acde48001122row34_col1\" class=\"data row34 col1\" >0.454545</td>\n",
       "                        <td id=\"T_6e99808c_476c_11ea_86ec_acde48001122row34_col2\" class=\"data row34 col2\" >0.0120448</td>\n",
       "                        <td id=\"T_6e99808c_476c_11ea_86ec_acde48001122row34_col3\" class=\"data row34 col3\" >0.127243</td>\n",
       "            </tr>\n",
       "            <tr>\n",
       "                        <th id=\"T_6e99808c_476c_11ea_86ec_acde48001122level0_row35\" class=\"row_heading level0 row35\" >CLE</th>\n",
       "                        <td id=\"T_6e99808c_476c_11ea_86ec_acde48001122row35_col0\" class=\"data row35 col0\" >1</td>\n",
       "                        <td id=\"T_6e99808c_476c_11ea_86ec_acde48001122row35_col1\" class=\"data row35 col1\" >0.339806</td>\n",
       "                        <td id=\"T_6e99808c_476c_11ea_86ec_acde48001122row35_col2\" class=\"data row35 col2\" >0</td>\n",
       "                        <td id=\"T_6e99808c_476c_11ea_86ec_acde48001122row35_col3\" class=\"data row35 col3\" >0.0601274</td>\n",
       "            </tr>\n",
       "    </tbody></table>"
      ],
      "text/plain": [
       "<pandas.io.formats.style.Styler at 0x1c293af860>"
      ]
     },
     "metadata": {},
     "output_type": "display_data"
    },
    {
     "data": {
      "application/vnd.plotly.v1+json": {
       "config": {
        "linkText": "Export to plot.ly",
        "plotlyServerURL": "https://plot.ly",
        "showLink": true
       },
       "data": [
        {
         "marker": {
          "color": "rgba(255, 153, 51, 0.6)",
          "line": {
           "color": "rgba(255, 153, 51, 1.0)",
           "width": 1
          }
         },
         "name": "degree",
         "orientation": "v",
         "text": "",
         "type": "bar",
         "x": [
          "EWR",
          "MEM",
          "LGA",
          "FLL",
          "SEA",
          "JFK",
          "DEN",
          "ORD",
          "MIA",
          "PBI",
          "MCO",
          "CMH",
          "MSP",
          "IAD",
          "CLT",
          "TPA",
          "DCA",
          "SJU",
          "ATL",
          "BHM",
          "SRQ",
          "MSY",
          "DTW",
          "LAX",
          "JAX",
          "RDU",
          "MDW",
          "DFW",
          "IAH",
          "SFO",
          "STL",
          "CVG",
          "IND",
          "RSW",
          "BOS",
          "CLE"
         ],
         "y": [
          20,
          1,
          20,
          2,
          2,
          17,
          2,
          2,
          2,
          3,
          3,
          1,
          2,
          3,
          2,
          3,
          2,
          2,
          2,
          1,
          1,
          1,
          2,
          2,
          1,
          2,
          1,
          1,
          2,
          1,
          1,
          2,
          1,
          1,
          2,
          1
         ]
        },
        {
         "marker": {
          "color": "rgba(55, 128, 191, 0.6)",
          "line": {
           "color": "rgba(55, 128, 191, 1.0)",
           "width": 1
          }
         },
         "name": "closeness",
         "orientation": "v",
         "text": "",
         "type": "bar",
         "x": [
          "EWR",
          "MEM",
          "LGA",
          "FLL",
          "SEA",
          "JFK",
          "DEN",
          "ORD",
          "MIA",
          "PBI",
          "MCO",
          "CMH",
          "MSP",
          "IAD",
          "CLT",
          "TPA",
          "DCA",
          "SJU",
          "ATL",
          "BHM",
          "SRQ",
          "MSY",
          "DTW",
          "LAX",
          "JAX",
          "RDU",
          "MDW",
          "DFW",
          "IAH",
          "SFO",
          "STL",
          "CVG",
          "IND",
          "RSW",
          "BOS",
          "CLE"
         ],
         "y": [
          0.5555555555555556,
          0.36082474226804123,
          0.5555555555555556,
          0.43209876543209874,
          0.45454545454545453,
          0.5072463768115942,
          0.43209876543209874,
          0.4666666666666667,
          0.4666666666666667,
          0.5223880597014925,
          0.5223880597014925,
          0.36082474226804123,
          0.4666666666666667,
          0.5223880597014925,
          0.43209876543209874,
          0.5223880597014925,
          0.43209876543209874,
          0.45454545454545453,
          0.43209876543209874,
          0.36082474226804123,
          0.33980582524271846,
          0.36082474226804123,
          0.43209876543209874,
          0.45454545454545453,
          0.33980582524271846,
          0.4666666666666667,
          0.36082474226804123,
          0.36082474226804123,
          0.4666666666666667,
          0.36082474226804123,
          0.36082474226804123,
          0.4666666666666667,
          0.36082474226804123,
          0.36082474226804123,
          0.45454545454545453,
          0.33980582524271846
         ]
        },
        {
         "marker": {
          "color": "rgba(50, 171, 96, 0.6)",
          "line": {
           "color": "rgba(50, 171, 96, 1.0)",
           "width": 1
          }
         },
         "name": "betweeness",
         "orientation": "v",
         "text": "",
         "type": "bar",
         "x": [
          "EWR",
          "MEM",
          "LGA",
          "FLL",
          "SEA",
          "JFK",
          "DEN",
          "ORD",
          "MIA",
          "PBI",
          "MCO",
          "CMH",
          "MSP",
          "IAD",
          "CLT",
          "TPA",
          "DCA",
          "SJU",
          "ATL",
          "BHM",
          "SRQ",
          "MSY",
          "DTW",
          "LAX",
          "JAX",
          "RDU",
          "MDW",
          "DFW",
          "IAH",
          "SFO",
          "STL",
          "CVG",
          "IND",
          "RSW",
          "BOS",
          "CLE"
         ],
         "y": [
          0.44733893557422966,
          0,
          0.40952380952380946,
          0.007282913165266107,
          0.01204481792717087,
          0.30952380952380965,
          0.007282913165266107,
          0.011484593837535018,
          0.011484593837535018,
          0.030812324929971994,
          0.030812324929971994,
          0,
          0.011484593837535018,
          0.030812324929971994,
          0.007282913165266107,
          0.030812324929971994,
          0.007282913165266107,
          0.01204481792717087,
          0.007282913165266107,
          0,
          0,
          0,
          0.007282913165266107,
          0.01204481792717087,
          0,
          0.011484593837535018,
          0,
          0,
          0.011484593837535018,
          0,
          0,
          0.011484593837535018,
          0,
          0,
          0.01204481792717087,
          0
         ]
        },
        {
         "marker": {
          "color": "rgba(128, 0, 128, 0.6)",
          "line": {
           "color": "rgba(128, 0, 128, 1.0)",
           "width": 1
          }
         },
         "name": "eigenvector",
         "orientation": "v",
         "text": "",
         "type": "bar",
         "x": [
          "EWR",
          "MEM",
          "LGA",
          "FLL",
          "SEA",
          "JFK",
          "DEN",
          "ORD",
          "MIA",
          "PBI",
          "MCO",
          "CMH",
          "MSP",
          "IAD",
          "CLT",
          "TPA",
          "DCA",
          "SJU",
          "ATL",
          "BHM",
          "SRQ",
          "MSY",
          "DTW",
          "LAX",
          "JAX",
          "RDU",
          "MDW",
          "DFW",
          "IAH",
          "SFO",
          "STL",
          "CVG",
          "IND",
          "RSW",
          "BOS",
          "CLE"
         ],
         "y": [
          0.41270371965737646,
          0.06711591581231252,
          0.4392922830543092,
          0.1315672823889629,
          0.12724331900684804,
          0.3697305275838997,
          0.1315672823889629,
          0.13855579500673987,
          0.13855579500673987,
          0.19868319820127542,
          0.19868319820127542,
          0.07143987919442736,
          0.13855579500673987,
          0.19868319820127542,
          0.1315672823889629,
          0.19868319820127542,
          0.1315672823889629,
          0.12724331900684804,
          0.1315672823889629,
          0.07143987919442736,
          0.06012740319453555,
          0.06711591581231252,
          0.1315672823889629,
          0.12724331900684804,
          0.06012740319453555,
          0.13855579500673987,
          0.07143987919442736,
          0.06711591581231252,
          0.13855579500673987,
          0.06711591581231252,
          0.07143987919442736,
          0.13855579500673987,
          0.06711591581231252,
          0.06711591581231252,
          0.12724331900684804,
          0.06012740319453555
         ]
        }
       ],
       "layout": {
        "legend": {
         "bgcolor": "#F5F6F9",
         "font": {
          "color": "#4D5663"
         }
        },
        "paper_bgcolor": "#F5F6F9",
        "plot_bgcolor": "#F5F6F9",
        "template": {
         "data": {
          "bar": [
           {
            "error_x": {
             "color": "#2a3f5f"
            },
            "error_y": {
             "color": "#2a3f5f"
            },
            "marker": {
             "line": {
              "color": "#E5ECF6",
              "width": 0.5
             }
            },
            "type": "bar"
           }
          ],
          "barpolar": [
           {
            "marker": {
             "line": {
              "color": "#E5ECF6",
              "width": 0.5
             }
            },
            "type": "barpolar"
           }
          ],
          "carpet": [
           {
            "aaxis": {
             "endlinecolor": "#2a3f5f",
             "gridcolor": "white",
             "linecolor": "white",
             "minorgridcolor": "white",
             "startlinecolor": "#2a3f5f"
            },
            "baxis": {
             "endlinecolor": "#2a3f5f",
             "gridcolor": "white",
             "linecolor": "white",
             "minorgridcolor": "white",
             "startlinecolor": "#2a3f5f"
            },
            "type": "carpet"
           }
          ],
          "choropleth": [
           {
            "colorbar": {
             "outlinewidth": 0,
             "ticks": ""
            },
            "type": "choropleth"
           }
          ],
          "contour": [
           {
            "colorbar": {
             "outlinewidth": 0,
             "ticks": ""
            },
            "colorscale": [
             [
              0,
              "#0d0887"
             ],
             [
              0.1111111111111111,
              "#46039f"
             ],
             [
              0.2222222222222222,
              "#7201a8"
             ],
             [
              0.3333333333333333,
              "#9c179e"
             ],
             [
              0.4444444444444444,
              "#bd3786"
             ],
             [
              0.5555555555555556,
              "#d8576b"
             ],
             [
              0.6666666666666666,
              "#ed7953"
             ],
             [
              0.7777777777777778,
              "#fb9f3a"
             ],
             [
              0.8888888888888888,
              "#fdca26"
             ],
             [
              1,
              "#f0f921"
             ]
            ],
            "type": "contour"
           }
          ],
          "contourcarpet": [
           {
            "colorbar": {
             "outlinewidth": 0,
             "ticks": ""
            },
            "type": "contourcarpet"
           }
          ],
          "heatmap": [
           {
            "colorbar": {
             "outlinewidth": 0,
             "ticks": ""
            },
            "colorscale": [
             [
              0,
              "#0d0887"
             ],
             [
              0.1111111111111111,
              "#46039f"
             ],
             [
              0.2222222222222222,
              "#7201a8"
             ],
             [
              0.3333333333333333,
              "#9c179e"
             ],
             [
              0.4444444444444444,
              "#bd3786"
             ],
             [
              0.5555555555555556,
              "#d8576b"
             ],
             [
              0.6666666666666666,
              "#ed7953"
             ],
             [
              0.7777777777777778,
              "#fb9f3a"
             ],
             [
              0.8888888888888888,
              "#fdca26"
             ],
             [
              1,
              "#f0f921"
             ]
            ],
            "type": "heatmap"
           }
          ],
          "heatmapgl": [
           {
            "colorbar": {
             "outlinewidth": 0,
             "ticks": ""
            },
            "colorscale": [
             [
              0,
              "#0d0887"
             ],
             [
              0.1111111111111111,
              "#46039f"
             ],
             [
              0.2222222222222222,
              "#7201a8"
             ],
             [
              0.3333333333333333,
              "#9c179e"
             ],
             [
              0.4444444444444444,
              "#bd3786"
             ],
             [
              0.5555555555555556,
              "#d8576b"
             ],
             [
              0.6666666666666666,
              "#ed7953"
             ],
             [
              0.7777777777777778,
              "#fb9f3a"
             ],
             [
              0.8888888888888888,
              "#fdca26"
             ],
             [
              1,
              "#f0f921"
             ]
            ],
            "type": "heatmapgl"
           }
          ],
          "histogram": [
           {
            "marker": {
             "colorbar": {
              "outlinewidth": 0,
              "ticks": ""
             }
            },
            "type": "histogram"
           }
          ],
          "histogram2d": [
           {
            "colorbar": {
             "outlinewidth": 0,
             "ticks": ""
            },
            "colorscale": [
             [
              0,
              "#0d0887"
             ],
             [
              0.1111111111111111,
              "#46039f"
             ],
             [
              0.2222222222222222,
              "#7201a8"
             ],
             [
              0.3333333333333333,
              "#9c179e"
             ],
             [
              0.4444444444444444,
              "#bd3786"
             ],
             [
              0.5555555555555556,
              "#d8576b"
             ],
             [
              0.6666666666666666,
              "#ed7953"
             ],
             [
              0.7777777777777778,
              "#fb9f3a"
             ],
             [
              0.8888888888888888,
              "#fdca26"
             ],
             [
              1,
              "#f0f921"
             ]
            ],
            "type": "histogram2d"
           }
          ],
          "histogram2dcontour": [
           {
            "colorbar": {
             "outlinewidth": 0,
             "ticks": ""
            },
            "colorscale": [
             [
              0,
              "#0d0887"
             ],
             [
              0.1111111111111111,
              "#46039f"
             ],
             [
              0.2222222222222222,
              "#7201a8"
             ],
             [
              0.3333333333333333,
              "#9c179e"
             ],
             [
              0.4444444444444444,
              "#bd3786"
             ],
             [
              0.5555555555555556,
              "#d8576b"
             ],
             [
              0.6666666666666666,
              "#ed7953"
             ],
             [
              0.7777777777777778,
              "#fb9f3a"
             ],
             [
              0.8888888888888888,
              "#fdca26"
             ],
             [
              1,
              "#f0f921"
             ]
            ],
            "type": "histogram2dcontour"
           }
          ],
          "mesh3d": [
           {
            "colorbar": {
             "outlinewidth": 0,
             "ticks": ""
            },
            "type": "mesh3d"
           }
          ],
          "parcoords": [
           {
            "line": {
             "colorbar": {
              "outlinewidth": 0,
              "ticks": ""
             }
            },
            "type": "parcoords"
           }
          ],
          "pie": [
           {
            "automargin": true,
            "type": "pie"
           }
          ],
          "scatter": [
           {
            "marker": {
             "colorbar": {
              "outlinewidth": 0,
              "ticks": ""
             }
            },
            "type": "scatter"
           }
          ],
          "scatter3d": [
           {
            "line": {
             "colorbar": {
              "outlinewidth": 0,
              "ticks": ""
             }
            },
            "marker": {
             "colorbar": {
              "outlinewidth": 0,
              "ticks": ""
             }
            },
            "type": "scatter3d"
           }
          ],
          "scattercarpet": [
           {
            "marker": {
             "colorbar": {
              "outlinewidth": 0,
              "ticks": ""
             }
            },
            "type": "scattercarpet"
           }
          ],
          "scattergeo": [
           {
            "marker": {
             "colorbar": {
              "outlinewidth": 0,
              "ticks": ""
             }
            },
            "type": "scattergeo"
           }
          ],
          "scattergl": [
           {
            "marker": {
             "colorbar": {
              "outlinewidth": 0,
              "ticks": ""
             }
            },
            "type": "scattergl"
           }
          ],
          "scattermapbox": [
           {
            "marker": {
             "colorbar": {
              "outlinewidth": 0,
              "ticks": ""
             }
            },
            "type": "scattermapbox"
           }
          ],
          "scatterpolar": [
           {
            "marker": {
             "colorbar": {
              "outlinewidth": 0,
              "ticks": ""
             }
            },
            "type": "scatterpolar"
           }
          ],
          "scatterpolargl": [
           {
            "marker": {
             "colorbar": {
              "outlinewidth": 0,
              "ticks": ""
             }
            },
            "type": "scatterpolargl"
           }
          ],
          "scatterternary": [
           {
            "marker": {
             "colorbar": {
              "outlinewidth": 0,
              "ticks": ""
             }
            },
            "type": "scatterternary"
           }
          ],
          "surface": [
           {
            "colorbar": {
             "outlinewidth": 0,
             "ticks": ""
            },
            "colorscale": [
             [
              0,
              "#0d0887"
             ],
             [
              0.1111111111111111,
              "#46039f"
             ],
             [
              0.2222222222222222,
              "#7201a8"
             ],
             [
              0.3333333333333333,
              "#9c179e"
             ],
             [
              0.4444444444444444,
              "#bd3786"
             ],
             [
              0.5555555555555556,
              "#d8576b"
             ],
             [
              0.6666666666666666,
              "#ed7953"
             ],
             [
              0.7777777777777778,
              "#fb9f3a"
             ],
             [
              0.8888888888888888,
              "#fdca26"
             ],
             [
              1,
              "#f0f921"
             ]
            ],
            "type": "surface"
           }
          ],
          "table": [
           {
            "cells": {
             "fill": {
              "color": "#EBF0F8"
             },
             "line": {
              "color": "white"
             }
            },
            "header": {
             "fill": {
              "color": "#C8D4E3"
             },
             "line": {
              "color": "white"
             }
            },
            "type": "table"
           }
          ]
         },
         "layout": {
          "annotationdefaults": {
           "arrowcolor": "#2a3f5f",
           "arrowhead": 0,
           "arrowwidth": 1
          },
          "coloraxis": {
           "colorbar": {
            "outlinewidth": 0,
            "ticks": ""
           }
          },
          "colorscale": {
           "diverging": [
            [
             0,
             "#8e0152"
            ],
            [
             0.1,
             "#c51b7d"
            ],
            [
             0.2,
             "#de77ae"
            ],
            [
             0.3,
             "#f1b6da"
            ],
            [
             0.4,
             "#fde0ef"
            ],
            [
             0.5,
             "#f7f7f7"
            ],
            [
             0.6,
             "#e6f5d0"
            ],
            [
             0.7,
             "#b8e186"
            ],
            [
             0.8,
             "#7fbc41"
            ],
            [
             0.9,
             "#4d9221"
            ],
            [
             1,
             "#276419"
            ]
           ],
           "sequential": [
            [
             0,
             "#0d0887"
            ],
            [
             0.1111111111111111,
             "#46039f"
            ],
            [
             0.2222222222222222,
             "#7201a8"
            ],
            [
             0.3333333333333333,
             "#9c179e"
            ],
            [
             0.4444444444444444,
             "#bd3786"
            ],
            [
             0.5555555555555556,
             "#d8576b"
            ],
            [
             0.6666666666666666,
             "#ed7953"
            ],
            [
             0.7777777777777778,
             "#fb9f3a"
            ],
            [
             0.8888888888888888,
             "#fdca26"
            ],
            [
             1,
             "#f0f921"
            ]
           ],
           "sequentialminus": [
            [
             0,
             "#0d0887"
            ],
            [
             0.1111111111111111,
             "#46039f"
            ],
            [
             0.2222222222222222,
             "#7201a8"
            ],
            [
             0.3333333333333333,
             "#9c179e"
            ],
            [
             0.4444444444444444,
             "#bd3786"
            ],
            [
             0.5555555555555556,
             "#d8576b"
            ],
            [
             0.6666666666666666,
             "#ed7953"
            ],
            [
             0.7777777777777778,
             "#fb9f3a"
            ],
            [
             0.8888888888888888,
             "#fdca26"
            ],
            [
             1,
             "#f0f921"
            ]
           ]
          },
          "colorway": [
           "#636efa",
           "#EF553B",
           "#00cc96",
           "#ab63fa",
           "#FFA15A",
           "#19d3f3",
           "#FF6692",
           "#B6E880",
           "#FF97FF",
           "#FECB52"
          ],
          "font": {
           "color": "#2a3f5f"
          },
          "geo": {
           "bgcolor": "white",
           "lakecolor": "white",
           "landcolor": "#E5ECF6",
           "showlakes": true,
           "showland": true,
           "subunitcolor": "white"
          },
          "hoverlabel": {
           "align": "left"
          },
          "hovermode": "closest",
          "mapbox": {
           "style": "light"
          },
          "paper_bgcolor": "white",
          "plot_bgcolor": "#E5ECF6",
          "polar": {
           "angularaxis": {
            "gridcolor": "white",
            "linecolor": "white",
            "ticks": ""
           },
           "bgcolor": "#E5ECF6",
           "radialaxis": {
            "gridcolor": "white",
            "linecolor": "white",
            "ticks": ""
           }
          },
          "scene": {
           "xaxis": {
            "backgroundcolor": "#E5ECF6",
            "gridcolor": "white",
            "gridwidth": 2,
            "linecolor": "white",
            "showbackground": true,
            "ticks": "",
            "zerolinecolor": "white"
           },
           "yaxis": {
            "backgroundcolor": "#E5ECF6",
            "gridcolor": "white",
            "gridwidth": 2,
            "linecolor": "white",
            "showbackground": true,
            "ticks": "",
            "zerolinecolor": "white"
           },
           "zaxis": {
            "backgroundcolor": "#E5ECF6",
            "gridcolor": "white",
            "gridwidth": 2,
            "linecolor": "white",
            "showbackground": true,
            "ticks": "",
            "zerolinecolor": "white"
           }
          },
          "shapedefaults": {
           "line": {
            "color": "#2a3f5f"
           }
          },
          "ternary": {
           "aaxis": {
            "gridcolor": "white",
            "linecolor": "white",
            "ticks": ""
           },
           "baxis": {
            "gridcolor": "white",
            "linecolor": "white",
            "ticks": ""
           },
           "bgcolor": "#E5ECF6",
           "caxis": {
            "gridcolor": "white",
            "linecolor": "white",
            "ticks": ""
           }
          },
          "title": {
           "x": 0.05
          },
          "xaxis": {
           "automargin": true,
           "gridcolor": "white",
           "linecolor": "white",
           "ticks": "",
           "title": {
            "standoff": 15
           },
           "zerolinecolor": "white",
           "zerolinewidth": 2
          },
          "yaxis": {
           "automargin": true,
           "gridcolor": "white",
           "linecolor": "white",
           "ticks": "",
           "title": {
            "standoff": 15
           },
           "zerolinecolor": "white",
           "zerolinewidth": 2
          }
         }
        },
        "title": {
         "font": {
          "color": "#4D5663"
         },
         "text": "Node Centrality Measures"
        },
        "xaxis": {
         "gridcolor": "#E1E5ED",
         "showgrid": true,
         "tickfont": {
          "color": "#4D5663"
         },
         "title": {
          "font": {
           "color": "#4D5663"
          },
          "text": ""
         },
         "zerolinecolor": "#E1E5ED"
        },
        "yaxis": {
         "gridcolor": "#E1E5ED",
         "showgrid": true,
         "tickfont": {
          "color": "#4D5663"
         },
         "title": {
          "font": {
           "color": "#4D5663"
          },
          "text": ""
         },
         "zerolinecolor": "#E1E5ED"
        }
       }
      },
      "text/html": [
       "<div>\n",
       "        \n",
       "        \n",
       "            <div id=\"7c813259-f304-4e31-85a3-8aa4386c2c2c\" class=\"plotly-graph-div\" style=\"height:525px; width:100%;\"></div>\n",
       "            <script type=\"text/javascript\">\n",
       "                require([\"plotly\"], function(Plotly) {\n",
       "                    window.PLOTLYENV=window.PLOTLYENV || {};\n",
       "                    window.PLOTLYENV.BASE_URL='https://plot.ly';\n",
       "                    \n",
       "                if (document.getElementById(\"7c813259-f304-4e31-85a3-8aa4386c2c2c\")) {\n",
       "                    Plotly.newPlot(\n",
       "                        '7c813259-f304-4e31-85a3-8aa4386c2c2c',\n",
       "                        [{\"marker\": {\"color\": \"rgba(255, 153, 51, 0.6)\", \"line\": {\"color\": \"rgba(255, 153, 51, 1.0)\", \"width\": 1}}, \"name\": \"degree\", \"orientation\": \"v\", \"text\": \"\", \"type\": \"bar\", \"x\": [\"EWR\", \"MEM\", \"LGA\", \"FLL\", \"SEA\", \"JFK\", \"DEN\", \"ORD\", \"MIA\", \"PBI\", \"MCO\", \"CMH\", \"MSP\", \"IAD\", \"CLT\", \"TPA\", \"DCA\", \"SJU\", \"ATL\", \"BHM\", \"SRQ\", \"MSY\", \"DTW\", \"LAX\", \"JAX\", \"RDU\", \"MDW\", \"DFW\", \"IAH\", \"SFO\", \"STL\", \"CVG\", \"IND\", \"RSW\", \"BOS\", \"CLE\"], \"y\": [20, 1, 20, 2, 2, 17, 2, 2, 2, 3, 3, 1, 2, 3, 2, 3, 2, 2, 2, 1, 1, 1, 2, 2, 1, 2, 1, 1, 2, 1, 1, 2, 1, 1, 2, 1]}, {\"marker\": {\"color\": \"rgba(55, 128, 191, 0.6)\", \"line\": {\"color\": \"rgba(55, 128, 191, 1.0)\", \"width\": 1}}, \"name\": \"closeness\", \"orientation\": \"v\", \"text\": \"\", \"type\": \"bar\", \"x\": [\"EWR\", \"MEM\", \"LGA\", \"FLL\", \"SEA\", \"JFK\", \"DEN\", \"ORD\", \"MIA\", \"PBI\", \"MCO\", \"CMH\", \"MSP\", \"IAD\", \"CLT\", \"TPA\", \"DCA\", \"SJU\", \"ATL\", \"BHM\", \"SRQ\", \"MSY\", \"DTW\", \"LAX\", \"JAX\", \"RDU\", \"MDW\", \"DFW\", \"IAH\", \"SFO\", \"STL\", \"CVG\", \"IND\", \"RSW\", \"BOS\", \"CLE\"], \"y\": [0.5555555555555556, 0.36082474226804123, 0.5555555555555556, 0.43209876543209874, 0.45454545454545453, 0.5072463768115942, 0.43209876543209874, 0.4666666666666667, 0.4666666666666667, 0.5223880597014925, 0.5223880597014925, 0.36082474226804123, 0.4666666666666667, 0.5223880597014925, 0.43209876543209874, 0.5223880597014925, 0.43209876543209874, 0.45454545454545453, 0.43209876543209874, 0.36082474226804123, 0.33980582524271846, 0.36082474226804123, 0.43209876543209874, 0.45454545454545453, 0.33980582524271846, 0.4666666666666667, 0.36082474226804123, 0.36082474226804123, 0.4666666666666667, 0.36082474226804123, 0.36082474226804123, 0.4666666666666667, 0.36082474226804123, 0.36082474226804123, 0.45454545454545453, 0.33980582524271846]}, {\"marker\": {\"color\": \"rgba(50, 171, 96, 0.6)\", \"line\": {\"color\": \"rgba(50, 171, 96, 1.0)\", \"width\": 1}}, \"name\": \"betweeness\", \"orientation\": \"v\", \"text\": \"\", \"type\": \"bar\", \"x\": [\"EWR\", \"MEM\", \"LGA\", \"FLL\", \"SEA\", \"JFK\", \"DEN\", \"ORD\", \"MIA\", \"PBI\", \"MCO\", \"CMH\", \"MSP\", \"IAD\", \"CLT\", \"TPA\", \"DCA\", \"SJU\", \"ATL\", \"BHM\", \"SRQ\", \"MSY\", \"DTW\", \"LAX\", \"JAX\", \"RDU\", \"MDW\", \"DFW\", \"IAH\", \"SFO\", \"STL\", \"CVG\", \"IND\", \"RSW\", \"BOS\", \"CLE\"], \"y\": [0.44733893557422966, 0.0, 0.40952380952380946, 0.007282913165266107, 0.01204481792717087, 0.30952380952380965, 0.007282913165266107, 0.011484593837535018, 0.011484593837535018, 0.030812324929971994, 0.030812324929971994, 0.0, 0.011484593837535018, 0.030812324929971994, 0.007282913165266107, 0.030812324929971994, 0.007282913165266107, 0.01204481792717087, 0.007282913165266107, 0.0, 0.0, 0.0, 0.007282913165266107, 0.01204481792717087, 0.0, 0.011484593837535018, 0.0, 0.0, 0.011484593837535018, 0.0, 0.0, 0.011484593837535018, 0.0, 0.0, 0.01204481792717087, 0.0]}, {\"marker\": {\"color\": \"rgba(128, 0, 128, 0.6)\", \"line\": {\"color\": \"rgba(128, 0, 128, 1.0)\", \"width\": 1}}, \"name\": \"eigenvector\", \"orientation\": \"v\", \"text\": \"\", \"type\": \"bar\", \"x\": [\"EWR\", \"MEM\", \"LGA\", \"FLL\", \"SEA\", \"JFK\", \"DEN\", \"ORD\", \"MIA\", \"PBI\", \"MCO\", \"CMH\", \"MSP\", \"IAD\", \"CLT\", \"TPA\", \"DCA\", \"SJU\", \"ATL\", \"BHM\", \"SRQ\", \"MSY\", \"DTW\", \"LAX\", \"JAX\", \"RDU\", \"MDW\", \"DFW\", \"IAH\", \"SFO\", \"STL\", \"CVG\", \"IND\", \"RSW\", \"BOS\", \"CLE\"], \"y\": [0.41270371965737646, 0.06711591581231252, 0.4392922830543092, 0.1315672823889629, 0.12724331900684804, 0.3697305275838997, 0.1315672823889629, 0.13855579500673987, 0.13855579500673987, 0.19868319820127542, 0.19868319820127542, 0.07143987919442736, 0.13855579500673987, 0.19868319820127542, 0.1315672823889629, 0.19868319820127542, 0.1315672823889629, 0.12724331900684804, 0.1315672823889629, 0.07143987919442736, 0.06012740319453555, 0.06711591581231252, 0.1315672823889629, 0.12724331900684804, 0.06012740319453555, 0.13855579500673987, 0.07143987919442736, 0.06711591581231252, 0.13855579500673987, 0.06711591581231252, 0.07143987919442736, 0.13855579500673987, 0.06711591581231252, 0.06711591581231252, 0.12724331900684804, 0.06012740319453555]}],\n",
       "                        {\"legend\": {\"bgcolor\": \"#F5F6F9\", \"font\": {\"color\": \"#4D5663\"}}, \"paper_bgcolor\": \"#F5F6F9\", \"plot_bgcolor\": \"#F5F6F9\", \"template\": {\"data\": {\"bar\": [{\"error_x\": {\"color\": \"#2a3f5f\"}, \"error_y\": {\"color\": \"#2a3f5f\"}, \"marker\": {\"line\": {\"color\": \"#E5ECF6\", \"width\": 0.5}}, \"type\": \"bar\"}], \"barpolar\": [{\"marker\": {\"line\": {\"color\": \"#E5ECF6\", \"width\": 0.5}}, \"type\": \"barpolar\"}], \"carpet\": [{\"aaxis\": {\"endlinecolor\": \"#2a3f5f\", \"gridcolor\": \"white\", \"linecolor\": \"white\", \"minorgridcolor\": \"white\", \"startlinecolor\": \"#2a3f5f\"}, \"baxis\": {\"endlinecolor\": \"#2a3f5f\", \"gridcolor\": \"white\", \"linecolor\": \"white\", \"minorgridcolor\": \"white\", \"startlinecolor\": \"#2a3f5f\"}, \"type\": \"carpet\"}], \"choropleth\": [{\"colorbar\": {\"outlinewidth\": 0, \"ticks\": \"\"}, \"type\": \"choropleth\"}], \"contour\": [{\"colorbar\": {\"outlinewidth\": 0, \"ticks\": \"\"}, \"colorscale\": [[0.0, \"#0d0887\"], [0.1111111111111111, \"#46039f\"], [0.2222222222222222, \"#7201a8\"], [0.3333333333333333, \"#9c179e\"], [0.4444444444444444, \"#bd3786\"], [0.5555555555555556, \"#d8576b\"], [0.6666666666666666, \"#ed7953\"], [0.7777777777777778, \"#fb9f3a\"], [0.8888888888888888, \"#fdca26\"], [1.0, \"#f0f921\"]], \"type\": \"contour\"}], \"contourcarpet\": [{\"colorbar\": {\"outlinewidth\": 0, \"ticks\": \"\"}, \"type\": \"contourcarpet\"}], \"heatmap\": [{\"colorbar\": {\"outlinewidth\": 0, \"ticks\": \"\"}, \"colorscale\": [[0.0, \"#0d0887\"], [0.1111111111111111, \"#46039f\"], [0.2222222222222222, \"#7201a8\"], [0.3333333333333333, \"#9c179e\"], [0.4444444444444444, \"#bd3786\"], [0.5555555555555556, \"#d8576b\"], [0.6666666666666666, \"#ed7953\"], [0.7777777777777778, \"#fb9f3a\"], [0.8888888888888888, \"#fdca26\"], [1.0, \"#f0f921\"]], \"type\": \"heatmap\"}], \"heatmapgl\": [{\"colorbar\": {\"outlinewidth\": 0, \"ticks\": \"\"}, \"colorscale\": [[0.0, \"#0d0887\"], [0.1111111111111111, \"#46039f\"], [0.2222222222222222, \"#7201a8\"], [0.3333333333333333, \"#9c179e\"], [0.4444444444444444, \"#bd3786\"], [0.5555555555555556, \"#d8576b\"], [0.6666666666666666, \"#ed7953\"], [0.7777777777777778, \"#fb9f3a\"], [0.8888888888888888, \"#fdca26\"], [1.0, \"#f0f921\"]], \"type\": \"heatmapgl\"}], \"histogram\": [{\"marker\": {\"colorbar\": {\"outlinewidth\": 0, \"ticks\": \"\"}}, \"type\": \"histogram\"}], \"histogram2d\": [{\"colorbar\": {\"outlinewidth\": 0, \"ticks\": \"\"}, \"colorscale\": [[0.0, \"#0d0887\"], [0.1111111111111111, \"#46039f\"], [0.2222222222222222, \"#7201a8\"], [0.3333333333333333, \"#9c179e\"], [0.4444444444444444, \"#bd3786\"], [0.5555555555555556, \"#d8576b\"], [0.6666666666666666, \"#ed7953\"], [0.7777777777777778, \"#fb9f3a\"], [0.8888888888888888, \"#fdca26\"], [1.0, \"#f0f921\"]], \"type\": \"histogram2d\"}], \"histogram2dcontour\": [{\"colorbar\": {\"outlinewidth\": 0, \"ticks\": \"\"}, \"colorscale\": [[0.0, \"#0d0887\"], [0.1111111111111111, \"#46039f\"], [0.2222222222222222, \"#7201a8\"], [0.3333333333333333, \"#9c179e\"], [0.4444444444444444, \"#bd3786\"], [0.5555555555555556, \"#d8576b\"], [0.6666666666666666, \"#ed7953\"], [0.7777777777777778, \"#fb9f3a\"], [0.8888888888888888, \"#fdca26\"], [1.0, \"#f0f921\"]], \"type\": \"histogram2dcontour\"}], \"mesh3d\": [{\"colorbar\": {\"outlinewidth\": 0, \"ticks\": \"\"}, \"type\": \"mesh3d\"}], \"parcoords\": [{\"line\": {\"colorbar\": {\"outlinewidth\": 0, \"ticks\": \"\"}}, \"type\": \"parcoords\"}], \"pie\": [{\"automargin\": true, \"type\": \"pie\"}], \"scatter\": [{\"marker\": {\"colorbar\": {\"outlinewidth\": 0, \"ticks\": \"\"}}, \"type\": \"scatter\"}], \"scatter3d\": [{\"line\": {\"colorbar\": {\"outlinewidth\": 0, \"ticks\": \"\"}}, \"marker\": {\"colorbar\": {\"outlinewidth\": 0, \"ticks\": \"\"}}, \"type\": \"scatter3d\"}], \"scattercarpet\": [{\"marker\": {\"colorbar\": {\"outlinewidth\": 0, \"ticks\": \"\"}}, \"type\": \"scattercarpet\"}], \"scattergeo\": [{\"marker\": {\"colorbar\": {\"outlinewidth\": 0, \"ticks\": \"\"}}, \"type\": \"scattergeo\"}], \"scattergl\": [{\"marker\": {\"colorbar\": {\"outlinewidth\": 0, \"ticks\": \"\"}}, \"type\": \"scattergl\"}], \"scattermapbox\": [{\"marker\": {\"colorbar\": {\"outlinewidth\": 0, \"ticks\": \"\"}}, \"type\": \"scattermapbox\"}], \"scatterpolar\": [{\"marker\": {\"colorbar\": {\"outlinewidth\": 0, \"ticks\": \"\"}}, \"type\": \"scatterpolar\"}], \"scatterpolargl\": [{\"marker\": {\"colorbar\": {\"outlinewidth\": 0, \"ticks\": \"\"}}, \"type\": \"scatterpolargl\"}], \"scatterternary\": [{\"marker\": {\"colorbar\": {\"outlinewidth\": 0, \"ticks\": \"\"}}, \"type\": \"scatterternary\"}], \"surface\": [{\"colorbar\": {\"outlinewidth\": 0, \"ticks\": \"\"}, \"colorscale\": [[0.0, \"#0d0887\"], [0.1111111111111111, \"#46039f\"], [0.2222222222222222, \"#7201a8\"], [0.3333333333333333, \"#9c179e\"], [0.4444444444444444, \"#bd3786\"], [0.5555555555555556, \"#d8576b\"], [0.6666666666666666, \"#ed7953\"], [0.7777777777777778, \"#fb9f3a\"], [0.8888888888888888, \"#fdca26\"], [1.0, \"#f0f921\"]], \"type\": \"surface\"}], \"table\": [{\"cells\": {\"fill\": {\"color\": \"#EBF0F8\"}, \"line\": {\"color\": \"white\"}}, \"header\": {\"fill\": {\"color\": \"#C8D4E3\"}, \"line\": {\"color\": \"white\"}}, \"type\": \"table\"}]}, \"layout\": {\"annotationdefaults\": {\"arrowcolor\": \"#2a3f5f\", \"arrowhead\": 0, \"arrowwidth\": 1}, \"coloraxis\": {\"colorbar\": {\"outlinewidth\": 0, \"ticks\": \"\"}}, \"colorscale\": {\"diverging\": [[0, \"#8e0152\"], [0.1, \"#c51b7d\"], [0.2, \"#de77ae\"], [0.3, \"#f1b6da\"], [0.4, \"#fde0ef\"], [0.5, \"#f7f7f7\"], [0.6, \"#e6f5d0\"], [0.7, \"#b8e186\"], [0.8, \"#7fbc41\"], [0.9, \"#4d9221\"], [1, \"#276419\"]], \"sequential\": [[0.0, \"#0d0887\"], [0.1111111111111111, \"#46039f\"], [0.2222222222222222, \"#7201a8\"], [0.3333333333333333, \"#9c179e\"], [0.4444444444444444, \"#bd3786\"], [0.5555555555555556, \"#d8576b\"], [0.6666666666666666, \"#ed7953\"], [0.7777777777777778, \"#fb9f3a\"], [0.8888888888888888, \"#fdca26\"], [1.0, \"#f0f921\"]], \"sequentialminus\": [[0.0, \"#0d0887\"], [0.1111111111111111, \"#46039f\"], [0.2222222222222222, \"#7201a8\"], [0.3333333333333333, \"#9c179e\"], [0.4444444444444444, \"#bd3786\"], [0.5555555555555556, \"#d8576b\"], [0.6666666666666666, \"#ed7953\"], [0.7777777777777778, \"#fb9f3a\"], [0.8888888888888888, \"#fdca26\"], [1.0, \"#f0f921\"]]}, \"colorway\": [\"#636efa\", \"#EF553B\", \"#00cc96\", \"#ab63fa\", \"#FFA15A\", \"#19d3f3\", \"#FF6692\", \"#B6E880\", \"#FF97FF\", \"#FECB52\"], \"font\": {\"color\": \"#2a3f5f\"}, \"geo\": {\"bgcolor\": \"white\", \"lakecolor\": \"white\", \"landcolor\": \"#E5ECF6\", \"showlakes\": true, \"showland\": true, \"subunitcolor\": \"white\"}, \"hoverlabel\": {\"align\": \"left\"}, \"hovermode\": \"closest\", \"mapbox\": {\"style\": \"light\"}, \"paper_bgcolor\": \"white\", \"plot_bgcolor\": \"#E5ECF6\", \"polar\": {\"angularaxis\": {\"gridcolor\": \"white\", \"linecolor\": \"white\", \"ticks\": \"\"}, \"bgcolor\": \"#E5ECF6\", \"radialaxis\": {\"gridcolor\": \"white\", \"linecolor\": \"white\", \"ticks\": \"\"}}, \"scene\": {\"xaxis\": {\"backgroundcolor\": \"#E5ECF6\", \"gridcolor\": \"white\", \"gridwidth\": 2, \"linecolor\": \"white\", \"showbackground\": true, \"ticks\": \"\", \"zerolinecolor\": \"white\"}, \"yaxis\": {\"backgroundcolor\": \"#E5ECF6\", \"gridcolor\": \"white\", \"gridwidth\": 2, \"linecolor\": \"white\", \"showbackground\": true, \"ticks\": \"\", \"zerolinecolor\": \"white\"}, \"zaxis\": {\"backgroundcolor\": \"#E5ECF6\", \"gridcolor\": \"white\", \"gridwidth\": 2, \"linecolor\": \"white\", \"showbackground\": true, \"ticks\": \"\", \"zerolinecolor\": \"white\"}}, \"shapedefaults\": {\"line\": {\"color\": \"#2a3f5f\"}}, \"ternary\": {\"aaxis\": {\"gridcolor\": \"white\", \"linecolor\": \"white\", \"ticks\": \"\"}, \"baxis\": {\"gridcolor\": \"white\", \"linecolor\": \"white\", \"ticks\": \"\"}, \"bgcolor\": \"#E5ECF6\", \"caxis\": {\"gridcolor\": \"white\", \"linecolor\": \"white\", \"ticks\": \"\"}}, \"title\": {\"x\": 0.05}, \"xaxis\": {\"automargin\": true, \"gridcolor\": \"white\", \"linecolor\": \"white\", \"ticks\": \"\", \"title\": {\"standoff\": 15}, \"zerolinecolor\": \"white\", \"zerolinewidth\": 2}, \"yaxis\": {\"automargin\": true, \"gridcolor\": \"white\", \"linecolor\": \"white\", \"ticks\": \"\", \"title\": {\"standoff\": 15}, \"zerolinecolor\": \"white\", \"zerolinewidth\": 2}}}, \"title\": {\"font\": {\"color\": \"#4D5663\"}, \"text\": \"Node Centrality Measures\"}, \"xaxis\": {\"gridcolor\": \"#E1E5ED\", \"showgrid\": true, \"tickfont\": {\"color\": \"#4D5663\"}, \"title\": {\"font\": {\"color\": \"#4D5663\"}, \"text\": \"\"}, \"zerolinecolor\": \"#E1E5ED\"}, \"yaxis\": {\"gridcolor\": \"#E1E5ED\", \"showgrid\": true, \"tickfont\": {\"color\": \"#4D5663\"}, \"title\": {\"font\": {\"color\": \"#4D5663\"}, \"text\": \"\"}, \"zerolinecolor\": \"#E1E5ED\"}},\n",
       "                        {\"showLink\": true, \"linkText\": \"Export to plot.ly\", \"plotlyServerURL\": \"https://plot.ly\", \"responsive\": true}\n",
       "                    ).then(function(){\n",
       "                            \n",
       "var gd = document.getElementById('7c813259-f304-4e31-85a3-8aa4386c2c2c');\n",
       "var x = new MutationObserver(function (mutations, observer) {{\n",
       "        var display = window.getComputedStyle(gd).display;\n",
       "        if (!display || display === 'none') {{\n",
       "            console.log([gd, 'removed!']);\n",
       "            Plotly.purge(gd);\n",
       "            observer.disconnect();\n",
       "        }}\n",
       "}});\n",
       "\n",
       "// Listen for the removal of the full notebook cells\n",
       "var notebookContainer = gd.closest('#notebook-container');\n",
       "if (notebookContainer) {{\n",
       "    x.observe(notebookContainer, {childList: true});\n",
       "}}\n",
       "\n",
       "// Listen for the clearing of the current output cell\n",
       "var outputEl = gd.closest('.output');\n",
       "if (outputEl) {{\n",
       "    x.observe(outputEl, {childList: true});\n",
       "}}\n",
       "\n",
       "                        })\n",
       "                };\n",
       "                });\n",
       "            </script>\n",
       "        </div>"
      ]
     },
     "metadata": {},
     "output_type": "display_data"
    }
   ],
   "source": [
    "df_res = get_centrality(df_graph)\n"
   ]
  },
  {
   "cell_type": "code",
   "execution_count": null,
   "metadata": {
    "hidden": true
   },
   "outputs": [],
   "source": []
  },
  {
   "cell_type": "code",
   "execution_count": 21,
   "metadata": {
    "ExecuteTime": {
     "end_time": "2020-02-04T16:36:03.402155Z",
     "start_time": "2020-02-04T16:36:02.842213Z"
    },
    "hidden": true
   },
   "outputs": [
    {
     "data": {
      "application/vnd.jupyter.widget-view+json": {
       "model_id": "32c7ea5793a34955bd4ac09cc6ddf2ce",
       "version_major": 2,
       "version_minor": 0
      },
      "text/plain": [
       "interactive(children=(Dropdown(description='column', options=('degree', 'closeness', 'betweeness', 'eigenvecto…"
      ]
     },
     "metadata": {},
     "output_type": "display_data"
    }
   ],
   "source": [
    "import ipywidgets as widgets\n",
    "from ipywidgets import interact\n",
    "\n",
    "@interact\n",
    "def sort_res(column = df_res.columns,top_n=(3,len(df_res)),kind=['bar','barh']):\n",
    "    fig,ax = plt.subplots(figsize=(12,12))\n",
    "    df_res.sort_values(column).head(top_n).plot(kind=kind,ax=ax)"
   ]
  },
  {
   "cell_type": "code",
   "execution_count": null,
   "metadata": {
    "hidden": true
   },
   "outputs": [],
   "source": []
  }
 ],
 "metadata": {
  "colab": {
   "collapsed_sections": [
    "ILiJbEhIhzO-",
    "XKTBlckyh8Vl",
    "dDY-Lj9zh_mZ",
    "YywI36W1IRs7",
    "kSyLc65KUlYa"
   ],
   "name": "My Flatiron Bootcamp Notes - Mod 3_Plus Udemy.ipynb",
   "provenance": [],
   "toc_visible": true
  },
  "kernelspec": {
   "display_name": "learn-env",
   "language": "python",
   "name": "learn-env"
  },
  "language_info": {
   "codemirror_mode": {
    "name": "ipython",
    "version": 3
   },
   "file_extension": ".py",
   "mimetype": "text/x-python",
   "name": "python",
   "nbconvert_exporter": "python",
   "pygments_lexer": "ipython3",
   "version": "3.6.9"
  },
  "toc": {
   "base_numbering": 1,
   "nav_menu": {},
   "number_sections": false,
   "sideBar": true,
   "skip_h1_title": false,
   "title_cell": "Table of Contents",
   "title_sidebar": "Contents",
   "toc_cell": false,
   "toc_position": {
    "height": "calc(100% - 180px)",
    "left": "10px",
    "top": "150px",
    "width": "256px"
   },
   "toc_section_display": true,
   "toc_window_display": true
  }
 },
 "nbformat": 4,
 "nbformat_minor": 1
}
