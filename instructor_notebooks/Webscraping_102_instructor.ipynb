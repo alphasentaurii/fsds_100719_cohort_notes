{
 "cells": [
  {
   "cell_type": "markdown",
   "metadata": {},
   "source": [
    "# Using `selenium` to scrape otherwise inaccessible data"
   ]
  },
  {
   "cell_type": "markdown",
   "metadata": {},
   "source": [
    "- [Selenium Documentation](https://www.selenium.dev/selenium/docs/api/py/api.html)\n",
    "- Installation:\n",
    "    - Selenium: \n",
    "        - https://selenium-python.readthedocs.io/installation.html\n",
    "    \n",
    "    - Web Browser Drivers:\n",
    "        - https://selenium-python.readthedocs.io/installation.html#drivers"
   ]
  },
  {
   "cell_type": "code",
   "execution_count": null,
   "metadata": {
    "ExecuteTime": {
     "end_time": "2020-03-04T01:50:55.323163Z",
     "start_time": "2020-03-04T01:50:55.320972Z"
    }
   },
   "outputs": [],
   "source": [
    "# !pip install html5lib\n",
    "# !pip install -U selenium"
   ]
  },
  {
   "cell_type": "code",
   "execution_count": null,
   "metadata": {
    "ExecuteTime": {
     "end_time": "2020-03-04T01:50:55.987791Z",
     "start_time": "2020-03-04T01:50:55.665441Z"
    }
   },
   "outputs": [],
   "source": [
    "## Webscraping imports\n",
    "from selenium import webdriver\n",
    "from selenium.webdriver import ActionChains\n",
    "from selenium.webdriver.common.keys import Keys\n",
    "from bs4 import BeautifulSoup\n",
    "import requests\n",
    "import time"
   ]
  },
  {
   "cell_type": "code",
   "execution_count": null,
   "metadata": {
    "ExecuteTime": {
     "end_time": "2020-03-04T01:50:58.421542Z",
     "start_time": "2020-03-04T01:50:56.125688Z"
    }
   },
   "outputs": [],
   "source": [
    "## additional imports\n",
    "from fsds_100719.imports import *"
   ]
  },
  {
   "cell_type": "markdown",
   "metadata": {},
   "source": [
    "## Our Task"
   ]
  },
  {
   "cell_type": "markdown",
   "metadata": {},
   "source": [
    "- Extract all up-to-date tweets from President Trump from the [Trump Twitter Archive](http://www.trumptwitterarchive.com/)\n",
    "- Extract minute-resolution S&P 500 stock data "
   ]
  },
  {
   "cell_type": "code",
   "execution_count": null,
   "metadata": {
    "ExecuteTime": {
     "end_time": "2020-03-04T01:50:58.430013Z",
     "start_time": "2020-03-04T01:50:58.423106Z"
    }
   },
   "outputs": [],
   "source": [
    "trump_tweets_url= 'http://www.trumptwitterarchive.com/archive'\n",
    "stock_url = 'http://www.kibot.com/free_historical_data.aspx'"
   ]
  },
  {
   "cell_type": "code",
   "execution_count": null,
   "metadata": {
    "ExecuteTime": {
     "end_time": "2020-03-04T01:52:40.245252Z",
     "start_time": "2020-03-04T01:52:37.973436Z"
    }
   },
   "outputs": [],
   "source": [
    "## Initialize the webdriver and open web-browser\n",
    "driver = webdriver.Chrome()"
   ]
  },
  {
   "cell_type": "code",
   "execution_count": null,
   "metadata": {
    "ExecuteTime": {
     "end_time": "2020-03-04T01:51:00.390448Z",
     "start_time": "2020-03-04T01:51:00.372956Z"
    }
   },
   "outputs": [],
   "source": [
    "help(driver)"
   ]
  },
  {
   "cell_type": "code",
   "execution_count": null,
   "metadata": {
    "ExecuteTime": {
     "end_time": "2020-03-04T01:52:49.472299Z",
     "start_time": "2020-03-04T01:52:47.756072Z"
    }
   },
   "outputs": [],
   "source": [
    "driver.get(trump_tweets_url)\n",
    "time.sleep(1)"
   ]
  },
  {
   "cell_type": "markdown",
   "metadata": {},
   "source": [
    "## Finding Elements Using Selenium"
   ]
  },
  {
   "cell_type": "markdown",
   "metadata": {},
   "source": [
    "- `find_element(self, by='id', value=None)`<br>Find an element given a By strategy and locator.\n",
    "Prefer the find_element_by_* methods when possible.\n",
    "- `find_element_by_class_name(self, name)`\n",
    "- `find_element_by_css_selector(self, css_selector)`\n",
    "- `find_element_by_id`\n",
    "- `find_element_by_link_text`\n",
    "- `find_element_by_name`\n",
    "- `find_element_by_partial_link_text`\n",
    "- `find_element_by_tag_name`\n",
    "- **`find_element_by_xpath`**"
   ]
  },
  {
   "cell_type": "code",
   "execution_count": null,
   "metadata": {
    "ExecuteTime": {
     "end_time": "2020-03-04T01:52:49.529689Z",
     "start_time": "2020-03-04T01:52:49.473619Z"
    }
   },
   "outputs": [],
   "source": [
    "options = driver.find_element_by_xpath('//*[@id=\"options-button\"]/button')\n",
    "options.click()\n"
   ]
  },
  {
   "cell_type": "code",
   "execution_count": null,
   "metadata": {
    "ExecuteTime": {
     "end_time": "2020-03-04T01:52:50.074920Z",
     "start_time": "2020-03-04T01:52:49.893748Z"
    }
   },
   "outputs": [],
   "source": [
    "## select show retweet count and show favorite count\n",
    "driver.find_element_by_xpath('//*[@id=\"options-button\"]/ul/li[4]/input').click()\n",
    "driver.find_element_by_xpath('//*[@id=\"options-button\"]/ul/li[5]/input').click()"
   ]
  },
  {
   "cell_type": "code",
   "execution_count": null,
   "metadata": {
    "ExecuteTime": {
     "end_time": "2020-03-04T01:52:50.694682Z",
     "start_time": "2020-03-04T01:52:50.631700Z"
    }
   },
   "outputs": [],
   "source": [
    "# click export\n",
    "driver.find_element_by_xpath('//*[@id=\"exports-button\"]/button').click()"
   ]
  },
  {
   "cell_type": "code",
   "execution_count": null,
   "metadata": {
    "ExecuteTime": {
     "end_time": "2020-03-04T01:53:01.089839Z",
     "start_time": "2020-03-04T01:52:54.564477Z"
    }
   },
   "outputs": [],
   "source": [
    "# click CSV\n",
    "element = '//*[@id=\"exports-button\"]/ul/li[3]'\n",
    "driver.find_element_by_xpath(element).click()\n"
   ]
  },
  {
   "cell_type": "code",
   "execution_count": null,
   "metadata": {
    "ExecuteTime": {
     "end_time": "2020-03-04T01:57:31.425878Z",
     "start_time": "2020-03-04T01:57:31.379741Z"
    }
   },
   "outputs": [],
   "source": [
    "# text_area = driver.find_element_by_id('results')\n",
    "# text_area.click()\n"
   ]
  },
  {
   "cell_type": "code",
   "execution_count": null,
   "metadata": {
    "ExecuteTime": {
     "end_time": "2020-03-04T02:11:31.590291Z",
     "start_time": "2020-03-04T02:11:31.588126Z"
    }
   },
   "outputs": [],
   "source": [
    "# driver.page_source"
   ]
  },
  {
   "cell_type": "code",
   "execution_count": null,
   "metadata": {
    "ExecuteTime": {
     "end_time": "2020-03-04T02:08:54.984217Z",
     "start_time": "2020-03-04T02:08:54.979618Z"
    }
   },
   "outputs": [],
   "source": [
    "help(Keys)"
   ]
  },
  {
   "cell_type": "code",
   "execution_count": null,
   "metadata": {
    "ExecuteTime": {
     "end_time": "2020-03-04T02:20:44.330340Z",
     "start_time": "2020-03-04T02:20:44.325457Z"
    }
   },
   "outputs": [],
   "source": [
    "help(ActionChains)"
   ]
  },
  {
   "cell_type": "code",
   "execution_count": null,
   "metadata": {
    "ExecuteTime": {
     "end_time": "2020-03-04T02:22:27.697582Z",
     "start_time": "2020-03-04T02:22:27.340674Z"
    }
   },
   "outputs": [],
   "source": [
    "# Click inside text area and copy\n",
    "text_area = driver.find_element_by_xpath('//*[@id=\"export-box\"]/textarea')\n",
    "text_area.click()"
   ]
  },
  {
   "cell_type": "code",
   "execution_count": null,
   "metadata": {
    "ExecuteTime": {
     "end_time": "2020-03-04T02:22:34.765555Z",
     "start_time": "2020-03-04T02:22:31.468143Z"
    }
   },
   "outputs": [],
   "source": [
    "actions = ActionChains(driver)\n",
    "actions.click(text_area).perform()\n",
    "actions.key_down(Keys.COMMAND).send_keys('a').key_up(Keys.COMMAND).perform()\n",
    "\n",
    "# actions.key_down(Keys.CONTROL).send_keys('a').key_up(Keys.CONTROL).perform()\n",
    "\n",
    "# actions.pause(1)\n",
    "# actions.key_down(Keys.COMMAND).send_keys('a').key_up(Keys.COMMAND)\n",
    "# actions.perform()"
   ]
  },
  {
   "cell_type": "code",
   "execution_count": null,
   "metadata": {},
   "outputs": [],
   "source": []
  },
  {
   "cell_type": "markdown",
   "metadata": {
    "ExecuteTime": {
     "end_time": "2020-03-04T02:23:19.355138Z",
     "start_time": "2020-03-04T02:23:19.352974Z"
    }
   },
   "source": [
    "# Stock Data"
   ]
  },
  {
   "cell_type": "code",
   "execution_count": null,
   "metadata": {
    "ExecuteTime": {
     "end_time": "2020-03-04T02:23:41.220080Z",
     "start_time": "2020-03-04T02:23:36.577751Z"
    }
   },
   "outputs": [],
   "source": [
    "driver = webdriver.Chrome()\n",
    "driver.get(stock_url)"
   ]
  },
  {
   "cell_type": "code",
   "execution_count": null,
   "metadata": {
    "ExecuteTime": {
     "end_time": "2020-03-04T02:28:47.228225Z",
     "start_time": "2020-03-04T02:28:45.907545Z"
    }
   },
   "outputs": [],
   "source": [
    "#link = '//*[@id=\"form1\"]/div[2]/div[2]/div/div[2]/p[17]/a'\n",
    "link = '//*[@id=\"form1\"]/div[2]/div[2]/div/div[2]/p[18]/a'\n",
    "stock_link = driver.find_element_by_xpath(link)\n",
    "stock_link.click()"
   ]
  },
  {
   "cell_type": "code",
   "execution_count": null,
   "metadata": {
    "ExecuteTime": {
     "end_time": "2020-03-04T02:33:54.860836Z",
     "start_time": "2020-03-04T02:33:54.855664Z"
    }
   },
   "outputs": [],
   "source": [
    "import glob\n",
    "IVE_files = glob.glob('/Users/jamesirving/Downloads/IVE*')\n",
    "IVE_files"
   ]
  },
  {
   "cell_type": "code",
   "execution_count": null,
   "metadata": {
    "ExecuteTime": {
     "end_time": "2020-03-04T02:27:30.130268Z",
     "start_time": "2020-03-04T02:27:26.168007Z"
    }
   },
   "outputs": [],
   "source": [
    "columns= [ 'Date','Time','Open','High','Low','Close','Volume']\n",
    "stock_df = pd.read_csv(IVE_files[1])\n",
    "stock_df\n"
   ]
  },
  {
   "cell_type": "code",
   "execution_count": null,
   "metadata": {
    "ExecuteTime": {
     "end_time": "2020-03-04T02:27:10.671539Z",
     "start_time": "2020-03-04T02:27:06.820731Z"
    }
   },
   "outputs": [],
   "source": [
    "stock_df.columns=columns\n",
    "stock_df"
   ]
  },
  {
   "cell_type": "code",
   "execution_count": null,
   "metadata": {
    "ExecuteTime": {
     "end_time": "2020-03-04T02:26:12.020305Z",
     "start_time": "2020-03-04T02:26:12.001839Z"
    }
   },
   "outputs": [],
   "source": [
    "stock_df"
   ]
  },
  {
   "cell_type": "code",
   "execution_count": null,
   "metadata": {},
   "outputs": [],
   "source": []
  }
 ],
 "metadata": {
  "kernelspec": {
   "display_name": "learn-env",
   "language": "python",
   "name": "learn-env"
  },
  "language_info": {
   "codemirror_mode": {
    "name": "ipython",
    "version": 3
   },
   "file_extension": ".py",
   "mimetype": "text/x-python",
   "name": "python",
   "nbconvert_exporter": "python",
   "pygments_lexer": "ipython3",
   "version": "3.6.9"
  },
  "toc": {
   "base_numbering": 1,
   "nav_menu": {},
   "number_sections": false,
   "sideBar": true,
   "skip_h1_title": false,
   "title_cell": "Table of Contents",
   "title_sidebar": "Contents",
   "toc_cell": false,
   "toc_position": {},
   "toc_section_display": true,
   "toc_window_display": true
  }
 },
 "nbformat": 4,
 "nbformat_minor": 2
}
