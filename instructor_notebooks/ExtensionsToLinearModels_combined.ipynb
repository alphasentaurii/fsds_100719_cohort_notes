{
 "cells": [
  {
   "cell_type": "markdown",
   "metadata": {
    "toc": true
   },
   "source": [
    "<h1>Table of Contents<span class=\"tocSkip\"></span></h1>\n",
    "<div class=\"toc\"><ul class=\"toc-item\"><li><span><a href=\"#Interactions\" data-toc-modified-id=\"Interactions-1\"><span class=\"toc-item-num\">1&nbsp;&nbsp;</span>Interactions</a></span><ul class=\"toc-item\"><li><span><a href=\"#Confounding-factor\" data-toc-modified-id=\"Confounding-factor-1.1\"><span class=\"toc-item-num\">1.1&nbsp;&nbsp;</span>Confounding factor</a></span></li><li><span><a href=\"#Example-of-slight-interaction-(mostly-additive)\" data-toc-modified-id=\"Example-of-slight-interaction-(mostly-additive)-1.2\"><span class=\"toc-item-num\">1.2&nbsp;&nbsp;</span>Example of slight interaction (mostly additive)</a></span></li><li><span><a href=\"#Example-of-interaction-(definitley-not-additive)\" data-toc-modified-id=\"Example-of-interaction-(definitley-not-additive)-1.3\"><span class=\"toc-item-num\">1.3&nbsp;&nbsp;</span>Example of interaction (definitley not additive)</a></span></li></ul></li><li><span><a href=\"#Polynomial-Regressions\" data-toc-modified-id=\"Polynomial-Regressions-2\"><span class=\"toc-item-num\">2&nbsp;&nbsp;</span>Polynomial Regressions</a></span><ul class=\"toc-item\"><li><span><a href=\"#Making-it-more-complex!\" data-toc-modified-id=\"Making-it-more-complex!-2.1\"><span class=\"toc-item-num\">2.1&nbsp;&nbsp;</span>Making it more complex!</a></span></li><li><span><a href=\"#Discussion\" data-toc-modified-id=\"Discussion-2.2\"><span class=\"toc-item-num\">2.2&nbsp;&nbsp;</span>Discussion</a></span></li></ul></li><li><span><a href=\"#Regularization-techniques\" data-toc-modified-id=\"Regularization-techniques-3\"><span class=\"toc-item-num\">3&nbsp;&nbsp;</span>Regularization techniques</a></span><ul class=\"toc-item\"><li><span><a href=\"#Cost-Function-Previously-Used\" data-toc-modified-id=\"Cost-Function-Previously-Used-3.1\"><span class=\"toc-item-num\">3.1&nbsp;&nbsp;</span>Cost Function Previously Used</a></span></li><li><span><a href=\"#Ridge-Regression---L2-Norm-Regularization\" data-toc-modified-id=\"Ridge-Regression---L2-Norm-Regularization-3.2\"><span class=\"toc-item-num\">3.2&nbsp;&nbsp;</span>Ridge Regression - L2 Norm Regularization</a></span><ul class=\"toc-item\"><li><span><a href=\"#Uses\" data-toc-modified-id=\"Uses-3.2.1\"><span class=\"toc-item-num\">3.2.1&nbsp;&nbsp;</span>Uses</a></span></li></ul></li><li><span><a href=\"#Lasso-Regression---L1-Norm-Regularization\" data-toc-modified-id=\"Lasso-Regression---L1-Norm-Regularization-3.3\"><span class=\"toc-item-num\">3.3&nbsp;&nbsp;</span>Lasso Regression - L1 Norm Regularization</a></span><ul class=\"toc-item\"><li><span><a href=\"#Uses\" data-toc-modified-id=\"Uses-3.3.1\"><span class=\"toc-item-num\">3.3.1&nbsp;&nbsp;</span>Uses</a></span></li></ul></li></ul></li></ul></div>"
   ]
  },
  {
   "cell_type": "markdown",
   "metadata": {},
   "source": [
    "# Interactions"
   ]
  },
  {
   "cell_type": "markdown",
   "metadata": {},
   "source": [
    "When variables interact to **cause an effect** to another variable but is **not the sum of their parts**"
   ]
  },
  {
   "cell_type": "markdown",
   "metadata": {},
   "source": [
    "## Confounding factor"
   ]
  },
  {
   "cell_type": "markdown",
   "metadata": {},
   "source": [
    "![](images/diet_interaction.png)"
   ]
  },
  {
   "cell_type": "markdown",
   "metadata": {},
   "source": [
    "## Example of slight interaction (mostly additive)"
   ]
  },
  {
   "cell_type": "markdown",
   "metadata": {},
   "source": [
    "![](https://github.com/learn-co-students/dsc-2-24-03-interactions-online-ds-sp-000/raw/master/index_files/index_20_0.png)"
   ]
  },
  {
   "cell_type": "markdown",
   "metadata": {},
   "source": [
    "## Example of interaction (definitley not additive)"
   ]
  },
  {
   "cell_type": "markdown",
   "metadata": {},
   "source": [
    "![](https://github.com/learn-co-students/dsc-2-24-03-interactions-online-ds-sp-000/raw/master/index_files/index_31_0.png)"
   ]
  },
  {
   "cell_type": "markdown",
   "metadata": {},
   "source": [
    "# Polynomial Regressions"
   ]
  },
  {
   "cell_type": "markdown",
   "metadata": {},
   "source": [
    "Remember we started with (multiple) linear equation:\n",
    "\n",
    "$$ \\hat{y} = w_0 + w_1  x_1 + w_2  x_2 + ... + w_N  x_N $$\n",
    "$$ \\hat{y} = \\sum_{n=0}^{N} w_n x_n $$\n",
    "\n",
    "\n",
    "**Knowledge check:** Why is this \"linear\"?"
   ]
  },
  {
   "cell_type": "markdown",
   "metadata": {},
   "source": [
    "## Making it more complex!"
   ]
  },
  {
   "cell_type": "markdown",
   "metadata": {},
   "source": [
    "![](https://github.com/learn-co-students/dsc-2-24-05-polynomial-regression-online-ds-sp-000/raw/master/index_files/index_8_0.png)"
   ]
  },
  {
   "cell_type": "markdown",
   "metadata": {},
   "source": [
    "Imagine making this (start with just one variable):\n",
    "\n",
    "$$ \\hat{y} = \\beta_0 + \\beta_1  x + \\beta_2  x^2 + ... + \\beta_N  x^N $$\n",
    "$$ \\hat{y} = \\sum_{n=0}^{N} \\beta_n x^n $$"
   ]
  },
  {
   "cell_type": "markdown",
   "metadata": {},
   "source": [
    "![](https://github.com/learn-co-students/dsc-2-24-05-polynomial-regression-online-ds-sp-000/raw/master/index_files/index_23_0.png)"
   ]
  },
  {
   "cell_type": "markdown",
   "metadata": {},
   "source": [
    "![](https://github.com/learn-co-students/dsc-2-24-05-polynomial-regression-online-ds-sp-000/raw/master/index_files/index_28_0.png)"
   ]
  },
  {
   "cell_type": "markdown",
   "metadata": {},
   "source": [
    "For more general (multiple variables):\n",
    "\n",
    "$$ \\hat{y} = \\beta_{0,0} + \\sum_{i=0}^{N} \\beta_{1,i} x_1^i + \\sum_{i=0}^{N} \\beta_{2,i} x_2^i + ... + \\sum_{i=0}^{N} \\beta_{M,i} x_M^i$$ \n",
    "\n",
    "$$ \\hat{y} = \\sum_{i=0}^{N}\\sum_{j=0}^{M} \\beta_{j,i} x_j^i $$ "
   ]
  },
  {
   "cell_type": "markdown",
   "metadata": {},
   "source": [
    "## Discussion\n",
    "\n",
    "There is no limit on the polynomial degree\n",
    "\n",
    "- What is the $R^2$ of this complicated? Higher or lower?\n",
    "- How many should we use?\n",
    "- Are there any disadvantages to making it more complicated?"
   ]
  },
  {
   "cell_type": "markdown",
   "metadata": {
    "toc": true
   },
   "source": [
    "<h1>Table of Contents<span class=\"tocSkip\"></span></h1>\n",
    "<div class=\"toc\"><ul class=\"toc-item\"><li><span><a href=\"#Regularization-techniques\" data-toc-modified-id=\"Regularization-techniques-1\"><span class=\"toc-item-num\">1&nbsp;&nbsp;</span>Regularization techniques</a></span><ul class=\"toc-item\"><li><span><a href=\"#Cost-Function-Previously-Used\" data-toc-modified-id=\"Cost-Function-Previously-Used-1.1\"><span class=\"toc-item-num\">1.1&nbsp;&nbsp;</span>Cost Function Previously Used</a></span></li><li><span><a href=\"#Ridge-Regression---L2-Norm-Regularization\" data-toc-modified-id=\"Ridge-Regression---L2-Norm-Regularization-1.2\"><span class=\"toc-item-num\">1.2&nbsp;&nbsp;</span>Ridge Regression - L2 Norm Regularization</a></span><ul class=\"toc-item\"><li><span><a href=\"#Uses\" data-toc-modified-id=\"Uses-1.2.1\"><span class=\"toc-item-num\">1.2.1&nbsp;&nbsp;</span>Uses</a></span></li></ul></li><li><span><a href=\"#Lasso-Regression---L1-Norm-Regularization\" data-toc-modified-id=\"Lasso-Regression---L1-Norm-Regularization-1.3\"><span class=\"toc-item-num\">1.3&nbsp;&nbsp;</span>Lasso Regression - L1 Norm Regularization</a></span><ul class=\"toc-item\"><li><span><a href=\"#Uses\" data-toc-modified-id=\"Uses-1.3.1\"><span class=\"toc-item-num\">1.3.1&nbsp;&nbsp;</span>Uses</a></span></li></ul></li></ul></li></ul></div>"
   ]
  },
  {
   "cell_type": "markdown",
   "metadata": {},
   "source": [
    "# Regularization techniques"
   ]
  },
  {
   "cell_type": "markdown",
   "metadata": {},
   "source": [
    "We can \"shrink down\" prediction variables effects instead of deleting/zeroing them"
   ]
  },
  {
   "cell_type": "markdown",
   "metadata": {
    "heading_collapsed": true
   },
   "source": [
    "## Cost Function Previously Used"
   ]
  },
  {
   "cell_type": "markdown",
   "metadata": {
    "hidden": true
   },
   "source": [
    "$$ J = \\sum_{i=1}^n(y_i - \\hat{y})^2 = \\sum_{i=1}^n(y_i - \\sum_{j=1}^k(m_jx_{ij} + b))^2$$"
   ]
  },
  {
   "cell_type": "markdown",
   "metadata": {
    "heading_collapsed": true
   },
   "source": [
    "## Ridge Regression - L2 Norm Regularization"
   ]
  },
  {
   "cell_type": "markdown",
   "metadata": {
    "hidden": true
   },
   "source": [
    "Define a penalty ***hyperparameter*** $\\lambda$ for extra terms (large $m$)"
   ]
  },
  {
   "cell_type": "markdown",
   "metadata": {
    "hidden": true
   },
   "source": [
    "$$ J_{ridge}= \\sum_{i=1}^n(y_i - \\hat{y})^2 + \\lambda m_i^2= \\sum_{i=1}^n(y_i - \\sum_{j=1}^k(m_jx_{ij} + b))^2 + \\lambda \\sum_{i=1}^n m_i^2$$"
   ]
  },
  {
   "cell_type": "markdown",
   "metadata": {
    "heading_collapsed": true,
    "hidden": true
   },
   "source": [
    "### Uses"
   ]
  },
  {
   "cell_type": "markdown",
   "metadata": {
    "hidden": true
   },
   "source": [
    "Used mostly to prevent overfitting but since includes all features it can be computationally expensive (for many variables)\n",
    "\n",
    "Correlated values spread evenly on coefficients"
   ]
  },
  {
   "cell_type": "markdown",
   "metadata": {
    "heading_collapsed": true
   },
   "source": [
    "## Lasso Regression - L1 Norm Regularization\n",
    "\n",
    "\"Least Absolute Shrinkage and Selection Operator\""
   ]
  },
  {
   "cell_type": "markdown",
   "metadata": {
    "hidden": true
   },
   "source": [
    "$$ J_{ridge}= \\sum_{i=1}^n(y_i - \\hat{y})^2 + \\lambda \\mid m_i \\mid= \\sum_{i=1}^n(y_i - \\sum_{j=1}^k(m_jx_{ij} + b))^2 + \\lambda \\sum_{i=1}^n \\mid m_i \\mid$$"
   ]
  },
  {
   "cell_type": "markdown",
   "metadata": {
    "heading_collapsed": true,
    "hidden": true
   },
   "source": [
    "### Uses"
   ]
  },
  {
   "cell_type": "markdown",
   "metadata": {
    "hidden": true
   },
   "source": [
    "Useful since absolute value can be set at zero: performs estimation & selection (good for many variables) --> ***sparse solution***"
   ]
  }
 ],
 "metadata": {
  "kernelspec": {
   "display_name": "Python 3",
   "language": "python",
   "name": "python3"
  },
  "language_info": {
   "codemirror_mode": {
    "name": "ipython",
    "version": 3
   },
   "file_extension": ".py",
   "mimetype": "text/x-python",
   "name": "python",
   "nbconvert_exporter": "python",
   "pygments_lexer": "ipython3",
   "version": "3.6.9"
  },
  "toc": {
   "base_numbering": 1,
   "nav_menu": {},
   "number_sections": true,
   "sideBar": true,
   "skip_h1_title": false,
   "title_cell": "Table of Contents",
   "title_sidebar": "Contents",
   "toc_cell": true,
   "toc_position": {},
   "toc_section_display": true,
   "toc_window_display": true
  },
  "varInspector": {
   "cols": {
    "lenName": 16,
    "lenType": 16,
    "lenVar": 40
   },
   "kernels_config": {
    "python": {
     "delete_cmd_postfix": "",
     "delete_cmd_prefix": "del ",
     "library": "var_list.py",
     "varRefreshCmd": "print(var_dic_list())"
    },
    "r": {
     "delete_cmd_postfix": ") ",
     "delete_cmd_prefix": "rm(",
     "library": "var_list.r",
     "varRefreshCmd": "cat(var_dic_list()) "
    }
   },
   "types_to_exclude": [
    "module",
    "function",
    "builtin_function_or_method",
    "instance",
    "_Feature"
   ],
   "window_display": false
  }
 },
 "nbformat": 4,
 "nbformat_minor": 2
}
