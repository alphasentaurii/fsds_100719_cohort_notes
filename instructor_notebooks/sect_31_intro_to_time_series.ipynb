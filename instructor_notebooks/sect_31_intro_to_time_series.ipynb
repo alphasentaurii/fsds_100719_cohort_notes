{
 "cells": [
  {
   "cell_type": "markdown",
   "metadata": {},
   "source": [
    "# Sect 31: Intro to Time Series"
   ]
  },
  {
   "cell_type": "markdown",
   "metadata": {},
   "source": [
    "## Learning Objectives:\n",
    "- Learn how to load in timeseries data into pandas\n",
    "- Learn how to plot timeseries in pandas\n",
    "- Learn how to resample at different time frequencies\n",
    "- Learn about types of time series trends and how to remove them.\n",
    "- Learn about seasonal decomposition"
   ]
  },
  {
   "cell_type": "markdown",
   "metadata": {},
   "source": [
    " ## Questions to Revisit\n",
    " - Can you interpolate between missing datapoints?\n",
    " "
   ]
  },
  {
   "cell_type": "markdown",
   "metadata": {},
   "source": [
    "## References"
   ]
  },
  {
   "cell_type": "markdown",
   "metadata": {},
   "source": [
    "- [Pandas Timeseries Documentation](https://pandas.pydata.org/pandas-docs/stable/user_guide/timeseries.html)\n",
    "- ['Timeseries Offset Aliases'](https://pandas.pydata.org/pandas-docs/stable/user_guide/timeseries.html#timeseries-offset-aliases)\n",
    "- [Anchored Offsets](https://pandas.pydata.org/pandas-docs/stable/user_guide/timeseries.html#anchored-offsets)\n",
    "\n",
    "\n",
    "- https://pandas.pydata.org/pandas-docs/stable/reference/api/pandas.Timestamp.html"
   ]
  },
  {
   "cell_type": "markdown",
   "metadata": {},
   "source": [
    "**REFERENCE CONTENTS:**\n",
    "- Date StrFormatting\n",
    "    - Used for:\n",
    "        - Recognizing Date Formats (`pd.to_datetime`)\n",
    "        - `dt_obj.strftime()`\n",
    "        \n",
    "- Pandas Frequency Aliases\n",
    "    - Used for:\n",
    "        - `df.resample()`\n",
    "        - `df.asfreq()`\n",
    "        - ...\n",
    "        "
   ]
  },
  {
   "cell_type": "markdown",
   "metadata": {},
   "source": [
    "### Date Str Formatting\n",
    "\n"
   ]
  },
  {
   "cell_type": "markdown",
   "metadata": {},
   "source": [
    "\n",
    "Formatting follows the Python datetime <strong><a href='http://strftime.org/'>strftime</a></strong> codes.<br>\n",
    "The following examples are based on <tt>datetime.datetime(2001, 2, 3, 16, 5, 6)</tt>:\n",
    "<br><br>\n",
    "\n",
    "<table style=\"display: inline-block\">  \n",
    "<tr><th>CODE</th><th>MEANING</th><th>EXAMPLE</th><tr>\n",
    "<tr><td>%Y</td><td>Year with century as a decimal number.</td><td>2001</td></tr>\n",
    "<tr><td>%y</td><td>Year without century as a zero-padded decimal number.</td><td>01</td></tr>\n",
    "<tr><td>%m</td><td>Month as a zero-padded decimal number.</td><td>02</td></tr>\n",
    "<tr><td>%B</td><td>Month as locale’s full name.</td><td>February</td></tr>\n",
    "<tr><td>%b</td><td>Month as locale’s abbreviated name.</td><td>Feb</td></tr>\n",
    "<tr><td>%d</td><td>Day of the month as a zero-padded decimal number.</td><td>03</td></tr>  \n",
    "<tr><td>%A</td><td>Weekday as locale’s full name.</td><td>Saturday</td></tr>\n",
    "<tr><td>%a</td><td>Weekday as locale’s abbreviated name.</td><td>Sat</td></tr>\n",
    "<tr><td>%H</td><td>Hour (24-hour clock) as a zero-padded decimal number.</td><td>16</td></tr>\n",
    "<tr><td>%I</td><td>Hour (12-hour clock) as a zero-padded decimal number.</td><td>04</td></tr>\n",
    "<tr><td>%p</td><td>Locale’s equivalent of either AM or PM.</td><td>PM</td></tr>\n",
    "<tr><td>%M</td><td>Minute as a zero-padded decimal number.</td><td>05</td></tr>\n",
    "<tr><td>%S</td><td>Second as a zero-padded decimal number.</td><td>06</td></tr>\n",
    "</table>\n",
    "<table style=\"display: inline-block\">\n",
    "<tr><th>CODE</th><th>MEANING</th><th>EXAMPLE</th><tr>\n",
    "<tr><td>%#m</td><td>Month as a decimal number. (Windows)</td><td>2</td></tr>\n",
    "<tr><td>%-m</td><td>Month as a decimal number. (Mac/Linux)</td><td>2</td></tr>\n",
    "<tr><td>%#x</td><td>Long date</td><td>Saturday, February 03, 2001</td></tr>\n",
    "<tr><td>%#c</td><td>Long date and time</td><td>Saturday, February 03, 2001 16:05:06</td></tr>\n",
    "</table>  \n",
    "    "
   ]
  },
  {
   "cell_type": "markdown",
   "metadata": {},
   "source": [
    "### Pandas Frequency Aliases\n"
   ]
  },
  {
   "cell_type": "code",
   "execution_count": 12,
   "metadata": {},
   "outputs": [],
   "source": [
    "# !pip install -U fsds_100719\n",
    "# # !pip install -U scikit-learn\n",
    "\n",
    "# from fsds_100719.imports import *"
   ]
  },
  {
   "cell_type": "code",
   "execution_count": 11,
   "metadata": {},
   "outputs": [],
   "source": [
    "# # aliases = pd.read_clipboard(sep='|')\n",
    "\n",
    "# # # [aliases.drop(columns=[col],inplace=True) for col in aliases.columns if 'Unnamed' in col]\n",
    "# # aliases.drop(columns=[col for col in aliases.columns if \"Un\" in col])\n",
    "# # if aliases is not None:\n",
    "# #     aliases.to_csv('freq_aliases_.csv')\n",
    "# aliases = pd.read_csv('freq_aliases.csv')\n",
    "# aliases"
   ]
  },
  {
   "cell_type": "code",
   "execution_count": 13,
   "metadata": {},
   "outputs": [],
   "source": [
    "# aliases = pd.read_clipboard(sep='|',usecols=['Alias\\t','Description'])\n",
    "# aliases"
   ]
  },
  {
   "cell_type": "markdown",
   "metadata": {},
   "source": [
    "https://pandas.pydata.org/pandas-docs/stable/user_guide/timeseries.html#timeseries-offset-aliases\n",
    "\n",
    "\n",
    "|Alias\t| Description|\n",
    "| --- | --- |\n",
    "|B |\tbusiness day frequency|\n",
    "|C |\tcustom business day frequency|\n",
    "|D |\tcalendar day frequency|\n",
    "|W |\tweekly frequency|\n",
    "|M |\tmonth end frequency|\n",
    "|SM |\tsemi-month end frequency (15th and end of month)|\n",
    "|BM |\tbusiness month end frequency|\n",
    "|CBM |\tcustom business month end frequency|\n",
    "|MS |\tmonth start frequency|\n",
    "|SMS |\tsemi-month start frequency (1st and 15th)|\n",
    "|BMS |\tbusiness month start frequency|\n",
    "|CBMS |\tcustom business month start frequency|\n",
    "|Q |\tquarter end frequency|\n",
    "|BQ |\tbusiness quarter end frequency|\n",
    "|QS |\tquarter start frequency|\n",
    "|BQS |\tbusiness quarter start frequency|\n",
    "|A, Y |\tyear end frequency|\n",
    "|BA, BY |\tbusiness year end frequency|\n",
    "|AS, YS |\tyear start frequency|\n",
    "|BAS, BYS |\tbusiness year start frequency|\n",
    "|BH | business hour frequency|\n",
    "|H | hourly frequency|\n",
    "|T |  min\tminutely frequency|\n",
    "|S | secondly frequency|\n",
    "|L |  ms\tmilliseconds|\n",
    "|U |  us\tmicroseconds|\n",
    "|N | nanoseconds|"
   ]
  },
  {
   "cell_type": "markdown",
   "metadata": {},
   "source": [
    "# Intro to Time Series"
   ]
  },
  {
   "cell_type": "code",
   "execution_count": null,
   "metadata": {},
   "outputs": [],
   "source": [
    "df = fs.datasets.load_mod1_proj()\n",
    "df.head()"
   ]
  },
  {
   "cell_type": "code",
   "execution_count": null,
   "metadata": {},
   "outputs": [],
   "source": [
    "df.info()"
   ]
  },
  {
   "cell_type": "code",
   "execution_count": null,
   "metadata": {},
   "outputs": [],
   "source": [
    "date = pd.to_datetime(df['date'])\n",
    "date"
   ]
  },
  {
   "cell_type": "code",
   "execution_count": null,
   "metadata": {},
   "outputs": [],
   "source": [
    "df['d_date'] = pd.to_datetime(df['date'])\n",
    "display(df.head())\n",
    "df.dtypes"
   ]
  },
  {
   "cell_type": "code",
   "execution_count": null,
   "metadata": {},
   "outputs": [],
   "source": [
    "df.set_index('d_date',inplace=True)\n",
    "df.index"
   ]
  },
  {
   "cell_type": "code",
   "execution_count": null,
   "metadata": {},
   "outputs": [],
   "source": [
    "mpl.rcParams['figure.figsize'] = (12,6)"
   ]
  },
  {
   "cell_type": "code",
   "execution_count": null,
   "metadata": {},
   "outputs": [],
   "source": [
    "df['price'].plot()"
   ]
  },
  {
   "cell_type": "markdown",
   "metadata": {},
   "source": [
    "### Slicing With Time Series"
   ]
  },
  {
   "cell_type": "markdown",
   "metadata": {},
   "source": [
    "- Make sure you're index is sorted first'\n",
    "- Feed in 2 dates as strings for slicing.\n",
    "- Always use .loc when slicing dates"
   ]
  },
  {
   "cell_type": "code",
   "execution_count": null,
   "metadata": {},
   "outputs": [],
   "source": [
    "df.sort_index(inplace=True)"
   ]
  },
  {
   "cell_type": "code",
   "execution_count": null,
   "metadata": {
    "scrolled": false
   },
   "outputs": [],
   "source": [
    "df.loc['2014-05-01':'2015-05-01','price'].plot().autoscale(axis='x',tight=True)"
   ]
  },
  {
   "cell_type": "markdown",
   "metadata": {},
   "source": [
    "## Time series Frequencies\n"
   ]
  },
  {
   "cell_type": "code",
   "execution_count": null,
   "metadata": {},
   "outputs": [],
   "source": [
    "df.index"
   ]
  },
  {
   "cell_type": "code",
   "execution_count": null,
   "metadata": {},
   "outputs": [],
   "source": []
  },
  {
   "cell_type": "code",
   "execution_count": null,
   "metadata": {},
   "outputs": [],
   "source": [
    "df.index"
   ]
  },
  {
   "cell_type": "code",
   "execution_count": null,
   "metadata": {},
   "outputs": [],
   "source": [
    "ts = df['price']"
   ]
  },
  {
   "cell_type": "code",
   "execution_count": null,
   "metadata": {
    "scrolled": false
   },
   "outputs": [],
   "source": [
    "freq_codes = ['D','3D','W','M', 'Q']\n",
    "for freq in freq_codes:\n",
    "    plt.figure()\n",
    "    title=f\"Freq Code: {freq}\"\n",
    "    plt.legend()\n",
    "    ts.resample(freq).mean().plot(title=title)\n",
    "    \n",
    "ax = ts.resample('M').mean().plot(kind='bar')"
   ]
  },
  {
   "cell_type": "code",
   "execution_count": null,
   "metadata": {},
   "outputs": [],
   "source": [
    "ts.resample('D').mean().plot()"
   ]
  },
  {
   "cell_type": "markdown",
   "metadata": {},
   "source": [
    "## Using Datetime objects and apply statemements"
   ]
  },
  {
   "cell_type": "code",
   "execution_count": null,
   "metadata": {},
   "outputs": [],
   "source": [
    "display(df.head())\n",
    "df.dtypes"
   ]
  },
  {
   "cell_type": "code",
   "execution_count": null,
   "metadata": {},
   "outputs": [],
   "source": [
    "t = df.index.to_series()[0]\n",
    "display(t)\n",
    "print(t)"
   ]
  },
  {
   "cell_type": "code",
   "execution_count": null,
   "metadata": {},
   "outputs": [],
   "source": [
    "# help(t.strptime)"
   ]
  },
  {
   "cell_type": "code",
   "execution_count": null,
   "metadata": {
    "scrolled": true
   },
   "outputs": [],
   "source": [
    "print(t.strftime(\"%m-%d-%Y\"))\n",
    "print(t.strftime(\"%T\"))"
   ]
  },
  {
   "cell_type": "code",
   "execution_count": null,
   "metadata": {},
   "outputs": [],
   "source": [
    "df.index"
   ]
  },
  {
   "cell_type": "code",
   "execution_count": null,
   "metadata": {},
   "outputs": [],
   "source": [
    "df['month'] = df.index.to_series().apply(lambda x: x.month)\n",
    "df.head()\n"
   ]
  },
  {
   "cell_type": "code",
   "execution_count": null,
   "metadata": {},
   "outputs": [],
   "source": [
    "## Let's make a month column to groupby\n",
    "df['month_int'] = df.index.to_series().apply(lambda x: x.month) #x\n",
    "df['month_name'] =df.index.to_series().apply(lambda x:x.strftime(\"%B\"))\n",
    "\n",
    "for col in ['month_int','month_name']:\n",
    "    display(df[col].value_counts(normalize=True))"
   ]
  },
  {
   "cell_type": "code",
   "execution_count": null,
   "metadata": {},
   "outputs": [],
   "source": []
  },
  {
   "cell_type": "code",
   "execution_count": null,
   "metadata": {},
   "outputs": [],
   "source": []
  },
  {
   "cell_type": "code",
   "execution_count": null,
   "metadata": {},
   "outputs": [],
   "source": []
  },
  {
   "cell_type": "code",
   "execution_count": null,
   "metadata": {},
   "outputs": [],
   "source": [
    "url = \"https://en.wikipedia.org/wiki/2015_Baltimore_protests\"\n",
    "pre_riot = crime_2014.loc['2015':'2016']\n",
    "pre_riot"
   ]
  },
  {
   "cell_type": "code",
   "execution_count": null,
   "metadata": {},
   "outputs": [],
   "source": [
    "df.index.to_series().apply(lambda x: x.month)"
   ]
  },
  {
   "cell_type": "code",
   "execution_count": null,
   "metadata": {},
   "outputs": [],
   "source": []
  },
  {
   "cell_type": "code",
   "execution_count": null,
   "metadata": {},
   "outputs": [],
   "source": [
    "help(ax.xaxis.set_ticklabels)"
   ]
  },
  {
   "cell_type": "code",
   "execution_count": null,
   "metadata": {},
   "outputs": [],
   "source": [
    "fig = ax.get_figure()\n",
    "\n",
    "ax.xaxis.set_ticklabels(ax.xaxis.get_ticklabels(),**{'rotation':45,\n",
    "                                                    'ha':'right'}) \n",
    "fig"
   ]
  },
  {
   "cell_type": "code",
   "execution_count": null,
   "metadata": {},
   "outputs": [],
   "source": []
  },
  {
   "cell_type": "code",
   "execution_count": null,
   "metadata": {},
   "outputs": [],
   "source": [
    "# df.resample('D').fillna(method='ffill')"
   ]
  },
  {
   "cell_type": "code",
   "execution_count": null,
   "metadata": {},
   "outputs": [],
   "source": [
    "# df.loc['2014-05-01':]['price'].plot()#,'price']"
   ]
  },
  {
   "cell_type": "code",
   "execution_count": null,
   "metadata": {},
   "outputs": [],
   "source": [
    "# df['price'].hist(bins='auto')"
   ]
  },
  {
   "cell_type": "code",
   "execution_count": null,
   "metadata": {},
   "outputs": [],
   "source": []
  },
  {
   "cell_type": "code",
   "execution_count": null,
   "metadata": {},
   "outputs": [],
   "source": []
  },
  {
   "cell_type": "markdown",
   "metadata": {},
   "source": [
    "## Time Series Calculations\n"
   ]
  },
  {
   "cell_type": "markdown",
   "metadata": {},
   "source": [
    "### Rolling Statistics"
   ]
  },
  {
   "cell_type": "code",
   "execution_count": null,
   "metadata": {},
   "outputs": [],
   "source": [
    "ts_mean = ts.resample('D').mean()\n",
    "ts_mean.rolling(window=7).mean().head(20)\n",
    "ts_mean.plot()"
   ]
  },
  {
   "cell_type": "code",
   "execution_count": null,
   "metadata": {},
   "outputs": [],
   "source": [
    "plt.figure(figsize=(12,12))\n",
    "ts_mean = ts.resample('D').mean()\n",
    "ts_mean.plot(label='Day')\n",
    "\n",
    "ts_mean.rolling(window=7).mean().plot(label='Rolling Mean')\n",
    "ts_mean.rolling(window=7).std().plot(label='Rolling Std')\n",
    "\n",
    "plt.legend()"
   ]
  },
  {
   "cell_type": "code",
   "execution_count": null,
   "metadata": {},
   "outputs": [],
   "source": [
    "ts_mean.fillna(method='ffill',inplace=True)"
   ]
  },
  {
   "cell_type": "code",
   "execution_count": null,
   "metadata": {},
   "outputs": [],
   "source": [
    "from statsmodels.tsa.stattools import adfuller\n",
    "adfuller(ts_mean)#.fillna(method='ffill'))\n"
   ]
  },
  {
   "cell_type": "code",
   "execution_count": null,
   "metadata": {},
   "outputs": [],
   "source": [
    "## Lab Function\n",
    "def stationarity_check(TS,plot=True,col=None):\n",
    "    \"\"\"From: https://learn.co/tracks/data-science-career-v2/module-4-a-complete-data-science-project-using-multiple-regression/working-with-time-series-data/time-series-decomposition\n",
    "    \"\"\"\n",
    "    \n",
    "    # Import adfuller\n",
    "    from statsmodels.tsa.stattools import adfuller\n",
    "\n",
    "    if col is not None:\n",
    "        # Perform the Dickey Fuller Test\n",
    "        dftest = adfuller(TS[col]) # change the passengers column as required \n",
    "    else:\n",
    "        dftest=adfuller(TS)\n",
    " \n",
    "    if plot:\n",
    "        # Calculate rolling statistics\n",
    "        rolmean = TS.rolling(window = 8, center = False).mean()\n",
    "        rolstd = TS.rolling(window = 8, center = False).std()\n",
    "\n",
    "        #Plot rolling statistics:\n",
    "        fig = plt.figure(figsize=(12,6))\n",
    "        orig = plt.plot(TS, color='blue',label='Original')\n",
    "        mean = plt.plot(rolmean, color='red', label='Rolling Mean')\n",
    "        std = plt.plot(rolstd, color='black', label = 'Rolling Std')\n",
    "        plt.legend(loc='best')\n",
    "        plt.title('Rolling Mean & Standard Deviation')\n",
    "#     plt.show(block=False)\n",
    "    \n",
    "    # Print Dickey-Fuller test results\n",
    "    print ('Results of Dickey-Fuller Test:')\n",
    "\n",
    "    dfoutput = pd.Series(dftest[0:4],\n",
    "                         index=['Test Statistic','p-value','#Lags Used','Number of Observations Used'])\n",
    "    for key,value in dftest[4].items():\n",
    "        dfoutput['Critical Value (%s)'%key] = value\n",
    "        \n",
    "    dfoutput['sig'] = dfoutput['p-value']<.05\n",
    "    print (dfoutput)\n",
    "    \n",
    "    return dfoutput"
   ]
  },
  {
   "cell_type": "code",
   "execution_count": null,
   "metadata": {},
   "outputs": [],
   "source": [
    "stationarity_check(ts_mean);"
   ]
  },
  {
   "cell_type": "code",
   "execution_count": null,
   "metadata": {},
   "outputs": [],
   "source": [
    "ts_cleaned = ts_mean-ts_mean.rolling(7).mean()\n",
    "ts_mean.plot()\n",
    "ts_cleaned.plot()"
   ]
  },
  {
   "cell_type": "markdown",
   "metadata": {
    "heading_collapsed": true
   },
   "source": [
    "## Time Series Trends"
   ]
  },
  {
   "cell_type": "markdown",
   "metadata": {
    "hidden": true
   },
   "source": [
    "<img src=\"https://raw.githubusercontent.com/learn-co-students/dsc-removing-trends-online-ds-ft-100719/master/images/new_trendseasonal.png\" width=50%>"
   ]
  },
  {
   "cell_type": "markdown",
   "metadata": {
    "heading_collapsed": true,
    "hidden": true
   },
   "source": [
    "### Stationarity"
   ]
  },
  {
   "cell_type": "markdown",
   "metadata": {
    "hidden": true
   },
   "source": [
    "<div style=\"text-align:center;font-size:2em\">Mean</div>\n",
    "    \n",
    "<img src=\"https://raw.githubusercontent.com/jirvingphd/dsc-types-of-trends-online-ds-ft-100719/master/images/new_mean_nonstationary.png\" width=70%>\n",
    "<br><br>\n",
    "<div style=\"text-align:center;font-size:3em\">Variance</div>\n",
    "<img src=\"https://raw.githubusercontent.com/jirvingphd/dsc-types-of-trends-online-ds-ft-100719/master/images/new_cov_nonstationary.png\" width=70%>\n",
    "</div>"
   ]
  },
  {
   "cell_type": "markdown",
   "metadata": {
    "hidden": true
   },
   "source": [
    "### Types of Trends"
   ]
  },
  {
   "cell_type": "markdown",
   "metadata": {
    "hidden": true
   },
   "source": [
    "\n",
    "- https://learn.co/tracks/data-science-career-v2/module-4-a-complete-data-science-project-using-multiple-regression/working-with-time-series-data/types-of-trends"
   ]
  },
  {
   "cell_type": "markdown",
   "metadata": {
    "hidden": true
   },
   "source": [
    "### Removing Trends \n",
    "- .diff()\n",
    "- subtract rolling mean\n",
    "- seasonal decomposition"
   ]
  },
  {
   "cell_type": "code",
   "execution_count": null,
   "metadata": {
    "hidden": true
   },
   "outputs": [],
   "source": []
  },
  {
   "cell_type": "markdown",
   "metadata": {
    "heading_collapsed": true
   },
   "source": [
    "## New ts datasets to test"
   ]
  },
  {
   "cell_type": "code",
   "execution_count": null,
   "metadata": {
    "hidden": true
   },
   "outputs": [],
   "source": [
    "# baltimore_crime =\"https://raw.githubusercontent.com/jirvingphd/fsds_100719/master/fsds_100719/data/BPD_Part_1_Victim_Based_Crime_Data.csv\"\n",
    "# std_rates = \"https://raw.githubusercontent.com/jirvingphd/fsds_100719/master/fsds_100719/data/STD%20Cases.csv\"\n",
    "# no_sex_xlsx = \"https://raw.githubusercontent.com/jirvingphd/fsds_100719/master/fsds_100719/data/Americans%20Sex%20Frequency.xlsx\"\n",
    "\n",
    "learn_passengers=\"https://raw.githubusercontent.com/learn-co-students/dsc-removing-trends-lab-online-ds-ft-100719/master/passengers.csv\""
   ]
  },
  {
   "cell_type": "markdown",
   "metadata": {},
   "source": [
    "## Baltimore Crime"
   ]
  },
  {
   "cell_type": "code",
   "execution_count": 16,
   "metadata": {},
   "outputs": [
    {
     "data": {
      "text/html": [
       "<div>\n",
       "<style scoped>\n",
       "    .dataframe tbody tr th:only-of-type {\n",
       "        vertical-align: middle;\n",
       "    }\n",
       "\n",
       "    .dataframe tbody tr th {\n",
       "        vertical-align: top;\n",
       "    }\n",
       "\n",
       "    .dataframe thead th {\n",
       "        text-align: right;\n",
       "    }\n",
       "</style>\n",
       "<table border=\"1\" class=\"dataframe\">\n",
       "  <thead>\n",
       "    <tr style=\"text-align: right;\">\n",
       "      <th></th>\n",
       "      <th>CrimeDate</th>\n",
       "      <th>CrimeTime</th>\n",
       "      <th>CrimeCode</th>\n",
       "      <th>Location</th>\n",
       "      <th>Description</th>\n",
       "      <th>Inside/Outside</th>\n",
       "      <th>Weapon</th>\n",
       "      <th>Post</th>\n",
       "      <th>District</th>\n",
       "      <th>Neighborhood</th>\n",
       "      <th>Longitude</th>\n",
       "      <th>Latitude</th>\n",
       "      <th>Location 1</th>\n",
       "      <th>Premise</th>\n",
       "      <th>vri_name1</th>\n",
       "      <th>Total Incidents</th>\n",
       "    </tr>\n",
       "  </thead>\n",
       "  <tbody>\n",
       "    <tr>\n",
       "      <td>0</td>\n",
       "      <td>12/14/2019</td>\n",
       "      <td>00:26:00</td>\n",
       "      <td>1A</td>\n",
       "      <td>2400 W BELVEDERE AV</td>\n",
       "      <td>HOMICIDE</td>\n",
       "      <td>Outside</td>\n",
       "      <td>FIREARM</td>\n",
       "      <td>532</td>\n",
       "      <td>NORTHERN</td>\n",
       "      <td>LEVINDALE</td>\n",
       "      <td>-77.0</td>\n",
       "      <td>39.0</td>\n",
       "      <td>NaN</td>\n",
       "      <td>HOSPITAL</td>\n",
       "      <td>NaN</td>\n",
       "      <td>1</td>\n",
       "    </tr>\n",
       "    <tr>\n",
       "      <td>1</td>\n",
       "      <td>12/14/2019</td>\n",
       "      <td>07:30:00</td>\n",
       "      <td>3B</td>\n",
       "      <td>600 S MONROE ST</td>\n",
       "      <td>ROBBERY - STREET</td>\n",
       "      <td>O</td>\n",
       "      <td>NaN</td>\n",
       "      <td>934</td>\n",
       "      <td>SOUTHERN</td>\n",
       "      <td>CARROLLTON RIDGE</td>\n",
       "      <td>-77.0</td>\n",
       "      <td>39.0</td>\n",
       "      <td>NaN</td>\n",
       "      <td>STREET</td>\n",
       "      <td>NaN</td>\n",
       "      <td>1</td>\n",
       "    </tr>\n",
       "    <tr>\n",
       "      <td>2</td>\n",
       "      <td>12/14/2019</td>\n",
       "      <td>14:30:00</td>\n",
       "      <td>3JK</td>\n",
       "      <td>3000 E MONUMENT ST</td>\n",
       "      <td>ROBBERY - RESIDENCE</td>\n",
       "      <td>I</td>\n",
       "      <td>KNIFE</td>\n",
       "      <td>333</td>\n",
       "      <td>EASTERN</td>\n",
       "      <td>ELLWOOD PARK/MONUMEN</td>\n",
       "      <td>-77.0</td>\n",
       "      <td>39.0</td>\n",
       "      <td>NaN</td>\n",
       "      <td>ROW/TOWNHOUSE-OCC</td>\n",
       "      <td>NaN</td>\n",
       "      <td>1</td>\n",
       "    </tr>\n",
       "    <tr>\n",
       "      <td>3</td>\n",
       "      <td>12/14/2019</td>\n",
       "      <td>14:15:00</td>\n",
       "      <td>4A</td>\n",
       "      <td>1100 MCCULLOH ST</td>\n",
       "      <td>AGG. ASSAULT</td>\n",
       "      <td>O</td>\n",
       "      <td>FIREARM</td>\n",
       "      <td>123</td>\n",
       "      <td>CENTRAL</td>\n",
       "      <td>LOWER HERRING RUN PARK</td>\n",
       "      <td>-77.0</td>\n",
       "      <td>39.0</td>\n",
       "      <td>NaN</td>\n",
       "      <td>STREET</td>\n",
       "      <td>NaN</td>\n",
       "      <td>1</td>\n",
       "    </tr>\n",
       "    <tr>\n",
       "      <td>4</td>\n",
       "      <td>12/14/2019</td>\n",
       "      <td>04:03:00</td>\n",
       "      <td>5E</td>\n",
       "      <td>400 E BELVEDERE AVE</td>\n",
       "      <td>BURGLARY</td>\n",
       "      <td>O</td>\n",
       "      <td>NaN</td>\n",
       "      <td>523</td>\n",
       "      <td>NORTHERN</td>\n",
       "      <td>ROSEBANK</td>\n",
       "      <td>-77.0</td>\n",
       "      <td>39.0</td>\n",
       "      <td>NaN</td>\n",
       "      <td>OTHER - OUTSIDE</td>\n",
       "      <td>NaN</td>\n",
       "      <td>1</td>\n",
       "    </tr>\n",
       "  </tbody>\n",
       "</table>\n",
       "</div>"
      ],
      "text/plain": [
       "    CrimeDate CrimeTime CrimeCode             Location          Description  \\\n",
       "0  12/14/2019  00:26:00        1A  2400 W BELVEDERE AV             HOMICIDE   \n",
       "1  12/14/2019  07:30:00        3B      600 S MONROE ST     ROBBERY - STREET   \n",
       "2  12/14/2019  14:30:00       3JK   3000 E MONUMENT ST  ROBBERY - RESIDENCE   \n",
       "3  12/14/2019  14:15:00        4A     1100 MCCULLOH ST         AGG. ASSAULT   \n",
       "4  12/14/2019  04:03:00        5E  400 E BELVEDERE AVE             BURGLARY   \n",
       "\n",
       "  Inside/Outside   Weapon Post  District            Neighborhood  Longitude  \\\n",
       "0        Outside  FIREARM  532  NORTHERN               LEVINDALE      -77.0   \n",
       "1              O      NaN  934  SOUTHERN        CARROLLTON RIDGE      -77.0   \n",
       "2              I    KNIFE  333   EASTERN    ELLWOOD PARK/MONUMEN      -77.0   \n",
       "3              O  FIREARM  123   CENTRAL  LOWER HERRING RUN PARK      -77.0   \n",
       "4              O      NaN  523  NORTHERN                ROSEBANK      -77.0   \n",
       "\n",
       "   Latitude  Location 1            Premise vri_name1  Total Incidents  \n",
       "0      39.0         NaN           HOSPITAL       NaN                1  \n",
       "1      39.0         NaN             STREET       NaN                1  \n",
       "2      39.0         NaN  ROW/TOWNHOUSE-OCC       NaN                1  \n",
       "3      39.0         NaN             STREET       NaN                1  \n",
       "4      39.0         NaN    OTHER - OUTSIDE       NaN                1  "
      ]
     },
     "execution_count": 16,
     "metadata": {},
     "output_type": "execute_result"
    }
   ],
   "source": [
    "baltimore_crime =\"https://raw.githubusercontent.com/jirvingphd/fsds_100719/master/fsds_100719/data/BPD_Part_1_Victim_Based_Crime_Data.csv\"\n",
    "df = pd.read_csv(baltimore_crime,low_memory=False,parse_dates=True)\n",
    "df.head()"
   ]
  },
  {
   "cell_type": "code",
   "execution_count": 28,
   "metadata": {},
   "outputs": [
    {
     "data": {
      "text/plain": [
       "<matplotlib.axes._subplots.AxesSubplot at 0x1317cb630>"
      ]
     },
     "execution_count": 28,
     "metadata": {},
     "output_type": "execute_result"
    },
    {
     "data": {
      "image/png": "[encoded data removed]",
      "text/plain": [
       "<Figure size 864x504 with 1 Axes>"
      ]
     },
     "metadata": {
      "needs_background": "light"
     },
     "output_type": "display_data"
    }
   ],
   "source": [
    "plot_kws= {'title':'Most Prevalent Crime Types','figsize':(12,7)}#,\n",
    "df[\"Description\"].value_counts(ascending=True,\n",
    "                              normalize=True).plot(kind='barh',**plot_kws)"
   ]
  },
  {
   "cell_type": "code",
   "execution_count": 29,
   "metadata": {},
   "outputs": [],
   "source": [
    "df['date'] = pd.to_datetime(df['CrimeDate'])\n",
    "df.set_index('date',inplace=True)"
   ]
  },
  {
   "cell_type": "code",
   "execution_count": 30,
   "metadata": {},
   "outputs": [
    {
     "data": {
      "text/html": [
       "<div>\n",
       "<style scoped>\n",
       "    .dataframe tbody tr th:only-of-type {\n",
       "        vertical-align: middle;\n",
       "    }\n",
       "\n",
       "    .dataframe tbody tr th {\n",
       "        vertical-align: top;\n",
       "    }\n",
       "\n",
       "    .dataframe thead th {\n",
       "        text-align: right;\n",
       "    }\n",
       "</style>\n",
       "<table border=\"1\" class=\"dataframe\">\n",
       "  <thead>\n",
       "    <tr style=\"text-align: right;\">\n",
       "      <th></th>\n",
       "      <th>CrimeDate</th>\n",
       "      <th>CrimeTime</th>\n",
       "      <th>CrimeCode</th>\n",
       "      <th>Location</th>\n",
       "      <th>Description</th>\n",
       "      <th>Inside/Outside</th>\n",
       "      <th>Weapon</th>\n",
       "      <th>Post</th>\n",
       "      <th>District</th>\n",
       "      <th>Neighborhood</th>\n",
       "      <th>Longitude</th>\n",
       "      <th>Latitude</th>\n",
       "      <th>Location 1</th>\n",
       "      <th>Premise</th>\n",
       "      <th>vri_name1</th>\n",
       "      <th>Total Incidents</th>\n",
       "    </tr>\n",
       "    <tr>\n",
       "      <th>date</th>\n",
       "      <th></th>\n",
       "      <th></th>\n",
       "      <th></th>\n",
       "      <th></th>\n",
       "      <th></th>\n",
       "      <th></th>\n",
       "      <th></th>\n",
       "      <th></th>\n",
       "      <th></th>\n",
       "      <th></th>\n",
       "      <th></th>\n",
       "      <th></th>\n",
       "      <th></th>\n",
       "      <th></th>\n",
       "      <th></th>\n",
       "      <th></th>\n",
       "    </tr>\n",
       "  </thead>\n",
       "  <tbody>\n",
       "    <tr>\n",
       "      <td>2019-12-14</td>\n",
       "      <td>12/14/2019</td>\n",
       "      <td>00:26:00</td>\n",
       "      <td>1A</td>\n",
       "      <td>2400 W BELVEDERE AV</td>\n",
       "      <td>HOMICIDE</td>\n",
       "      <td>Outside</td>\n",
       "      <td>FIREARM</td>\n",
       "      <td>532</td>\n",
       "      <td>NORTHERN</td>\n",
       "      <td>LEVINDALE</td>\n",
       "      <td>-77.0</td>\n",
       "      <td>39.0</td>\n",
       "      <td>NaN</td>\n",
       "      <td>HOSPITAL</td>\n",
       "      <td>NaN</td>\n",
       "      <td>1</td>\n",
       "    </tr>\n",
       "    <tr>\n",
       "      <td>2019-12-14</td>\n",
       "      <td>12/14/2019</td>\n",
       "      <td>07:30:00</td>\n",
       "      <td>3B</td>\n",
       "      <td>600 S MONROE ST</td>\n",
       "      <td>ROBBERY - STREET</td>\n",
       "      <td>O</td>\n",
       "      <td>NaN</td>\n",
       "      <td>934</td>\n",
       "      <td>SOUTHERN</td>\n",
       "      <td>CARROLLTON RIDGE</td>\n",
       "      <td>-77.0</td>\n",
       "      <td>39.0</td>\n",
       "      <td>NaN</td>\n",
       "      <td>STREET</td>\n",
       "      <td>NaN</td>\n",
       "      <td>1</td>\n",
       "    </tr>\n",
       "    <tr>\n",
       "      <td>2019-12-14</td>\n",
       "      <td>12/14/2019</td>\n",
       "      <td>14:30:00</td>\n",
       "      <td>3JK</td>\n",
       "      <td>3000 E MONUMENT ST</td>\n",
       "      <td>ROBBERY - RESIDENCE</td>\n",
       "      <td>I</td>\n",
       "      <td>KNIFE</td>\n",
       "      <td>333</td>\n",
       "      <td>EASTERN</td>\n",
       "      <td>ELLWOOD PARK/MONUMEN</td>\n",
       "      <td>-77.0</td>\n",
       "      <td>39.0</td>\n",
       "      <td>NaN</td>\n",
       "      <td>ROW/TOWNHOUSE-OCC</td>\n",
       "      <td>NaN</td>\n",
       "      <td>1</td>\n",
       "    </tr>\n",
       "    <tr>\n",
       "      <td>2019-12-14</td>\n",
       "      <td>12/14/2019</td>\n",
       "      <td>14:15:00</td>\n",
       "      <td>4A</td>\n",
       "      <td>1100 MCCULLOH ST</td>\n",
       "      <td>AGG. ASSAULT</td>\n",
       "      <td>O</td>\n",
       "      <td>FIREARM</td>\n",
       "      <td>123</td>\n",
       "      <td>CENTRAL</td>\n",
       "      <td>LOWER HERRING RUN PARK</td>\n",
       "      <td>-77.0</td>\n",
       "      <td>39.0</td>\n",
       "      <td>NaN</td>\n",
       "      <td>STREET</td>\n",
       "      <td>NaN</td>\n",
       "      <td>1</td>\n",
       "    </tr>\n",
       "    <tr>\n",
       "      <td>2019-12-14</td>\n",
       "      <td>12/14/2019</td>\n",
       "      <td>04:03:00</td>\n",
       "      <td>5E</td>\n",
       "      <td>400 E BELVEDERE AVE</td>\n",
       "      <td>BURGLARY</td>\n",
       "      <td>O</td>\n",
       "      <td>NaN</td>\n",
       "      <td>523</td>\n",
       "      <td>NORTHERN</td>\n",
       "      <td>ROSEBANK</td>\n",
       "      <td>-77.0</td>\n",
       "      <td>39.0</td>\n",
       "      <td>NaN</td>\n",
       "      <td>OTHER - OUTSIDE</td>\n",
       "      <td>NaN</td>\n",
       "      <td>1</td>\n",
       "    </tr>\n",
       "    <tr>\n",
       "      <td>...</td>\n",
       "      <td>...</td>\n",
       "      <td>...</td>\n",
       "      <td>...</td>\n",
       "      <td>...</td>\n",
       "      <td>...</td>\n",
       "      <td>...</td>\n",
       "      <td>...</td>\n",
       "      <td>...</td>\n",
       "      <td>...</td>\n",
       "      <td>...</td>\n",
       "      <td>...</td>\n",
       "      <td>...</td>\n",
       "      <td>...</td>\n",
       "      <td>...</td>\n",
       "      <td>...</td>\n",
       "      <td>...</td>\n",
       "    </tr>\n",
       "    <tr>\n",
       "      <td>1978-01-01</td>\n",
       "      <td>01/01/1978</td>\n",
       "      <td>10:30:00</td>\n",
       "      <td>2A</td>\n",
       "      <td>1900 ARGONNE DR</td>\n",
       "      <td>RAPE</td>\n",
       "      <td>I</td>\n",
       "      <td>OTHER</td>\n",
       "      <td>421</td>\n",
       "      <td>NORTHEAST</td>\n",
       "      <td>MORGAN STATE UNIVERS</td>\n",
       "      <td>-77.0</td>\n",
       "      <td>39.0</td>\n",
       "      <td>NaN</td>\n",
       "      <td>ROW/TOWNHOUSE-OCC</td>\n",
       "      <td>NaN</td>\n",
       "      <td>1</td>\n",
       "    </tr>\n",
       "    <tr>\n",
       "      <td>1977-05-01</td>\n",
       "      <td>05/01/1977</td>\n",
       "      <td>00:01:00</td>\n",
       "      <td>2A</td>\n",
       "      <td>600 W 34TH ST</td>\n",
       "      <td>RAPE</td>\n",
       "      <td>I</td>\n",
       "      <td>OTHER</td>\n",
       "      <td>531</td>\n",
       "      <td>NORTHERN</td>\n",
       "      <td>WYMAN PARK</td>\n",
       "      <td>-77.0</td>\n",
       "      <td>39.0</td>\n",
       "      <td>NaN</td>\n",
       "      <td>ROW/TOWNHOUSE-OCC</td>\n",
       "      <td>NaN</td>\n",
       "      <td>1</td>\n",
       "    </tr>\n",
       "    <tr>\n",
       "      <td>1975-06-01</td>\n",
       "      <td>06/01/1975</td>\n",
       "      <td>00:00:00</td>\n",
       "      <td>2A</td>\n",
       "      <td>4400 OLD FREDERICK RD</td>\n",
       "      <td>RAPE</td>\n",
       "      <td>I</td>\n",
       "      <td>OTHER</td>\n",
       "      <td>822</td>\n",
       "      <td>SOUTHWEST</td>\n",
       "      <td>UPLANDS</td>\n",
       "      <td>-77.0</td>\n",
       "      <td>39.0</td>\n",
       "      <td>NaN</td>\n",
       "      <td>OTHER - INSIDE</td>\n",
       "      <td>NaN</td>\n",
       "      <td>1</td>\n",
       "    </tr>\n",
       "    <tr>\n",
       "      <td>1969-07-20</td>\n",
       "      <td>07/20/1969</td>\n",
       "      <td>21:00:00</td>\n",
       "      <td>2A</td>\n",
       "      <td>5400 ROLAND AVE</td>\n",
       "      <td>RAPE</td>\n",
       "      <td>NaN</td>\n",
       "      <td>OTHER</td>\n",
       "      <td>534</td>\n",
       "      <td>NORTHERN</td>\n",
       "      <td>ROLAND PARK</td>\n",
       "      <td>-77.0</td>\n",
       "      <td>39.0</td>\n",
       "      <td>NaN</td>\n",
       "      <td>NaN</td>\n",
       "      <td>NaN</td>\n",
       "      <td>1</td>\n",
       "    </tr>\n",
       "    <tr>\n",
       "      <td>1963-10-30</td>\n",
       "      <td>10/30/1963</td>\n",
       "      <td>00:00:00</td>\n",
       "      <td>2A</td>\n",
       "      <td>3100 FERNDALE AVE</td>\n",
       "      <td>RAPE</td>\n",
       "      <td>I</td>\n",
       "      <td>OTHER</td>\n",
       "      <td>622</td>\n",
       "      <td>NORTHWEST</td>\n",
       "      <td>HOWARD PARK</td>\n",
       "      <td>-77.0</td>\n",
       "      <td>39.0</td>\n",
       "      <td>NaN</td>\n",
       "      <td>ROW/TOWNHOUSE-OCC</td>\n",
       "      <td>NaN</td>\n",
       "      <td>1</td>\n",
       "    </tr>\n",
       "  </tbody>\n",
       "</table>\n",
       "<p>286609 rows × 16 columns</p>\n",
       "</div>"
      ],
      "text/plain": [
       "             CrimeDate CrimeTime CrimeCode               Location  \\\n",
       "date                                                                \n",
       "2019-12-14  12/14/2019  00:26:00        1A    2400 W BELVEDERE AV   \n",
       "2019-12-14  12/14/2019  07:30:00        3B        600 S MONROE ST   \n",
       "2019-12-14  12/14/2019  14:30:00       3JK     3000 E MONUMENT ST   \n",
       "2019-12-14  12/14/2019  14:15:00        4A       1100 MCCULLOH ST   \n",
       "2019-12-14  12/14/2019  04:03:00        5E    400 E BELVEDERE AVE   \n",
       "...                ...       ...       ...                    ...   \n",
       "1978-01-01  01/01/1978  10:30:00        2A        1900 ARGONNE DR   \n",
       "1977-05-01  05/01/1977  00:01:00        2A          600 W 34TH ST   \n",
       "1975-06-01  06/01/1975  00:00:00        2A  4400 OLD FREDERICK RD   \n",
       "1969-07-20  07/20/1969  21:00:00        2A        5400 ROLAND AVE   \n",
       "1963-10-30  10/30/1963  00:00:00        2A      3100 FERNDALE AVE   \n",
       "\n",
       "                    Description Inside/Outside   Weapon Post   District  \\\n",
       "date                                                                      \n",
       "2019-12-14             HOMICIDE        Outside  FIREARM  532   NORTHERN   \n",
       "2019-12-14     ROBBERY - STREET              O      NaN  934   SOUTHERN   \n",
       "2019-12-14  ROBBERY - RESIDENCE              I    KNIFE  333    EASTERN   \n",
       "2019-12-14         AGG. ASSAULT              O  FIREARM  123    CENTRAL   \n",
       "2019-12-14             BURGLARY              O      NaN  523   NORTHERN   \n",
       "...                         ...            ...      ...  ...        ...   \n",
       "1978-01-01                 RAPE              I    OTHER  421  NORTHEAST   \n",
       "1977-05-01                 RAPE              I    OTHER  531   NORTHERN   \n",
       "1975-06-01                 RAPE              I    OTHER  822  SOUTHWEST   \n",
       "1969-07-20                 RAPE            NaN    OTHER  534   NORTHERN   \n",
       "1963-10-30                 RAPE              I    OTHER  622  NORTHWEST   \n",
       "\n",
       "                      Neighborhood  Longitude  Latitude  Location 1  \\\n",
       "date                                                                  \n",
       "2019-12-14               LEVINDALE      -77.0      39.0         NaN   \n",
       "2019-12-14        CARROLLTON RIDGE      -77.0      39.0         NaN   \n",
       "2019-12-14    ELLWOOD PARK/MONUMEN      -77.0      39.0         NaN   \n",
       "2019-12-14  LOWER HERRING RUN PARK      -77.0      39.0         NaN   \n",
       "2019-12-14                ROSEBANK      -77.0      39.0         NaN   \n",
       "...                            ...        ...       ...         ...   \n",
       "1978-01-01    MORGAN STATE UNIVERS      -77.0      39.0         NaN   \n",
       "1977-05-01              WYMAN PARK      -77.0      39.0         NaN   \n",
       "1975-06-01                 UPLANDS      -77.0      39.0         NaN   \n",
       "1969-07-20             ROLAND PARK      -77.0      39.0         NaN   \n",
       "1963-10-30             HOWARD PARK      -77.0      39.0         NaN   \n",
       "\n",
       "                      Premise vri_name1  Total Incidents  \n",
       "date                                                      \n",
       "2019-12-14           HOSPITAL       NaN                1  \n",
       "2019-12-14             STREET       NaN                1  \n",
       "2019-12-14  ROW/TOWNHOUSE-OCC       NaN                1  \n",
       "2019-12-14             STREET       NaN                1  \n",
       "2019-12-14    OTHER - OUTSIDE       NaN                1  \n",
       "...                       ...       ...              ...  \n",
       "1978-01-01  ROW/TOWNHOUSE-OCC       NaN                1  \n",
       "1977-05-01  ROW/TOWNHOUSE-OCC       NaN                1  \n",
       "1975-06-01     OTHER - INSIDE       NaN                1  \n",
       "1969-07-20                NaN       NaN                1  \n",
       "1963-10-30  ROW/TOWNHOUSE-OCC       NaN                1  \n",
       "\n",
       "[286609 rows x 16 columns]"
      ]
     },
     "execution_count": 30,
     "metadata": {},
     "output_type": "execute_result"
    }
   ],
   "source": [
    "df"
   ]
  },
  {
   "cell_type": "markdown",
   "metadata": {},
   "source": [
    "## Getting Dummies of Crime Types for Counts"
   ]
  },
  {
   "cell_type": "code",
   "execution_count": 59,
   "metadata": {},
   "outputs": [
    {
     "data": {
      "text/html": [
       "<div>\n",
       "<style scoped>\n",
       "    .dataframe tbody tr th:only-of-type {\n",
       "        vertical-align: middle;\n",
       "    }\n",
       "\n",
       "    .dataframe tbody tr th {\n",
       "        vertical-align: top;\n",
       "    }\n",
       "\n",
       "    .dataframe thead th {\n",
       "        text-align: right;\n",
       "    }\n",
       "</style>\n",
       "<table border=\"1\" class=\"dataframe\">\n",
       "  <thead>\n",
       "    <tr style=\"text-align: right;\">\n",
       "      <th></th>\n",
       "      <th>CrimeDate</th>\n",
       "      <th>CrimeTime</th>\n",
       "      <th>CrimeCode</th>\n",
       "      <th>Location</th>\n",
       "      <th>Inside/Outside</th>\n",
       "      <th>Weapon</th>\n",
       "      <th>Post</th>\n",
       "      <th>District</th>\n",
       "      <th>Neighborhood</th>\n",
       "      <th>Longitude</th>\n",
       "      <th>...</th>\n",
       "      <th>COMMON ASSAULT</th>\n",
       "      <th>HOMICIDE</th>\n",
       "      <th>LARCENY</th>\n",
       "      <th>LARCENY FROM AUTO</th>\n",
       "      <th>RAPE</th>\n",
       "      <th>ROBBERY - CARJACKING</th>\n",
       "      <th>ROBBERY - COMMERCIAL</th>\n",
       "      <th>ROBBERY - RESIDENCE</th>\n",
       "      <th>ROBBERY - STREET</th>\n",
       "      <th>SHOOTING</th>\n",
       "    </tr>\n",
       "    <tr>\n",
       "      <th>date</th>\n",
       "      <th></th>\n",
       "      <th></th>\n",
       "      <th></th>\n",
       "      <th></th>\n",
       "      <th></th>\n",
       "      <th></th>\n",
       "      <th></th>\n",
       "      <th></th>\n",
       "      <th></th>\n",
       "      <th></th>\n",
       "      <th></th>\n",
       "      <th></th>\n",
       "      <th></th>\n",
       "      <th></th>\n",
       "      <th></th>\n",
       "      <th></th>\n",
       "      <th></th>\n",
       "      <th></th>\n",
       "      <th></th>\n",
       "      <th></th>\n",
       "      <th></th>\n",
       "    </tr>\n",
       "  </thead>\n",
       "  <tbody>\n",
       "    <tr>\n",
       "      <td>2019-12-14</td>\n",
       "      <td>12/14/2019</td>\n",
       "      <td>00:26:00</td>\n",
       "      <td>1A</td>\n",
       "      <td>2400 W BELVEDERE AV</td>\n",
       "      <td>Outside</td>\n",
       "      <td>FIREARM</td>\n",
       "      <td>532</td>\n",
       "      <td>NORTHERN</td>\n",
       "      <td>LEVINDALE</td>\n",
       "      <td>-77.0</td>\n",
       "      <td>...</td>\n",
       "      <td>0</td>\n",
       "      <td>1</td>\n",
       "      <td>0</td>\n",
       "      <td>0</td>\n",
       "      <td>0</td>\n",
       "      <td>0</td>\n",
       "      <td>0</td>\n",
       "      <td>0</td>\n",
       "      <td>0</td>\n",
       "      <td>0</td>\n",
       "    </tr>\n",
       "    <tr>\n",
       "      <td>2019-12-14</td>\n",
       "      <td>12/14/2019</td>\n",
       "      <td>07:30:00</td>\n",
       "      <td>3B</td>\n",
       "      <td>600 S MONROE ST</td>\n",
       "      <td>O</td>\n",
       "      <td>NaN</td>\n",
       "      <td>934</td>\n",
       "      <td>SOUTHERN</td>\n",
       "      <td>CARROLLTON RIDGE</td>\n",
       "      <td>-77.0</td>\n",
       "      <td>...</td>\n",
       "      <td>0</td>\n",
       "      <td>0</td>\n",
       "      <td>0</td>\n",
       "      <td>0</td>\n",
       "      <td>0</td>\n",
       "      <td>0</td>\n",
       "      <td>0</td>\n",
       "      <td>0</td>\n",
       "      <td>1</td>\n",
       "      <td>0</td>\n",
       "    </tr>\n",
       "    <tr>\n",
       "      <td>2019-12-14</td>\n",
       "      <td>12/14/2019</td>\n",
       "      <td>14:30:00</td>\n",
       "      <td>3JK</td>\n",
       "      <td>3000 E MONUMENT ST</td>\n",
       "      <td>I</td>\n",
       "      <td>KNIFE</td>\n",
       "      <td>333</td>\n",
       "      <td>EASTERN</td>\n",
       "      <td>ELLWOOD PARK/MONUMEN</td>\n",
       "      <td>-77.0</td>\n",
       "      <td>...</td>\n",
       "      <td>0</td>\n",
       "      <td>0</td>\n",
       "      <td>0</td>\n",
       "      <td>0</td>\n",
       "      <td>0</td>\n",
       "      <td>0</td>\n",
       "      <td>0</td>\n",
       "      <td>1</td>\n",
       "      <td>0</td>\n",
       "      <td>0</td>\n",
       "    </tr>\n",
       "    <tr>\n",
       "      <td>2019-12-14</td>\n",
       "      <td>12/14/2019</td>\n",
       "      <td>14:15:00</td>\n",
       "      <td>4A</td>\n",
       "      <td>1100 MCCULLOH ST</td>\n",
       "      <td>O</td>\n",
       "      <td>FIREARM</td>\n",
       "      <td>123</td>\n",
       "      <td>CENTRAL</td>\n",
       "      <td>LOWER HERRING RUN PARK</td>\n",
       "      <td>-77.0</td>\n",
       "      <td>...</td>\n",
       "      <td>0</td>\n",
       "      <td>0</td>\n",
       "      <td>0</td>\n",
       "      <td>0</td>\n",
       "      <td>0</td>\n",
       "      <td>0</td>\n",
       "      <td>0</td>\n",
       "      <td>0</td>\n",
       "      <td>0</td>\n",
       "      <td>0</td>\n",
       "    </tr>\n",
       "    <tr>\n",
       "      <td>2019-12-14</td>\n",
       "      <td>12/14/2019</td>\n",
       "      <td>04:03:00</td>\n",
       "      <td>5E</td>\n",
       "      <td>400 E BELVEDERE AVE</td>\n",
       "      <td>O</td>\n",
       "      <td>NaN</td>\n",
       "      <td>523</td>\n",
       "      <td>NORTHERN</td>\n",
       "      <td>ROSEBANK</td>\n",
       "      <td>-77.0</td>\n",
       "      <td>...</td>\n",
       "      <td>0</td>\n",
       "      <td>0</td>\n",
       "      <td>0</td>\n",
       "      <td>0</td>\n",
       "      <td>0</td>\n",
       "      <td>0</td>\n",
       "      <td>0</td>\n",
       "      <td>0</td>\n",
       "      <td>0</td>\n",
       "      <td>0</td>\n",
       "    </tr>\n",
       "    <tr>\n",
       "      <td>...</td>\n",
       "      <td>...</td>\n",
       "      <td>...</td>\n",
       "      <td>...</td>\n",
       "      <td>...</td>\n",
       "      <td>...</td>\n",
       "      <td>...</td>\n",
       "      <td>...</td>\n",
       "      <td>...</td>\n",
       "      <td>...</td>\n",
       "      <td>...</td>\n",
       "      <td>...</td>\n",
       "      <td>...</td>\n",
       "      <td>...</td>\n",
       "      <td>...</td>\n",
       "      <td>...</td>\n",
       "      <td>...</td>\n",
       "      <td>...</td>\n",
       "      <td>...</td>\n",
       "      <td>...</td>\n",
       "      <td>...</td>\n",
       "      <td>...</td>\n",
       "    </tr>\n",
       "    <tr>\n",
       "      <td>1978-01-01</td>\n",
       "      <td>01/01/1978</td>\n",
       "      <td>10:30:00</td>\n",
       "      <td>2A</td>\n",
       "      <td>1900 ARGONNE DR</td>\n",
       "      <td>I</td>\n",
       "      <td>OTHER</td>\n",
       "      <td>421</td>\n",
       "      <td>NORTHEAST</td>\n",
       "      <td>MORGAN STATE UNIVERS</td>\n",
       "      <td>-77.0</td>\n",
       "      <td>...</td>\n",
       "      <td>0</td>\n",
       "      <td>0</td>\n",
       "      <td>0</td>\n",
       "      <td>0</td>\n",
       "      <td>1</td>\n",
       "      <td>0</td>\n",
       "      <td>0</td>\n",
       "      <td>0</td>\n",
       "      <td>0</td>\n",
       "      <td>0</td>\n",
       "    </tr>\n",
       "    <tr>\n",
       "      <td>1977-05-01</td>\n",
       "      <td>05/01/1977</td>\n",
       "      <td>00:01:00</td>\n",
       "      <td>2A</td>\n",
       "      <td>600 W 34TH ST</td>\n",
       "      <td>I</td>\n",
       "      <td>OTHER</td>\n",
       "      <td>531</td>\n",
       "      <td>NORTHERN</td>\n",
       "      <td>WYMAN PARK</td>\n",
       "      <td>-77.0</td>\n",
       "      <td>...</td>\n",
       "      <td>0</td>\n",
       "      <td>0</td>\n",
       "      <td>0</td>\n",
       "      <td>0</td>\n",
       "      <td>1</td>\n",
       "      <td>0</td>\n",
       "      <td>0</td>\n",
       "      <td>0</td>\n",
       "      <td>0</td>\n",
       "      <td>0</td>\n",
       "    </tr>\n",
       "    <tr>\n",
       "      <td>1975-06-01</td>\n",
       "      <td>06/01/1975</td>\n",
       "      <td>00:00:00</td>\n",
       "      <td>2A</td>\n",
       "      <td>4400 OLD FREDERICK RD</td>\n",
       "      <td>I</td>\n",
       "      <td>OTHER</td>\n",
       "      <td>822</td>\n",
       "      <td>SOUTHWEST</td>\n",
       "      <td>UPLANDS</td>\n",
       "      <td>-77.0</td>\n",
       "      <td>...</td>\n",
       "      <td>0</td>\n",
       "      <td>0</td>\n",
       "      <td>0</td>\n",
       "      <td>0</td>\n",
       "      <td>1</td>\n",
       "      <td>0</td>\n",
       "      <td>0</td>\n",
       "      <td>0</td>\n",
       "      <td>0</td>\n",
       "      <td>0</td>\n",
       "    </tr>\n",
       "    <tr>\n",
       "      <td>1969-07-20</td>\n",
       "      <td>07/20/1969</td>\n",
       "      <td>21:00:00</td>\n",
       "      <td>2A</td>\n",
       "      <td>5400 ROLAND AVE</td>\n",
       "      <td>NaN</td>\n",
       "      <td>OTHER</td>\n",
       "      <td>534</td>\n",
       "      <td>NORTHERN</td>\n",
       "      <td>ROLAND PARK</td>\n",
       "      <td>-77.0</td>\n",
       "      <td>...</td>\n",
       "      <td>0</td>\n",
       "      <td>0</td>\n",
       "      <td>0</td>\n",
       "      <td>0</td>\n",
       "      <td>1</td>\n",
       "      <td>0</td>\n",
       "      <td>0</td>\n",
       "      <td>0</td>\n",
       "      <td>0</td>\n",
       "      <td>0</td>\n",
       "    </tr>\n",
       "    <tr>\n",
       "      <td>1963-10-30</td>\n",
       "      <td>10/30/1963</td>\n",
       "      <td>00:00:00</td>\n",
       "      <td>2A</td>\n",
       "      <td>3100 FERNDALE AVE</td>\n",
       "      <td>I</td>\n",
       "      <td>OTHER</td>\n",
       "      <td>622</td>\n",
       "      <td>NORTHWEST</td>\n",
       "      <td>HOWARD PARK</td>\n",
       "      <td>-77.0</td>\n",
       "      <td>...</td>\n",
       "      <td>0</td>\n",
       "      <td>0</td>\n",
       "      <td>0</td>\n",
       "      <td>0</td>\n",
       "      <td>1</td>\n",
       "      <td>0</td>\n",
       "      <td>0</td>\n",
       "      <td>0</td>\n",
       "      <td>0</td>\n",
       "      <td>0</td>\n",
       "    </tr>\n",
       "  </tbody>\n",
       "</table>\n",
       "<p>286609 rows × 29 columns</p>\n",
       "</div>"
      ],
      "text/plain": [
       "             CrimeDate CrimeTime CrimeCode               Location  \\\n",
       "date                                                                \n",
       "2019-12-14  12/14/2019  00:26:00        1A    2400 W BELVEDERE AV   \n",
       "2019-12-14  12/14/2019  07:30:00        3B        600 S MONROE ST   \n",
       "2019-12-14  12/14/2019  14:30:00       3JK     3000 E MONUMENT ST   \n",
       "2019-12-14  12/14/2019  14:15:00        4A       1100 MCCULLOH ST   \n",
       "2019-12-14  12/14/2019  04:03:00        5E    400 E BELVEDERE AVE   \n",
       "...                ...       ...       ...                    ...   \n",
       "1978-01-01  01/01/1978  10:30:00        2A        1900 ARGONNE DR   \n",
       "1977-05-01  05/01/1977  00:01:00        2A          600 W 34TH ST   \n",
       "1975-06-01  06/01/1975  00:00:00        2A  4400 OLD FREDERICK RD   \n",
       "1969-07-20  07/20/1969  21:00:00        2A        5400 ROLAND AVE   \n",
       "1963-10-30  10/30/1963  00:00:00        2A      3100 FERNDALE AVE   \n",
       "\n",
       "           Inside/Outside   Weapon Post   District            Neighborhood  \\\n",
       "date                                                                         \n",
       "2019-12-14        Outside  FIREARM  532   NORTHERN               LEVINDALE   \n",
       "2019-12-14              O      NaN  934   SOUTHERN        CARROLLTON RIDGE   \n",
       "2019-12-14              I    KNIFE  333    EASTERN    ELLWOOD PARK/MONUMEN   \n",
       "2019-12-14              O  FIREARM  123    CENTRAL  LOWER HERRING RUN PARK   \n",
       "2019-12-14              O      NaN  523   NORTHERN                ROSEBANK   \n",
       "...                   ...      ...  ...        ...                     ...   \n",
       "1978-01-01              I    OTHER  421  NORTHEAST    MORGAN STATE UNIVERS   \n",
       "1977-05-01              I    OTHER  531   NORTHERN              WYMAN PARK   \n",
       "1975-06-01              I    OTHER  822  SOUTHWEST                 UPLANDS   \n",
       "1969-07-20            NaN    OTHER  534   NORTHERN             ROLAND PARK   \n",
       "1963-10-30              I    OTHER  622  NORTHWEST             HOWARD PARK   \n",
       "\n",
       "            Longitude  ...  COMMON ASSAULT  HOMICIDE LARCENY  \\\n",
       "date                   ...                                     \n",
       "2019-12-14      -77.0  ...               0         1       0   \n",
       "2019-12-14      -77.0  ...               0         0       0   \n",
       "2019-12-14      -77.0  ...               0         0       0   \n",
       "2019-12-14      -77.0  ...               0         0       0   \n",
       "2019-12-14      -77.0  ...               0         0       0   \n",
       "...               ...  ...             ...       ...     ...   \n",
       "1978-01-01      -77.0  ...               0         0       0   \n",
       "1977-05-01      -77.0  ...               0         0       0   \n",
       "1975-06-01      -77.0  ...               0         0       0   \n",
       "1969-07-20      -77.0  ...               0         0       0   \n",
       "1963-10-30      -77.0  ...               0         0       0   \n",
       "\n",
       "           LARCENY FROM AUTO  RAPE  ROBBERY - CARJACKING  \\\n",
       "date                                                       \n",
       "2019-12-14                 0     0                     0   \n",
       "2019-12-14                 0     0                     0   \n",
       "2019-12-14                 0     0                     0   \n",
       "2019-12-14                 0     0                     0   \n",
       "2019-12-14                 0     0                     0   \n",
       "...                      ...   ...                   ...   \n",
       "1978-01-01                 0     1                     0   \n",
       "1977-05-01                 0     1                     0   \n",
       "1975-06-01                 0     1                     0   \n",
       "1969-07-20                 0     1                     0   \n",
       "1963-10-30                 0     1                     0   \n",
       "\n",
       "            ROBBERY - COMMERCIAL  ROBBERY - RESIDENCE  ROBBERY - STREET  \\\n",
       "date                                                                      \n",
       "2019-12-14                     0                    0                 0   \n",
       "2019-12-14                     0                    0                 1   \n",
       "2019-12-14                     0                    1                 0   \n",
       "2019-12-14                     0                    0                 0   \n",
       "2019-12-14                     0                    0                 0   \n",
       "...                          ...                  ...               ...   \n",
       "1978-01-01                     0                    0                 0   \n",
       "1977-05-01                     0                    0                 0   \n",
       "1975-06-01                     0                    0                 0   \n",
       "1969-07-20                     0                    0                 0   \n",
       "1963-10-30                     0                    0                 0   \n",
       "\n",
       "            SHOOTING  \n",
       "date                  \n",
       "2019-12-14         0  \n",
       "2019-12-14         0  \n",
       "2019-12-14         0  \n",
       "2019-12-14         0  \n",
       "2019-12-14         0  \n",
       "...              ...  \n",
       "1978-01-01         0  \n",
       "1977-05-01         0  \n",
       "1975-06-01         0  \n",
       "1969-07-20         0  \n",
       "1963-10-30         0  \n",
       "\n",
       "[286609 rows x 29 columns]"
      ]
     },
     "execution_count": 59,
     "metadata": {},
     "output_type": "execute_result"
    }
   ],
   "source": [
    "df_crimes = pd.get_dummies(df,columns=['Description'])\n",
    "\n",
    "crime_cols = [col for col in df_crimes.columns if 'Description_' in col]\n",
    "new_names = [x.replace('Description_','') for x in crime_cols]\n",
    "\n",
    "rename_dict = dict(zip(crime_cols,new_names))\n",
    "df_crimes.rename(rename_dict,axis=1,inplace=True)\n",
    "\n",
    "df_crimes"
   ]
  },
  {
   "cell_type": "markdown",
   "metadata": {},
   "source": [
    "___"
   ]
  },
  {
   "cell_type": "code",
   "execution_count": 60,
   "metadata": {},
   "outputs": [
    {
     "data": {
      "text/plain": [
       "['CrimeDate',\n",
       " 'CrimeTime',\n",
       " 'AGG. ASSAULT',\n",
       " 'ARSON',\n",
       " 'AUTO THEFT',\n",
       " 'BURGLARY',\n",
       " 'COMMON ASSAULT',\n",
       " 'HOMICIDE',\n",
       " 'LARCENY',\n",
       " 'LARCENY FROM AUTO',\n",
       " 'RAPE',\n",
       " 'ROBBERY - CARJACKING',\n",
       " 'ROBBERY - COMMERCIAL',\n",
       " 'ROBBERY - RESIDENCE',\n",
       " 'ROBBERY - STREET',\n",
       " 'SHOOTING']"
      ]
     },
     "execution_count": 60,
     "metadata": {},
     "output_type": "execute_result"
    }
   ],
   "source": [
    "keep_cols = ['CrimeDate','CrimeTime']\n",
    "keep_cols.extend(new_names)\n",
    "\n",
    "keep_cols"
   ]
  },
  {
   "cell_type": "code",
   "execution_count": 63,
   "metadata": {},
   "outputs": [
    {
     "data": {
      "text/plain": [
       "DatetimeIndex(['2014-01-01', '2014-01-01', '2014-01-01', '2014-01-01',\n",
       "               '2014-01-01', '2014-01-01', '2014-01-01', '2014-01-01',\n",
       "               '2014-01-01', '2014-01-01',\n",
       "               ...\n",
       "               '1988-05-01', '1985-01-01', '1982-08-01', '1981-12-01',\n",
       "               '1980-07-01', '1978-01-01', '1977-05-01', '1975-06-01',\n",
       "               '1969-07-20', '1963-10-30'],\n",
       "              dtype='datetime64[ns]', name='date', length=218, freq=None)"
      ]
     },
     "metadata": {},
     "output_type": "display_data"
    }
   ],
   "source": [
    "df_crimes= df_crimes[keep_cols].loc[\"2014\":]\n",
    "display(df_crimes.index)\n"
   ]
  },
  {
   "cell_type": "markdown",
   "metadata": {},
   "source": [
    "___"
   ]
  },
  {
   "cell_type": "code",
   "execution_count": 62,
   "metadata": {},
   "outputs": [
    {
     "data": {
      "text/plain": [
       "<matplotlib.axes._subplots.AxesSubplot at 0x155d363c8>"
      ]
     },
     "execution_count": 62,
     "metadata": {},
     "output_type": "execute_result"
    },
    {
     "data": {
      "image/png": "[encoded data removed]",
      "text/plain": [
       "<Figure size 432x288 with 1 Axes>"
      ]
     },
     "metadata": {
      "needs_background": "light"
     },
     "output_type": "display_data"
    }
   ],
   "source": [
    "df_crimes['LARCENY'].plot()"
   ]
  },
  {
   "cell_type": "markdown",
   "metadata": {},
   "source": [
    "## `pd.grouper`"
   ]
  },
  {
   "cell_type": "code",
   "execution_count": null,
   "metadata": {},
   "outputs": [],
   "source": []
  },
  {
   "cell_type": "code",
   "execution_count": 57,
   "metadata": {},
   "outputs": [
    {
     "data": {
      "image/png": "[encoded data removed]",
      "text/plain": [
       "<Figure size 864x432 with 1 Axes>"
      ]
     },
     "metadata": {
      "needs_background": "light"
     },
     "output_type": "display_data"
    }
   ],
   "source": [
    "df_crimes.groupby(pd.Grouper(freq='D')).sum()[new_names].plot(figsize=(12,6)).autoscale()"
   ]
  },
  {
   "cell_type": "code",
   "execution_count": 46,
   "metadata": {},
   "outputs": [
    {
     "data": {
      "text/plain": [
       "DatetimeIndex(['2019-12-14', '2019-12-14', '2019-12-14', '2019-12-14',\n",
       "               '2019-12-14', '2019-12-14', '2019-12-14', '2019-12-14',\n",
       "               '2019-12-14', '2019-12-14',\n",
       "               ...\n",
       "               '1988-05-01', '1985-01-01', '1982-08-01', '1981-12-01',\n",
       "               '1980-07-01', '1978-01-01', '1977-05-01', '1975-06-01',\n",
       "               '1969-07-20', '1963-10-30'],\n",
       "              dtype='datetime64[ns]', name='date', length=286609, freq=None)"
      ]
     },
     "execution_count": 46,
     "metadata": {},
     "output_type": "execute_result"
    }
   ],
   "source": [
    "df_crimes.index"
   ]
  },
  {
   "cell_type": "code",
   "execution_count": 47,
   "metadata": {},
   "outputs": [
    {
     "data": {
      "text/plain": [
       "<matplotlib.axes._subplots.AxesSubplot at 0x13180b940>"
      ]
     },
     "execution_count": 47,
     "metadata": {},
     "output_type": "execute_result"
    },
    {
     "data": {
      "image/png": "[encoded data removed]",
      "text/plain": [
       "<Figure size 432x288 with 1 Axes>"
      ]
     },
     "metadata": {
      "needs_background": "light"
     },
     "output_type": "display_data"
    }
   ],
   "source": [
    "df_crimes.groupby(pd.Grouper(freq='D')).sum().plot()"
   ]
  },
  {
   "cell_type": "code",
   "execution_count": null,
   "metadata": {},
   "outputs": [],
   "source": [
    "df_crimes['BURGLARY'].resample('D').sum().plot()\n",
    "df_crimes['SHOOTING'].resample('D').sum().plot()\n",
    "df_crimes['HOMICIDE'].resample('D').sum().plot()\n"
   ]
  },
  {
   "cell_type": "code",
   "execution_count": null,
   "metadata": {},
   "outputs": [],
   "source": [
    "df_counts = df_crimes.groupby('CrimeDate').count()[new_names]\n",
    "df_counts.index = pd.to_datetime(df_counts.index)\n",
    "df_counts['BURGLARY'].plot()"
   ]
  },
  {
   "cell_type": "code",
   "execution_count": null,
   "metadata": {},
   "outputs": [],
   "source": [
    "df_counts.sort_index(inplace=True)"
   ]
  },
  {
   "cell_type": "code",
   "execution_count": null,
   "metadata": {},
   "outputs": [],
   "source": [
    "# df_counts.loc['2014':].plot()\n",
    "# plt.legend(None)\n",
    "df_2015 = df_counts.loc['2015':'2016']\n",
    "ax = df_2015.plot()\n",
    "fig=ax.get_figure()"
   ]
  },
  {
   "cell_type": "code",
   "execution_count": null,
   "metadata": {},
   "outputs": [],
   "source": [
    "riots_start ='2015-04-18' \n",
    "ax.axvline(riots_start)\n",
    "\n",
    "riots_end = '2015-05-03' \n",
    "ax.axvline(riots_end)\n",
    "\n",
    "ax.set_xlim(riots_start,riots_end)"
   ]
  },
  {
   "cell_type": "code",
   "execution_count": null,
   "metadata": {},
   "outputs": [],
   "source": [
    "df_2015.idxmax()"
   ]
  },
  {
   "cell_type": "markdown",
   "metadata": {},
   "source": [
    "# Seasonal Decomposition"
   ]
  },
  {
   "cell_type": "code",
   "execution_count": null,
   "metadata": {},
   "outputs": [],
   "source": [
    "from statsmodels.tsa.seasonal import seasonal_decompose\n",
    "seasonal_decompose(df_2015).plot();"
   ]
  },
  {
   "cell_type": "code",
   "execution_count": null,
   "metadata": {},
   "outputs": [],
   "source": [
    "# url = \"https://en.wikipedia.org/wiki/2015_Baltimore_protests\"\n",
    "# pre_riot = crime_2014.loc['2015':'2016']\n",
    "# pre_riot"
   ]
  },
  {
   "cell_type": "code",
   "execution_count": null,
   "metadata": {},
   "outputs": [],
   "source": []
  }
 ],
 "metadata": {
  "kernelspec": {
   "display_name": "Python [conda env:learn-env] *",
   "language": "python",
   "name": "conda-env-learn-env-py"
  },
  "language_info": {
   "codemirror_mode": {
    "name": "ipython",
    "version": 3
   },
   "file_extension": ".py",
   "mimetype": "text/x-python",
   "name": "python",
   "nbconvert_exporter": "python",
   "pygments_lexer": "ipython3",
   "version": "3.6.9"
  },
  "toc": {
   "base_numbering": 1,
   "nav_menu": {},
   "number_sections": false,
   "sideBar": true,
   "skip_h1_title": false,
   "title_cell": "Table of Contents",
   "title_sidebar": "Contents",
   "toc_cell": false,
   "toc_position": {
    "height": "calc(100% - 180px)",
    "left": "10px",
    "top": "150px",
    "width": "284.444px"
   },
   "toc_section_display": true,
   "toc_window_display": true
  }
 },
 "nbformat": 4,
 "nbformat_minor": 2
}
