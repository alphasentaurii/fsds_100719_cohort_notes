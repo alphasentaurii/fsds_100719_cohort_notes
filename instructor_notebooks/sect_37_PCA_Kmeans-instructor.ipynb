{
 "cells": [
  {
   "cell_type": "markdown",
   "metadata": {
    "toc": true
   },
   "source": [
    "<h1>Table of Contents<span class=\"tocSkip\"></span></h1>\n",
    "<div class=\"toc\"><ul class=\"toc-item\"><li><span><a href=\"#Sect-37:-PCA--&amp;-Sect-39:-Pipelines\" data-toc-modified-id=\"Sect-37:-PCA--&amp;-Sect-39:-Pipelines-1\"><span class=\"toc-item-num\">1&nbsp;&nbsp;</span>Sect 37: PCA  &amp; Sect 39: Pipelines</a></span><ul class=\"toc-item\"><li><span><a href=\"#Learning-Objectives\" data-toc-modified-id=\"Learning-Objectives-1.1\"><span class=\"toc-item-num\">1.1&nbsp;&nbsp;</span>Learning Objectives</a></span></li></ul></li><li><span><a href=\"#PCA-(Sect-37)-&amp;-K-Means-Clustering-(Sect-38)\" data-toc-modified-id=\"PCA-(Sect-37)-&amp;-K-Means-Clustering-(Sect-38)-2\"><span class=\"toc-item-num\">2&nbsp;&nbsp;</span>PCA (Sect 37) &amp; K-Means Clustering (Sect 38)</a></span><ul class=\"toc-item\"><li><span><a href=\"#Principal-Component-Analysis\" data-toc-modified-id=\"Principal-Component-Analysis-2.1\"><span class=\"toc-item-num\">2.1&nbsp;&nbsp;</span>Principal Component Analysis</a></span><ul class=\"toc-item\"><li><span><a href=\"#Videos-(Matrix-Transformation-&amp;-Eigenvector):\" data-toc-modified-id=\"Videos-(Matrix-Transformation-&amp;-Eigenvector):-2.1.1\"><span class=\"toc-item-num\">2.1.1&nbsp;&nbsp;</span>Videos (Matrix Transformation &amp; Eigenvector):</a></span></li><li><span><a href=\"#What-is-the-&quot;curse-of-dimensionality&quot;?\" data-toc-modified-id=\"What-is-the-&quot;curse-of-dimensionality&quot;?-2.1.2\"><span class=\"toc-item-num\">2.1.2&nbsp;&nbsp;</span>What is the \"curse of dimensionality\"?</a></span></li><li><span><a href=\"#How-does-PCA-solve-this?\" data-toc-modified-id=\"How-does-PCA-solve-this?-2.1.3\"><span class=\"toc-item-num\">2.1.3&nbsp;&nbsp;</span>How does PCA solve this?</a></span></li></ul></li><li><span><a href=\"#Steps-for-Performing-PCA\" data-toc-modified-id=\"Steps-for-Performing-PCA-2.2\"><span class=\"toc-item-num\">2.2&nbsp;&nbsp;</span>Steps for Performing PCA</a></span><ul class=\"toc-item\"><li><span><a href=\"#PCA-OVERVIEW\" data-toc-modified-id=\"PCA-OVERVIEW-2.2.1\"><span class=\"toc-item-num\">2.2.1&nbsp;&nbsp;</span>PCA OVERVIEW</a></span></li></ul></li><li><span><a href=\"#K-Means-Clustering\" data-toc-modified-id=\"K-Means-Clustering-2.3\"><span class=\"toc-item-num\">2.3&nbsp;&nbsp;</span>K-Means Clustering</a></span><ul class=\"toc-item\"><li><span><a href=\"#K-Means-Overview\" data-toc-modified-id=\"K-Means-Overview-2.3.1\"><span class=\"toc-item-num\">2.3.1&nbsp;&nbsp;</span>K-Means Overview</a></span></li></ul></li></ul></li><li><span><a href=\"#USING-PCA-AND-K-MEANS-TO-FIND-CLUSTERS-OF-PEOPLE\" data-toc-modified-id=\"USING-PCA-AND-K-MEANS-TO-FIND-CLUSTERS-OF-PEOPLE-3\"><span class=\"toc-item-num\">3&nbsp;&nbsp;</span>USING PCA AND K-MEANS TO FIND CLUSTERS OF PEOPLE</a></span><ul class=\"toc-item\"><li><ul class=\"toc-item\"><li><span><a href=\"#4.1-The-silhouette-coefficient\" data-toc-modified-id=\"4.1-The-silhouette-coefficient-3.0.1\"><span class=\"toc-item-num\">3.0.1&nbsp;&nbsp;</span>4.1 The silhouette coefficient</a></span></li></ul></li><li><span><a href=\"#TO-DO:-Feed-the-k-means-clusters-as-targets-into-RandomForest-Classifier-to-learn-feature-importance\" data-toc-modified-id=\"TO-DO:-Feed-the-k-means-clusters-as-targets-into-RandomForest-Classifier-to-learn-feature-importance-3.1\"><span class=\"toc-item-num\">3.1&nbsp;&nbsp;</span>TO DO: Feed the k-means clusters as targets into RandomForest Classifier to learn feature importance</a></span></li></ul></li><li><span><a href=\"#Back-to-our-Iowa-Prisoners\" data-toc-modified-id=\"Back-to-our-Iowa-Prisoners-4\"><span class=\"toc-item-num\">4&nbsp;&nbsp;</span>Back to our Iowa Prisoners</a></span><ul class=\"toc-item\"><li><span><a href=\"#Using-sklearn-Pipelines-(sect-39)\" data-toc-modified-id=\"Using-sklearn-Pipelines-(sect-39)-4.1\"><span class=\"toc-item-num\">4.1&nbsp;&nbsp;</span>Using sklearn Pipelines (sect 39)</a></span></li><li><span><a href=\"#TO-DO:\" data-toc-modified-id=\"TO-DO:-4.2\"><span class=\"toc-item-num\">4.2&nbsp;&nbsp;</span>TO DO:</a></span></li></ul></li><li><span><a href=\"#BOOKMARK\" data-toc-modified-id=\"BOOKMARK-5\"><span class=\"toc-item-num\">5&nbsp;&nbsp;</span>BOOKMARK</a></span></li></ul></div>"
   ]
  },
  {
   "cell_type": "markdown",
   "metadata": {},
   "source": [
    "# Sect 37: PCA  & Sect 39: Pipelines"
   ]
  },
  {
   "cell_type": "markdown",
   "metadata": {},
   "source": [
    "## Learning Objectives\n"
   ]
  },
  {
   "cell_type": "markdown",
   "metadata": {},
   "source": [
    "- Gain an intuitive understanding of PCA and eigenvalue decomposition.\n",
    "- Understand how Principal Component Analysis reduces dimensionality.\n",
    "\n",
    "- Learn about K-Means clustering and how it may be applied.\n",
    "\n",
    "- Learn how to use Sklearn Pipelines.\n",
    "\n",
    "\n",
    "- **ACTIVITY:**\n",
    "    - Use all 1100+ features of the [National Health and Nutrition Examination Survey (NHANES)](https://www.kaggle.com/cdc/national-health-and-nutrition-examination-survey) to find clusters of people in 3D space.\n",
    "    - Build a Pipeline for data processing.\n",
    "    - Get top 20 principal components.\n",
    "    - Visualize 3 PC's at a time in 3D.\n",
    "    - Perform K-Means clustering .\n",
    "        - Identify best value for K\n",
    "        - Visualize clusters.\n",
    "    - Use cluster's as target in a RandomForest model to see if we can find which features were underlying our Principle Componennts.\n",
    "    "
   ]
  },
  {
   "cell_type": "code",
   "execution_count": null,
   "metadata": {
    "ExecuteTime": {
     "end_time": "2020-01-24T15:57:50.721226Z",
     "start_time": "2020-01-24T15:57:48.529940Z"
    }
   },
   "outputs": [],
   "source": [
    "import plotly.express as px\n",
    "\n",
    "from fsds_100719.imports import *"
   ]
  },
  {
   "cell_type": "markdown",
   "metadata": {},
   "source": [
    "# PCA (Sect 37) & K-Means Clustering (Sect 38)"
   ]
  },
  {
   "cell_type": "markdown",
   "metadata": {},
   "source": [
    "## Principal Component Analysis "
   ]
  },
  {
   "cell_type": "markdown",
   "metadata": {},
   "source": [
    "### Videos (Matrix Transformation & Eigenvector):\n",
    "\n",
    "- Linear Transformations: https://www.youtube.com/watch?v=kYB8IZa5AuE\n",
    "- Egienvectors: https://www.youtube.com/watch?v=PFDu9oVAE-g"
   ]
  },
  {
   "cell_type": "markdown",
   "metadata": {},
   "source": [
    "### What is the \"curse of dimensionality\"?"
   ]
  },
  {
   "cell_type": "markdown",
   "metadata": {},
   "source": [
    "- https://www.visiondummy.com/2014/04/curse-dimensionality-affect-classification/\n",
    "\n",
    "<img src=\"https://www.visiondummy.com/wp-content/uploads/2014/04/overfitting.png\">"
   ]
  },
  {
   "cell_type": "markdown",
   "metadata": {},
   "source": [
    "### How does PCA solve this?"
   ]
  },
  {
   "cell_type": "markdown",
   "metadata": {},
   "source": [
    "<img src=\"https://raw.githubusercontent.com/jirvingphd/dsc-pca-in-scikitlearn-online-ds-sp-000/master/images/inhouse_pca.png\">"
   ]
  },
  {
   "cell_type": "markdown",
   "metadata": {},
   "source": [
    "## Steps for Performing PCA\n",
    "\n",
    "The theory behind PCA rests upon many foundational concepts of linear algebra. After all, PCA is re-encoding a dataset into an alternative basis (the axes). Here's the exact steps:\n",
    "\n",
    "1. Recenter each feature of the dataset by subtracting that feature's mean from the feature vector\n",
    "2. Calculate the covariance matrix for your centered dataset\n",
    "3. Calculate the eigenvectors of the covariance matrix\n",
    "    1. You'll further investigate the concept of eigenvectors in the upcoming lesson\n",
    "4. Project the dataset into the new feature space: Multiply the eigenvectors by the mean centered features"
   ]
  },
  {
   "cell_type": "markdown",
   "metadata": {},
   "source": [
    "### PCA OVERVIEW"
   ]
  },
  {
   "cell_type": "markdown",
   "metadata": {},
   "source": [
    "#### Type of Learning\n",
    "- Unsupervised\n",
    "\n",
    "#### Assumptions\n",
    "- Correlation among features\n",
    "\n",
    "#### Advantages\n",
    "- Captures most of the variance in a smaller number of features\n",
    "\n",
    "#### Disadvantages\n",
    "- Number of principal components that explain most of the variance are determined by the USER\n",
    "\n",
    "#### Requirements \n",
    "\n",
    "- Features must be scaled (StandardScaler)\n",
    "- Sensitive to missing data.\n",
    "- Sensitive to outliers.\n",
    "\n",
    "#### Example Use\n",
    "- Reducing feature space\n",
    "- Preprocessing\"\n",
    "- Creating a few, informative variables from tons of data"
   ]
  },
  {
   "cell_type": "markdown",
   "metadata": {},
   "source": [
    "## K-Means Clustering"
   ]
  },
  {
   "cell_type": "markdown",
   "metadata": {},
   "source": [
    "**_Clustering_** techniques are among the most popular unsupervised machine learning algorithms. The main idea behind clustering is that you want to group objects into similar classes, in a way that:\n",
    "\n",
    "* intra-class similarity is high\n",
    "* inter-class similarity is low\n"
   ]
  },
  {
   "cell_type": "markdown",
   "metadata": {},
   "source": [
    "<img src=\"https://raw.githubusercontent.com/jirvingphd/dsc-k-means-clustering-online-ds-sp-000/master/images/k_means.gif\">"
   ]
  },
  {
   "cell_type": "markdown",
   "metadata": {},
   "source": [
    "> What does _similarity_ mean? You should be thinking of it in terms of _distance_, just like we did with the K-Nearest Neighbors algorithm. The closer two points are, the more similar they are. It is useful to make a distinction between _hierarchical_ and _nonhierarchical_ clustering algorithms:\n",
    "\n",
    "> * In cluster analysis, an **_agglomerative hierarchical_** algorithm starts with _n_ clusters (where _n_ is the number of observations, so each observation is a cluster), then combines the two most similar clusters, combines the next two most similar clusters, and so on. A **_divisive_** hierarchical algorithm does the exact opposite, going from 1 to _n_ clusters.\n",
    "\n",
    "> * A **_nonhierarchical_** algorithm chooses _k_ initial clusters and reassigns observations until no improvement can be obtained. How initial clusters and reassignments are done depends on the specific type of algorithm.\n",
    "\n",
    "\n",
    "**Today we will be applying K-Means clustering, a non-hierarchical clustering algorithm**\n"
   ]
  },
  {
   "cell_type": "markdown",
   "metadata": {},
   "source": [
    "### K-Means Overview"
   ]
  },
  {
   "cell_type": "markdown",
   "metadata": {},
   "source": [
    "#### Type of Learning\n",
    "- Unsupervised\n",
    "\n",
    "#### Assumptions\n",
    "- Clusters are spherical\n",
    "- Clusters are of similar size\n",
    "\n",
    "#### Advantages\n",
    "- Fast training\n",
    "\n",
    "\n",
    "#### Disadvantages\n",
    "- Need to determine k (# of clusters)\n",
    "- Sensitive to initial points and local optima\"\n",
    "\n",
    "#### Requirements \n",
    "- Features scaled.\n",
    "- Sensitive to missing data\n",
    "- Sensitive to outliers.\n",
    "\n",
    "#### Example Use:\n",
    "- Segmentation\n",
    "\n",
    "- Customer segmentation\n",
    "- Outlier detection\"\n",
    "\n",
    "\n",
    "#### Metrics:\n",
    "- [Calinski Harabasz Score](https://scikit-learn.org/stable/modules/generated/sklearn.metrics.calinski_harabasz_score.html)\n",
    "    - Ratio of within-cluster dispersion to between-cluster dispersion\n",
    "\n",
    "- [Silhouette Score](https://scikit-learn.org/stable/modules/generated/sklearn.metrics.silhouette_score.html#sklearn.metrics.silhouette_score)\n",
    "    - The Silhouette Coefficient for a sample is $(b - a) / max(a, b)$. To clarify, b is the distance between a sample and the nearest cluster that the sample is not a part of. Note that Silhouette Coefficient is only defined if number of labels is 2 <= n_labels <= n_samples - 1."
   ]
  },
  {
   "cell_type": "markdown",
   "metadata": {},
   "source": [
    "____"
   ]
  },
  {
   "cell_type": "markdown",
   "metadata": {},
   "source": [
    "# USING PCA AND K-MEANS TO FIND CLUSTERS OF PEOPLE\n",
    "\n",
    "https://www.kaggle.com/cdc/national-health-and-nutrition-examination-survey\n",
    "\n",
    "https://medium.com/@dmitriy.kavyazin/principal-component-analysis-and-k-means-clustering-to-visualize-a-high-dimensional-dataset-577b2a7a5fe2\n",
    "\n",
    "- Complete variable list https://wwwn.cdc.gov/Nchs/Nhanes/Search/variablelist.aspx?Component=Demographics&CycleBeginYear=2013"
   ]
  },
  {
   "cell_type": "code",
   "execution_count": 5,
   "metadata": {
    "ExecuteTime": {
     "end_time": "2020-01-24T16:21:44.292922Z",
     "start_time": "2020-01-24T16:21:44.287241Z"
    }
   },
   "outputs": [
    {
     "data": {
      "text/plain": [
       "['../datasets/national-health-and-nutrition-examination-survey/medications.csv',\n",
       " '../datasets/national-health-and-nutrition-examination-survey/diet.csv',\n",
       " '../datasets/national-health-and-nutrition-examination-survey/examination.csv',\n",
       " '../datasets/national-health-and-nutrition-examination-survey/demographic.csv',\n",
       " '../datasets/national-health-and-nutrition-examination-survey/labs.csv',\n",
       " '../datasets/national-health-and-nutrition-examination-survey/questionnaire.csv']"
      ]
     },
     "execution_count": 5,
     "metadata": {},
     "output_type": "execute_result"
    }
   ],
   "source": [
    "from fsds_100719.imports import *\n",
    "\n",
    "from sklearn.preprocessing import StandardScaler,LabelEncoder\n",
    "from sklearn.impute import SimpleImputer\n",
    "from sklearn.pipeline import Pipeline\n",
    "from sklearn.decomposition import PCA\n",
    "from sklearn.cluster import KMeans\n",
    "\n",
    "import glob, os, sys\n",
    "folder = '../datasets/national-health-and-nutrition-examination-survey/'\n",
    "files = glob.glob(folder+'*',recursive=True)\n",
    "files"
   ]
  },
  {
   "cell_type": "code",
   "execution_count": 6,
   "metadata": {
    "ExecuteTime": {
     "end_time": "2020-01-24T16:21:47.196632Z",
     "start_time": "2020-01-24T16:21:45.647651Z"
    }
   },
   "outputs": [
    {
     "data": {
      "text/html": [
       "<div>\n",
       "<style scoped>\n",
       "    .dataframe tbody tr th:only-of-type {\n",
       "        vertical-align: middle;\n",
       "    }\n",
       "\n",
       "    .dataframe tbody tr th {\n",
       "        vertical-align: top;\n",
       "    }\n",
       "\n",
       "    .dataframe thead th {\n",
       "        text-align: right;\n",
       "    }\n",
       "</style>\n",
       "<table border=\"1\" class=\"dataframe\">\n",
       "  <thead>\n",
       "    <tr style=\"text-align: right;\">\n",
       "      <th></th>\n",
       "      <th>SEQN</th>\n",
       "      <th>WTDRD1</th>\n",
       "      <th>WTDR2D</th>\n",
       "      <th>DR1DRSTZ</th>\n",
       "      <th>DR1EXMER</th>\n",
       "      <th>DRABF</th>\n",
       "      <th>DRDINT</th>\n",
       "      <th>DR1DBIH</th>\n",
       "      <th>DR1DAY</th>\n",
       "      <th>DR1LANG</th>\n",
       "      <th>...</th>\n",
       "      <th>WHD080U</th>\n",
       "      <th>WHD080L</th>\n",
       "      <th>WHD110</th>\n",
       "      <th>WHD120</th>\n",
       "      <th>WHD130</th>\n",
       "      <th>WHD140</th>\n",
       "      <th>WHQ150</th>\n",
       "      <th>WHQ030M</th>\n",
       "      <th>WHQ500</th>\n",
       "      <th>WHQ520</th>\n",
       "    </tr>\n",
       "  </thead>\n",
       "  <tbody>\n",
       "    <tr>\n",
       "      <td>0</td>\n",
       "      <td>73557.0</td>\n",
       "      <td>16888.327864</td>\n",
       "      <td>12930.890649</td>\n",
       "      <td>1.0</td>\n",
       "      <td>49.0</td>\n",
       "      <td>2.0</td>\n",
       "      <td>2.0</td>\n",
       "      <td>6.0</td>\n",
       "      <td>2.0</td>\n",
       "      <td>1.0</td>\n",
       "      <td>...</td>\n",
       "      <td>NaN</td>\n",
       "      <td>40.0</td>\n",
       "      <td>270.0</td>\n",
       "      <td>200.0</td>\n",
       "      <td>69.0</td>\n",
       "      <td>270.0</td>\n",
       "      <td>62.0</td>\n",
       "      <td>NaN</td>\n",
       "      <td>NaN</td>\n",
       "      <td>NaN</td>\n",
       "    </tr>\n",
       "    <tr>\n",
       "      <td>1</td>\n",
       "      <td>73558.0</td>\n",
       "      <td>17932.143865</td>\n",
       "      <td>12684.148869</td>\n",
       "      <td>1.0</td>\n",
       "      <td>59.0</td>\n",
       "      <td>2.0</td>\n",
       "      <td>2.0</td>\n",
       "      <td>4.0</td>\n",
       "      <td>1.0</td>\n",
       "      <td>1.0</td>\n",
       "      <td>...</td>\n",
       "      <td>NaN</td>\n",
       "      <td>NaN</td>\n",
       "      <td>240.0</td>\n",
       "      <td>250.0</td>\n",
       "      <td>72.0</td>\n",
       "      <td>250.0</td>\n",
       "      <td>25.0</td>\n",
       "      <td>NaN</td>\n",
       "      <td>NaN</td>\n",
       "      <td>NaN</td>\n",
       "    </tr>\n",
       "    <tr>\n",
       "      <td>2</td>\n",
       "      <td>73559.0</td>\n",
       "      <td>59641.812930</td>\n",
       "      <td>39394.236709</td>\n",
       "      <td>1.0</td>\n",
       "      <td>49.0</td>\n",
       "      <td>2.0</td>\n",
       "      <td>2.0</td>\n",
       "      <td>18.0</td>\n",
       "      <td>6.0</td>\n",
       "      <td>1.0</td>\n",
       "      <td>...</td>\n",
       "      <td>NaN</td>\n",
       "      <td>NaN</td>\n",
       "      <td>180.0</td>\n",
       "      <td>190.0</td>\n",
       "      <td>70.0</td>\n",
       "      <td>228.0</td>\n",
       "      <td>35.0</td>\n",
       "      <td>NaN</td>\n",
       "      <td>NaN</td>\n",
       "      <td>NaN</td>\n",
       "    </tr>\n",
       "    <tr>\n",
       "      <td>3</td>\n",
       "      <td>73560.0</td>\n",
       "      <td>142203.069917</td>\n",
       "      <td>125966.366442</td>\n",
       "      <td>1.0</td>\n",
       "      <td>54.0</td>\n",
       "      <td>2.0</td>\n",
       "      <td>2.0</td>\n",
       "      <td>21.0</td>\n",
       "      <td>3.0</td>\n",
       "      <td>1.0</td>\n",
       "      <td>...</td>\n",
       "      <td>NaN</td>\n",
       "      <td>NaN</td>\n",
       "      <td>NaN</td>\n",
       "      <td>NaN</td>\n",
       "      <td>NaN</td>\n",
       "      <td>NaN</td>\n",
       "      <td>NaN</td>\n",
       "      <td>3.0</td>\n",
       "      <td>3.0</td>\n",
       "      <td>3.0</td>\n",
       "    </tr>\n",
       "    <tr>\n",
       "      <td>4</td>\n",
       "      <td>73561.0</td>\n",
       "      <td>59052.357033</td>\n",
       "      <td>39004.892993</td>\n",
       "      <td>1.0</td>\n",
       "      <td>63.0</td>\n",
       "      <td>2.0</td>\n",
       "      <td>2.0</td>\n",
       "      <td>18.0</td>\n",
       "      <td>1.0</td>\n",
       "      <td>1.0</td>\n",
       "      <td>...</td>\n",
       "      <td>NaN</td>\n",
       "      <td>NaN</td>\n",
       "      <td>150.0</td>\n",
       "      <td>135.0</td>\n",
       "      <td>67.0</td>\n",
       "      <td>170.0</td>\n",
       "      <td>60.0</td>\n",
       "      <td>NaN</td>\n",
       "      <td>NaN</td>\n",
       "      <td>NaN</td>\n",
       "    </tr>\n",
       "    <tr>\n",
       "      <td>...</td>\n",
       "      <td>...</td>\n",
       "      <td>...</td>\n",
       "      <td>...</td>\n",
       "      <td>...</td>\n",
       "      <td>...</td>\n",
       "      <td>...</td>\n",
       "      <td>...</td>\n",
       "      <td>...</td>\n",
       "      <td>...</td>\n",
       "      <td>...</td>\n",
       "      <td>...</td>\n",
       "      <td>...</td>\n",
       "      <td>...</td>\n",
       "      <td>...</td>\n",
       "      <td>...</td>\n",
       "      <td>...</td>\n",
       "      <td>...</td>\n",
       "      <td>...</td>\n",
       "      <td>...</td>\n",
       "      <td>...</td>\n",
       "      <td>...</td>\n",
       "    </tr>\n",
       "    <tr>\n",
       "      <td>10170</td>\n",
       "      <td>NaN</td>\n",
       "      <td>NaN</td>\n",
       "      <td>NaN</td>\n",
       "      <td>NaN</td>\n",
       "      <td>NaN</td>\n",
       "      <td>NaN</td>\n",
       "      <td>NaN</td>\n",
       "      <td>NaN</td>\n",
       "      <td>NaN</td>\n",
       "      <td>NaN</td>\n",
       "      <td>...</td>\n",
       "      <td>NaN</td>\n",
       "      <td>NaN</td>\n",
       "      <td>NaN</td>\n",
       "      <td>NaN</td>\n",
       "      <td>NaN</td>\n",
       "      <td>150.0</td>\n",
       "      <td>26.0</td>\n",
       "      <td>NaN</td>\n",
       "      <td>NaN</td>\n",
       "      <td>NaN</td>\n",
       "    </tr>\n",
       "    <tr>\n",
       "      <td>10171</td>\n",
       "      <td>NaN</td>\n",
       "      <td>NaN</td>\n",
       "      <td>NaN</td>\n",
       "      <td>NaN</td>\n",
       "      <td>NaN</td>\n",
       "      <td>NaN</td>\n",
       "      <td>NaN</td>\n",
       "      <td>NaN</td>\n",
       "      <td>NaN</td>\n",
       "      <td>NaN</td>\n",
       "      <td>...</td>\n",
       "      <td>NaN</td>\n",
       "      <td>NaN</td>\n",
       "      <td>NaN</td>\n",
       "      <td>NaN</td>\n",
       "      <td>NaN</td>\n",
       "      <td>NaN</td>\n",
       "      <td>NaN</td>\n",
       "      <td>NaN</td>\n",
       "      <td>NaN</td>\n",
       "      <td>NaN</td>\n",
       "    </tr>\n",
       "    <tr>\n",
       "      <td>10172</td>\n",
       "      <td>NaN</td>\n",
       "      <td>NaN</td>\n",
       "      <td>NaN</td>\n",
       "      <td>NaN</td>\n",
       "      <td>NaN</td>\n",
       "      <td>NaN</td>\n",
       "      <td>NaN</td>\n",
       "      <td>NaN</td>\n",
       "      <td>NaN</td>\n",
       "      <td>NaN</td>\n",
       "      <td>...</td>\n",
       "      <td>NaN</td>\n",
       "      <td>NaN</td>\n",
       "      <td>155.0</td>\n",
       "      <td>135.0</td>\n",
       "      <td>NaN</td>\n",
       "      <td>195.0</td>\n",
       "      <td>42.0</td>\n",
       "      <td>NaN</td>\n",
       "      <td>NaN</td>\n",
       "      <td>NaN</td>\n",
       "    </tr>\n",
       "    <tr>\n",
       "      <td>10173</td>\n",
       "      <td>NaN</td>\n",
       "      <td>NaN</td>\n",
       "      <td>NaN</td>\n",
       "      <td>NaN</td>\n",
       "      <td>NaN</td>\n",
       "      <td>NaN</td>\n",
       "      <td>NaN</td>\n",
       "      <td>NaN</td>\n",
       "      <td>NaN</td>\n",
       "      <td>NaN</td>\n",
       "      <td>...</td>\n",
       "      <td>NaN</td>\n",
       "      <td>NaN</td>\n",
       "      <td>NaN</td>\n",
       "      <td>NaN</td>\n",
       "      <td>NaN</td>\n",
       "      <td>NaN</td>\n",
       "      <td>NaN</td>\n",
       "      <td>NaN</td>\n",
       "      <td>NaN</td>\n",
       "      <td>NaN</td>\n",
       "    </tr>\n",
       "    <tr>\n",
       "      <td>10174</td>\n",
       "      <td>NaN</td>\n",
       "      <td>NaN</td>\n",
       "      <td>NaN</td>\n",
       "      <td>NaN</td>\n",
       "      <td>NaN</td>\n",
       "      <td>NaN</td>\n",
       "      <td>NaN</td>\n",
       "      <td>NaN</td>\n",
       "      <td>NaN</td>\n",
       "      <td>NaN</td>\n",
       "      <td>...</td>\n",
       "      <td>NaN</td>\n",
       "      <td>NaN</td>\n",
       "      <td>NaN</td>\n",
       "      <td>NaN</td>\n",
       "      <td>NaN</td>\n",
       "      <td>NaN</td>\n",
       "      <td>NaN</td>\n",
       "      <td>3.0</td>\n",
       "      <td>3.0</td>\n",
       "      <td>2.0</td>\n",
       "    </tr>\n",
       "  </tbody>\n",
       "</table>\n",
       "<p>10175 rows × 1816 columns</p>\n",
       "</div>"
      ],
      "text/plain": [
       "          SEQN         WTDRD1         WTDR2D  DR1DRSTZ  DR1EXMER  DRABF  \\\n",
       "0      73557.0   16888.327864   12930.890649       1.0      49.0    2.0   \n",
       "1      73558.0   17932.143865   12684.148869       1.0      59.0    2.0   \n",
       "2      73559.0   59641.812930   39394.236709       1.0      49.0    2.0   \n",
       "3      73560.0  142203.069917  125966.366442       1.0      54.0    2.0   \n",
       "4      73561.0   59052.357033   39004.892993       1.0      63.0    2.0   \n",
       "...        ...            ...            ...       ...       ...    ...   \n",
       "10170      NaN            NaN            NaN       NaN       NaN    NaN   \n",
       "10171      NaN            NaN            NaN       NaN       NaN    NaN   \n",
       "10172      NaN            NaN            NaN       NaN       NaN    NaN   \n",
       "10173      NaN            NaN            NaN       NaN       NaN    NaN   \n",
       "10174      NaN            NaN            NaN       NaN       NaN    NaN   \n",
       "\n",
       "       DRDINT  DR1DBIH  DR1DAY  DR1LANG  ...  WHD080U  WHD080L  WHD110  \\\n",
       "0         2.0      6.0     2.0      1.0  ...      NaN     40.0   270.0   \n",
       "1         2.0      4.0     1.0      1.0  ...      NaN      NaN   240.0   \n",
       "2         2.0     18.0     6.0      1.0  ...      NaN      NaN   180.0   \n",
       "3         2.0     21.0     3.0      1.0  ...      NaN      NaN     NaN   \n",
       "4         2.0     18.0     1.0      1.0  ...      NaN      NaN   150.0   \n",
       "...       ...      ...     ...      ...  ...      ...      ...     ...   \n",
       "10170     NaN      NaN     NaN      NaN  ...      NaN      NaN     NaN   \n",
       "10171     NaN      NaN     NaN      NaN  ...      NaN      NaN     NaN   \n",
       "10172     NaN      NaN     NaN      NaN  ...      NaN      NaN   155.0   \n",
       "10173     NaN      NaN     NaN      NaN  ...      NaN      NaN     NaN   \n",
       "10174     NaN      NaN     NaN      NaN  ...      NaN      NaN     NaN   \n",
       "\n",
       "       WHD120  WHD130  WHD140  WHQ150  WHQ030M  WHQ500  WHQ520  \n",
       "0       200.0    69.0   270.0    62.0      NaN     NaN     NaN  \n",
       "1       250.0    72.0   250.0    25.0      NaN     NaN     NaN  \n",
       "2       190.0    70.0   228.0    35.0      NaN     NaN     NaN  \n",
       "3         NaN     NaN     NaN     NaN      3.0     3.0     3.0  \n",
       "4       135.0    67.0   170.0    60.0      NaN     NaN     NaN  \n",
       "...       ...     ...     ...     ...      ...     ...     ...  \n",
       "10170     NaN     NaN   150.0    26.0      NaN     NaN     NaN  \n",
       "10171     NaN     NaN     NaN     NaN      NaN     NaN     NaN  \n",
       "10172   135.0     NaN   195.0    42.0      NaN     NaN     NaN  \n",
       "10173     NaN     NaN     NaN     NaN      NaN     NaN     NaN  \n",
       "10174     NaN     NaN     NaN     NaN      3.0     3.0     2.0  \n",
       "\n",
       "[10175 rows x 1816 columns]"
      ]
     },
     "execution_count": 6,
     "metadata": {},
     "output_type": "execute_result"
    }
   ],
   "source": [
    "list_dfs = [pd.read_csv(os.path.abspath(file)) for file in files[1:]]\n",
    "df = pd.concat(list_dfs,axis=1)\n",
    "df"
   ]
  },
  {
   "cell_type": "code",
   "execution_count": 3,
   "metadata": {
    "ExecuteTime": {
     "end_time": "2020-01-24T16:21:25.223424Z",
     "start_time": "2020-01-24T16:21:24.566713Z"
    }
   },
   "outputs": [
    {
     "data": {
      "text/plain": [
       "Index(['OHX02CTC', 'OHX03CTC', 'OHX04CTC', 'OHX05CTC', 'OHX06CTC', 'OHX07CTC',\n",
       "       'OHX08CTC', 'OHX09CTC', 'OHX10CTC', 'OHX11CTC', 'OHX12CTC', 'OHX13CTC',\n",
       "       'OHX14CTC', 'OHX15CTC', 'OHX18CTC', 'OHX19CTC', 'OHX20CTC', 'OHX21CTC',\n",
       "       'OHX22CTC', 'OHX23CTC', 'OHX24CTC', 'OHX25CTC', 'OHX26CTC', 'OHX27CTC',\n",
       "       'OHX28CTC', 'OHX29CTC', 'OHX30CTC', 'OHX31CTC', 'CSXTSEQ', 'SMDUPCA',\n",
       "       'SMD100BR'],\n",
       "      dtype='object')"
      ]
     },
     "execution_count": 3,
     "metadata": {},
     "output_type": "execute_result"
    }
   ],
   "source": [
    "\n",
    "cat_cols = df.select_dtypes('O').columns\n",
    "cat_cols"
   ]
  },
  {
   "cell_type": "code",
   "execution_count": 4,
   "metadata": {
    "ExecuteTime": {
     "end_time": "2020-01-24T16:21:27.534653Z",
     "start_time": "2020-01-24T16:21:27.228746Z"
    }
   },
   "outputs": [
    {
     "data": {
      "text/html": [
       "<div>\n",
       "<style scoped>\n",
       "    .dataframe tbody tr th:only-of-type {\n",
       "        vertical-align: middle;\n",
       "    }\n",
       "\n",
       "    .dataframe tbody tr th {\n",
       "        vertical-align: top;\n",
       "    }\n",
       "\n",
       "    .dataframe thead th {\n",
       "        text-align: right;\n",
       "    }\n",
       "</style>\n",
       "<table border=\"1\" class=\"dataframe\">\n",
       "  <thead>\n",
       "    <tr style=\"text-align: right;\">\n",
       "      <th></th>\n",
       "      <th>OHX02CTC</th>\n",
       "      <th>OHX03CTC</th>\n",
       "      <th>OHX04CTC</th>\n",
       "      <th>OHX05CTC</th>\n",
       "      <th>OHX06CTC</th>\n",
       "      <th>OHX07CTC</th>\n",
       "      <th>OHX08CTC</th>\n",
       "      <th>OHX09CTC</th>\n",
       "      <th>OHX10CTC</th>\n",
       "      <th>OHX11CTC</th>\n",
       "      <th>...</th>\n",
       "      <th>OHX25CTC</th>\n",
       "      <th>OHX26CTC</th>\n",
       "      <th>OHX27CTC</th>\n",
       "      <th>OHX28CTC</th>\n",
       "      <th>OHX29CTC</th>\n",
       "      <th>OHX30CTC</th>\n",
       "      <th>OHX31CTC</th>\n",
       "      <th>CSXTSEQ</th>\n",
       "      <th>SMDUPCA</th>\n",
       "      <th>SMD100BR</th>\n",
       "    </tr>\n",
       "  </thead>\n",
       "  <tbody>\n",
       "    <tr>\n",
       "      <td>0</td>\n",
       "      <td>3</td>\n",
       "      <td>3</td>\n",
       "      <td>5</td>\n",
       "      <td>5</td>\n",
       "      <td>5</td>\n",
       "      <td>5</td>\n",
       "      <td>5</td>\n",
       "      <td>5</td>\n",
       "      <td>5</td>\n",
       "      <td>5</td>\n",
       "      <td>...</td>\n",
       "      <td>4</td>\n",
       "      <td>5</td>\n",
       "      <td>5</td>\n",
       "      <td>5</td>\n",
       "      <td>5</td>\n",
       "      <td>3</td>\n",
       "      <td>3</td>\n",
       "      <td>1</td>\n",
       "      <td>208</td>\n",
       "      <td>130</td>\n",
       "    </tr>\n",
       "    <tr>\n",
       "      <td>1</td>\n",
       "      <td>10</td>\n",
       "      <td>1</td>\n",
       "      <td>8</td>\n",
       "      <td>8</td>\n",
       "      <td>8</td>\n",
       "      <td>8</td>\n",
       "      <td>8</td>\n",
       "      <td>8</td>\n",
       "      <td>8</td>\n",
       "      <td>8</td>\n",
       "      <td>...</td>\n",
       "      <td>7</td>\n",
       "      <td>8</td>\n",
       "      <td>8</td>\n",
       "      <td>12</td>\n",
       "      <td>8</td>\n",
       "      <td>0</td>\n",
       "      <td>0</td>\n",
       "      <td>0</td>\n",
       "      <td>208</td>\n",
       "      <td>130</td>\n",
       "    </tr>\n",
       "    <tr>\n",
       "      <td>2</td>\n",
       "      <td>10</td>\n",
       "      <td>11</td>\n",
       "      <td>11</td>\n",
       "      <td>8</td>\n",
       "      <td>8</td>\n",
       "      <td>8</td>\n",
       "      <td>8</td>\n",
       "      <td>13</td>\n",
       "      <td>8</td>\n",
       "      <td>8</td>\n",
       "      <td>...</td>\n",
       "      <td>7</td>\n",
       "      <td>8</td>\n",
       "      <td>8</td>\n",
       "      <td>8</td>\n",
       "      <td>12</td>\n",
       "      <td>10</td>\n",
       "      <td>0</td>\n",
       "      <td>0</td>\n",
       "      <td>208</td>\n",
       "      <td>130</td>\n",
       "    </tr>\n",
       "    <tr>\n",
       "      <td>3</td>\n",
       "      <td>7</td>\n",
       "      <td>6</td>\n",
       "      <td>0</td>\n",
       "      <td>3</td>\n",
       "      <td>9</td>\n",
       "      <td>8</td>\n",
       "      <td>8</td>\n",
       "      <td>8</td>\n",
       "      <td>8</td>\n",
       "      <td>9</td>\n",
       "      <td>...</td>\n",
       "      <td>7</td>\n",
       "      <td>8</td>\n",
       "      <td>9</td>\n",
       "      <td>0</td>\n",
       "      <td>0</td>\n",
       "      <td>6</td>\n",
       "      <td>8</td>\n",
       "      <td>2</td>\n",
       "      <td>208</td>\n",
       "      <td>130</td>\n",
       "    </tr>\n",
       "    <tr>\n",
       "      <td>4</td>\n",
       "      <td>0</td>\n",
       "      <td>11</td>\n",
       "      <td>1</td>\n",
       "      <td>13</td>\n",
       "      <td>12</td>\n",
       "      <td>13</td>\n",
       "      <td>7</td>\n",
       "      <td>7</td>\n",
       "      <td>12</td>\n",
       "      <td>12</td>\n",
       "      <td>...</td>\n",
       "      <td>12</td>\n",
       "      <td>8</td>\n",
       "      <td>11</td>\n",
       "      <td>1</td>\n",
       "      <td>1</td>\n",
       "      <td>0</td>\n",
       "      <td>0</td>\n",
       "      <td>0</td>\n",
       "      <td>208</td>\n",
       "      <td>130</td>\n",
       "    </tr>\n",
       "    <tr>\n",
       "      <td>...</td>\n",
       "      <td>...</td>\n",
       "      <td>...</td>\n",
       "      <td>...</td>\n",
       "      <td>...</td>\n",
       "      <td>...</td>\n",
       "      <td>...</td>\n",
       "      <td>...</td>\n",
       "      <td>...</td>\n",
       "      <td>...</td>\n",
       "      <td>...</td>\n",
       "      <td>...</td>\n",
       "      <td>...</td>\n",
       "      <td>...</td>\n",
       "      <td>...</td>\n",
       "      <td>...</td>\n",
       "      <td>...</td>\n",
       "      <td>...</td>\n",
       "      <td>...</td>\n",
       "      <td>...</td>\n",
       "      <td>...</td>\n",
       "      <td>...</td>\n",
       "    </tr>\n",
       "    <tr>\n",
       "      <td>10170</td>\n",
       "      <td>11</td>\n",
       "      <td>12</td>\n",
       "      <td>12</td>\n",
       "      <td>14</td>\n",
       "      <td>13</td>\n",
       "      <td>14</td>\n",
       "      <td>14</td>\n",
       "      <td>14</td>\n",
       "      <td>13</td>\n",
       "      <td>13</td>\n",
       "      <td>...</td>\n",
       "      <td>13</td>\n",
       "      <td>13</td>\n",
       "      <td>12</td>\n",
       "      <td>13</td>\n",
       "      <td>13</td>\n",
       "      <td>11</td>\n",
       "      <td>11</td>\n",
       "      <td>2</td>\n",
       "      <td>208</td>\n",
       "      <td>130</td>\n",
       "    </tr>\n",
       "    <tr>\n",
       "      <td>10171</td>\n",
       "      <td>11</td>\n",
       "      <td>12</td>\n",
       "      <td>12</td>\n",
       "      <td>14</td>\n",
       "      <td>13</td>\n",
       "      <td>14</td>\n",
       "      <td>14</td>\n",
       "      <td>14</td>\n",
       "      <td>13</td>\n",
       "      <td>13</td>\n",
       "      <td>...</td>\n",
       "      <td>13</td>\n",
       "      <td>13</td>\n",
       "      <td>12</td>\n",
       "      <td>13</td>\n",
       "      <td>13</td>\n",
       "      <td>11</td>\n",
       "      <td>11</td>\n",
       "      <td>2</td>\n",
       "      <td>208</td>\n",
       "      <td>130</td>\n",
       "    </tr>\n",
       "    <tr>\n",
       "      <td>10172</td>\n",
       "      <td>11</td>\n",
       "      <td>12</td>\n",
       "      <td>12</td>\n",
       "      <td>14</td>\n",
       "      <td>13</td>\n",
       "      <td>14</td>\n",
       "      <td>14</td>\n",
       "      <td>14</td>\n",
       "      <td>13</td>\n",
       "      <td>13</td>\n",
       "      <td>...</td>\n",
       "      <td>13</td>\n",
       "      <td>13</td>\n",
       "      <td>12</td>\n",
       "      <td>13</td>\n",
       "      <td>13</td>\n",
       "      <td>11</td>\n",
       "      <td>11</td>\n",
       "      <td>2</td>\n",
       "      <td>208</td>\n",
       "      <td>130</td>\n",
       "    </tr>\n",
       "    <tr>\n",
       "      <td>10173</td>\n",
       "      <td>11</td>\n",
       "      <td>12</td>\n",
       "      <td>12</td>\n",
       "      <td>14</td>\n",
       "      <td>13</td>\n",
       "      <td>14</td>\n",
       "      <td>14</td>\n",
       "      <td>14</td>\n",
       "      <td>13</td>\n",
       "      <td>13</td>\n",
       "      <td>...</td>\n",
       "      <td>13</td>\n",
       "      <td>13</td>\n",
       "      <td>12</td>\n",
       "      <td>13</td>\n",
       "      <td>13</td>\n",
       "      <td>11</td>\n",
       "      <td>11</td>\n",
       "      <td>2</td>\n",
       "      <td>208</td>\n",
       "      <td>130</td>\n",
       "    </tr>\n",
       "    <tr>\n",
       "      <td>10174</td>\n",
       "      <td>11</td>\n",
       "      <td>12</td>\n",
       "      <td>12</td>\n",
       "      <td>14</td>\n",
       "      <td>13</td>\n",
       "      <td>14</td>\n",
       "      <td>14</td>\n",
       "      <td>14</td>\n",
       "      <td>13</td>\n",
       "      <td>13</td>\n",
       "      <td>...</td>\n",
       "      <td>13</td>\n",
       "      <td>13</td>\n",
       "      <td>12</td>\n",
       "      <td>13</td>\n",
       "      <td>13</td>\n",
       "      <td>11</td>\n",
       "      <td>11</td>\n",
       "      <td>2</td>\n",
       "      <td>208</td>\n",
       "      <td>130</td>\n",
       "    </tr>\n",
       "  </tbody>\n",
       "</table>\n",
       "<p>10175 rows × 31 columns</p>\n",
       "</div>"
      ],
      "text/plain": [
       "       OHX02CTC  OHX03CTC  OHX04CTC  OHX05CTC  OHX06CTC  OHX07CTC  OHX08CTC  \\\n",
       "0             3         3         5         5         5         5         5   \n",
       "1            10         1         8         8         8         8         8   \n",
       "2            10        11        11         8         8         8         8   \n",
       "3             7         6         0         3         9         8         8   \n",
       "4             0        11         1        13        12        13         7   \n",
       "...         ...       ...       ...       ...       ...       ...       ...   \n",
       "10170        11        12        12        14        13        14        14   \n",
       "10171        11        12        12        14        13        14        14   \n",
       "10172        11        12        12        14        13        14        14   \n",
       "10173        11        12        12        14        13        14        14   \n",
       "10174        11        12        12        14        13        14        14   \n",
       "\n",
       "       OHX09CTC  OHX10CTC  OHX11CTC  ...  OHX25CTC  OHX26CTC  OHX27CTC  \\\n",
       "0             5         5         5  ...         4         5         5   \n",
       "1             8         8         8  ...         7         8         8   \n",
       "2            13         8         8  ...         7         8         8   \n",
       "3             8         8         9  ...         7         8         9   \n",
       "4             7        12        12  ...        12         8        11   \n",
       "...         ...       ...       ...  ...       ...       ...       ...   \n",
       "10170        14        13        13  ...        13        13        12   \n",
       "10171        14        13        13  ...        13        13        12   \n",
       "10172        14        13        13  ...        13        13        12   \n",
       "10173        14        13        13  ...        13        13        12   \n",
       "10174        14        13        13  ...        13        13        12   \n",
       "\n",
       "       OHX28CTC  OHX29CTC  OHX30CTC  OHX31CTC  CSXTSEQ  SMDUPCA  SMD100BR  \n",
       "0             5         5         3         3        1      208       130  \n",
       "1            12         8         0         0        0      208       130  \n",
       "2             8        12        10         0        0      208       130  \n",
       "3             0         0         6         8        2      208       130  \n",
       "4             1         1         0         0        0      208       130  \n",
       "...         ...       ...       ...       ...      ...      ...       ...  \n",
       "10170        13        13        11        11        2      208       130  \n",
       "10171        13        13        11        11        2      208       130  \n",
       "10172        13        13        11        11        2      208       130  \n",
       "10173        13        13        11        11        2      208       130  \n",
       "10174        13        13        11        11        2      208       130  \n",
       "\n",
       "[10175 rows x 31 columns]"
      ]
     },
     "execution_count": 4,
     "metadata": {},
     "output_type": "execute_result"
    }
   ],
   "source": [
    "encoders = {}\n",
    "\n",
    "for col in cat_cols:\n",
    "    try:\n",
    "        encoders[col] = LabelEncoder()\n",
    "        df[col] = encoders[col].fit_transform(df[col].fillna('missing'))\n",
    "    except:\n",
    "        print(f\"Error with column {col}\")\n",
    "    \n",
    "df[cat_cols]"
   ]
  },
  {
   "cell_type": "code",
   "execution_count": null,
   "metadata": {
    "ExecuteTime": {
     "end_time": "2020-01-24T04:43:45.385552Z",
     "start_time": "2020-01-24T04:43:45.339651Z"
    }
   },
   "outputs": [],
   "source": [
    "## Finding the columns with all null values\n",
    "col_nans = df.isna().sum(axis=0)\n",
    "col_nans[col_nans==len(df)]"
   ]
  },
  {
   "cell_type": "code",
   "execution_count": null,
   "metadata": {
    "ExecuteTime": {
     "end_time": "2020-01-24T03:53:58.443240Z",
     "start_time": "2020-01-24T03:53:58.439341Z"
    }
   },
   "outputs": [],
   "source": [
    "# Calculate the variance explained by priciple components\n",
    "print('Variance of each component:', pca.explained_variance_ratio_)\n",
    "print('\\n Total Variance Explained:', round(sum(list(pca.explained_variance_ratio_))*100, 2))"
   ]
  },
  {
   "cell_type": "code",
   "execution_count": null,
   "metadata": {
    "ExecuteTime": {
     "end_time": "2020-01-24T04:44:36.543345Z",
     "start_time": "2020-01-24T04:44:36.457481Z"
    }
   },
   "outputs": [],
   "source": [
    "df = df.drop(columns=col_nans[col_nans==len(df)].index)"
   ]
  },
  {
   "cell_type": "code",
   "execution_count": null,
   "metadata": {
    "ExecuteTime": {
     "end_time": "2020-01-24T04:44:48.908841Z",
     "start_time": "2020-01-24T04:44:47.335589Z"
    }
   },
   "outputs": [],
   "source": [
    "pipe = Pipeline([('imp',SimpleImputer(strategy='most_frequent',verbose=1)),\n",
    "                 ('sca',StandardScaler())])\n",
    "#                 ('pca',PCA(n_components=20))])\n",
    "\n",
    "pipe.fit(df)"
   ]
  },
  {
   "cell_type": "code",
   "execution_count": null,
   "metadata": {
    "ExecuteTime": {
     "end_time": "2020-01-24T04:45:26.818758Z",
     "start_time": "2020-01-24T04:45:25.305749Z"
    }
   },
   "outputs": [],
   "source": [
    "data = pd.DataFrame(pipe.fit_transform(df), columns=df.columns)"
   ]
  },
  {
   "cell_type": "code",
   "execution_count": null,
   "metadata": {
    "ExecuteTime": {
     "end_time": "2020-01-24T04:45:28.320383Z",
     "start_time": "2020-01-24T04:45:27.849649Z"
    }
   },
   "outputs": [],
   "source": [
    "\n",
    "pca = PCA(20)\n",
    "principalComponents = pca.fit_transform(data)\n",
    "features = [f'PC{i+1}' for i in range(20)]#range(1, pca.n_components_+1)\n",
    "\n",
    "explained =  pd.Series(pca.explained_variance_ratio_,index=features)\n",
    "\n",
    "PCA_components = pd.DataFrame(principalComponents,\n",
    "                             columns=features)"
   ]
  },
  {
   "cell_type": "code",
   "execution_count": null,
   "metadata": {
    "ExecuteTime": {
     "end_time": "2020-01-24T04:50:26.679578Z",
     "start_time": "2020-01-24T04:50:26.454434Z"
    }
   },
   "outputs": [],
   "source": [
    "ax = explained.sort_values().plot(kind='barh')\n",
    "ax.set(xlabel='PCA features', ylabel = 'variance %')#,xticks=features)"
   ]
  },
  {
   "cell_type": "code",
   "execution_count": null,
   "metadata": {
    "ExecuteTime": {
     "end_time": "2020-01-24T04:49:25.058894Z",
     "start_time": "2020-01-24T04:49:24.822576Z"
    }
   },
   "outputs": [],
   "source": [
    "plt.scatter(PCA_components['PC1'], PCA_components['PC2'], alpha=.1, color='black')\n",
    "plt.xlabel('PCA 1')\n",
    "plt.ylabel('PCA 2')"
   ]
  },
  {
   "cell_type": "code",
   "execution_count": null,
   "metadata": {
    "ExecuteTime": {
     "end_time": "2020-01-24T04:47:21.700527Z",
     "start_time": "2020-01-24T04:47:21.106040Z"
    }
   },
   "outputs": [],
   "source": [
    "from ipywidgets import interact\n",
    "@interact(xcol=PCA_components.columns,ycol=PCA_components.columns[1:])\n",
    "def plot_pca(xcol,ycol):\n",
    "    PCA_components.plot(figsize=(10,10),kind='scatter',\n",
    "                        x=xcol,y=ycol, \n",
    "                        c=sns.color_palette('RdBu', n_colors=len(PCA_components)))"
   ]
  },
  {
   "cell_type": "code",
   "execution_count": null,
   "metadata": {
    "ExecuteTime": {
     "end_time": "2020-01-24T04:59:42.646600Z",
     "start_time": "2020-01-24T04:59:42.042830Z"
    }
   },
   "outputs": [],
   "source": [
    "import ipywidgets as widgets\n",
    "from ipywidgets import interact\n",
    "import plotly.express as px\n",
    "from mpl_toolkits import mplot3d\n",
    "pca_cols = PCA_components.columns\n",
    "\n",
    "@interact\n",
    "def plot_3d(xcol=pca_cols,\n",
    "            ycol=[*pca_cols[1:],pca_cols[0]],\n",
    "            zcol=[*pca_cols[2:],pca_cols[:1]]):\n",
    "    \n",
    "    ax = plt.axes(projection='3d')\n",
    "    fig = ax.get_figure()\n",
    "    fig.set_size_inches(12,12)\n",
    "\n",
    "    ax.scatter3D(PCA_components[xcol],PCA_components[ycol],PCA_components[zcol],c = sns.color_palette('RdBu', n_colors=len(PCA_components)),alpha=0.2,s=2)\n",
    "    ax.set(xlabel=xcol,ylabel=ycol,zlabel=zcol)\n"
   ]
  },
  {
   "cell_type": "code",
   "execution_count": null,
   "metadata": {
    "ExecuteTime": {
     "end_time": "2020-01-24T05:33:24.385667Z",
     "start_time": "2020-01-24T05:33:22.985137Z"
    }
   },
   "outputs": [],
   "source": [
    "ks = range(1, 10)\n",
    "inertias = []\n",
    "cal_har_score = [] \n",
    "from sklearn.metrics import calinski_harabasz_score\n",
    "for k in ks:\n",
    "    # Create a KMeans instance with k clusters: model\n",
    "    model = KMeans(n_clusters=k\n",
    "    \n",
    "    # Fit model to samples\n",
    "    model.fit(PCA_components.iloc[:,:3])\n",
    "#     preds_temp = model.pred\n",
    "    \n",
    "    # Append the inertia to the list of inertias\n",
    "    inertias.append(model.inertia_)\n",
    "#     cal_har_score.append(calinski_harabasz_score(PCA_components))\n",
    "    \n",
    "plt.plot(ks, inertias, '-o', color='black')\n",
    "plt.xlabel('number of clusters, k')\n",
    "plt.ylabel('inertia')\n",
    "plt.xticks(ks)\n",
    "plt.show()"
   ]
  },
  {
   "cell_type": "code",
   "execution_count": null,
   "metadata": {
    "ExecuteTime": {
     "end_time": "2020-01-24T04:59:48.040961Z",
     "start_time": "2020-01-24T04:59:47.784177Z"
    }
   },
   "outputs": [],
   "source": [
    "model = KMeans(4)\n",
    "model.fit(PCA_components)\n",
    "preds = model.predict(PCA_components)\n",
    "preds"
   ]
  },
  {
   "cell_type": "code",
   "execution_count": null,
   "metadata": {
    "ExecuteTime": {
     "end_time": "2020-01-24T05:03:08.250646Z",
     "start_time": "2020-01-24T05:03:08.246507Z"
    }
   },
   "outputs": [],
   "source": [
    "PCA_components['cluster'] = preds\n",
    "df['cluster'] = preds"
   ]
  },
  {
   "cell_type": "code",
   "execution_count": null,
   "metadata": {
    "ExecuteTime": {
     "end_time": "2020-01-24T05:25:14.867185Z",
     "start_time": "2020-01-24T05:25:14.413877Z"
    }
   },
   "outputs": [],
   "source": [
    "def get_pca(data,n_components=20):\n",
    "    pca = PCA(n_components)\n",
    "    principalComponents = pca.fit_transform(data)\n",
    "    features = [f'PC{i+1}' for i in range(n_components)] #range(1, pca.n_components_+1)\n",
    "\n",
    "    explained =  pd.Series(pca.explained_variance_ratio_,index=features)\n",
    "\n",
    "    PCA_components = pd.DataFrame(principalComponents,\n",
    "                                 columns=features)\n",
    "    return PCA_components#, explained\n",
    "\n",
    "df_pca = get_pca(data,20)\n",
    "df_pca"
   ]
  },
  {
   "cell_type": "code",
   "execution_count": null,
   "metadata": {
    "ExecuteTime": {
     "end_time": "2020-01-24T05:22:47.264281Z",
     "start_time": "2020-01-24T05:22:46.301777Z"
    }
   },
   "outputs": [],
   "source": [
    "import ipywidgets as widgets\n",
    "from ipywidgets import interact\n",
    "import plotly.express as px\n",
    "from mpl_toolkits import mplot3d\n",
    "pca_cols = PCA_components.columns\n",
    "\n",
    "\n",
    "\n",
    "@interact(xcol=pca_cols,ycol=pca_cols, zcol=pca_cols)\n",
    "def plot_3d(xcol=pca_cols,ycol=pca_cols[1], zcol=pca_cols[2],K=(0,10),n=list(range(1,len(data)))):\n",
    "    \n",
    "    model = KMeans(K)\n",
    "\n",
    "    model.fit(PCA_components)\n",
    "\n",
    "    preds = model.predict(PCA_components)\n",
    "\n",
    "    \n",
    "    ax = plt.axes(projection='3d')\n",
    "    fig = ax.get_figure()\n",
    "    fig.set_size_inches(10,10)\n",
    "\n",
    "    ax.scatter3D(PCA_components[xcol],PCA_components[ycol],PCA_components[zcol],alpha=0.2,s=2,c=preds)\n",
    "    ax.set(xlabel=xcol,ylabel=ycol,zlabel=zcol, title=f\"{K} clusters\")\n",
    "#     ax.set(xlabel=)"
   ]
  },
  {
   "cell_type": "code",
   "execution_count": null,
   "metadata": {
    "ExecuteTime": {
     "end_time": "2020-01-24T05:26:26.215812Z",
     "start_time": "2020-01-24T05:26:25.650156Z"
    },
    "scrolled": true
   },
   "outputs": [],
   "source": [
    "@interact(xcol=pca_cols,ycol=pca_cols, zcol=pca_cols)\n",
    "def plotly_clusters(xcol=pca_cols[0],ycol=pca_cols[1],zcol=pca_cols[2]):\n",
    "    fig = px.scatter_3d(PCA_components,x=xcol,y=ycol, z=zcol,symbol='cluster',color='cluster')\n",
    "    fig.update_traces(marker=dict(size=2))\n",
    "    return fig "
   ]
  },
  {
   "cell_type": "code",
   "execution_count": null,
   "metadata": {
    "ExecuteTime": {
     "end_time": "2020-01-24T05:05:38.975872Z",
     "start_time": "2020-01-24T05:05:38.973602Z"
    }
   },
   "outputs": [],
   "source": [
    "# raw_cols = df.columns\n",
    "# @interact(xcol=raw_cols,ycol=raw_cols, zcol=raw_cols)\n",
    "# def plotly_clusters(xcol=raw_cols[0],ycol=raw_cols[1],zcol=raw_cols[2]):\n",
    "#     fig = px.scatter_3d(df,x=xcol,y=ycol, z=zcol,symbol='cluster',color='cluster')\n",
    "#     fig.update_traces(marker=dict(size=2))\n",
    "#     return fig "
   ]
  },
  {
   "cell_type": "code",
   "execution_count": null,
   "metadata": {
    "ExecuteTime": {
     "end_time": "2020-01-24T05:28:55.602315Z",
     "start_time": "2020-01-24T05:28:55.592533Z"
    }
   },
   "outputs": [],
   "source": [
    "# This code builds on the previous example\n",
    "from sklearn.metrics import calinski_harabasz_score\n",
    "\n",
    "# Note that we could also pass in k_means.labels_ instead of cluster_assignments\n",
    "print(calinski_harabasz_score(PCA_components, preds))"
   ]
  },
  {
   "cell_type": "markdown",
   "metadata": {},
   "source": [
    "### 4.1 The silhouette coefficient"
   ]
  },
  {
   "cell_type": "markdown",
   "metadata": {},
   "source": [
    "If the actual cluster labels are unknown, the model itself must be used for evaluation. When calculating the Silhouette Coefficient, a higher score means that you ended up with a model with better defined clusters. Two scores are used to generate the silhouette coefficient:\n",
    "\n",
    "- **a** is the average distance between one data sample and all other points in the same cluster\n",
    "- **b**: The average distance between one data sample and all other points in the next nearest cluster.\n",
    "\n",
    "The silhouette coefficient is then given by:\n",
    "\n",
    "$$ s = \\dfrac{(b-a)}{max(b-a)} $$"
   ]
  },
  {
   "cell_type": "markdown",
   "metadata": {},
   "source": [
    "## TO DO: Feed the k-means clusters as targets into RandomForest Classifier to learn feature importance"
   ]
  },
  {
   "cell_type": "code",
   "execution_count": null,
   "metadata": {
    "ExecuteTime": {
     "end_time": "2020-01-24T05:19:08.032291Z",
     "start_time": "2020-01-24T05:19:08.027653Z"
    }
   },
   "outputs": [],
   "source": [
    "set(preds)"
   ]
  },
  {
   "cell_type": "code",
   "execution_count": null,
   "metadata": {},
   "outputs": [],
   "source": []
  },
  {
   "cell_type": "code",
   "execution_count": null,
   "metadata": {},
   "outputs": [],
   "source": []
  },
  {
   "cell_type": "markdown",
   "metadata": {
    "heading_collapsed": true
   },
   "source": [
    "# Back to our Iowa Prisoners"
   ]
  },
  {
   "cell_type": "code",
   "execution_count": null,
   "metadata": {
    "ExecuteTime": {
     "end_time": "2020-01-24T03:54:06.077675Z",
     "start_time": "2020-01-24T03:54:06.015376Z"
    },
    "hidden": true
   },
   "outputs": [],
   "source": [
    "from sklearn.decomposition import PCA\n",
    "df = pd.read_csv('../datasets/iowa_prisoners_processed.csv')\n",
    "df.head()"
   ]
  },
  {
   "cell_type": "code",
   "execution_count": null,
   "metadata": {
    "ExecuteTime": {
     "end_time": "2020-01-24T03:54:06.458769Z",
     "start_time": "2020-01-24T03:54:06.399784Z"
    },
    "hidden": true
   },
   "outputs": [],
   "source": [
    "## Encode categorical features\n",
    "df = pd.get_dummies(df, drop_first=False,\n",
    "                    columns=df.drop(columns='age_released').columns)\n",
    "df"
   ]
  },
  {
   "cell_type": "code",
   "execution_count": null,
   "metadata": {
    "ExecuteTime": {
     "end_time": "2020-01-24T03:54:17.151670Z",
     "start_time": "2020-01-24T03:54:17.149173Z"
    },
    "hidden": true
   },
   "outputs": [],
   "source": [
    "from sklearn.decomposition import PCA\n",
    "pca = PCA(n_components=20)"
   ]
  },
  {
   "cell_type": "code",
   "execution_count": null,
   "metadata": {
    "ExecuteTime": {
     "end_time": "2020-01-24T03:54:18.755225Z",
     "start_time": "2020-01-24T03:54:18.723704Z"
    },
    "hidden": true
   },
   "outputs": [],
   "source": [
    "from sklearn.model_selection import train_test_split\n",
    "y = df['recidivist_Yes']\n",
    "X = df.drop(columns=['recidivist_Yes'])\n",
    "\n",
    "## Train test split\n",
    "X_train, X_test, y_train, y_test = train_test_split(X,y,test_size=0.25)\n",
    "\n",
    "## Check target class counts\n",
    "print(pd.Series(y_train).value_counts(normalize=True) )\n",
    "pd.Series(y_test).value_counts(normalize=True)\n"
   ]
  },
  {
   "cell_type": "code",
   "execution_count": null,
   "metadata": {
    "ExecuteTime": {
     "end_time": "2020-01-24T03:54:19.644123Z",
     "start_time": "2020-01-24T03:54:19.529693Z"
    },
    "hidden": true
   },
   "outputs": [],
   "source": [
    "X_train_pca =  pca.fit_transform(X_train)\n",
    "X_train_pca.shape"
   ]
  },
  {
   "cell_type": "code",
   "execution_count": null,
   "metadata": {
    "ExecuteTime": {
     "end_time": "2020-01-24T03:54:53.834907Z",
     "start_time": "2020-01-24T03:54:53.830819Z"
    },
    "hidden": true
   },
   "outputs": [],
   "source": [
    "pca_columns = [f\"PC{i+1}\" for i in range(1,X_train.shape[1])]\n",
    "pca_columns[:5]"
   ]
  },
  {
   "cell_type": "code",
   "execution_count": null,
   "metadata": {
    "ExecuteTime": {
     "end_time": "2020-01-24T03:54:58.716966Z",
     "start_time": "2020-01-24T03:54:58.714956Z"
    },
    "hidden": true
   },
   "outputs": [],
   "source": [
    "# X_train_pca = pd.DataFrame(X_train_pca, columns=pca_columns)\n",
    "# X_train_pca"
   ]
  },
  {
   "cell_type": "code",
   "execution_count": null,
   "metadata": {
    "ExecuteTime": {
     "end_time": "2020-01-24T03:55:00.697477Z",
     "start_time": "2020-01-24T03:55:00.681219Z"
    },
    "hidden": true
   },
   "outputs": [],
   "source": [
    "explained_variance = pd.Series(pca.explained_variance_ratio_,\n",
    "                                      index=pca_columns)\n",
    "# len(components_variance_ratio)\n",
    "explained_variance"
   ]
  },
  {
   "cell_type": "code",
   "execution_count": null,
   "metadata": {
    "hidden": true
   },
   "outputs": [],
   "source": []
  },
  {
   "cell_type": "code",
   "execution_count": null,
   "metadata": {
    "ExecuteTime": {
     "end_time": "2020-01-24T03:55:06.121510Z",
     "start_time": "2020-01-24T03:55:05.863134Z"
    },
    "hidden": true
   },
   "outputs": [],
   "source": [
    "import plotly.express as px\n",
    "from mpl_toolkits import mplot3d\n",
    "\n",
    "ax = plt.axes(projection='3d')\n",
    "fig = ax.get_figure()\n",
    "fig.set_size_inches(10,10)\n",
    "ax.scatter3D(X_train_pca.iloc[:,0],\n",
    "            X_train_pca.iloc[:,1],\n",
    "            X_train_pca.iloc[:,2],cmap='blues',s=1)\n",
    "ax.legend()\n"
   ]
  },
  {
   "cell_type": "code",
   "execution_count": null,
   "metadata": {
    "ExecuteTime": {
     "end_time": "2020-01-23T15:56:03.331375Z",
     "start_time": "2020-01-23T15:56:03.281447Z"
    },
    "hidden": true
   },
   "outputs": [],
   "source": [
    "df_pca = pd.concat([X_train_pca,y_train],axis=1)\n",
    "df_pca"
   ]
  },
  {
   "cell_type": "code",
   "execution_count": null,
   "metadata": {
    "ExecuteTime": {
     "end_time": "2020-01-23T15:56:04.705382Z",
     "start_time": "2020-01-23T15:56:03.332883Z"
    },
    "hidden": true
   },
   "outputs": [],
   "source": [
    "fig = px.scatter_3d(df_pca,x='comp_1',y='comp_2',z='comp_3',\n",
    "                   color='recidivist_Yes')\n",
    "fig.update_traces(marker=dict(size=2))"
   ]
  },
  {
   "cell_type": "markdown",
   "metadata": {
    "hidden": true
   },
   "source": [
    "## Using sklearn Pipelines (sect 39)"
   ]
  },
  {
   "cell_type": "code",
   "execution_count": null,
   "metadata": {
    "ExecuteTime": {
     "end_time": "2020-01-23T15:56:06.363984Z",
     "start_time": "2020-01-23T15:56:04.706463Z"
    },
    "hidden": true
   },
   "outputs": [],
   "source": [
    "from imblearn.over_sampling import ADASYN,SMOTE\n",
    "\n",
    "## Use SMOTE to resample X_train, y_train\n",
    "smote=SMOTE()\n",
    "\n",
    "X_train, y_train = smote.fit_sample(X_train, y_train)\n",
    "print(pd.Series(y_train).value_counts() )\n",
    "pd.Series(y_test).value_counts()"
   ]
  },
  {
   "cell_type": "markdown",
   "metadata": {
    "hidden": true
   },
   "source": [
    "## TO DO: \n",
    "- Include first 3 principle components as features for our SVC"
   ]
  },
  {
   "cell_type": "code",
   "execution_count": null,
   "metadata": {
    "ExecuteTime": {
     "end_time": "2020-01-23T15:56:06.370484Z",
     "start_time": "2020-01-23T15:56:06.365895Z"
    },
    "code_folding": [],
    "hidden": true
   },
   "outputs": [],
   "source": [
    "from sklearn.pipeline import Pipeline\n",
    "from sklearn.preprocessing import MinMaxScaler\n",
    "from sklearn.svm import SVC\n",
    "\n",
    "pipe = Pipeline([('pca', PCA(random_state=123)),\n",
    "         ('clf', SVC(random_state=123))])\n",
    "\n",
    "pipe_minmax = pipe = Pipeline([('sca',MinMaxScaler()),\n",
    "    ('pca', PCA(random_state=123)),\n",
    "         ('clf', SVC(random_state=123))])"
   ]
  },
  {
   "cell_type": "code",
   "execution_count": null,
   "metadata": {
    "ExecuteTime": {
     "end_time": "2020-01-23T15:56:06.380128Z",
     "start_time": "2020-01-23T15:56:06.373785Z"
    },
    "hidden": true
   },
   "outputs": [],
   "source": [
    "len(X_train.columns)"
   ]
  },
  {
   "cell_type": "code",
   "execution_count": null,
   "metadata": {
    "ExecuteTime": {
     "end_time": "2020-01-23T15:56:06.387315Z",
     "start_time": "2020-01-23T15:56:06.382386Z"
    },
    "hidden": true
   },
   "outputs": [],
   "source": [
    "from sklearn.model_selection import GridSearchCV,RandomizedSearchCV\n",
    "# import \n",
    "# from sklearn.preprocessing import \n",
    "# Set grid search params\n",
    "param_grid_pca = [ \n",
    "  {'pca__n_components': [3,10,20,30,40],#,50,60,70,80],\n",
    "   'clf__C': list(np.arange(0,1,0.2)),\n",
    "   'clf__kernel':['linear', 'rbf'],\n",
    "   'clf__verbose':[False] \n",
    "  }\n",
    "]\n",
    "\n",
    "# Construct grid search\n",
    "rs_pca = RandomizedSearchCV(estimator=pipe,\n",
    "                            param_distributions=param_grid_pca)\n",
    "# gs_pca = GridSearchCV(estimator=pipe,\n",
    "#             param_grid=param_grid_pca,\n",
    "#             scoring='accuracy',\n",
    "#             cv=3, verbose=2, return_train_score = True)\n"
   ]
  },
  {
   "cell_type": "code",
   "execution_count": null,
   "metadata": {
    "ExecuteTime": {
     "end_time": "2020-01-23T15:57:42.266673Z",
     "start_time": "2020-01-23T15:56:06.388910Z"
    },
    "hidden": true,
    "scrolled": false
   },
   "outputs": [],
   "source": [
    "import warnings\n",
    "warnings.filterwarnings('ignore')\n",
    "# timer = m5.Timer()\n",
    "\n",
    "rs_pca.fit(X_train,y_train,)\n",
    "# timer.stop()\n",
    "print(f'Best params:\\n\\t{rs_pca.best_params_}')\n",
    "print(f'Best score:\\n\\t{rs_pca.best_score_}')"
   ]
  },
  {
   "cell_type": "code",
   "execution_count": null,
   "metadata": {
    "hidden": true
   },
   "outputs": [],
   "source": []
  },
  {
   "cell_type": "markdown",
   "metadata": {
    "ExecuteTime": {
     "end_time": "2020-01-22T04:06:52.375179Z",
     "start_time": "2020-01-22T04:02:32.794Z"
    },
    "heading_collapsed": true
   },
   "source": [
    "# BOOKMARK"
   ]
  },
  {
   "cell_type": "code",
   "execution_count": null,
   "metadata": {
    "ExecuteTime": {
     "end_time": "2020-01-23T15:57:42.275552Z",
     "start_time": "2020-01-23T15:57:42.268147Z"
    },
    "hidden": true
   },
   "outputs": [],
   "source": [
    "pipe_best = rs_pca.best_estimator_\n",
    "pipe_best"
   ]
  },
  {
   "cell_type": "code",
   "execution_count": null,
   "metadata": {
    "ExecuteTime": {
     "end_time": "2020-01-23T15:57:42.280113Z",
     "start_time": "2020-01-23T15:57:42.276969Z"
    },
    "hidden": true
   },
   "outputs": [],
   "source": [
    "pipe_best = Pipeline([('pca', PCA(n_components=20,random_state=123)),\n",
    "         ('clf', SVC(random_state=123))])"
   ]
  },
  {
   "cell_type": "code",
   "execution_count": null,
   "metadata": {
    "ExecuteTime": {
     "end_time": "2020-01-23T15:57:44.425269Z",
     "start_time": "2020-01-23T15:57:42.281489Z"
    },
    "hidden": true
   },
   "outputs": [],
   "source": [
    "pipe_best.fit(X_train,y_train)"
   ]
  },
  {
   "cell_type": "code",
   "execution_count": null,
   "metadata": {
    "ExecuteTime": {
     "end_time": "2020-01-23T15:57:44.613263Z",
     "start_time": "2020-01-23T15:57:44.426476Z"
    },
    "hidden": true
   },
   "outputs": [],
   "source": [
    "y_hat_test = pipe_best.predict(X_test)"
   ]
  },
  {
   "cell_type": "code",
   "execution_count": null,
   "metadata": {
    "ExecuteTime": {
     "end_time": "2020-01-23T15:57:44.617195Z",
     "start_time": "2020-01-23T15:57:44.614690Z"
    },
    "hidden": true
   },
   "outputs": [],
   "source": [
    "import sys, os\n",
    "sys.path.append(os.path.abspath('../py_files/'))"
   ]
  },
  {
   "cell_type": "code",
   "execution_count": null,
   "metadata": {
    "ExecuteTime": {
     "end_time": "2020-01-23T15:57:44.623440Z",
     "start_time": "2020-01-23T15:57:44.618627Z"
    },
    "hidden": true
   },
   "outputs": [],
   "source": [
    "import mod_5_functions as m5"
   ]
  },
  {
   "cell_type": "code",
   "execution_count": null,
   "metadata": {
    "ExecuteTime": {
     "end_time": "2020-01-23T15:57:45.054593Z",
     "start_time": "2020-01-23T15:57:44.624828Z"
    },
    "hidden": true
   },
   "outputs": [],
   "source": [
    "m5.evaluate_model(y_test,y_hat_test,conf_matrix_kws={'normalize':False})"
   ]
  },
  {
   "cell_type": "code",
   "execution_count": null,
   "metadata": {
    "ExecuteTime": {
     "end_time": "2020-01-23T15:57:45.218347Z",
     "start_time": "2020-01-23T15:57:45.055920Z"
    },
    "hidden": true
   },
   "outputs": [],
   "source": [
    "explained_variance.cumsum().plot(rot=45)\n",
    "plt.grid(axis='x')"
   ]
  },
  {
   "cell_type": "code",
   "execution_count": null,
   "metadata": {
    "hidden": true
   },
   "outputs": [],
   "source": []
  }
 ],
 "metadata": {
  "kernelspec": {
   "display_name": "Python [conda env:learn-env] *",
   "language": "python",
   "name": "conda-env-learn-env-py"
  },
  "language_info": {
   "codemirror_mode": {
    "name": "ipython",
    "version": 3
   },
   "file_extension": ".py",
   "mimetype": "text/x-python",
   "name": "python",
   "nbconvert_exporter": "python",
   "pygments_lexer": "ipython3",
   "version": "3.6.9"
  },
  "toc": {
   "base_numbering": 1,
   "nav_menu": {},
   "number_sections": true,
   "sideBar": true,
   "skip_h1_title": false,
   "title_cell": "Table of Contents",
   "title_sidebar": "Contents",
   "toc_cell": true,
   "toc_position": {},
   "toc_section_display": true,
   "toc_window_display": false
  },
  "varInspector": {
   "cols": {
    "lenName": 16,
    "lenType": 16,
    "lenVar": 40
   },
   "kernels_config": {
    "python": {
     "delete_cmd_postfix": "",
     "delete_cmd_prefix": "del ",
     "library": "var_list.py",
     "varRefreshCmd": "print(var_dic_list())"
    },
    "r": {
     "delete_cmd_postfix": ") ",
     "delete_cmd_prefix": "rm(",
     "library": "var_list.r",
     "varRefreshCmd": "cat(var_dic_list()) "
    }
   },
   "types_to_exclude": [
    "module",
    "function",
    "builtin_function_or_method",
    "instance",
    "_Feature"
   ],
   "window_display": false
  },
  "widgets": {
   "application/vnd.jupyter.widget-state+json": {
    "state": {},
    "version_major": 2,
    "version_minor": 0
   }
  }
 },
 "nbformat": 4,
 "nbformat_minor": 2
}
