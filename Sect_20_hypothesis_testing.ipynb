{
  "nbformat": 4,
  "nbformat_minor": 0,
  "metadata": {
    "colab": {
      "name": "Sect 20_hypothesis_testing.ipynb",
      "provenance": [],
      "collapsed_sections": []
    },
    "kernelspec": {
      "name": "python3",
      "display_name": "Python 3"
    }
  },
  "cells": [
    {
      "cell_type": "markdown",
      "metadata": {
        "id": "vTGgxPxAJbpa",
        "colab_type": "text"
      },
      "source": [
        "# Sect 20: Hypothesis Testing\n",
        "- online-ds-ft-100719 study group\n",
        "- 11/20/19\n",
        "- [Sect 20 Google Drive Folder](https://drive.google.com/drive/folders/1a9AEWgeaU4fthzHGaN5Y8fQ-AuIgye6z?usp=sharing)"
      ]
    },
    {
      "cell_type": "markdown",
      "metadata": {
        "id": "F-ZkZNJQyUJg",
        "colab_type": "text"
      },
      "source": [
        "## Questions/Topics:\n",
        "- Running back for fantasy football \n",
        "\n",
        "## Tomorrow:\n",
        "- A/B Testing & relating it back to my neuro data.\n",
        "- When to pick which statistical tests to run.\n"
      ]
    },
    {
      "cell_type": "code",
      "metadata": {
        "id": "-96h2FTryTl5",
        "colab_type": "code",
        "colab": {}
      },
      "source": [
        ""
      ],
      "execution_count": 0,
      "outputs": []
    },
    {
      "cell_type": "markdown",
      "metadata": {
        "id": "FhPot0rrLiDK",
        "colab_type": "text"
      },
      "source": [
        "# Learning Objectives\n",
        "\n",
        "- Describe the steps of the Scientific Method\n",
        "    - Describe $H_0$ vs $H_1$\n",
        "    - Describe $\\alpha$ threshold and $p$ values.\n",
        "    - Describe Type I vs Type II errors\n",
        "\n",
        "- Use my neuroscience research poster as an example of experimental design.\n",
        "    - Control vs Experimental Groups\n",
        "    - Touch on T-Tests vs ANOVAs \n",
        "    - Touch on One-Way ANOVA vs One-Way Repeated Measures ANOVA\n",
        "    - Develop an appreciation for *not* having to collect the data ourselves. \n",
        "\n",
        "- Discuss T-Tests and their Assumpuptions\n",
        "- Introduce additional stat tests from next sections."
      ]
    },
    {
      "cell_type": "markdown",
      "metadata": {
        "id": "2YJwM0KKJr_G",
        "colab_type": "text"
      },
      "source": [
        "## Resources\n",
        "- [Google Drive Folder for Section 20](https://drive.google.com/drive/folders/1a9AEWgeaU4fthzHGaN5Y8fQ-AuIgye6z?usp=sharing)\n",
        "    - [CodeAcademy Slides](https://drive.google.com/file/d/1aSoAyGifa6elhs5lQDeSkfOow5lDVfzW/view?usp=sharing)\n",
        "    - [James' Neuroscience Research Poster](https://drive.google.com/open?id=14z2dUdPB_8ei3HA7R1j3ylwEP0kVZhJq)\n"
      ]
    },
    {
      "cell_type": "markdown",
      "metadata": {
        "id": "IuJOjmgmNGNw",
        "colab_type": "text"
      },
      "source": [
        "# Outline\n",
        "1. [Introduction to Experimental Design](https://github.com/jirvingphd/dsc-experimental-design-online-ds-ft-100719?organization=jirvingphd&organization=jirvingphd)\n",
        "2. [Conducting T-Tests](https://github.com/jirvingphd/dsc-t-tests-online-ds-ft-100719)"
      ]
    },
    {
      "cell_type": "code",
      "metadata": {
        "id": "bvV8Knq8JVk7",
        "colab_type": "code",
        "colab": {}
      },
      "source": [
        ""
      ],
      "execution_count": 0,
      "outputs": []
    }
  ]
}