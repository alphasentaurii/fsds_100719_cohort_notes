{
 "cells": [
  {
   "cell_type": "markdown",
   "metadata": {
    "toc": true
   },
   "source": [
    "<h1>Table of Contents<span class=\"tocSkip\"></span></h1>\n",
    "<div class=\"toc\"><ul class=\"toc-item\"><li><span><a href=\"#SQL-DATABASES\" data-toc-modified-id=\"SQL-DATABASES-1\"><span class=\"toc-item-num\">1&nbsp;&nbsp;</span>SQL DATABASES</a></span><ul class=\"toc-item\"><li><span><a href=\"#LEARNING-OBJECTIVES:\" data-toc-modified-id=\"LEARNING-OBJECTIVES:-1.1\"><span class=\"toc-item-num\">1.1&nbsp;&nbsp;</span>LEARNING OBJECTIVES:</a></span></li><li><span><a href=\"#⨠-Q:-Why-do-we-need-databases?-Why-can't-we-just-use-a-bunch-of-Pandas-DataFrames?\" data-toc-modified-id=\"⨠-Q:-Why-do-we-need-databases?-Why-can't-we-just-use-a-bunch-of-Pandas-DataFrames?-1.2\"><span class=\"toc-item-num\">1.2&nbsp;&nbsp;</span>⨠ Q: Why do we need databases? Why can't we just use a bunch of Pandas DataFrames?</a></span></li><li><span><a href=\"#Querying-Databases---SELECTing-data\" data-toc-modified-id=\"Querying-Databases---SELECTing-data-1.3\"><span class=\"toc-item-num\">1.3&nbsp;&nbsp;</span>Querying Databases - <code>SELECT</code>ing data</a></span></li><li><span><a href=\"#SQL-with-sqlite3\" data-toc-modified-id=\"SQL-with-sqlite3-1.4\"><span class=\"toc-item-num\">1.4&nbsp;&nbsp;</span>SQL with <code>sqlite3</code></a></span></li><li><span><a href=\"#FILTERING-AND-ORDERING\" data-toc-modified-id=\"FILTERING-AND-ORDERING-1.5\"><span class=\"toc-item-num\">1.5&nbsp;&nbsp;</span>FILTERING AND ORDERING</a></span></li><li><span><a href=\"#GROUPING-DATA-WITH-SQL\" data-toc-modified-id=\"GROUPING-DATA-WITH-SQL-1.6\"><span class=\"toc-item-num\">1.6&nbsp;&nbsp;</span>GROUPING DATA WITH SQL</a></span></li><li><span><a href=\"#ALIASING\" data-toc-modified-id=\"ALIASING-1.7\"><span class=\"toc-item-num\">1.7&nbsp;&nbsp;</span>ALIASING</a></span></li><li><span><a href=\"#The-WHERE-Clause\" data-toc-modified-id=\"The-WHERE-Clause-1.8\"><span class=\"toc-item-num\">1.8&nbsp;&nbsp;</span>The <code>WHERE</code> Clause</a></span></li><li><span><a href=\"#The-HAVING-clause\" data-toc-modified-id=\"The-HAVING-clause-1.9\"><span class=\"toc-item-num\">1.9&nbsp;&nbsp;</span>The <code>HAVING</code> clause</a></span></li><li><span><a href=\"#Combining-WHERE-and-HAVING\" data-toc-modified-id=\"Combining-WHERE-and-HAVING-1.10\"><span class=\"toc-item-num\">1.10&nbsp;&nbsp;</span>Combining <code>WHERE</code> and <code>HAVING</code></a></span></li><li><span><a href=\"#JOIN-STATEMENTS\" data-toc-modified-id=\"JOIN-STATEMENTS-1.11\"><span class=\"toc-item-num\">1.11&nbsp;&nbsp;</span><code>JOIN</code> STATEMENTS</a></span></li><li><span><a href=\"#The-USING-clause\" data-toc-modified-id=\"The-USING-clause-1.12\"><span class=\"toc-item-num\">1.12&nbsp;&nbsp;</span>The <code>USING</code> clause</a></span></li><li><span><a href=\"#TYPES-OF-JOINS\" data-toc-modified-id=\"TYPES-OF-JOINS-1.13\"><span class=\"toc-item-num\">1.13&nbsp;&nbsp;</span>TYPES OF JOINS</a></span></li><li><span><a href=\"#Primary-vs-Foreign-Keys\" data-toc-modified-id=\"Primary-vs-Foreign-Keys-1.14\"><span class=\"toc-item-num\">1.14&nbsp;&nbsp;</span>Primary vs Foreign Keys</a></span></li><li><span><a href=\"#SQL-Subqueries\" data-toc-modified-id=\"SQL-Subqueries-1.15\"><span class=\"toc-item-num\">1.15&nbsp;&nbsp;</span>SQL Subqueries</a></span></li><li><span><a href=\"#SQL-WITH-PANDAS\" data-toc-modified-id=\"SQL-WITH-PANDAS-1.16\"><span class=\"toc-item-num\">1.16&nbsp;&nbsp;</span>SQL WITH PANDAS</a></span></li><li><span><a href=\"#Using-SQL-with-Pandas\" data-toc-modified-id=\"Using-SQL-with-Pandas-1.17\"><span class=\"toc-item-num\">1.17&nbsp;&nbsp;</span>Using SQL with Pandas</a></span></li><li><span><a href=\"#Using-SQL-syntax-with-pandasql\" data-toc-modified-id=\"Using-SQL-syntax-with-pandasql-1.18\"><span class=\"toc-item-num\">1.18&nbsp;&nbsp;</span>Using SQL syntax with <code>pandasql</code></a></span></li><li><span><a href=\"#SQL-Data-Types\" data-toc-modified-id=\"SQL-Data-Types-1.19\"><span class=\"toc-item-num\">1.19&nbsp;&nbsp;</span>SQL Data Types</a></span></li><li><span><a href=\"#SQL-Data-Types\" data-toc-modified-id=\"SQL-Data-Types-1.20\"><span class=\"toc-item-num\">1.20&nbsp;&nbsp;</span>SQL Data Types</a></span></li><li><span><a href=\"#DATABASE-ADMIN-101\" data-toc-modified-id=\"DATABASE-ADMIN-101-1.21\"><span class=\"toc-item-num\">1.21&nbsp;&nbsp;</span>DATABASE ADMIN 101</a></span></li></ul></li></ul></div>"
   ]
  },
  {
   "cell_type": "markdown",
   "metadata": {
    "colab_type": "text",
    "id": "YFSGIaBkg2pv"
   },
   "source": [
    "# SQL DATABASES"
   ]
  },
  {
   "cell_type": "markdown",
   "metadata": {
    "colab_type": "text",
    "id": "DZsyPhsV6CBR"
   },
   "source": [
    "## LEARNING OBJECTIVES:"
   ]
  },
  {
   "cell_type": "markdown",
   "metadata": {
    "colab_type": "text",
    "id": "zCE5LOMC6Ezf"
   },
   "source": [
    "- Understand what a database is and how it is different than a DataFrame/Excel sheet.\n",
    "- Understand how to read database map\n",
    "    - Primary keys vs forgein keys\n",
    "- Understand how to select, filter, order, and group data using SQL\n",
    "- Understand the different types of Joins \n"
   ]
  },
  {
   "cell_type": "markdown",
   "metadata": {
    "colab_type": "text",
    "id": "fSXm695x6G5L"
   },
   "source": [
    "SECTION 09: SQL DATABASES"
   ]
  },
  {
   "cell_type": "markdown",
   "metadata": {
    "colab_type": "text",
    "id": "6oJ6QUxHlUW8"
   },
   "source": [
    "\n",
    "SQL is designed to work with **relational data**. This really just means pieces of data that are **related to eachother**. In the example above, data on the `employees` table has some relationship to data on the `offices` table.\n",
    "\n",
    "Each table has a **primary key** (like a DataFrame index), with a unique index for each row in the database. The name of the primary key is preceded by an asterix (\\*). \n",
    "\n",
    "Columns that are the **primary key one on table** can also appear on **other tables**. Then it is refered to as a **foreign key** aka the primary key from a different (\"foreign\") table. "
   ]
  },
  {
   "cell_type": "markdown",
   "metadata": {
    "colab_type": "text",
    "id": "j0lrVZbklFIu"
   },
   "source": [
    "<img src=\"https://raw.githubusercontent.com/learn-co-students/dsc-sql-introduction-online-ds-sp-000/master/images/Database-Schema.png\">"
   ]
  },
  {
   "cell_type": "markdown",
   "metadata": {
    "colab_type": "text",
    "id": "ha-l_V26uOBi"
   },
   "source": [
    "## ⨠ Q: Why do we need databases? Why can't we just use a bunch of Pandas DataFrames?\n",
    "- \n"
   ]
  },
  {
   "cell_type": "markdown",
   "metadata": {
    "colab_type": "text",
    "id": "hLp6BFjBuj0j"
   },
   "source": [
    "## Querying Databases - `SELECT`ing data\n"
   ]
  },
  {
   "cell_type": "markdown",
   "metadata": {
    "colab_type": "text",
    "id": "uiuX0CCymtlR"
   },
   "source": [
    "\n",
    "\n",
    "- NOTE: SQL queries dot not _have_ to be all-caps, but it is a convention to help differentiate sql syntax versus names of tables/columns.\n",
    "\n",
    "To retrieve data from one or more tables you usually use a `SELECT` statement. \n",
    "\n",
    "```\n",
    "SELECT col1, col2, col3\n",
    "FROM table\n",
    "WHERE records match criteria\n",
    "LIMIT 100;\n",
    "```\n",
    "\n",
    "Another similar query to preview all of the columns from the first 5 rows of a table would look like this:  \n",
    "\n",
    "```SQL\n",
    "SELECT *\n",
    "FROM table\n",
    "LIMIT 5;\n",
    "```\n",
    "\n",
    "Notice how all of these statements:\n",
    "1.  **start with the `SELECT`**\n",
    "2. followed by **what you want to select**. Separate multiple column names separated by a `,` \n",
    "3. Then specify where the data is coming `FROM` followed by the table name. \n",
    "4. **Afterward, you can provide conditions such as filters or sorting**. To demonstrate, here's a more complex example where you could preview the 10 most expensive payments received.\n",
    "\n",
    "```SQL\n",
    "SELECT *\n",
    "FROM payments\n",
    "ORDER BY amount DESC\n",
    "LIMIT 10;\n",
    "```"
   ]
  },
  {
   "cell_type": "code",
   "execution_count": 1,
   "metadata": {
    "colab": {
     "base_uri": "https://localhost:8080/",
     "height": 122
    },
    "colab_type": "code",
    "executionInfo": {
     "elapsed": 18282,
     "status": "ok",
     "timestamp": 1572305891688,
     "user": {
      "displayName": "James Irving",
      "photoUrl": "https://lh3.googleusercontent.com/a-/AAuE7mACcEVd68LdN9V-4mJvzZsDjLhNHVOS2V_dwAYB=s64",
      "userId": "14376829558859029468"
     },
     "user_tz": 240
    },
    "id": "hH13USve5rz4",
    "outputId": "8a10829c-9d40-4b47-a5b7-cca62be87ab2"
   },
   "outputs": [
    {
     "name": "stdout",
     "output_type": "stream",
     "text": [
      "Go to this URL in a browser: https://accounts.google.com/o/oauth2/auth?client_id=947318989803-6bn6qk8qdgf4n4g3pfee6491hc0brc4i.apps.googleusercontent.com&redirect_uri=urn%3Aietf%3Awg%3Aoauth%3A2.0%3Aoob&scope=email%20https%3A%2F%2Fwww.googleapis.com%2Fauth%2Fdocs.test%20https%3A%2F%2Fwww.googleapis.com%2Fauth%2Fdrive%20https%3A%2F%2Fwww.googleapis.com%2Fauth%2Fdrive.photos.readonly%20https%3A%2F%2Fwww.googleapis.com%2Fauth%2Fpeopleapi.readonly&response_type=code\n",
      "\n",
      "Enter your authorization code:\n",
      "··········\n",
      "Mounted at /content/drive\n"
     ]
    }
   ],
   "source": [
    "from google.colab import drive\n",
    "drive.mount('/content/drive')"
   ]
  },
  {
   "cell_type": "markdown",
   "metadata": {
    "colab_type": "text",
    "id": "UDUABvx0mtjL"
   },
   "source": [
    "## SQL with `sqlite3`"
   ]
  },
  {
   "cell_type": "code",
   "execution_count": 0,
   "metadata": {
    "colab": {},
    "colab_type": "code",
    "id": "lE6oAMfbu_qR"
   },
   "outputs": [],
   "source": []
  },
  {
   "cell_type": "markdown",
   "metadata": {
    "colab_type": "text",
    "id": "NJo2I-HQp0Cu"
   },
   "source": [
    "<img src=\"https://raw.githubusercontent.com/learn-co-students/dsc-sql-introduction-online-ds-sp-000/master/images/Database-Schema.png\" width=500>"
   ]
  },
  {
   "cell_type": "markdown",
   "metadata": {
    "colab_type": "text",
    "id": "nUDqEOV0mtcX"
   },
   "source": [
    "## FILTERING AND ORDERING"
   ]
  },
  {
   "cell_type": "markdown",
   "metadata": {
    "colab_type": "text",
    "id": "e2euaDSnxnTU"
   },
   "source": [
    "- `ORDER BY` - `DESC`/`ASC`\n",
    "- `LIMIT`\n",
    "- `BETWEEN`\n",
    "- `NULL`\n",
    "- `COUNT`\n",
    "- `GROUP BY`"
   ]
  },
  {
   "cell_type": "markdown",
   "metadata": {
    "colab_type": "text",
    "id": "qMYHF9QcxnQ9"
   },
   "source": [
    "## GROUPING DATA WITH SQL"
   ]
  },
  {
   "cell_type": "code",
   "execution_count": 0,
   "metadata": {
    "colab": {},
    "colab_type": "code",
    "id": "5etY7jQTykp9"
   },
   "outputs": [],
   "source": [
    "db = 'datasets/data.sqlite'\n",
    "import sqlite3\n",
    "import pandas as pd \n",
    "conn = sqlite3.connect(db)\n",
    "cur = conn.cursor()"
   ]
  },
  {
   "cell_type": "markdown",
   "metadata": {
    "colab_type": "text",
    "id": "BE5u3TS2xnOO"
   },
   "source": [
    "- Like we do with Pandas, we can use GROUP BY statements in SQL and then apply **aggregate functions:**\n",
    "    - `COUNT`\n",
    "    - `MAX`\n",
    "    - `MIN`\n",
    "    - `SUM`\n",
    "    - `AVG`"
   ]
  },
  {
   "cell_type": "code",
   "execution_count": 10,
   "metadata": {
    "colab": {
     "base_uri": "https://localhost:8080/",
     "height": 204
    },
    "colab_type": "code",
    "executionInfo": {
     "elapsed": 486,
     "status": "ok",
     "timestamp": 1572307009105,
     "user": {
      "displayName": "James Irving",
      "photoUrl": "https://lh3.googleusercontent.com/a-/AAuE7mACcEVd68LdN9V-4mJvzZsDjLhNHVOS2V_dwAYB=s64",
      "userId": "14376829558859029468"
     },
     "user_tz": 240
    },
    "id": "N4wTms-Fyx5H",
    "outputId": "a80b9f10-4839-4ba8-a3ac-e776a31614e7"
   },
   "outputs": [
    {
     "data": {
      "text/html": [
       "<div>\n",
       "<style scoped>\n",
       "    .dataframe tbody tr th:only-of-type {\n",
       "        vertical-align: middle;\n",
       "    }\n",
       "\n",
       "    .dataframe tbody tr th {\n",
       "        vertical-align: top;\n",
       "    }\n",
       "\n",
       "    .dataframe thead th {\n",
       "        text-align: right;\n",
       "    }\n",
       "</style>\n",
       "<table border=\"1\" class=\"dataframe\">\n",
       "  <thead>\n",
       "    <tr style=\"text-align: right;\">\n",
       "      <th></th>\n",
       "      <th>city</th>\n",
       "      <th>COUNT(employeeNumber)</th>\n",
       "    </tr>\n",
       "  </thead>\n",
       "  <tbody>\n",
       "    <tr>\n",
       "      <th>0</th>\n",
       "      <td>San Francisco</td>\n",
       "      <td>6</td>\n",
       "    </tr>\n",
       "    <tr>\n",
       "      <th>1</th>\n",
       "      <td>Paris</td>\n",
       "      <td>5</td>\n",
       "    </tr>\n",
       "    <tr>\n",
       "      <th>2</th>\n",
       "      <td>Sydney</td>\n",
       "      <td>4</td>\n",
       "    </tr>\n",
       "    <tr>\n",
       "      <th>3</th>\n",
       "      <td>Boston</td>\n",
       "      <td>2</td>\n",
       "    </tr>\n",
       "    <tr>\n",
       "      <th>4</th>\n",
       "      <td>London</td>\n",
       "      <td>2</td>\n",
       "    </tr>\n",
       "  </tbody>\n",
       "</table>\n",
       "</div>"
      ],
      "text/plain": [
       "            city  COUNT(employeeNumber)\n",
       "0  San Francisco                      6\n",
       "1          Paris                      5\n",
       "2         Sydney                      4\n",
       "3         Boston                      2\n",
       "4         London                      2"
      ]
     },
     "execution_count": 10,
     "metadata": {
      "tags": []
     },
     "output_type": "execute_result"
    }
   ],
   "source": [
    "cur.execute(\"\"\"SELECT city, COUNT(employeeNumber)\n",
    "FROM offices \n",
    "JOIN employees\n",
    "USING(officeCode)\n",
    "GROUP BY city\n",
    "ORDER BY count(employeeNumber) DESC;\"\"\")\n",
    "\n",
    "df = pd.DataFrame(cur.fetchall())\n",
    "\n",
    "df.columns = [x[0] for x in cur.description]\n",
    "\n",
    "df.head()"
   ]
  },
  {
   "cell_type": "markdown",
   "metadata": {
    "colab_type": "text",
    "id": "AfcTQ-X8zSJk"
   },
   "source": [
    "## ALIASING"
   ]
  },
  {
   "cell_type": "markdown",
   "metadata": {
    "colab_type": "text",
    "id": "RrfkgwqezYXI"
   },
   "source": [
    "- can assign a temporary name to data being imported\n",
    "- Useful for `JOIN`,`GROUP BY`, and aggregates."
   ]
  },
  {
   "cell_type": "code",
   "execution_count": 11,
   "metadata": {
    "colab": {
     "base_uri": "https://localhost:8080/",
     "height": 204
    },
    "colab_type": "code",
    "executionInfo": {
     "elapsed": 611,
     "status": "ok",
     "timestamp": 1572307104417,
     "user": {
      "displayName": "James Irving",
      "photoUrl": "https://lh3.googleusercontent.com/a-/AAuE7mACcEVd68LdN9V-4mJvzZsDjLhNHVOS2V_dwAYB=s64",
      "userId": "14376829558859029468"
     },
     "user_tz": 240
    },
    "id": "SWBY7q2Bzm06",
    "outputId": "6f13772f-683b-4214-f6fb-714583b77f1a"
   },
   "outputs": [
    {
     "data": {
      "text/html": [
       "<div>\n",
       "<style scoped>\n",
       "    .dataframe tbody tr th:only-of-type {\n",
       "        vertical-align: middle;\n",
       "    }\n",
       "\n",
       "    .dataframe tbody tr th {\n",
       "        vertical-align: top;\n",
       "    }\n",
       "\n",
       "    .dataframe thead th {\n",
       "        text-align: right;\n",
       "    }\n",
       "</style>\n",
       "<table border=\"1\" class=\"dataframe\">\n",
       "  <thead>\n",
       "    <tr style=\"text-align: right;\">\n",
       "      <th></th>\n",
       "      <th>city</th>\n",
       "      <th>numEmployees</th>\n",
       "    </tr>\n",
       "  </thead>\n",
       "  <tbody>\n",
       "    <tr>\n",
       "      <th>0</th>\n",
       "      <td>San Francisco</td>\n",
       "      <td>6</td>\n",
       "    </tr>\n",
       "    <tr>\n",
       "      <th>1</th>\n",
       "      <td>Paris</td>\n",
       "      <td>5</td>\n",
       "    </tr>\n",
       "    <tr>\n",
       "      <th>2</th>\n",
       "      <td>Sydney</td>\n",
       "      <td>4</td>\n",
       "    </tr>\n",
       "    <tr>\n",
       "      <th>3</th>\n",
       "      <td>Boston</td>\n",
       "      <td>2</td>\n",
       "    </tr>\n",
       "    <tr>\n",
       "      <th>4</th>\n",
       "      <td>London</td>\n",
       "      <td>2</td>\n",
       "    </tr>\n",
       "  </tbody>\n",
       "</table>\n",
       "</div>"
      ],
      "text/plain": [
       "            city  numEmployees\n",
       "0  San Francisco             6\n",
       "1          Paris             5\n",
       "2         Sydney             4\n",
       "3         Boston             2\n",
       "4         London             2"
      ]
     },
     "execution_count": 11,
     "metadata": {
      "tags": []
     },
     "output_type": "execute_result"
    }
   ],
   "source": [
    "cur.execute(\"\"\"SELECT city, COUNT(employeeNumber) AS numEmployees\n",
    "               FROM offices\n",
    "               JOIN employees\n",
    "               USING(officeCode)\n",
    "               GROUP BY 1\n",
    "               ORDER BY numEmployees DESC;\"\"\")\n",
    "df = pd.DataFrame(cur.fetchall())\n",
    "df.columns = [x[0] for x in cur.description]\n",
    "df.head()"
   ]
  },
  {
   "cell_type": "code",
   "execution_count": 12,
   "metadata": {
    "colab": {
     "base_uri": "https://localhost:8080/",
     "height": 343
    },
    "colab_type": "code",
    "executionInfo": {
     "elapsed": 632,
     "status": "ok",
     "timestamp": 1572307199016,
     "user": {
      "displayName": "James Irving",
      "photoUrl": "https://lh3.googleusercontent.com/a-/AAuE7mACcEVd68LdN9V-4mJvzZsDjLhNHVOS2V_dwAYB=s64",
      "userId": "14376829558859029468"
     },
     "user_tz": 240
    },
    "id": "Ym0NyF9Vz9zI",
    "outputId": "4b9ffab2-6266-4ac7-c28a-283bf98ac10a"
   },
   "outputs": [
    {
     "name": "stdout",
     "output_type": "stream",
     "text": [
      "98\n"
     ]
    },
    {
     "data": {
      "text/html": [
       "<div>\n",
       "<style scoped>\n",
       "    .dataframe tbody tr th:only-of-type {\n",
       "        vertical-align: middle;\n",
       "    }\n",
       "\n",
       "    .dataframe tbody tr th {\n",
       "        vertical-align: top;\n",
       "    }\n",
       "\n",
       "    .dataframe thead th {\n",
       "        text-align: right;\n",
       "    }\n",
       "</style>\n",
       "<table border=\"1\" class=\"dataframe\">\n",
       "  <thead>\n",
       "    <tr style=\"text-align: right;\">\n",
       "      <th></th>\n",
       "      <th>customerName</th>\n",
       "      <th>number_purchases</th>\n",
       "      <th>min_purchase</th>\n",
       "      <th>max_purchase</th>\n",
       "      <th>avg_purchase</th>\n",
       "      <th>total_spent</th>\n",
       "    </tr>\n",
       "  </thead>\n",
       "  <tbody>\n",
       "    <tr>\n",
       "      <th>0</th>\n",
       "      <td>Euro+ Shopping Channel</td>\n",
       "      <td>13</td>\n",
       "      <td>116208.40</td>\n",
       "      <td>65071.26</td>\n",
       "      <td>55056.844615</td>\n",
       "      <td>715738.98</td>\n",
       "    </tr>\n",
       "    <tr>\n",
       "      <th>1</th>\n",
       "      <td>Mini Gifts Distributors Ltd.</td>\n",
       "      <td>9</td>\n",
       "      <td>101244.59</td>\n",
       "      <td>85410.87</td>\n",
       "      <td>64909.804444</td>\n",
       "      <td>584188.24</td>\n",
       "    </tr>\n",
       "    <tr>\n",
       "      <th>2</th>\n",
       "      <td>Australian Collectors, Co.</td>\n",
       "      <td>4</td>\n",
       "      <td>44894.74</td>\n",
       "      <td>82261.22</td>\n",
       "      <td>45146.267500</td>\n",
       "      <td>180585.07</td>\n",
       "    </tr>\n",
       "    <tr>\n",
       "      <th>3</th>\n",
       "      <td>Muscle Machine Inc</td>\n",
       "      <td>4</td>\n",
       "      <td>20314.44</td>\n",
       "      <td>58841.35</td>\n",
       "      <td>44478.487500</td>\n",
       "      <td>177913.95</td>\n",
       "    </tr>\n",
       "    <tr>\n",
       "      <th>4</th>\n",
       "      <td>Dragon Souveniers, Ltd.</td>\n",
       "      <td>4</td>\n",
       "      <td>105743.00</td>\n",
       "      <td>44380.15</td>\n",
       "      <td>39062.757500</td>\n",
       "      <td>156251.03</td>\n",
       "    </tr>\n",
       "  </tbody>\n",
       "</table>\n",
       "</div>"
      ],
      "text/plain": [
       "                   customerName  number_purchases  ...  avg_purchase total_spent\n",
       "0        Euro+ Shopping Channel                13  ...  55056.844615   715738.98\n",
       "1  Mini Gifts Distributors Ltd.                 9  ...  64909.804444   584188.24\n",
       "2    Australian Collectors, Co.                 4  ...  45146.267500   180585.07\n",
       "3            Muscle Machine Inc                 4  ...  44478.487500   177913.95\n",
       "4       Dragon Souveniers, Ltd.                 4  ...  39062.757500   156251.03\n",
       "\n",
       "[5 rows x 6 columns]"
      ]
     },
     "execution_count": 12,
     "metadata": {
      "tags": []
     },
     "output_type": "execute_result"
    }
   ],
   "source": [
    "cur.execute(\"\"\"SELECT customerName,\n",
    "               COUNT(customerName) AS number_purchases,\n",
    "               MIN(amount) AS min_purchase,\n",
    "               MAX(amount) AS max_purchase,\n",
    "               AVG(amount) AS avg_purchase,\n",
    "               SUM(amount) AS total_spent\n",
    "               FROM customers\n",
    "               JOIN payments\n",
    "               USING(customerNumber)\n",
    "               GROUP BY 1\n",
    "               ORDER BY SUM(amount) DESC;\"\"\")\n",
    "df = pd.DataFrame(cur.fetchall())\n",
    "df. columns = [i[0] for i in cur.description]\n",
    "print(len(df))\n",
    "df.head()"
   ]
  },
  {
   "cell_type": "markdown",
   "metadata": {
    "colab_type": "text",
    "id": "HgHPDsz10TNC"
   },
   "source": [
    "## The `WHERE` Clause\n",
    "\n",
    "In general, the `WHERE` clause filters query results by some condition. As you are starting to see, you can also combine multiple conditions.\n",
    "\n",
    "- \n",
    "```python\n",
    "cur.execute(\"\"\"SELECT * FROM customers WHERE city = 'Boston' OR city = 'Madrid';\"\"\")\n",
    "df = pd.DataFrame(cur.fetchall())\n",
    "df.columns = [x[0] for x in cur.description]\n",
    "df\n",
    "```\n",
    "\n",
    "\n",
    "Two additional keywords that you can use to refine your searches are the `ORDER BY` and `LIMIT` clauses. The order by clause allows you to sort the results by a particular feature. For example, you could sort by the `customerName` column if you wished to get results in alphabetical order. By default, `ORDER BY` is ascending. So, as with the above example, if you want the opposite, use the additional parameter `DESC`. Finally, the limit clause is typically the last argument in a SQL query and simply limits the output to a set number of results.\n",
    "\n"
   ]
  },
  {
   "cell_type": "code",
   "execution_count": 0,
   "metadata": {
    "colab": {},
    "colab_type": "code",
    "id": "rUthL5do0S-o"
   },
   "outputs": [],
   "source": []
  },
  {
   "cell_type": "markdown",
   "metadata": {
    "colab_type": "text",
    "id": "tnY9tTDV0GnL"
   },
   "source": [
    "## The `HAVING` clause"
   ]
  },
  {
   "cell_type": "markdown",
   "metadata": {
    "colab_type": "text",
    "id": "p6q7n8Zu0MRG"
   },
   "source": [
    " The `HAVING` clause works similarly to the `WHERE` clause, except it is used to filter data selections on conditions **after** the `GROUP BY` clause."
   ]
  },
  {
   "cell_type": "code",
   "execution_count": 0,
   "metadata": {
    "colab": {},
    "colab_type": "code",
    "id": "gTiJPai00hVg"
   },
   "outputs": [],
   "source": [
    "cur.execute(\"\"\"SELECT city, COUNT(customerNumber) AS number_customers\n",
    "               FROM customers\n",
    "               GROUP BY 1\n",
    "               HAVING COUNT(customerNumber)>=5;\"\"\")\n",
    "df = pd.DataFrame(cur.fetchall())\n",
    "df. columns = [i[0] for i in cur.description]\n",
    "print(len(df))\n",
    "df.head()"
   ]
  },
  {
   "cell_type": "markdown",
   "metadata": {
    "colab_type": "text",
    "id": "YpXeKsIw0MAY"
   },
   "source": [
    "## Combining `WHERE` and `HAVING`"
   ]
  },
  {
   "cell_type": "markdown",
   "metadata": {
    "colab_type": "text",
    "id": "OVskRfdz0mOq"
   },
   "source": [
    "We can also use the `WHERE` and `HAVING` clauses in conjunction with each other for more complex rules.\n",
    "\n",
    "- For example, let's say we want a list of customers who have made at least 3 purchases of over 50K each."
   ]
  },
  {
   "cell_type": "code",
   "execution_count": 13,
   "metadata": {
    "colab": {
     "base_uri": "https://localhost:8080/",
     "height": 221
    },
    "colab_type": "code",
    "executionInfo": {
     "elapsed": 616,
     "status": "ok",
     "timestamp": 1572307391156,
     "user": {
      "displayName": "James Irving",
      "photoUrl": "https://lh3.googleusercontent.com/a-/AAuE7mACcEVd68LdN9V-4mJvzZsDjLhNHVOS2V_dwAYB=s64",
      "userId": "14376829558859029468"
     },
     "user_tz": 240
    },
    "id": "8ylFi-m30sWy",
    "outputId": "a8ef2e7f-1047-4de7-f9d7-84644b7667e6"
   },
   "outputs": [
    {
     "name": "stdout",
     "output_type": "stream",
     "text": [
      "53\n"
     ]
    },
    {
     "data": {
      "text/html": [
       "<div>\n",
       "<style scoped>\n",
       "    .dataframe tbody tr th:only-of-type {\n",
       "        vertical-align: middle;\n",
       "    }\n",
       "\n",
       "    .dataframe tbody tr th {\n",
       "        vertical-align: top;\n",
       "    }\n",
       "\n",
       "    .dataframe thead th {\n",
       "        text-align: right;\n",
       "    }\n",
       "</style>\n",
       "<table border=\"1\" class=\"dataframe\">\n",
       "  <thead>\n",
       "    <tr style=\"text-align: right;\">\n",
       "      <th></th>\n",
       "      <th>customerName</th>\n",
       "      <th>number_purchases_over_50K</th>\n",
       "    </tr>\n",
       "  </thead>\n",
       "  <tbody>\n",
       "    <tr>\n",
       "      <th>0</th>\n",
       "      <td>Euro+ Shopping Channel</td>\n",
       "      <td>13</td>\n",
       "    </tr>\n",
       "    <tr>\n",
       "      <th>1</th>\n",
       "      <td>Mini Gifts Distributors Ltd.</td>\n",
       "      <td>9</td>\n",
       "    </tr>\n",
       "    <tr>\n",
       "      <th>2</th>\n",
       "      <td>Anna's Decorations, Ltd</td>\n",
       "      <td>4</td>\n",
       "    </tr>\n",
       "    <tr>\n",
       "      <th>3</th>\n",
       "      <td>Australian Collectors, Co.</td>\n",
       "      <td>4</td>\n",
       "    </tr>\n",
       "    <tr>\n",
       "      <th>4</th>\n",
       "      <td>Baane Mini Imports</td>\n",
       "      <td>4</td>\n",
       "    </tr>\n",
       "  </tbody>\n",
       "</table>\n",
       "</div>"
      ],
      "text/plain": [
       "                   customerName  number_purchases_over_50K\n",
       "0        Euro+ Shopping Channel                         13\n",
       "1  Mini Gifts Distributors Ltd.                          9\n",
       "2       Anna's Decorations, Ltd                          4\n",
       "3    Australian Collectors, Co.                          4\n",
       "4            Baane Mini Imports                          4"
      ]
     },
     "execution_count": 13,
     "metadata": {
      "tags": []
     },
     "output_type": "execute_result"
    }
   ],
   "source": [
    "cur.execute(\"\"\"SELECT customerName,\n",
    "               COUNT(amount) AS number_purchases_over_50K\n",
    "               FROM customers\n",
    "               JOIN payments\n",
    "               USING(customerNumber)\n",
    "               WHERE amount >= 50000\n",
    "               GROUP BY 1\n",
    "               HAVING count(amount) >= 3\n",
    "               ORDER BY count(amount) DESC;\"\"\")\n",
    "df = pd.DataFrame(cur.fetchall())\n",
    "df. columns = [i[0] for i in cur.description]\n",
    "print(len(df))\n",
    "df.head()"
   ]
  },
  {
   "cell_type": "markdown",
   "metadata": {
    "colab_type": "text",
    "id": "zdr7sVmqsIsA"
   },
   "source": [
    "## `JOIN` STATEMENTS"
   ]
  },
  {
   "cell_type": "markdown",
   "metadata": {
    "colab_type": "text",
    "id": "y1t0dZWq1dty"
   },
   "source": [
    "<img src=\"https://raw.githubusercontent.com/learn-co-students/dsc-sql-introduction-online-ds-sp-000/master/images/Database-Schema.png\">"
   ]
  },
  {
   "cell_type": "markdown",
   "metadata": {
    "colab_type": "text",
    "id": "1FWka0fg1i9k"
   },
   "source": [
    "### Task: Displaying product details along with order details\n",
    "\n",
    "Let's say you need to generate some report that includes details about products from orders. To do that, we would need to take data from multiple tables in a single statement. "
   ]
  },
  {
   "cell_type": "code",
   "execution_count": 0,
   "metadata": {
    "colab": {},
    "colab_type": "code",
    "id": "evmrT9411Qy2"
   },
   "outputs": [],
   "source": [
    "import sqlite3\n",
    "import pandas as pd\n",
    "conn = sqlite3.connect('/content/drive/My Drive/Datasets/data.sqlite')\n",
    "cur = conn.cursor()"
   ]
  },
  {
   "cell_type": "code",
   "execution_count": 0,
   "metadata": {
    "colab": {},
    "colab_type": "code",
    "id": "3Ix8WTUB1oyW"
   },
   "outputs": [],
   "source": [
    "cur.execute(\"\"\"SELECT * \n",
    "               FROM orderdetails\n",
    "               JOIN products\n",
    "               ON orderdetails.productCode = products.productCode\n",
    "               LIMIT 10;\n",
    "               \"\"\")\n",
    "df = pd.DataFrame(cur.fetchall()) #Take results and create dataframe\n",
    "df.columns = [i[0] for i in cur.description]\n",
    "df.head()"
   ]
  },
  {
   "cell_type": "markdown",
   "metadata": {
    "colab_type": "text",
    "id": "Yv85zIFa1-FH"
   },
   "source": [
    "## The `USING` clause\n",
    "\n",
    "A more concise way to join the tables, if the column name is identical, is the `USING` clause. Rather then saying on `tableA.column = tableB.column` we can simply say `using(column)`. Again, this only works if the column is **identically named** for both tables."
   ]
  },
  {
   "cell_type": "markdown",
   "metadata": {
    "colab_type": "text",
    "id": "uuXevUCK2ICL"
   },
   "source": [
    "## TYPES OF JOINS\n",
    "\n",
    "- Joins may be:\n",
    "    - INNER (default)\n",
    "    - OUTER\n",
    "    - LEFT \n",
    "    - RIGHT"
   ]
  },
  {
   "cell_type": "markdown",
   "metadata": {
    "colab_type": "text",
    "id": "eA_BV7O610lu"
   },
   "source": [
    "<img src=\"https://raw.githubusercontent.com/learn-co-students/dsc-join-statements-online-ds-sp-000/master/images/venn.png\">\n"
   ]
  },
  {
   "cell_type": "markdown",
   "metadata": {
    "colab_type": "text",
    "id": "NdxoMzIF2X-R"
   },
   "source": [
    "## Primary vs Foreign Keys\n",
    "- primary key:\n",
    "- forgein key:\n"
   ]
  },
  {
   "cell_type": "markdown",
   "metadata": {
    "colab_type": "text",
    "id": "82rll9y02X8G"
   },
   "source": [
    "### One-to-One, One-to-many, many-to-many Joins\n"
   ]
  },
  {
   "cell_type": "markdown",
   "metadata": {
    "colab_type": "text",
    "id": "R026DozB2X58"
   },
   "source": []
  },
  {
   "cell_type": "markdown",
   "metadata": {
    "colab_type": "text",
    "id": "CzPLMQO92X3n"
   },
   "source": [
    "## SQL Subqueries"
   ]
  },
  {
   "cell_type": "markdown",
   "metadata": {
    "colab_type": "text",
    "id": "aw3lRXg0sbD0"
   },
   "source": [
    "```python\n",
    "cur.execute(\"\"\"SELECT lastName, firstName, officeCode\n",
    "               FROM employees\n",
    "               WHERE officeCode IN (SELECT officeCode\n",
    "                                    FROM offices \n",
    "                                    WHERE country = \"USA\");\n",
    "                                    \"\"\")\n",
    "df = pd.DataFrame(cur.fetchall())\n",
    "df.columns = [x[0] for x in cur.description]\n",
    "df\n",
    "```\n",
    "\n",
    "## SQL WITH PANDAS\n",
    "\n",
    "### Using `.query()`\n",
    "\n",
    "Pandas DataFrames come with a built-in query method, which allows you to get information from DataFrames quickly without using the cumbersome slicing syntax.  \n",
    "\n",
    "See the following examples:\n",
    "\n",
    "```python\n",
    "# Getting Data using slicing syntax\n",
    "foo_df = bar_df[bar_df[bar_df['Col_1'] > bar_df['Col_2']]]\n",
    "\n",
    "# Using The query method\n",
    "foo_df = bar_df.query(\"Col_1 > Col_2\")\n",
    "\n",
    "# These two lines are equivalent!\n",
    "```\n",
    "\n",
    "Note that if you want to use `and` and `or` statements with the `.query()` method, you'll need to use `\"&\"` and `\"|\"` instead.\n",
    "\n",
    "```python\n",
    "foo_df = bar_df.query(\"Col_1 > Col_2 & Col_2 <= Col_3\")\n",
    "```"
   ]
  },
  {
   "cell_type": "markdown",
   "metadata": {
    "colab_type": "text",
    "id": "s8d9Zp2r0mLt"
   },
   "source": []
  },
  {
   "cell_type": "markdown",
   "metadata": {
    "colab_type": "text",
    "id": "pQBzKHDM3JB9"
   },
   "source": [
    "## Using SQL with Pandas\n"
   ]
  },
  {
   "cell_type": "markdown",
   "metadata": {
    "colab_type": "text",
    "id": "9LBc6voh3Sgd"
   },
   "source": [
    "- Pandas DataFrames have a method called `.query()`\n",
    "- This allows us to use SQL-like commands to reference data.\n",
    "```python\n",
    "## Normal Pandas Syntax\n",
    "foo_df = bar_df.loc[bar_df['Col_1']>bar_df['Col_2']]\n",
    "```\n",
    "\n",
    "```python\n",
    "## Using .query()\n",
    "foo_df = bar_df.query(\"Col_1 > Col_2\")\n",
    "```\n",
    "- How to use:\n",
    "    - Enter the querty as a single string, using just column names to reference data.\n",
    "    - To use and/or statements, use `&` and `|`, respectively\n",
    "\n",
    "```python\n",
    "foo_df = bar_df.query(\"Col_1 > Col_2 & Col_2 <= Col_3\")\n",
    "```"
   ]
  },
  {
   "cell_type": "markdown",
   "metadata": {
    "colab_type": "text",
    "id": "HbVTLwFE3SeM"
   },
   "source": [
    "## Using SQL syntax with `pandasql`\n"
   ]
  },
  {
   "cell_type": "markdown",
   "metadata": {
    "colab_type": "text",
    "id": "P0TSTfqX4jY3"
   },
   "source": [
    "\n",
    "Since SQL is such a powerful, comfortable tool for Data Scientists, some people had the bright idea of creating a library that lets users query DataFrames using SQL-style syntax.  This library is called [pandasql](https://pypi.org/project/pandasql/).\n",
    "\n",
    "We can install `pandasql` using the bash command `pip install pandasql`.\n",
    "\n",
    "### Importing pandasql\n",
    "\n",
    "In order to use `pandasql`, we need to start by importing a `sqldf` object from `pandasql`\n",
    "\n",
    "```python\n",
    "from pandasql import sqldf\n",
    "pysqldf = lambda q: sqldf(q, globals())\n",
    "```\n",
    "\n",
    "### Writing Queries\n",
    "```python\n",
    "q = \"\"\"SELECT\n",
    "        m.date, m.beef, b.births\n",
    "     FROM\n",
    "        meats m\n",
    "     INNER JOIN\n",
    "        births b\n",
    "           ON m.date = b.date;\"\"\"\n",
    "\n",
    "results = pysqldf(q)\n",
    "\n",
    "```"
   ]
  },
  {
   "cell_type": "markdown",
   "metadata": {
    "colab_type": "text",
    "id": "5Jpcl3Sv3Sb3"
   },
   "source": [
    "## SQL Data Types\n",
    "- Data types in SQLite3:\n",
    "    - https://www.sqlite.org/datatype3.html\n",
    "    \n",
    "- Data types:\n",
    "    - TEXT\n",
    "    - INTEGER\n",
    "    - REAL\n",
    "    - BLOB\n",
    "    - NULL"
   ]
  },
  {
   "cell_type": "markdown",
   "metadata": {
    "colab_type": "text",
    "id": "GcrgaRqiteXJ"
   },
   "source": [
    "\n",
    "Since SQL is such a powerful, comfortable tool for Data Scientists, some people had the bright idea of creating a library that lets users query DataFrames using SQL-style syntax.  This library is called [pandasql](https://pypi.org/project/pandasql/).\n",
    "\n",
    "We can install `pandasql` using the bash command `pip install pandasql`.\n",
    "\n",
    "#### Importing pandasql\n",
    "\n",
    "In order to use `pandasql`, we need to start by importing a `sqldf` object from `pandasql`\n",
    "\n",
    "```python\n",
    "from pandasql import sqldf\n",
    "```\n",
    "\n",
    "\n",
    "Next, it's helpful to write a lambda function that will make it quicker and easier to write queries.  Normally, you would have to pass in the global variables every time we use an object.  In order to avoid doing this every time, here's how to write a lambda that does this for you:\n",
    "\n",
    "```python\n",
    "pysqldf = lambda q: sqldf(q, globals())\n",
    "```\n",
    "\n",
    "#### Writing Queries\n",
    "\n",
    "To write a query, you just format it as a multi-line string!\n",
    "\n",
    "```python\n",
    "q = \"\"\"SELECT\n",
    "        m.date, m.beef, b.births\n",
    "     FROM\n",
    "        meats m\n",
    "     INNER JOIN\n",
    "        births b\n",
    "           ON m.date = b.date;\"\"\"\n",
    "```\n",
    "\n",
    "In order to query DataFrames, you can just pass in the query string you've created to our `sqldf` object that you stored in `pysqldf`.  This will return a DataFrame.  \n",
    "\n",
    "```python\n",
    "results = pysqldf(q)\n",
    "```\n",
    "\n",
    "\n",
    "\n",
    "## SQL Data Types\n",
    "- Data types in SQLite3:\n",
    "    - https://www.sqlite.org/datatype3.html\n",
    "    \n",
    "- Data types:\n",
    "    - TEXT\n",
    "    - INTEGER\n",
    "    - REAL\n",
    "    - BLOB\n",
    "    - NULL\n",
    "    \n"
   ]
  },
  {
   "cell_type": "markdown",
   "metadata": {
    "colab_type": "text",
    "id": "PeGEV-D-5QJG"
   },
   "source": [
    "## DATABASE ADMIN 101"
   ]
  },
  {
   "cell_type": "code",
   "execution_count": 0,
   "metadata": {
    "colab": {},
    "colab_type": "code",
    "id": "HQZXFeYKu_wE"
   },
   "outputs": [],
   "source": [
    "db = 'datasets/pets_database.db'\n",
    "import sqlite3\n",
    "conn = sqlite3.connect(db)\n",
    "cur = conn.cursor()"
   ]
  },
  {
   "cell_type": "code",
   "execution_count": 18,
   "metadata": {
    "colab": {
     "base_uri": "https://localhost:8080/",
     "height": 286
    },
    "colab_type": "code",
    "executionInfo": {
     "elapsed": 490,
     "status": "error",
     "timestamp": 1572308733224,
     "user": {
      "displayName": "James Irving",
      "photoUrl": "https://lh3.googleusercontent.com/a-/AAuE7mACcEVd68LdN9V-4mJvzZsDjLhNHVOS2V_dwAYB=s64",
      "userId": "14376829558859029468"
     },
     "user_tz": 240
    },
    "id": "Sggh1NAW5PXU",
    "outputId": "228ff46f-9bc8-4ec3-f449-d3d8a5644b3d"
   },
   "outputs": [
    {
     "name": "stderr",
     "output_type": "stream",
     "text": [
      "ERROR:root:An unexpected error occurred while tokenizing input\n",
      "The following traceback may be corrupted or invalid\n",
      "The error message is: ('EOF in multi-line string', (1, 4))\n",
      "\n"
     ]
    },
    {
     "ename": "OperationalError",
     "evalue": "ignored",
     "output_type": "error",
     "traceback": [
      "\u001b[0;31m---------------------------------------------------------------------------\u001b[0m",
      "\u001b[0;31mOperationalError\u001b[0m                          Traceback (most recent call last)",
      "\u001b[0;32m<ipython-input-18-b9e068746329>\u001b[0m in \u001b[0;36m<module>\u001b[0;34m()\u001b[0m\n\u001b[1;32m      4\u001b[0m     \u001b[0mage\u001b[0m \u001b[0mINTEGER\u001b[0m\u001b[0;34m,\u001b[0m\u001b[0;34m\u001b[0m\u001b[0;34m\u001b[0m\u001b[0m\n\u001b[1;32m      5\u001b[0m     breed TEXT)\n\u001b[0;32m----> 6\u001b[0;31m     \"\"\")\n\u001b[0m",
      "\u001b[0;31mOperationalError\u001b[0m: table cats already exists"
     ]
    }
   ],
   "source": [
    "cur.execute(\"\"\"CREATE TABLE cats (\n",
    "    id INTEGER PRIMARY KEY,\n",
    "    name TEXT,\n",
    "    age INTEGER,\n",
    "    breed TEXT)\n",
    "    \"\"\")"
   ]
  },
  {
   "cell_type": "code",
   "execution_count": 0,
   "metadata": {
    "colab": {},
    "colab_type": "code",
    "id": "2yvZSEVX50rS"
   },
   "outputs": [],
   "source": [
    "# insert Maru into the pet_database.db here\n",
    "cur.execute('''INSERT INTO cats (name, age, breed) \n",
    "                  VALUES ('Maru', 3, 'Scottish Fold');\n",
    "            ''')"
   ]
  }
 ],
 "metadata": {
  "colab": {
   "collapsed_sections": [],
   "name": "section_09_SQL.ipynb",
   "provenance": []
  },
  "kernelspec": {
   "display_name": "Python 3",
   "language": "python",
   "name": "python3"
  },
  "language_info": {
   "codemirror_mode": {
    "name": "ipython",
    "version": 3
   },
   "file_extension": ".py",
   "mimetype": "text/x-python",
   "name": "python",
   "nbconvert_exporter": "python",
   "pygments_lexer": "ipython3",
   "version": "3.6.6"
  },
  "toc": {
   "base_numbering": 1,
   "nav_menu": {},
   "number_sections": true,
   "sideBar": true,
   "skip_h1_title": false,
   "title_cell": "Table of Contents",
   "title_sidebar": "Contents",
   "toc_cell": true,
   "toc_position": {},
   "toc_section_display": true,
   "toc_window_display": true
  },
  "varInspector": {
   "cols": {
    "lenName": 16,
    "lenType": 16,
    "lenVar": 40
   },
   "kernels_config": {
    "python": {
     "delete_cmd_postfix": "",
     "delete_cmd_prefix": "del ",
     "library": "var_list.py",
     "varRefreshCmd": "print(var_dic_list())"
    },
    "r": {
     "delete_cmd_postfix": ") ",
     "delete_cmd_prefix": "rm(",
     "library": "var_list.r",
     "varRefreshCmd": "cat(var_dic_list()) "
    }
   },
   "types_to_exclude": [
    "module",
    "function",
    "builtin_function_or_method",
    "instance",
    "_Feature"
   ],
   "window_display": false
  }
 },
 "nbformat": 4,
 "nbformat_minor": 1
}
